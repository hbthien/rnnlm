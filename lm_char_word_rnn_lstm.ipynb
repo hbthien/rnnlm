{
 "cells": [
  {
   "cell_type": "markdown",
   "metadata": {},
   "source": [
    "# Language model in character/word level "
   ]
  },
  {
   "cell_type": "markdown",
   "metadata": {},
   "source": [
    "## Preprocessing of data"
   ]
  },
  {
   "cell_type": "code",
   "execution_count": 1,
   "metadata": {
    "scrolled": false
   },
   "outputs": [
    {
     "data": {
      "text/html": [
       "<div>\n",
       "<style scoped>\n",
       "    .dataframe tbody tr th:only-of-type {\n",
       "        vertical-align: middle;\n",
       "    }\n",
       "\n",
       "    .dataframe tbody tr th {\n",
       "        vertical-align: top;\n",
       "    }\n",
       "\n",
       "    .dataframe thead th {\n",
       "        text-align: right;\n",
       "    }\n",
       "</style>\n",
       "<table border=\"1\" class=\"dataframe\">\n",
       "  <thead>\n",
       "    <tr style=\"text-align: right;\">\n",
       "      <th></th>\n",
       "      <th>body</th>\n",
       "    </tr>\n",
       "  </thead>\n",
       "  <tbody>\n",
       "    <tr>\n",
       "      <th>0</th>\n",
       "      <td>I joined a new league this year and they have ...</td>\n",
       "    </tr>\n",
       "    <tr>\n",
       "      <th>1</th>\n",
       "      <td>In your scenario, a person could just not run ...</td>\n",
       "    </tr>\n",
       "    <tr>\n",
       "      <th>2</th>\n",
       "      <td>They don't get paid for how much time you spen...</td>\n",
       "    </tr>\n",
       "    <tr>\n",
       "      <th>3</th>\n",
       "      <td>I dunno, back before the August update in an A...</td>\n",
       "    </tr>\n",
       "    <tr>\n",
       "      <th>4</th>\n",
       "      <td>No, but Toriyama sometimes would draw himself ...</td>\n",
       "    </tr>\n",
       "  </tbody>\n",
       "</table>\n",
       "</div>"
      ],
      "text/plain": [
       "                                                body\n",
       "0  I joined a new league this year and they have ...\n",
       "1  In your scenario, a person could just not run ...\n",
       "2  They don't get paid for how much time you spen...\n",
       "3  I dunno, back before the August update in an A...\n",
       "4  No, but Toriyama sometimes would draw himself ..."
      ]
     },
     "execution_count": 1,
     "metadata": {},
     "output_type": "execute_result"
    }
   ],
   "source": [
    "import numpy as np\n",
    "import pandas as pd\n",
    "import nltk, itertools, re\n",
    "import itertools, operator\n",
    "from collections import Counter\n",
    "\n",
    "# data = open('data/reddit-comments-2015-08.csv', 'r').read()\n",
    "\n",
    "df = pd.read_csv('data/reddit-comments-2015-08.csv')\n",
    "\n",
    "# with open('data/reddit-comments-2015-08.csv', 'r') as f:\n",
    "#     reader = \n",
    "\n",
    "df.head()"
   ]
  },
  {
   "cell_type": "code",
   "execution_count": 2,
   "metadata": {
    "scrolled": true
   },
   "outputs": [],
   "source": [
    "\n",
    "def clean_str(string):\n",
    "    \"\"\"\n",
    "    Tokenization/string cleaning for all datasets except for SST.\n",
    "    Original taken from https://github.com/yoonkim/CNN_sentence/blob/master/process_data.py\n",
    "    \"\"\"\n",
    "    string = re.sub(r\"[^A-Za-z0-9(),!?\\'\\`]\", \" \", string)\n",
    "    string = re.sub(r\"\\'s\", \" \\'s\", string)\n",
    "    string = re.sub(r\"\\'ve\", \" \\'ve\", string)\n",
    "    string = re.sub(r\"n\\'t\", \" n\\'t\", string)\n",
    "    string = re.sub(r\"\\'re\", \" \\'re\", string)\n",
    "    string = re.sub(r\"\\'d\", \" \\'d\", string)\n",
    "    string = re.sub(r\"\\'ll\", \" \\'ll\", string)\n",
    "    string = re.sub(r\",\", \" , \", string)\n",
    "    string = re.sub(r\"!\", \" ! \", string)\n",
    "    string = re.sub(r\"\\(\", \" \\( \", string)\n",
    "    string = re.sub(r\"\\)\", \" \\) \", string)\n",
    "    string = re.sub(r\"\\?\", \" \\? \", string)\n",
    "    string = re.sub(r\"\\s{2,}\", \" \", string)\n",
    "    return string.strip().lower()\n",
    "\n"
   ]
  },
  {
   "cell_type": "code",
   "execution_count": 3,
   "metadata": {},
   "outputs": [
    {
     "data": {
      "text/plain": [
       "0    i joined a new league this year and they have ...\n",
       "1    in your scenario , a person could just not run...\n",
       "2    they do n't get paid for how much time you spe...\n",
       "3    i dunno , back before the august update in an ...\n",
       "4    no , but toriyama sometimes would draw himself...\n",
       "Name: body, dtype: object"
      ]
     },
     "execution_count": 3,
     "metadata": {},
     "output_type": "execute_result"
    }
   ],
   "source": [
    "# X_train = df.body.str.lower()\n",
    "X_train = df.body.map(lambda x: clean_str(x))\n",
    "X_train.head()"
   ]
  },
  {
   "cell_type": "code",
   "execution_count": 4,
   "metadata": {},
   "outputs": [
    {
     "data": {
      "text/plain": [
       "'I joined a new league this year and they have\\n'"
      ]
     },
     "execution_count": 4,
     "metadata": {},
     "output_type": "execute_result"
    }
   ],
   "source": [
    "#if read from a plain text file\n",
    "data = open('data/text.txt', 'r').read()\n",
    "data\n"
   ]
  },
  {
   "cell_type": "markdown",
   "metadata": {},
   "source": [
    "#### Char-level data processing"
   ]
  },
  {
   "cell_type": "code",
   "execution_count": 5,
   "metadata": {},
   "outputs": [
    {
     "name": "stdout",
     "output_type": "stream",
     "text": [
      "[' ', '!', \"'\", '(', ')', ',', '.', '0', '1', '2', '3', '4', '5', '6', '7', '8', '9', '?', '\\\\', '`', 'a', 'b', 'c', 'd', 'e', 'f', 'g', 'h', 'i', 'j', 'k', 'l', 'm', 'n', 'o', 'p', 'q', 'r', 's', 't', 'u', 'v', 'w', 'x', 'y', 'z']\n",
      "Data has 7500269 characters in which 46 are unique\n"
     ]
    }
   ],
   "source": [
    "char_data = [clean_str(s.strip()) for s in df.body]\n",
    "char_data = '.'.join(char_data)\n",
    "char_data\n",
    "# #Consider char-level\n",
    "# char_list = \"abcdefghijklmnopqrstuvwxyz0123456789 ,;.!?:'\\\"/\\\\|_@#$%^&*~`+-=<>()[]{}\"\n",
    "\n",
    "chars = list(set(char_data))\n",
    "chars=sorted(chars)\n",
    "print(chars)\n",
    "print(\"Data has %d characters in which %d are unique\" %(len(char_data), len(chars)))\n"
   ]
  },
  {
   "cell_type": "code",
   "execution_count": 6,
   "metadata": {},
   "outputs": [
    {
     "name": "stdout",
     "output_type": "stream",
     "text": [
      "{'§': 0, ' ': 1, '!': 2, \"'\": 3, '(': 4, ')': 5, ',': 6, '.': 7, '0': 8, '1': 9, '2': 10, '3': 11, '4': 12, '5': 13, '6': 14, '7': 15, '8': 16, '9': 17, '?': 18, '\\\\': 19, '`': 20, 'a': 21, 'b': 22, 'c': 23, 'd': 24, 'e': 25, 'f': 26, 'g': 27, 'h': 28, 'i': 29, 'j': 30, 'k': 31, 'l': 32, 'm': 33, 'n': 34, 'o': 35, 'p': 36, 'q': 37, 'r': 38, 's': 39, 't': 40, 'u': 41, 'v': 42, 'w': 43, 'x': 44, 'y': 45, 'z': 46} \n",
      " ['§', ' ', '!', \"'\", '(', ')', ',', '.', '0', '1', '2', '3', '4', '5', '6', '7', '8', '9', '?', '\\\\', '`', 'a', 'b', 'c', 'd', 'e', 'f', 'g', 'h', 'i', 'j', 'k', 'l', 'm', 'n', 'o', 'p', 'q', 'r', 's', 't', 'u', 'v', 'w', 'x', 'y', 'z']\n",
      "9519\n"
     ]
    }
   ],
   "source": [
    "# create char-to-index, index-to-char lists\n",
    "unknown_char = '§'\n",
    "index_to_char = [unknown_char] +[x[0] for x in chars] \n",
    "char_to_index = {c:i for i, c in enumerate(index_to_char)}  \n",
    "print(char_to_index, \"\\n\", index_to_char)\n",
    " \n",
    "#find a maximum length of a row in the X_train\n",
    "#this will be used in the case \"considering each row of data as a 'full' sentence\n",
    "lenchar_of_row=X_train.map(len).max()\n",
    "print(lenchar_of_row)"
   ]
  },
  {
   "cell_type": "code",
   "execution_count": 7,
   "metadata": {
    "scrolled": true
   },
   "outputs": [
    {
     "name": "stdout",
     "output_type": "stream",
     "text": [
      "0    [29, 1, 30, 35, 29, 34, 25, 24, 1, 21, 1, 34, ...\n",
      "1    [29, 34, 1, 45, 35, 41, 38, 1, 39, 23, 25, 34,...\n",
      "2    [40, 28, 25, 45, 1, 24, 35, 1, 34, 3, 40, 1, 2...\n",
      "3    [29, 1, 24, 41, 34, 34, 35, 1, 6, 1, 22, 21, 2...\n",
      "4    [34, 35, 1, 6, 1, 22, 41, 40, 1, 40, 35, 38, 2...\n",
      "Name: body, dtype: object\n",
      "<class 'numpy.matrixlib.defmatrix.matrix'> (15000, 9519)\n"
     ]
    }
   ],
   "source": [
    "######Convert text into integer ######\n",
    "# Method 1: consider chars of each sentence differently\n",
    "\n",
    "ss = X_train.str.pad(lenchar_of_row, side='right', fillchar=unknown_char).\\\n",
    "        map(lambda st: [char_to_index[c] for c in st])\n",
    "# lenchar_of_row=X_trailencharn_char.map(len).max()\n",
    "# X_train_char = X_train_char.as_matrix()\n",
    "# print(len(X_train_char[33]))\n",
    "\n",
    "print(ss.head())\n",
    "# ss = pd.Series(data = ss)\n",
    "X_train_char = np.matrix(ss.tolist())\n",
    "print(type(X_train_char), X_train_char.shape)"
   ]
  },
  {
   "cell_type": "code",
   "execution_count": 8,
   "metadata": {},
   "outputs": [
    {
     "name": "stdout",
     "output_type": "stream",
     "text": [
      "<class 'pandas.core.series.Series'>\n"
     ]
    }
   ],
   "source": [
    "print(type(ss))"
   ]
  },
  {
   "cell_type": "code",
   "execution_count": 9,
   "metadata": {},
   "outputs": [
    {
     "name": "stdout",
     "output_type": "stream",
     "text": [
      "5.32 ms ± 102 µs per loop (mean ± std. dev. of 7 runs, 100 loops each)\n",
      "5.73 ms ± 119 µs per loop (mean ± std. dev. of 7 runs, 100 loops each)\n",
      "4.42 ms ± 96 µs per loop (mean ± std. dev. of 7 runs, 100 loops each)\n"
     ]
    }
   ],
   "source": [
    "#Just reference to see the speed of finding max\n",
    "%timeit -n 100 df.body.str.len().max()\n",
    "%timeit -n 100 df.body.map(lambda x: len(x)).max()\n",
    "%timeit -n 100 df.body.map(len).max()\n"
   ]
  },
  {
   "cell_type": "markdown",
   "metadata": {},
   "source": [
    "#### Word-level data processing"
   ]
  },
  {
   "cell_type": "code",
   "execution_count": 10,
   "metadata": {},
   "outputs": [
    {
     "name": "stdout",
     "output_type": "stream",
     "text": [
      "SENTENCE_START gt please have adam sandler be steve then again , he already got the movie rights for many video game characters in pixels i would n't be surprised if the guy was able to score another big role relating to video games SENTENCE_END\n"
     ]
    }
   ],
   "source": [
    "unknown_token = \"UNKNOWN_TOKEN\"\n",
    "sentence_start_token = \"SENTENCE_START\"\n",
    "sentence_end_token = \"SENTENCE_END\"\n",
    "\n",
    "#Consider word-level\n",
    "# word_data = [\"%s %s %s\" %(sentence_start_token, s, sentence_end_token) for s in df.body]\n",
    "# word_data[0]\n",
    "\n",
    "def getTokenizedSentences(lines, min_sent_characters=1):\n",
    "    # Split full comments into sentences\n",
    "    sentences = itertools.chain(*[nltk.sent_tokenize(x) for x in lines])\n",
    "    sentences = [clean_str(s) for s in sentences if \"http\" not in s and len(s) >= min_sent_characters]\n",
    "    # Append SENTENCE_START and SENTENCE_END\n",
    "    sentences = [\"%s %s %s\" % (sentence_start_token, x, sentence_end_token) for x in sentences]\n",
    "    return sentences\n",
    "\n",
    "sents = getTokenizedSentences(X_train)\n",
    "print(sents[133])\n"
   ]
  },
  {
   "cell_type": "code",
   "execution_count": 11,
   "metadata": {},
   "outputs": [
    {
     "name": "stdout",
     "output_type": "stream",
     "text": [
      "Found 46832 unique words tokens.\n",
      "Using vocabulary size 8000.\n",
      "The most frequent word in our vocabulary is 'the' and appeared 46857 times.\n",
      "The least frequent word in our vocabulary is 'viewer' and appeared 8 times.\n",
      "{'<MASK/>': 0, 'UNKNOWN_TOKEN': 1, 'zealand': 2, 'yoga': 3, 'yarn': 4, 'ww2': 5, 'wvw': 6, 'wotlk': 7, 'witness': 8, 'wires': 9, 'wipes': 10, 'williams': 11, 'whoops': 12, 'whale': 13, 'weighs': 14, 'weaver': 15, 'wax': 16, 'washed': 17, 'warranted': 18, 'warp': 19, 'warmth': 20, 'warlocks': 21, 'warehouse': 22, 'wandering': 23, 'wallets': 24, 'vw': 25, 'vpn': 26, 'voter': 27, 'vocals': 28, 'visually': 29, 'visits': 30, 'violations': 31, 'viewer': 32, 'zwei': 33, 'zelda': 34, 'yourselves': 35, 'yearly': 36, 'xanax': 37, 'writingprompts': 38, 'wrecked': 39, 'worms': 40, 'wonders': 41, 'wolfenstein': 42, 'witnessed': 43, 'wished': 44, 'willingness': 45, 'wilderness': 46, 'whiskey': 47, 'whim': 48, 'wednesday': 49, 'weddings': 50, 'wd': 51, 'warped': 52, 'warn': 53, 'vous': 54, 'von': 55, 'vm': 56, 'vlad': 57, 'vita': 58, 'visuals': 59, 'violates': 60, 'violate': 61, 'vil': 62, 'verses': 63, 'velocity': 64, 'vader': 65, 'vac': 66, 'uterus': 67, 'upfront': 68, 'unwilling': 69, 'unstoppable': 70, 'unity': 71, 'uninformed': 72, 'unclear': 73, 'uhc': 74, 'tywin': 75, 'twisted': 76, 'tutorials': 77, 'truths': 78, 'travelling': 79, 'transit': 80, 'tragedy': 81, 'tr': 82, 'tourist': 83, 'tourism': 84, 'tossed': 85, 'torrent': 86, 'tony': 87, 'toner': 88, 'tomb': 89, 'tolerate': 90, 'tokens': 91, 'toilet': 92, 'todos': 93, 'titania': 94, 'titanfall': 95, 'tinder': 96, 'tile': 97, 'thumbs': 98, 'throttle': 99, 'threshold': 100, 'theon': 101, 'tgt': 102, 'testament': 103, 'terrorism': 104, 'terrifying': 105, 'terrified': 106, 'terminology': 107, 'temporarily': 108, 'template': 109, 'tearing': 110, 'tas': 111, 'tapped': 112, 'tanky': 113, 'tangible': 114, 'synergy': 115, 'sync': 116, 'sympathetic': 117, 'sweden': 118, 'sustainable': 119, 'supernatural': 120, 'supercharger': 121, 'sunlight': 122, 'sum': 123, 'suburbs': 124, 'subsidized': 125, 'subjects': 126, 'structured': 127, 'stripped': 128, 'strengths': 129, 'streak': 130, 'strain': 131, 'stigma': 132, 'stereotypical': 133, 'startx': 134, 'startup': 135, 'stamina': 136, 'stalking': 137, 'splits': 138, 'spite': 139, 'speeches': 140, 'specifics': 141, 'sov': 142, 'solving': 143, 'socks': 144, 'soap': 145, 'smack': 146, 'sm': 147, 'slotted': 148, 'slightest': 149, 'skating': 150, 'sk': 151, 'simulator': 152, 'shrimp': 153, 'showcase': 154, 'shields': 155, 'shes': 156, 'shelter': 157, 'sensible': 158, 'senses': 159, 'sends': 160, 'searing': 161, 'scum': 162, 'scrunchieshy': 163, 'screams': 164, 'scouting': 165, 'santa': 166, 'samurai': 167, 'salvation': 168, 'rumors': 169, 'rug': 170, 'roommates': 171, 'roller': 172, 'rode': 173, 'robin': 174, 'roam': 175, 'rising': 176, 'reworked': 177, 'retrospect': 178, 'retailers': 179, 'respective': 180, 'respectfully': 181, 'residents': 182, 'residential': 183, 'reserved': 184, 'repo': 185, 'renting': 186, 'relies': 187, 'relied': 188, 'relaxing': 189, 'refugee': 190, 'referred': 191, 'referenced': 192, 'recreational': 193, 'rationally': 194, 'rampant': 195, 'railgun': 196, 'raider': 197, 'rag': 198, 'rabbit': 199, 'quid': 200, 'qualifying': 201, 'pussy': 202, 'pursuing': 203, 'pures': 204, 'punk': 205, 'punishable': 206, 'psychedelics': 207, 'psych': 208, 'providers': 209, 'protests': 210, 'prospect': 211, 'propose': 212, 'professionals': 213, 'proceeds': 214, 'procedures': 215, 'principles': 216, 'principal': 217, 'primaries': 218, 'preserve': 219, 'presents': 220, 'presenting': 221, 'precious': 222, 'pp': 223, 'pov': 224, 'posture': 225, 'positively': 226, 'portions': 227, 'pops': 228, 'polls': 229, 'poisoning': 230, 'pleased': 231, 'plea': 232, 'planted': 233, 'pie': 234, 'piano': 235, 'photoshop': 236, 'pets': 237, 'permitted': 238, 'pedro': 239, 'patented': 240, 'particles': 241, 'particle': 242, 'paragraphs': 243, 'papers': 244, 'paladins': 245, 'pads': 246, 'oven': 247, 'outsider': 248, 'outrage': 249, 'origins': 250, 'operates': 251, 'oops': 252, 'ontario': 253, 'olympic': 254, 'ole': 255, 'offenses': 256, 'och': 257, 'obscure': 258, 'oblivion': 259, 'obey': 260, 'obese': 261, 'ob': 262, 'oak': 263, 'nyt': 264, 'novels': 265, 'notorious': 266, 'noting': 267, 'nostalgia': 268, 'norms': 269, 'nomination': 270, 'nodes': 271, 'nevermind': 272, 'nether': 273, 'nest': 274, 'ness': 275, 'nerdy': 276, 'nerd': 277, 'negatives': 278, 'necessity': 279, 'nebris': 280, 'nat': 281, 'naming': 282, 'nail': 283, 'museum': 284, 'murray': 285, 'mud': 286, 'mortar': 287, 'morde': 288, 'monte': 289, 'moisture': 290, 'mma': 291, 'mls': 292, 'mk': 293, 'misogyny': 294, 'misinformation': 295, 'mir': 296, 'miner': 297, 'midnight': 298, 'midlane': 299, 'meter': 300, 'memes': 301, 'melted': 302, 'measured': 303, 'mayo': 304, 'marked': 305, 'mapping': 306, 'manufactured': 307, 'mankind': 308, 'mania': 309, 'mange': 310, 'malinois': 311, 'malice': 312, 'magazines': 313, 'magazine': 314, 'madison': 315, 'macros': 316, 'lottery': 317, 'losers': 318, 'looting': 319, 'logged': 320, 'locks': 321, 'listings': 322, 'liquor': 323, 'lincoln': 324, 'limitations': 325, 'leveled': 326, 'lesbian': 327, 'legendaries': 328, 'leaks': 329, 'launcher': 330, 'launched': 331, 'kilo': 332, 'killers': 333, 'kik': 334, 'kicker': 335, 'kevin': 336, 'kelly': 337, 'keeper': 338, 'kalista': 339, 'jumper': 340, 'jam': 341, 'irrational': 342, 'iq': 343, 'invalid': 344, 'intuitive': 345, 'intriguing': 346, 'institute': 347, 'inspiration': 348, 'insist': 349, 'insider': 350, 'insecurities': 351, 'influences': 352, 'industries': 353, 'industrialworldpowers': 354, 'inconsistent': 355, 'incidents': 356, 'impress': 357, 'immunity': 358, 'immigrant': 359, 'ignite': 360, 'idiotic': 361, 'ideals': 362, 'iconic': 363, 'ibm': 364, 'hurry': 365, 'hugely': 366, 'hostile': 367, 'hosted': 368, 'horrified': 369, 'horn': 370, 'hormone': 371, 'horizon': 372, 'homeworld': 373, 'hoh': 374, 'hogs': 375, 'hindsight': 376, 'hiking': 377, 'highschool': 378, 'hex': 379, 'hesitate': 380, 'heel': 381, 'heavier': 382, 'harming': 383, 'ham': 384, 'gripe': 385, 'grinds': 386, 'grateful': 387, 'graphic': 388, 'grades': 389, 'gpm': 390, 'gpa': 391, 'googled': 392, 'goodbye': 393, 'goblin': 394, 'glowing': 395, 'glitch': 396, 'glance': 397, 'gil': 398, 'giants': 399, 'gesture': 400, 'funded': 401, 'fulfill': 402, 'friendsafari': 403, 'freddy': 404, 'fracture': 405, 'fountain': 406, 'fortunately': 407, 'fold': 408, 'focuses': 409, 'flipped': 410, 'flee': 411, 'flagged': 412, 'firstly': 413, 'fireworks': 414, 'fireteams': 415, 'fiance': 416, 'fetish': 417, 'fe': 418, 'faults': 419, 'fanbase': 420, 'expose': 421, 'explosives': 422, 'explosion': 423, 'explanations': 424, 'exercising': 425, 'execute': 426, 'excess': 427, 'espn': 428, 'entertain': 429, 'enjoys': 430, 'endurance': 431, 'endorsed': 432, 'embarrassing': 433, 'elderly': 434, 'effectiveness': 435, 'edderion': 436, 'eagles': 437, 'eager': 438, 'dwellers': 439, 'durable': 440, 'drum': 441, 'drone': 442, 'dried': 443, 'dreadsteed': 444, 'downfall': 445, 'doubles': 446, 'doubled': 447, 'donate': 448, 'dome': 449, 'divinity': 450, 'ditch': 451, 'distribute': 452, 'disprove': 453, 'displays': 454, 'disorders': 455, 'disgusted': 456, 'diseases': 457, 'disaster': 458, 'disappeared': 459, 'disadvantage': 460, 'disability': 461, 'directors': 462, 'dire': 463, 'dimension': 464, 'dime': 465, 'digress': 466, 'differing': 467, 'dictate': 468, 'dez': 469, 'determines': 470, 'detailing': 471, 'destructive': 472, 'destination': 473, 'denver': 474, 'demons': 475, 'democrat': 476, 'definitive': 477, 'defeated': 478, 'decreased': 479, 'declined': 480, 'decay': 481, 'debated': 482, 'dealership': 483, 'dans': 484, 'dancing': 485, 'dallas': 486, 'cunt': 487, 'cruiser': 488, 'creek': 489, 'crashes': 490, 'crappy': 491, 'crank': 492, 'crafted': 493, 'couldnt': 494, 'correlation': 495, 'corbyn': 496, 'copying': 497, 'copper': 498, 'converting': 499, 'contents': 500, 'contemporary': 501, 'confess': 502, 'conference': 503, 'condescending': 504, 'concede': 505, 'comps': 506, 'comcast': 507, 'combine': 508, 'columns': 509, 'collector': 510, 'collected': 511, 'cola': 512, 'cognitive': 513, 'clinics': 514, 'cleaner': 515, 'classroom': 516, 'classified': 517, 'classical': 518, 'clarity': 519, 'citation': 520, 'circuit': 521, 'cia': 522, 'chronic': 523, 'chore': 524, 'charitable': 525, 'chapters': 526, 'certified': 527, 'ceo': 528, 'cb': 529, 'carolina': 530, 'carbon': 531, 'captains': 532, 'cameron': 533, 'caloric': 534, 'calmly': 535, 'calculated': 536, 'caffeine': 537, 'c4': 538, 'byu': 539, 'buyers': 540, 'bursts': 541, 'buffing': 542, 'buffer': 543, 'buffalo': 544, 'buds': 545, 'buck': 546, 'breakdown': 547, 'brawl': 548, 'brass': 549, 'bran': 550, 'brakes': 551, 'borderline': 552, 'boob': 553, 'bombing': 554, 'bolton': 555, 'blessing': 556, 'blatant': 557, 'blacks': 558, 'bitching': 559, 'biases': 560, 'berserker': 561, 'beloved': 562, 'behaving': 563, 'begun': 564, 'beads': 565, 'bbc': 566, 'basketball': 567, 'basket': 568, 'bashing': 569, 'baggage': 570, 'ba': 571, 'aye': 572, 'awake': 573, 'authentic': 574, 'aurey': 575, 'attribute': 576, 'attachment': 577, 'attach': 578, 'atlanta': 579, 'astral': 580, 'assistance': 581, 'assert': 582, 'assembly': 583, 'asians': 584, 'arcs': 585, 'archer': 586, 'appropriation': 587, 'approached': 588, 'appearances': 589, 'appeals': 590, 'antibiotics': 591, 'andre': 592, 'anderz': 593, 'analyze': 594, 'amusing': 595, 'amazed': 596, 'allowance': 597, 'allergic': 598, 'aligned': 599, 'algorithm': 600, 'african': 601, 'advocating': 602, 'advertise': 603, 'adrenaline': 604, 'admitting': 605, 'adjustment': 606, 'adblock': 607, 'adams': 608, 'actives': 609, 'accusations': 610, 'accountable': 611, 'accio': 612, 'acceptance': 613, 'academics': 614, '``': 615, '999': 616, '980ti': 617, '70s': 618, '55': 619, '50k': 620, '4690k': 621, '28field': 622, '240': 623, '1440p': 624, '140': 625, '10th': 626, '105': 627, '1024': 628, '101': 629, '09': 630, '01': 631, \"'em\": 632, \"'cause\": 633, 'zip': 634, 'xb1': 635, 'www': 636, 'wooden': 637, 'witcher': 638, 'wiring': 639, 'windshield': 640, 'whitebeard': 641, 'wenger': 642, 'weights': 643, 'warned': 644, 'warcraft': 645, 'verde': 646, 'vengeance': 647, 'varied': 648, 'variant': 649, 'vancouver': 650, 'vaguely': 651, 'updating': 652, 'unrealistic': 653, 'unpopular': 654, 'unmodified': 655, 'uniform': 656, 'unicorn': 657, 'unfounded': 658, 'une': 659, 'tx': 660, 'twenty': 661, 'tweak': 662, 'ttk': 663, 'trunk': 664, 'troubles': 665, 'triggered': 666, 'trauma': 667, 'trails': 668, 'tracked': 669, 'tougher': 670, 'tossing': 671, 'tortured': 672, 'toll': 673, 'tint': 674, 'thursday': 675, 'therapists': 676, 'theatre': 677, 'thc': 678, 'texture': 679, 'teleport': 680, 'td': 681, 'tales': 682, 'tactical': 683, 'tackle': 684, 'syrup': 685, 'symptom': 686, 'swing': 687, 'swimming': 688, 'surround': 689, 'supplies': 690, 'sunk': 691, 'sue': 692, 'subscription': 693, 'struggles': 694, 'strips': 695, 'stretched': 696, 'streamers': 697, 'strategic': 698, 'str': 699, 'sting': 700, 'starcraft': 701, 'spotify': 702, 'spiders': 703, 'sphere': 704, 'sour': 705, 'solomon': 706, 'sober': 707, 'snap': 708, 'smelled': 709, 'slept': 710, 'skirt': 711, 'skeptical': 712, 'skadi': 713, 'sion': 714, 'sind': 715, 'simultaneously': 716, 'significance': 717, 'shutting': 718, 'shining': 719, 'shells': 720, 'sharks': 721, 'shanks': 722, 'shade': 723, 'serves': 724, 'ser': 725, 'separated': 726, 'sellers': 727, 'scripts': 728, 'screws': 729, 'scooter': 730, 'scheduled': 731, 'scattered': 732, 'sarcastic': 733, 'sanity': 734, 'salad': 735, 'sacred': 736, 'saber': 737, 'rt': 738, 'rouge': 739, 'ross': 740, 'rodgers': 741, 'rng': 742, 'riven': 743, 'rings': 744, 'rifts': 745, 'riders': 746, 'rica': 747, 'rhythm': 748, 'retain': 749, 'restrooms': 750, 'responds': 751, 'respectable': 752, 'requested': 753, 'reporters': 754, 'repeating': 755, 'removes': 756, 'reliably': 757, 'reign': 758, 'redundant': 759, 'redemption': 760, 'recruits': 761, 'recruiting': 762, 'reconsider': 763, 'rec': 764, 'reads': 765, 'ranger': 766, 'ramsay': 767, 'rambling': 768, 'radically': 769, 'radiator': 770, 'rad': 771, 'rack': 772, 'quran': 773, 'questioning': 774, 'pyramid': 775, 'pursuit': 776, 'purposefully': 777, 'proxy': 778, 'protagonist': 779, 'prospects': 780, 'props': 781, 'proposal': 782, 'promptly': 783, 'professions': 784, 'producers': 785, 'proc': 786, 'prize': 787, 'prevented': 788, 'presentation': 789, 'prejudice': 790, 'preferably': 791, 'portable': 792, 'populations': 793, 'populated': 794, 'poop': 795, 'pollution': 796, 'pok': 797, 'pledge': 798, 'playerbase': 799, 'playable': 800, 'pile': 801, 'personnel': 802, 'personalities': 803, 'persistent': 804, 'pedantic': 805, 'participation': 806, 'paramount': 807, 'pakistan': 808, 'overpriced': 809, 'overlooked': 810, 'orientation': 811, 'organs': 812, 'oregon': 813, 'oppressive': 814, 'oppression': 815, 'oliver': 816, 'olive': 817, 'ol': 818, 'offices': 819, 'oder': 820, 'od': 821, 'oculus': 822, 'obtain': 823, 'observed': 824, 'observation': 825, 'oblivious': 826, 'nursing': 827, 'noone': 828, 'noch': 829, 'netherlands': 830, 'nen': 831, 'neighbor': 832, 'neglect': 833, 'negate': 834, 'navigate': 835, 'mythic': 836, 'myth': 837, 'mvp': 838, 'muted': 839, 'murderers': 840, 'msc': 841, 'mph': 842, 'motherfucker': 843, 'mortgage': 844, 'moron': 845, 'monetary': 846, 'modding': 847, 'mmos': 848, 'miracle': 849, 'minister': 850, 'migration': 851, 'migrants': 852, 'messing': 853, 'messaging': 854, 'merits': 855, 'measurements': 856, 'meantime': 857, 'masterpiece': 858, 'masculine': 859, 'marxist': 860, 'marshall': 861, 'markets': 862, 'mans': 863, 'maker': 864, 'maintained': 865, 'magnetic': 866, 'longest': 867, 'lone': 868, 'logitech': 869, 'locking': 870, 'lobbying': 871, 'loading': 872, 'liverpool': 873, 'lions': 874, 'lined': 875, 'lil': 876, 'lid': 877, 'libraries': 878, 'lessons': 879, 'leds': 880, 'ledge': 881, 'laptops': 882, 'landscape': 883, 'lan': 884, 'ksp': 885, 'km': 886, 'ken': 887, 'keepers': 888, 'judged': 889, 'jp': 890, 'jerks': 891, 'january': 892, 'jaime': 893, 'itunes': 894, 'israeli': 895, 'islands': 896, 'irresponsible': 897, 'involvement': 898, 'invasions': 899, 'introducing': 900, 'interpret': 901, 'internally': 902, 'intellectually': 903, 'integrated': 904, 'inte': 905, 'insulted': 906, 'instruction': 907, 'instagram': 908, 'insisted': 909, 'ins': 910, 'inputs': 911, 'innocuous': 912, 'initiative': 913, 'infinitely': 914, 'ineffective': 915, 'inbox': 916, 'imperial': 917, 'iii': 918, 'idle': 919, 'hypnosis': 920, 'humble': 921, 'holder': 922, 'hog': 923, 'hmmm': 924, 'hints': 925, 'handles': 926, 'handguns': 927, 'hallway': 928, 'halls': 929, 'haircut': 930, 'hah': 931, 'hadde': 932, 'guests': 933, 'guardians': 934, 'gta': 935, 'gs': 936, 'grandparents': 937, 'gradually': 938, 'gop': 939, 'golf': 940, 'globe': 941, 'gio': 942, 'ggez': 943, 'genetics': 944, 'generations': 945, 'generating': 946, 'geared': 947, 'gdp': 948, 'galaxy': 949, 'furry': 950, 'fucker': 951, 'foundations': 952, 'forming': 953, 'forgiveness': 954, 'fnaf': 955, 'fetus': 956, 'feds': 957, 'feast': 958, 'feasible': 959, 'favors': 960, 'fatigue': 961, 'fathers': 962, 'fallacy': 963, 'faker': 964, 'failures': 965, 'extending': 966, 'expressions': 967, 'exploring': 968, 'expired': 969, 'expects': 970, 'exercises': 971, 'executed': 972, 'evident': 973, 'evaluation': 974, 'euros': 975, 'ethereal': 976, 'engagement': 977, 'engaged': 978, 'endgame': 979, 'elephant': 980, 'electronics': 981, 'educate': 982, 'edits': 983, 'duo': 984, 'doses': 985, 'doom': 986, 'dominate': 987, 'dominance': 988, 'documented': 989, 'documentary': 990, 'dishonest': 991, 'discovery': 992, 'discourage': 993, 'discounts': 994, 'disclosure': 995, 'disbelief': 996, 'disappointing': 997, 'dinos': 998, 'dino': 999, 'desired': 1000, 'dentist': 1001, 'declared': 1002, 'december': 1003, 'dash': 1004, 'daddy': 1005, 'custody': 1006, 'credibility': 1007, 'credentials': 1008, 'crashing': 1009, 'cracking': 1010, 'cousins': 1011, 'couples': 1012, 'cough': 1013, 'corp': 1014, 'coolest': 1015, 'controversy': 1016, 'contributed': 1017, 'continuity': 1018, 'consult': 1019, 'constitutional': 1020, 'consists': 1021, 'consist': 1022, 'consensual': 1023, 'configure': 1024, 'coman': 1025, 'coaching': 1026, 'clearing': 1027, 'civ': 1028, 'cis': 1029, 'chloe': 1030, 'childish': 1031, 'chemicals': 1032, 'cheated': 1033, 'charts': 1034, 'celebrate': 1035, 'cease': 1036, 'catholics': 1037, 'cas': 1038, 'carpet': 1039, 'canadians': 1040, 'camping': 1041, 'cables': 1042, 'budgets': 1043, 'buddhist': 1044, 'bruce': 1045, 'bridges': 1046, 'branches': 1047, 'brady': 1048, 'bracket': 1049, 'br': 1050, 'bots': 1051, 'booking': 1052, 'bombers': 1053, 'boil': 1054, 'blur': 1055, 'blockchain': 1056, 'blend': 1057, 'bleed': 1058, 'blankets': 1059, 'bethesda': 1060, 'beforehand': 1061, 'baltimore': 1062, 'backs': 1063, 'backpack': 1064, 'awakened': 1065, 'austria': 1066, 'auction': 1067, 'aswell': 1068, 'assigned': 1069, 'asset': 1070, 'assassin': 1071, 'arya': 1072, 'arnold': 1073, 'arab': 1074, 'approaching': 1075, 'apocalypse': 1076, 'ao': 1077, 'anxious': 1078, 'annual': 1079, 'anecdote': 1080, 'anecdotal': 1081, 'ambitious': 1082, 'allied': 1083, 'alan': 1084, 'ak': 1085, 'aggression': 1086, 'afghanistan': 1087, 'affairs': 1088, 'adventures': 1089, 'adopting': 1090, 'addresses': 1091, 'addicts': 1092, 'achievements': 1093, 'acceleration': 1094, '90s': 1095, '85': 1096, '78': 1097, '5e': 1098, '3s': 1099, '3f': 1100, '30s': 1101, '2fexplainlikeimfive': 1102, '28randomactsofblowjob': 1103, '20you': 1104, '20thread': 1105, '20my': 1106, '2001': 1107, '1989': 1108, '110': 1109, '1080p': 1110, 'yelled': 1111, 'yasuo': 1112, 'yadda': 1113, \"y'all\": 1114, 'wwii': 1115, 'worded': 1116, 'wiped': 1117, 'wikipedia': 1118, 'whoa': 1119, 'whine': 1120, 'whichever': 1121, 'walgreens': 1122, 'veteran': 1123, 'verification': 1124, 'vegetables': 1125, 'vegas': 1126, 'vain': 1127, 'ussr': 1128, 'urban': 1129, 'unemployment': 1130, 'unemployed': 1131, 'understands': 1132, 'underneath': 1133, 'underlying': 1134, 'unarmed': 1135, 'umbrella': 1136, 'ubuntu': 1137, 'twisting': 1138, 'tuition': 1139, 'tt': 1140, 'trudeau': 1141, 'trucks': 1142, 'trek': 1143, 'treats': 1144, 'trace': 1145, 'tourists': 1146, 'torrie': 1147, 'tops': 1148, 'tldr': 1149, 'tipping': 1150, 'tipofmytongue': 1151, 'thirty': 1152, 'terrorist': 1153, 'terrain': 1154, 'terminal': 1155, 'tempted': 1156, 'temp': 1157, 'teenager': 1158, 'teen': 1159, 'tds': 1160, 'taxi': 1161, 'tagged': 1162, 'tabs': 1163, 'tablet': 1164, 'syndrome': 1165, 'suspension': 1166, 'summers': 1167, 'summary': 1168, 'substantial': 1169, 'strive': 1170, 'sticky': 1171, 'stickers': 1172, 'stephen': 1173, 'statistical': 1174, 'starving': 1175, 'starty': 1176, 'ssr': 1177, 'srs': 1178, 'squeeze': 1179, 'spoiled': 1180, 'speeds': 1181, 'speaks': 1182, 'sorted': 1183, 'someday': 1184, 'soldier': 1185, 'soil': 1186, 'socialization': 1187, 'snakes': 1188, 'slipping': 1189, 'slam': 1190, 'skipped': 1191, 'sincerely': 1192, 'simplistic': 1193, 'silk': 1194, 'sigh': 1195, 'sided': 1196, 'sich': 1197, 'shouldnt': 1198, 'shocked': 1199, 'senate': 1200, 'sells': 1201, 'scrub': 1202, 'savage': 1203, 'satisfy': 1204, 'sandwich': 1205, 'rubber': 1206, 'rub': 1207, 'rpg': 1208, 'royal': 1209, 'rookie': 1210, 'robert': 1211, 'roaming': 1212, 'rivalry': 1213, 'rincewind': 1214, 'richard': 1215, 'rewrite': 1216, 'reviewed': 1217, 'restart': 1218, 'resident': 1219, 'reserve': 1220, 'researching': 1221, 'representing': 1222, 'rendered': 1223, 'relying': 1224, 'rekkles': 1225, 'rehabilitation': 1226, 'registration': 1227, 'regional': 1228, 'regarded': 1229, 'refusing': 1230, 'reel': 1231, 'reactionary': 1232, 'rapidly': 1233, 'rapid': 1234, 'rainbow': 1235, 'rail': 1236, 'rabadons': 1237, 'quantity': 1238, 'punctuation': 1239, 'pumped': 1240, 'pts': 1241, 'psychiatrist': 1242, 'psn': 1243, 'proving': 1244, 'proved': 1245, 'protoss': 1246, 'protocol': 1247, 'pronouns': 1248, 'promises': 1249, 'programmed': 1250, 'producer': 1251, 'probability': 1252, 'prisoners': 1253, 'pressed': 1254, 'premade': 1255, 'predictable': 1256, 'precision': 1257, 'pools': 1258, 'polish': 1259, 'pole': 1260, 'pockets': 1261, 'pleasing': 1262, 'playstyle': 1263, 'plates': 1264, 'plague': 1265, 'pity': 1266, 'perspectives': 1267, 'persecution': 1268, 'permits': 1269, 'perks': 1270, 'peaceful': 1271, 'payments': 1272, 'paving': 1273, 'paris': 1274, 'pandora': 1275, 'palestinians': 1276, 'palestinian': 1277, 'pale': 1278, 'pad': 1279, 'packet': 1280, 'packages': 1281, 'paced': 1282, 'pa': 1283, 'outfits': 1284, 'oppressed': 1285, 'oppose': 1286, 'ongoing': 1287, 'oldest': 1288, 'olaf': 1289, 'obligation': 1290, 'nukes': 1291, 'np': 1292, 'noun': 1293, 'networking': 1294, 'nerve': 1295, 'nerds': 1296, 'needadvice': 1297, 'nba': 1298, 'naive': 1299, 'mythology': 1300, 'mute': 1301, 'mountains': 1302, 'morty': 1303, 'morals': 1304, 'moot': 1305, 'monogamous': 1306, 'mono': 1307, 'monitors': 1308, 'mon': 1309, 'moms': 1310, 'momentum': 1311, 'misery': 1312, 'mis': 1313, 'mighty': 1314, 'mgs': 1315, 'menus': 1316, 'maze': 1317, 'mayor': 1318, 'mastery': 1319, 'mas': 1320, 'maryland': 1321, 'marry': 1322, 'margin': 1323, 'manipulated': 1324, 'madden': 1325, 'macbook': 1326, 'ma': 1327, 'lube': 1328, 'losses': 1329, 'logo': 1330, 'logistics': 1331, 'locals': 1332, 'liz': 1333, 'listing': 1334, 'lips': 1335, 'lion': 1336, 'linkffn': 1337, 'limiting': 1338, 'likelihood': 1339, 'lightning': 1340, 'lich': 1341, 'libido': 1342, 'len': 1343, 'legion': 1344, 'lease': 1345, 'laying': 1346, 'lawsuit': 1347, 'launches': 1348, 'laner': 1349, 'kratom': 1350, 'korean': 1351, 'kojima': 1352, 'knocking': 1353, 'knights': 1354, 'kits': 1355, 'justin': 1356, 'judges': 1357, 'journalism': 1358, 'jewelry': 1359, 'jew': 1360, 'jackson': 1361, 'islamic': 1362, 'irony': 1363, 'ira': 1364, 'invade': 1365, 'intentional': 1366, 'integrate': 1367, 'intact': 1368, 'institutions': 1369, 'insecurity': 1370, 'individually': 1371, 'inappropriate': 1372, 'inability': 1373, 'immune': 1374, 'immense': 1375, 'ign': 1376, 'hyper': 1377, 'hm': 1378, 'hitter': 1379, 'historically': 1380, 'hilariously': 1381, 'highway': 1382, 'highlight': 1383, 'hermione': 1384, 'helpless': 1385, 'headaches': 1386, 'hay': 1387, 'havent': 1388, 'hats': 1389, 'hashtag': 1390, 'harmless': 1391, 'hadith': 1392, 'grapes': 1393, 'grants': 1394, 'grace': 1395, 'gp': 1396, 'gloves': 1397, 'gently': 1398, 'genetic': 1399, 'gamble': 1400, 'fundamental': 1401, 'functioning': 1402, 'freezing': 1403, 'framework': 1404, 'fork': 1405, 'fnatic': 1406, 'flop': 1407, 'flexible': 1408, 'flashlight': 1409, 'fiscal': 1410, 'fires': 1411, 'finishing': 1412, 'fictional': 1413, 'february': 1414, 'farmer': 1415, 'fandom': 1416, 'fade': 1417, 'facility': 1418, 'facilities': 1419, 'explode': 1420, 'expense': 1421, 'expanding': 1422, 'exotics': 1423, 'exotic': 1424, 'evga': 1425, 'euro': 1426, 'eternity': 1427, 'estimated': 1428, 'essay': 1429, 'entrance': 1430, 'emailed': 1431, 'eligible': 1432, 'electrical': 1433, 'egypt': 1434, 'edgy': 1435, 'edges': 1436, 'eats': 1437, 'eaten': 1438, 'dutch': 1439, 'dumpster': 1440, 'drums': 1441, 'dresses': 1442, 'dragged': 1443, 'dot': 1444, 'doo': 1445, 'doesn': 1446, 'documentation': 1447, 'doable': 1448, 'disingenuous': 1449, 'disappointment': 1450, 'disagreeing': 1451, 'directing': 1452, 'dimensional': 1453, 'destroys': 1454, 'designers': 1455, 'density': 1456, 'demonstrated': 1457, 'demonstrate': 1458, 'delusional': 1459, 'delayed': 1460, 'defining': 1461, 'defence': 1462, 'dealers': 1463, 'db': 1464, 'cw': 1465, 'cv': 1466, 'cultures': 1467, 'crucial': 1468, 'critique': 1469, 'criticisms': 1470, 'creeps': 1471, 'courage': 1472, 'costco': 1473, 'cosmetics': 1474, 'cope': 1475, 'cooldowns': 1476, 'conventional': 1477, 'continuous': 1478, 'consume': 1479, 'consulting': 1480, 'constructive': 1481, 'cons': 1482, 'configuration': 1483, 'confederacy': 1484, 'comprehend': 1485, 'compact': 1486, 'communicating': 1487, 'comfortably': 1488, 'cluster': 1489, 'clears': 1490, 'cite': 1491, 'cerberus': 1492, 'centuries': 1493, 'cds': 1494, 'caution': 1495, 'categories': 1496, 'cardio': 1497, 'capability': 1498, 'capabilities': 1499, 'cab': 1500, 'burgle': 1501, 'bump': 1502, 'brooklyn': 1503, 'borrow': 1504, 'bob': 1505, 'blake': 1506, 'biological': 1507, 'bind': 1508, 'beam': 1509, 'bbq': 1510, 'banter': 1511, 'baked': 1512, 'bake': 1513, 'b31': 1514, 'aunt': 1515, 'auch': 1516, 'athlete': 1517, 'assumes': 1518, 'armour': 1519, 'arizona': 1520, 'april': 1521, 'approaches': 1522, 'antis': 1523, 'ammunition': 1524, 'amazingly': 1525, 'altogether': 1526, 'allen': 1527, 'alarm': 1528, 'aimed': 1529, 'agrees': 1530, 'agreeing': 1531, 'agg': 1532, 'adopted': 1533, 'administration': 1534, 'accusation': 1535, 'accordingly': 1536, 'accommodate': 1537, 'absorb': 1538, '750': 1539, '6k': 1540, '52': 1541, '3000': 1542, '1987': 1543, '100k': 1544, \"'no\": 1545, 'writes': 1546, 'wrist': 1547, 'wright': 1548, 'worship': 1549, 'wireless': 1550, 'wildly': 1551, 'wii': 1552, 'wie': 1553, 'warming': 1554, 'wards': 1555, 'waist': 1556, 'violating': 1557, 'viewpoint': 1558, 'viewing': 1559, 'vg': 1560, 'versa': 1561, 'verizon': 1562, 'vendors': 1563, 'vector': 1564, 'vayne': 1565, 'variations': 1566, 'unfamiliar': 1567, 'underrated': 1568, 'unaware': 1569, 'una': 1570, 'twins': 1571, 'twelve': 1572, 'turrets': 1573, 'tsm': 1574, 'tribal': 1575, 'treatments': 1576, 'treasure': 1577, 'transplant': 1578, 'transmission': 1579, 'transferred': 1580, 'traditions': 1581, 'toy': 1582, 'tim': 1583, 'tiger': 1584, 'tiers': 1585, 'threaten': 1586, 'thoroughly': 1587, 'theyre': 1588, 'texts': 1589, 'tails': 1590, 'swords': 1591, 'survivor': 1592, 'supervisor': 1593, 'suited': 1594, 'suitable': 1595, 'struck': 1596, 'stressful': 1597, 'streams': 1598, 'steak': 1599, 'stafford': 1600, 'stab': 1601, 'spy': 1602, 'spreading': 1603, 'spends': 1604, 'speculative': 1605, 'specialist': 1606, 'spanish': 1607, 'soviet': 1608, 'snapped': 1609, 'smite': 1610, 'smells': 1611, 'smartphone': 1612, 'slowing': 1613, 'slim': 1614, 'slice': 1615, 'situational': 1616, 'sits': 1617, 'sim': 1618, 'signals': 1619, 'sigelei': 1620, 'shipped': 1621, 'shifts': 1622, 'sheer': 1623, 'serial': 1624, 'sean': 1625, 'scares': 1626, 'scandal': 1627, 'sc': 1628, 'sane': 1629, 'samples': 1630, 's4': 1631, 'russians': 1632, 'ruining': 1633, 'ron': 1634, 'romance': 1635, 'roland': 1636, 'ripped': 1637, 'rework': 1638, 'resume': 1639, 'restricted': 1640, 'resolve': 1641, 'repairs': 1642, 'remembering': 1643, 'reliability': 1644, 'rebuild': 1645, 'reborn': 1646, 'realised': 1647, 'razor': 1648, 'radiation': 1649, 'r9': 1650, 'qid': 1651, 'pyro': 1652, 'pulls': 1653, 'protecting': 1654, 'promoting': 1655, 'professionally': 1656, 'profession': 1657, 'problematic': 1658, 'princess': 1659, 'priests': 1660, 'prey': 1661, 'prep': 1662, 'potter': 1663, 'possess': 1664, 'pleasant': 1665, 'pilots': 1666, 'performances': 1667, 'pep': 1668, 'pax': 1669, 'patrol': 1670, 'partisan': 1671, 'paperwork': 1672, 'painting': 1673, 'painted': 1674, 'overwhelmed': 1675, 'overrated': 1676, 'overnight': 1677, 'ordinary': 1678, 'optional': 1679, 'omega': 1680, 'oddly': 1681, 'occasions': 1682, 'ny': 1683, 'node': 1684, 'ni': 1685, 'negotiating': 1686, 'negotiate': 1687, 'nearest': 1688, 'nails': 1689, 'murderer': 1690, 'mules': 1691, 'mortal': 1692, 'mop': 1693, 'mirrors': 1694, 'minus': 1695, 'mere': 1696, 'melt': 1697, 'mechanical': 1698, 'matchmaking': 1699, 'massively': 1700, 'mainstream': 1701, 'lynch': 1702, 'literature': 1703, 'linear': 1704, 'lightly': 1705, 'lifted': 1706, 'liberty': 1707, 'legend': 1708, 'leather': 1709, 'las': 1710, 'lake': 1711, 'labeling': 1712, 'konami': 1713, 'knocked': 1714, 'juggernaut': 1715, 'jordan': 1716, 'jones': 1717, 'joints': 1718, 'joint': 1719, 'iran': 1720, 'invisible': 1721, 'investigation': 1722, 'investigate': 1723, 'interface': 1724, 'interacting': 1725, 'insulin': 1726, 'innovation': 1727, 'ing': 1728, 'influenced': 1729, 'inflation': 1730, 'incest': 1731, 'incapable': 1732, 'import': 1733, 'immoral': 1734, 'immensely': 1735, 'imaginary': 1736, 'illegally': 1737, 'identified': 1738, 'houston': 1739, 'hots': 1740, 'hosts': 1741, 'hood': 1742, 'honda': 1743, 'hips': 1744, 'healthier': 1745, 'heals': 1746, 'hazard': 1747, 'hassle': 1748, 'hammer': 1749, 'hacked': 1750, 'guude': 1751, 'grrm': 1752, 'grinding': 1753, 'gps': 1754, 'gospel': 1755, 'gorgeous': 1756, 'gladly': 1757, 'git': 1758, 'geo': 1759, 'genres': 1760, 'gears': 1761, 'gauge': 1762, 'gambling': 1763, 'fry': 1764, 'friendships': 1765, 'friction': 1766, 'forbid': 1767, 'flies': 1768, 'flashback': 1769, 'finals': 1770, 'finale': 1771, 'fiber': 1772, 'fetchable': 1773, 'fc': 1774, 'favour': 1775, 'fashioned': 1776, 'farms': 1777, 'farmers': 1778, 'fallen': 1779, 'faint': 1780, 'fails': 1781, 'extremes': 1782, 'extract': 1783, 'expressed': 1784, 'explains': 1785, 'experiments': 1786, 'expanded': 1787, 'executive': 1788, 'execution': 1789, 'exams': 1790, 'evolved': 1791, 'esteem': 1792, 'equity': 1793, 'equation': 1794, 'epoxy': 1795, 'enormous': 1796, 'enforced': 1797, 'enable': 1798, 'elf': 1799, 'elementary': 1800, 'elemental': 1801, 'editor': 1802, 'dressing': 1803, 'dough': 1804, 'douche': 1805, 'dodododo': 1806, 'dodging': 1807, 'distant': 1808, 'dishes': 1809, 'discipline': 1810, 'disc': 1811, 'disappear': 1812, 'disable': 1813, 'differ': 1814, 'diets': 1815, 'diamonds': 1816, 'diagnosis': 1817, 'detroit': 1818, 'desperately': 1819, 'descriptions': 1820, 'delegates': 1821, 'definitions': 1822, 'defenses': 1823, 'defenders': 1824, 'declare': 1825, 'debating': 1826, 'dave': 1827, 'darker': 1828, 'danny': 1829, 'curiosity': 1830, 'crystal': 1831, 'crush': 1832, 'cruise': 1833, 'crowns': 1834, 'criticize': 1835, 'credible': 1836, 'crashed': 1837, 'cracked': 1838, 'coworkers': 1839, 'cosmetic': 1840, 'correctness': 1841, 'corporation': 1842, 'cores': 1843, 'cookies': 1844, 'cookie': 1845, 'convey': 1846, 'conversion': 1847, 'convenience': 1848, 'consumption': 1849, 'consistency': 1850, 'considerably': 1851, 'connector': 1852, 'condoms': 1853, 'comply': 1854, 'completion': 1855, 'competitors': 1856, 'communist': 1857, 'collecting': 1858, 'cloth': 1859, 'closet': 1860, 'clay': 1861, 'clause': 1862, 'civilization': 1863, 'circular': 1864, 'circles': 1865, 'challenger': 1866, 'chad': 1867, 'certainty': 1868, 'casually': 1869, 'cancelled': 1870, 'calorie': 1871, 'butthurt': 1872, 'burns': 1873, 'burger': 1874, 'bully': 1875, 'bull': 1876, 'bounce': 1877, 'borders': 1878, 'bloodborne': 1879, 'blm': 1880, 'bleeding': 1881, 'blank': 1882, 'bland': 1883, 'bkb': 1884, 'bizarre': 1885, 'bets': 1886, 'ben': 1887, 'beard': 1888, 'basque': 1889, 'bandwidth': 1890, 'bananas': 1891, 'balancing': 1892, 'avoided': 1893, 'availability': 1894, 'authorized': 1895, 'au': 1896, 'atomic': 1897, 'athletic': 1898, 'atheists': 1899, 'appearing': 1900, 'apartments': 1901, 'announcement': 1902, 'alter': 1903, 'als': 1904, 'alongside': 1905, 'ally': 1906, 'aired': 1907, 'adamant': 1908, 'achieved': 1909, 'accomplished': 1910, 'abyss': 1911, 'aapl': 1912, '980': 1913, '83': 1914, '5s': 1915, '59': 1916, '3x': 1917, '20review': 1918, '2016': 1919, '2009': 1920, '14th': 1921, 'yell': 1922, 'wrapped': 1923, 'workplace': 1924, 'wolves': 1925, 'wb': 1926, 'wasnt': 1927, 'warranty': 1928, 'waking': 1929, 'visibility': 1930, 'verse': 1931, 'verified': 1932, 'veggies': 1933, 'variation': 1934, 'vaping': 1935, 'vape': 1936, 'valued': 1937, 'valley': 1938, 'vacuum': 1939, 'utilize': 1940, 'usd': 1941, 'urge': 1942, 'upvote': 1943, 'unacceptable': 1944, 'tyranny': 1945, 'trophy': 1946, 'trainer': 1947, 'tournaments': 1948, 'tor': 1949, 'toggle': 1950, 'toast': 1951, 'titans': 1952, 'tissue': 1953, 'thru': 1954, 'theater': 1955, 'tf2': 1956, 'tesla': 1957, 'teenagers': 1958, 'talents': 1959, 'tale': 1960, 'syntax': 1961, 'sympathy': 1962, 'switches': 1963, 'suspicious': 1964, 'superiority': 1965, 'summoned': 1966, 'suffered': 1967, 'subsequent': 1968, 'sturdy': 1969, 'stupidly': 1970, 'stubborn': 1971, 'storyline': 1972, 'stole': 1973, 'stereotype': 1974, 'stepping': 1975, 'steady': 1976, 'statistically': 1977, 'standpoint': 1978, 'stalin': 1979, 'squishy': 1980, 'spouse': 1981, 'spoken': 1982, 'spoiler': 1983, 'splitting': 1984, 'splash': 1985, 'speculation': 1986, 'specify': 1987, 'spark': 1988, 'sounding': 1989, 'societal': 1990, 'slap': 1991, 'singing': 1992, 'sights': 1993, 'shy': 1994, 'shove': 1995, 'shotguns': 1996, 'shifting': 1997, 'shake': 1998, 'sf': 1999, 'separately': 2000, 'segment': 2001, 'scrolls': 2002, 'screenshots': 2003, 'sci': 2004, 'satan': 2005, 'salty': 2006, 'safely': 2007, 'rushed': 2008, 'rewarding': 2009, 'restriction': 2010, 'respected': 2011, 'resist': 2012, 'refuses': 2013, 'reform': 2014, 'references': 2015, 'reds': 2016, 'readers': 2017, 'rap': 2018, 'raging': 2019, 'radius': 2020, 'qualities': 2021, 'puzzle': 2022, 'pursue': 2023, 'psychological': 2024, 'proves': 2025, 'promising': 2026, 'productive': 2027, 'processors': 2028, 'preventing': 2029, 'practicing': 2030, 'pound': 2031, 'poison': 2032, 'plural': 2033, 'picky': 2034, 'philosophical': 2035, 'pf': 2036, 'pero': 2037, 'paths': 2038, 'partial': 2039, 'parody': 2040, 'parallel': 2041, 'packed': 2042, 'ohio': 2043, 'offline': 2044, 'obsession': 2045, 'obsessed': 2046, 'obesity': 2047, 'nurses': 2048, 'notable': 2049, 'norway': 2050, 'norm': 2051, 'noob': 2052, 'nine': 2053, 'nicely': 2054, 'nhl': 2055, 'neighborhoods': 2056, 'naval': 2057, 'namely': 2058, 'muscles': 2059, 'multiplayer': 2060, 'motorcycle': 2061, 'mothers': 2062, 'monopoly': 2063, 'module': 2064, 'moba': 2065, 'mixing': 2066, 'mist': 2067, 'minorities': 2068, 'miami': 2069, 'mentions': 2070, 'meme': 2071, 'membership': 2072, 'meetings': 2073, 'marvel': 2074, 'martial': 2075, 'manufacturer': 2076, 'manipulation': 2077, 'louder': 2078, 'leak': 2079, 'lap': 2080, 'lame': 2081, 'ladies': 2082, 'justicar': 2083, 'josh': 2084, 'jar': 2085, 'jacket': 2086, 'issued': 2087, 'ips': 2088, 'invented': 2089, 'intp': 2090, 'intensive': 2091, 'intellectual': 2092, 'instincts': 2093, 'infection': 2094, 'inevitable': 2095, 'inconvenience': 2096, 'implementation': 2097, 'impacts': 2098, 'hs': 2099, 'household': 2100, 'hosting': 2101, 'hospitals': 2102, 'hose': 2103, 'horrendous': 2104, 'honey': 2105, 'heels': 2106, 'healthcare': 2107, 'headed': 2108, 'handy': 2109, 'haben': 2110, 'guilds': 2111, 'grasp': 2112, 'grams': 2113, 'governor': 2114, 'goku': 2115, 'gnu': 2116, 'gmail': 2117, 'gig': 2118, 'gatherer': 2119, 'fusion': 2120, 'ft': 2121, 'frank': 2122, 'francisco': 2123, 'fraction': 2124, 'fortune': 2125, 'ford': 2126, 'foo': 2127, 'fleshed': 2128, 'flaw': 2129, 'fiora': 2130, 'filters': 2131, 'fills': 2132, 'fence': 2133, 'feat': 2134, 'f2p': 2135, 'exploit': 2136, 'expertise': 2137, 'experiencing': 2138, 'exhausted': 2139, 'excessive': 2140, 'evo': 2141, 'ethnicity': 2142, 'eternal': 2143, 'equate': 2144, 'ep': 2145, 'environmental': 2146, 'elves': 2147, 'electronic': 2148, 'ele': 2149, 'ein': 2150, 'ei': 2151, 'eg': 2152, 'duties': 2153, 'dumbass': 2154, 'dope': 2155, 'documents': 2156, 'divorced': 2157, 'divide': 2158, 'disturbing': 2159, 'distinct': 2160, 'dispute': 2161, 'disparity': 2162, 'disorder': 2163, 'dish': 2164, 'disagrees': 2165, 'disabled': 2166, 'directions': 2167, 'digging': 2168, 'dial': 2169, 'determining': 2170, 'detection': 2171, 'deserved': 2172, 'desert': 2173, 'deposit': 2174, 'departments': 2175, 'denmark': 2176, 'deliberately': 2177, 'del': 2178, 'deficit': 2179, 'deemed': 2180, 'deadly': 2181, 'davis': 2182, 'darius': 2183, 'damaged': 2184, 'curse': 2185, 'cult': 2186, 'creators': 2187, 'cracks': 2188, 'cotton': 2189, 'controlling': 2190, 'controllers': 2191, 'continuously': 2192, 'continually': 2193, 'consumers': 2194, 'consideration': 2195, 'consequence': 2196, 'confirmation': 2197, 'complexity': 2198, 'commonly': 2199, 'commission': 2200, 'combos': 2201, 'colours': 2202, 'clouds': 2203, 'clicked': 2204, 'clarification': 2205, 'chunk': 2206, 'chrome': 2207, 'chips': 2208, 'chemistry': 2209, 'chasing': 2210, 'charger': 2211, 'chamber': 2212, 'challenges': 2213, 'chair': 2214, 'centered': 2215, 'castle': 2216, 'cared': 2217, 'cannabis': 2218, 'cameras': 2219, \"c'est\": 2220, 'burnt': 2221, 'bullying': 2222, 'bucket': 2223, 'browser': 2224, 'breathe': 2225, 'brandon': 2226, 'brains': 2227, 'borderlands': 2228, 'boats': 2229, 'blues': 2230, 'bloody': 2231, 'blocking': 2232, 'blatantly': 2233, 'birds': 2234, 'bin': 2235, 'bella': 2236, 'behaviour': 2237, 'behave': 2238, 'bearing': 2239, 'bath': 2240, 'basement': 2241, 'barrier': 2242, 'banner': 2243, 'autism': 2244, 'atm': 2245, 'assure': 2246, 'arrow': 2247, 'archetype': 2248, 'appropriately': 2249, 'appointment': 2250, 'appeared': 2251, 'animations': 2252, 'affordable': 2253, 'advocates': 2254, 'activated': 2255, '7th': 2256, '58': 2257, '5000': 2258, '49': 2259, '48': 2260, '47': 2261, '3a': 2262, '38': 2263, '2c': 2264, '003f': 2265, \"'the\": 2266, \"'i\": 2267, 'yt': 2268, 'width': 2269, 'wherever': 2270, 'weigh': 2271, 'websites': 2272, 'wears': 2273, 'voltage': 2274, 'variance': 2275, 'upvoted': 2276, 'upgrading': 2277, 'unlock': 2278, 'unlimited': 2279, 'unions': 2280, 'uncommon': 2281, 'uncle': 2282, 'ulduar': 2283, 'uber': 2284, 'twin': 2285, 'tweet': 2286, 'tumblr': 2287, 'tricks': 2288, 'tribes': 2289, 'transparent': 2290, 'transfers': 2291, 'tp': 2292, 'tour': 2293, 'touches': 2294, 'totesmessenger': 2295, 'torture': 2296, 'toronto': 2297, 'tom': 2298, 'tobacco': 2299, 'thumb': 2300, 'throne': 2301, 'tendency': 2302, 'temple': 2303, 'tastes': 2304, 'swim': 2305, 'sweeping': 2306, 'sur': 2307, 'supportive': 2308, 'summons': 2309, 'submitted': 2310, 'sticking': 2311, 'stark': 2312, 'staring': 2313, 'stability': 2314, 'spurs': 2315, 'span': 2316, 'sof': 2317, 'slide': 2318, 'skipping': 2319, 'sjw': 2320, 'sidewalk': 2321, 'shovel': 2322, 'shiny': 2323, 'shaman': 2324, 'shaco': 2325, 'seriousness': 2326, 'senior': 2327, 'scrap': 2328, 'scaling': 2329, 'rows': 2330, 'routes': 2331, 'romantic': 2332, 'rhetoric': 2333, 'revenue': 2334, 'revenge': 2335, 'republic': 2336, 'reps': 2337, 'rental': 2338, 'rendering': 2339, 'relation': 2340, 'refund': 2341, 'rebel': 2342, 'realistically': 2343, 'randomactsofblowjob': 2344, 'raises': 2345, 'quo': 2346, 'quicker': 2347, 'purchasing': 2348, 'purchases': 2349, 'protest': 2350, 'profitable': 2351, 'profiles': 2352, 'proceed': 2353, 'pricing': 2354, 'predict': 2355, 'posters': 2356, 'ports': 2357, 'portland': 2358, 'poly': 2359, 'politically': 2360, 'planets': 2361, 'placing': 2362, 'pg': 2363, 'persons': 2364, 'penance': 2365, 'pcs': 2366, 'password': 2367, 'passionate': 2368, 'paranoid': 2369, 'panels': 2370, 'overkill': 2371, 'opposition': 2372, 'officers': 2373, 'oem': 2374, 'oc': 2375, 'november': 2376, 'noted': 2377, 'nonetheless': 2378, 'noble': 2379, 'nicer': 2380, 'newly': 2381, 'neo': 2382, 'negatively': 2383, 'nazis': 2384, 'mx': 2385, 'murdering': 2386, 'moses': 2387, 'modified': 2388, 'moderation': 2389, 'meets': 2390, 'meds': 2391, 'meaningless': 2392, 'manufacturers': 2393, 'manually': 2394, 'ludens': 2395, 'loops': 2396, 'lonely': 2397, 'logs': 2398, 'lifts': 2399, 'legends': 2400, 'layers': 2401, 'lawyers': 2402, 'laser': 2403, 'labour': 2404, 'keywords': 2405, 'kate': 2406, 'june': 2407, 'jaw': 2408, 'involving': 2409, 'invention': 2410, 'interior': 2411, 'instructor': 2412, 'initiation': 2413, 'initiate': 2414, 'increasingly': 2415, 'imply': 2416, 'immature': 2417, 'imho': 2418, 'hypocritical': 2419, 'hugs': 2420, 'html': 2421, 'horses': 2422, 'hormones': 2423, 'hl': 2424, 'heroin': 2425, 'grenade': 2426, 'grandfather': 2427, 'gathering': 2428, 'garen': 2429, 'gang': 2430, 'fury': 2431, 'freshman': 2432, 'flex': 2433, 'flamed': 2434, 'flags': 2435, 'festival': 2436, 'feats': 2437, 'favorites': 2438, 'farther': 2439, 'extensive': 2440, 'everytime': 2441, 'ett': 2442, 'estimate': 2443, 'equals': 2444, 'environments': 2445, 'enjoyment': 2446, 'employed': 2447, 'emphasis': 2448, 'emperor': 2449, 'empathy': 2450, 'emails': 2451, 'edg': 2452, 'ds1': 2453, 'ds': 2454, 'draws': 2455, 'drastically': 2456, 'drake': 2457, 'dna': 2458, 'diving': 2459, 'disregard': 2460, 'disclaimer': 2461, 'destroying': 2462, 'designs': 2463, 'describes': 2464, 'denying': 2465, 'denial': 2466, 'delivered': 2467, 'cursed': 2468, 'cruel': 2469, 'courts': 2470, 'costing': 2471, 'corn': 2472, 'copyright': 2473, 'cooper': 2474, 'convicted': 2475, 'contest': 2476, 'contacted': 2477, 'competent': 2478, 'compatibility': 2479, 'communism': 2480, 'commented': 2481, 'commands': 2482, 'collective': 2483, 'coke': 2484, 'coherent': 2485, 'cod': 2486, 'cocktail': 2487, 'clicks': 2488, 'cj': 2489, 'chart': 2490, 'championship': 2491, 'cave': 2492, 'cata': 2493, 'casters': 2494, 'cargo': 2495, 'carb': 2496, 'candy': 2497, 'camps': 2498, 'britain': 2499, 'brisbane': 2500, 'bound': 2501, 'bonuses': 2502, 'blonde': 2503, 'bite': 2504, 'bent': 2505, 'beneath': 2506, 'behalf': 2507, 'bedroom': 2508, 'bastard': 2509, 'bands': 2510, 'badge': 2511, 'authorities': 2512, 'auf': 2513, 'attempts': 2514, 'association': 2515, 'assist': 2516, 'ashley': 2517, 'angles': 2518, 'allah': 2519, 'align': 2520, 'aiming': 2521, 'aged': 2522, 'adopt': 2523, 'admittedly': 2524, 'adjusted': 2525, 'addicted': 2526, 'accused': 2527, 'accurately': 2528, '900': 2529, '80s': 2530, '20s': 2531, '2006': 2532, '1600': 2533, '1200': 2534, 'zu': 2535, 'x2': 2536, 'wwe': 2537, 'wouldnt': 2538, 'wore': 2539, 'wording': 2540, 'wider': 2541, 'whip': 2542, 'whatnot': 2543, 'washing': 2544, 'waited': 2545, 'vulnerable': 2546, 'volunteer': 2547, 'vent': 2548, 'vaccine': 2549, 'usable': 2550, 'unlocked': 2551, 'understandable': 2552, 'underground': 2553, 'tribe': 2554, 'traded': 2555, 'towns': 2556, 'touched': 2557, 'toe': 2558, 'tire': 2559, 'ties': 2560, 'theories': 2561, 'theoretically': 2562, 'tens': 2563, 'teens': 2564, 'tears': 2565, 'tasks': 2566, 'targeting': 2567, 'swift': 2568, 'sweep': 2569, 'swapping': 2570, 'suicides': 2571, 'sucking': 2572, 'studied': 2573, 'strongest': 2574, 'stroke': 2575, 'stairs': 2576, 'squat': 2577, 'spoilers': 2578, 'spelling': 2579, 'spare': 2580, 'sorta': 2581, 'sore': 2582, 'sneak': 2583, 'snake': 2584, 'smoked': 2585, 'smarter': 2586, 'skinny': 2587, 'skarner': 2588, 'sing': 2589, 'simpler': 2590, 'shorts': 2591, 'shine': 2592, 'shave': 2593, 'shallow': 2594, 'separation': 2595, 'sentences': 2596, 'semblance': 2597, 'scotch': 2598, 'sauce': 2599, 'sa': 2600, 'rotation': 2601, 'rom': 2602, 'rocky': 2603, 'robot': 2604, 'rip': 2605, 'retirement': 2606, 'restore': 2607, 'render': 2608, 'relax': 2609, 'rejection': 2610, 'regulation': 2611, 'regulated': 2612, 'refresh': 2613, 'reflection': 2614, 'reflect': 2615, 'reduces': 2616, 'recommendations': 2617, 'recognized': 2618, 'raiders': 2619, 'quoted': 2620, 'quitting': 2621, 'published': 2622, 'provider': 2623, 'prone': 2624, 'promised': 2625, 'programming': 2626, 'presumably': 2627, 'prestige': 2628, 'prescription': 2629, 'premise': 2630, 'prayer': 2631, 'ppr': 2632, 'pots': 2633, 'possession': 2634, 'pork': 2635, 'podcast': 2636, 'pod': 2637, 'pleasure': 2638, 'pixels': 2639, 'pink': 2640, 'ping': 2641, 'peter': 2642, 'perpetrators': 2643, 'perk': 2644, 'penny': 2645, 'peel': 2646, 'pause': 2647, 'paradox': 2648, 'pansy': 2649, 'outdated': 2650, 'ou': 2651, 'oriented': 2652, 'opposing': 2653, 'occasion': 2654, 'objectives': 2655, 'nut': 2656, 'nra': 2657, 'niche': 2658, 'nap': 2659, 'motor': 2660, 'mixture': 2661, 'misleading': 2662, 'mins': 2663, 'minecraft': 2664, 'mild': 2665, 'memories': 2666, 'mediocre': 2667, 'maximize': 2668, 'matchups': 2669, 'marks': 2670, 'manners': 2671, 'managing': 2672, 'mal': 2673, 'lp': 2674, 'lowering': 2675, 'loot': 2676, 'liar': 2677, 'lethal': 2678, 'knees': 2679, 'kings': 2680, 'kernel': 2681, 'justification': 2682, 'jumps': 2683, 'jazz': 2684, 'italian': 2685, 'irish': 2686, 'integrity': 2687, 'inform': 2688, 'independence': 2689, 'inaccurate': 2690, 'immigrants': 2691, 'illusions': 2692, 'heh': 2693, 'gw2': 2694, 'guardian': 2695, 'grows': 2696, 'grip': 2697, 'grid': 2698, 'grenades': 2699, 'grammar': 2700, 'grad': 2701, 'giveaways': 2702, 'gifts': 2703, 'garage': 2704, 'gaps': 2705, 'fyi': 2706, 'fundamentally': 2707, 'functional': 2708, 'fraud': 2709, 'foolish': 2710, 'followers': 2711, 'floating': 2712, 'flaws': 2713, 'firmly': 2714, 'filed': 2715, 'fascinating': 2716, 'factions': 2717, 'fabric': 2718, 'f1': 2719, 'exploration': 2720, 'exclusives': 2721, 'evasion': 2722, 'europeans': 2723, 'estate': 2724, 'entity': 2725, 'encouraged': 2726, 'elo': 2727, 'elaborate': 2728, 'echo': 2729, 'drill': 2730, 'drain': 2731, 'downloaded': 2732, 'doompety': 2733, 'dive': 2734, 'disrespectful': 2735, 'dismiss': 2736, 'diagnosed': 2737, 'developer': 2738, 'desires': 2739, 'democrats': 2740, 'decline': 2741, 'darkness': 2742, 'curb': 2743, 'crossed': 2744, 'creature': 2745, 'craigslist': 2746, 'corsair': 2747, 'corporations': 2748, 'convert': 2749, 'constraint': 2750, 'conscious': 2751, 'congrats': 2752, 'conduct': 2753, 'complained': 2754, 'commercials': 2755, 'coin': 2756, 'coal': 2757, 'cleared': 2758, 'clarify': 2759, 'civilians': 2760, 'civilian': 2761, 'cigarette': 2762, 'chrono': 2763, 'chicago': 2764, 'cheapest': 2765, 'charles': 2766, 'chaos': 2767, 'censorship': 2768, 'cancel': 2769, 'cache': 2770, 'buys': 2771, 'bungie': 2772, 'bundle': 2773, 'browsing': 2774, 'broadcast': 2775, 'briefly': 2776, 'brick': 2777, 'breaker': 2778, 'brake': 2779, 'bra': 2780, 'blew': 2781, 'belongs': 2782, 'bei': 2783, 'behaviors': 2784, 'bears': 2785, 'bash': 2786, 'badass': 2787, 'attending': 2788, 'assassins': 2789, 'ashamed': 2790, 'artificial': 2791, 'argued': 2792, 'ar': 2793, 'approval': 2794, 'apples': 2795, 'alternatives': 2796, 'alternatively': 2797, 'alert': 2798, 'alaska': 2799, 'afk': 2800, 'ace': 2801, 'abused': 2802, '72': 2803, '6th': 2804, '1k': 2805, 'zerg': 2806, 'youth': 2807, 'yorick': 2808, 'yield': 2809, 'yay': 2810, 'wolf': 2811, 'wizard': 2812, 'withdrawal': 2813, 'waters': 2814, 'vr': 2815, 'visible': 2816, 'visa': 2817, 'viktor': 2818, 'viewed': 2819, 'vegan': 2820, 'variable': 2821, 'unwanted': 2822, 'unusual': 2823, 'unfortunate': 2824, 'tweaks': 2825, 'tunnel': 2826, 'tube': 2827, 'trend': 2828, 'trapped': 2829, 'translate': 2830, 'trades': 2831, 'towers': 2832, 'thunder': 2833, 'themes': 2834, 'tear': 2835, 'surprisingly': 2836, 'suggests': 2837, 'substance': 2838, 'strangers': 2839, 'stored': 2840, 'stepped': 2841, 'stem': 2842, 'stages': 2843, 'stacking': 2844, 'ss': 2845, 'speaker': 2846, 'socially': 2847, 'skt': 2848, 'skeleton': 2849, 'sir': 2850, 'shortly': 2851, 'shoots': 2852, 'shock': 2853, 'shits': 2854, 'sheet': 2855, 'sharp': 2856, 'shares': 2857, 'settled': 2858, 'serving': 2859, 'sector': 2860, 'secrets': 2861, 'sd': 2862, 'scales': 2863, 'satisfying': 2864, 'saint': 2865, 'rural': 2866, 'ruled': 2867, 'roommate': 2868, 'robots': 2869, 'rick': 2870, 'revealed': 2871, 'resulting': 2872, 'responded': 2873, 'represents': 2874, 'replay': 2875, 'remained': 2876, 'relief': 2877, 'register': 2878, 'randomactsofmuffdive': 2879, 'ra': 2880, 'queens': 2881, 'quantum': 2882, 'pushes': 2883, 'psu': 2884, 'professor': 2885, 'processor': 2886, 'processed': 2887, 'prisons': 2888, 'priced': 2889, 'powder': 2890, 'possibilities': 2891, 'popularity': 2892, 'popped': 2893, 'politician': 2894, 'pit': 2895, 'pid': 2896, 'pe': 2897, 'patience': 2898, 'overwatch': 2899, 'overcome': 2900, 'numerous': 2901, 'null': 2902, 'npcs': 2903, 'neighbors': 2904, 'nas': 2905, 'narrow': 2906, 'motive': 2907, 'mock': 2908, 'mob': 2909, 'miller': 2910, 'mi': 2911, 'mask': 2912, 'manga': 2913, 'loser': 2914, 'lifting': 2915, 'liability': 2916, 'legitimately': 2917, 'leadership': 2918, 'jersey': 2919, 'irl': 2920, 'invasion': 2921, 'insults': 2922, 'instrument': 2923, 'instructions': 2924, 'institution': 2925, 'installing': 2926, 'infantry': 2927, 'indicator': 2928, 'indicate': 2929, 'immortal': 2930, 'imagined': 2931, 'hobbies': 2932, 'hash': 2933, 'harass': 2934, 'hahaha': 2935, 'greek': 2936, 'gray': 2937, 'graduated': 2938, 'grabbed': 2939, 'goodness': 2940, 'goalie': 2941, 'gifs': 2942, 'gather': 2943, 'gank': 2944, 'forgotten': 2945, 'forgetting': 2946, 'florida': 2947, 'floors': 2948, 'flexibility': 2949, 'fixes': 2950, 'fitting': 2951, 'fishing': 2952, 'finance': 2953, 'famous': 2954, 'fairness': 2955, 'exposure': 2956, 'expenses': 2957, 'expectation': 2958, 'exclusively': 2959, 'evolution': 2960, 'establishment': 2961, 'essential': 2962, 'engaging': 2963, 'encounters': 2964, 'efficiently': 2965, 'economics': 2966, 'drowning': 2967, 'dragging': 2968, 'drafting': 2969, 'donations': 2970, 'donation': 2971, 'district': 2972, 'discover': 2973, 'dimensions': 2974, 'dialogue': 2975, 'detailed': 2976, 'destruction': 2977, 'demographic': 2978, 'defeat': 2979, 'debates': 2980, 'dear': 2981, 'dc': 2982, 'dat': 2983, 'csgo': 2984, 'crushed': 2985, 'crossing': 2986, 'cringe': 2987, 'covering': 2988, 'countless': 2989, 'constitution': 2990, 'compelling': 2991, 'compatible': 2992, 'como': 2993, 'closing': 2994, 'clg': 2995, 'circlejerk': 2996, 'charm': 2997, 'charity': 2998, 'challenged': 2999, 'cells': 3000, 'ceiling': 3001, 'carriers': 3002, 'captured': 3003, 'broad': 3004, 'breed': 3005, 'boundaries': 3006, 'blowing': 3007, 'bios': 3008, 'biology': 3009, 'beers': 3010, 'batman': 3011, 'bathroom': 3012, 'barrel': 3013, 'bait': 3014, 'awoken': 3015, 'aus': 3016, 'attend': 3017, 'asylum': 3018, 'associate': 3019, 'asap': 3020, 'array': 3021, 'approve': 3022, 'applying': 3023, 'applicable': 3024, 'ancients': 3025, 'amongst': 3026, 'alternate': 3027, 'albums': 3028, 'aggressively': 3029, 'afaik': 3030, 'adhd': 3031, 'adapter': 3032, 'adam': 3033, 'acted': 3034, '700': 3035, '64': 3036, '4x': 3037, '180': 3038, '16gb': 3039, '10k': 3040, 'zones': 3041, 'wrap': 3042, 'worthwhile': 3043, 'worrying': 3044, 'worries': 3045, 'wishes': 3046, 'wisdom': 3047, 'whites': 3048, 'whats': 3049, 'watches': 3050, 'warrant': 3051, 'visiting': 3052, 'vibe': 3053, 'verify': 3054, 'veigar': 3055, 'vary': 3056, 'upvotes': 3057, 'upside': 3058, 'unrelated': 3059, 'universal': 3060, 'unhappy': 3061, 'typing': 3062, 'twilight': 3063, 'turkey': 3064, 'trivial': 3065, 'trilogy': 3066, 'treating': 3067, 'transport': 3068, 'trains': 3069, 'trail': 3070, 'tires': 3071, 'throws': 3072, 'theirs': 3073, 'teenage': 3074, 'tape': 3075, 'survived': 3076, 'surrounded': 3077, 'supreme': 3078, 'summoning': 3079, 'submissions': 3080, 'strictly': 3081, 'stocks': 3082, 'stations': 3083, 'static': 3084, 'starters': 3085, 'spray': 3086, 'spit': 3087, 'spider': 3088, 'spec': 3089, 'spamming': 3090, 'sony': 3091, 'slip': 3092, 'skyrim': 3093, 'shower': 3094, 'shoulders': 3095, 'shed': 3096, 'sexy': 3097, 'scream': 3098, 'scare': 3099, 'scam': 3100, 'savings': 3101, 'rune': 3102, 'ruling': 3103, 'roots': 3104, 'roman': 3105, 'respectful': 3106, 'requiring': 3107, 'repeatedly': 3108, 'reminded': 3109, 'relate': 3110, 'reader': 3111, 'reaches': 3112, 'ranges': 3113, 'races': 3114, 'prominent': 3115, 'pressing': 3116, 'precisely': 3117, 'precise': 3118, 'pr': 3119, 'polite': 3120, 'phoenix': 3121, 'persecuted': 3122, 'permit': 3123, 'permanently': 3124, 'peers': 3125, 'paste': 3126, 'outfit': 3127, 'organizations': 3128, 'optimal': 3129, 'operations': 3130, 'operate': 3131, 'officially': 3132, 'objectively': 3133, 'nvidia': 3134, 'mysterious': 3135, 'musical': 3136, 'murdered': 3137, 'mounts': 3138, 'morality': 3139, 'moderate': 3140, 'mobs': 3141, 'misunderstanding': 3142, 'minimize': 3143, 'mindset': 3144, 'mecha': 3145, 'matchup': 3146, 'march': 3147, 'marathon': 3148, 'lv': 3149, 'luke': 3150, 'loses': 3151, 'loompa': 3152, 'located': 3153, 'lineup': 3154, 'likewise': 3155, 'lied': 3156, 'lens': 3157, 'lee': 3158, 'lasts': 3159, 'lands': 3160, 'ladder': 3161, 'lacks': 3162, 'kickstarter': 3163, 'kicks': 3164, 'jungler': 3165, 'judgement': 3166, 'johnson': 3167, 'jewish': 3168, 'jason': 3169, 'iso': 3170, 'intensifies': 3171, 'intake': 3172, 'ingredients': 3173, 'indie': 3174, 'index': 3175, 'inclined': 3176, 'illusion': 3177, 'ignores': 3178, 'icon': 3179, 'hypothetical': 3180, 'hyped': 3181, 'hungry': 3182, 'humor': 3183, 'helicopter': 3184, 'happier': 3185, 'handing': 3186, 'handed': 3187, 'guides': 3188, 'greedy': 3189, 'graduate': 3190, 'glory': 3191, 'generated': 3192, 'fund': 3193, 'fucks': 3194, 'freak': 3195, 'formatting': 3196, 'females': 3197, 'ez': 3198, 'extend': 3199, 'explicit': 3200, 'epic': 3201, 'encountered': 3202, 'embarrassed': 3203, 'duration': 3204, 'duck': 3205, 'drove': 3206, 'dressed': 3207, 'discrimination': 3208, 'discount': 3209, 'developing': 3210, 'democracy': 3211, 'dealt': 3212, 'damaging': 3213, 'currency': 3214, 'cure': 3215, 'cruz': 3216, 'cried': 3217, 'creation': 3218, 'crate': 3219, 'crafting': 3220, 'consciousness': 3221, 'confession': 3222, 'concert': 3223, 'concepts': 3224, 'comics': 3225, 'comedy': 3226, 'colour': 3227, 'coins': 3228, 'cock': 3229, 'clients': 3230, 'centre': 3231, 'cautious': 3232, 'catching': 3233, 'buffed': 3234, 'bros': 3235, 'breakfast': 3236, 'bond': 3237, 'bold': 3238, 'blows': 3239, 'bird': 3240, 'beings': 3241, 'beaten': 3242, 'bayern': 3243, 'basics': 3244, 'backstory': 3245, 'authors': 3246, 'atheist': 3247, 'asus': 3248, 'assets': 3249, 'asleep': 3250, 'arrogant': 3251, 'arrested': 3252, 'arrest': 3253, 'arbitrary': 3254, 'appealing': 3255, 'annoyed': 3256, 'aliens': 3257, 'albeit': 3258, 'agent': 3259, 'afternoon': 3260, 'af': 3261, 'adapt': 3262, 'activate': 3263, 'accessible': 3264, 'ac': 3265, 'ab': 3266, '8th': 3267, '800': 3268, '4k': 3269, '32': 3270, '2007': 3271, '1500': 3272, \"''\": 3273, 'wound': 3274, 'wod': 3275, 'wine': 3276, 'wifi': 3277, 'wenn': 3278, 'weaker': 3279, 'warden': 3280, 'walmart': 3281, 'virtually': 3282, 'virginia': 3283, 'van': 3284, 'unfair': 3285, 'ufc': 3286, 'ty': 3287, 'triggers': 3288, 'transportation': 3289, 'tracking': 3290, 'toss': 3291, 'tickets': 3292, 'tha': 3293, 'tension': 3294, 'swear': 3295, 'surprising': 3296, 'supposedly': 3297, 'strings': 3298, 'strikes': 3299, 'stressed': 3300, 'straw': 3301, 'stealth': 3302, 'squad': 3303, 'sprint': 3304, 'spoke': 3305, 'spicy': 3306, 'spaces': 3307, 'soup': 3308, 'solar': 3309, 'societies': 3310, 'sizes': 3311, 'shotgun': 3312, 'shops': 3313, 'shopping': 3314, 'sexually': 3315, 'sequence': 3316, 'sequel': 3317, 'seemingly': 3318, 'seeds': 3319, 'secondly': 3320, 'scheme': 3321, 'samsung': 3322, 'ruined': 3323, 'returns': 3324, 'resulted': 3325, 'repost': 3326, 'remote': 3327, 'remindmebot': 3328, 'reminder': 3329, 'remembered': 3330, 'rejected': 3331, 'reject': 3332, 'recorded': 3333, 'recognition': 3334, 'rebellion': 3335, 'rear': 3336, 'ratings': 3337, 'ranks': 3338, 'qui': 3339, 'punch': 3340, 'pulse': 3341, 'pub': 3342, 'ps3': 3343, 'proposed': 3344, 'promote': 3345, 'profits': 3346, 'processes': 3347, 'primarily': 3348, 'practices': 3349, 'potato': 3350, 'placement': 3351, 'petty': 3352, 'pearl': 3353, 'participating': 3354, 'ought': 3355, 'origin': 3356, 'organic': 3357, 'ops': 3358, 'oompa': 3359, 'olds': 3360, 'observe': 3361, 'muslim': 3362, 'mum': 3363, 'msi': 3364, 'moderator': 3365, 'mile': 3366, 'micro': 3367, 'michigan': 3368, 'messages': 3369, 'mega': 3370, 'mclaren': 3371, 'maxed': 3372, 'matt': 3373, 'lyrics': 3374, 'lsd': 3375, 'loyalty': 3376, 'liquid': 3377, 'lfr': 3378, 'legislation': 3379, 'lawn': 3380, 'landed': 3381, 'lab': 3382, 'joy': 3383, 'joking': 3384, 'jag': 3385, 'involves': 3386, 'invite': 3387, 'intent': 3388, 'intend': 3389, 'injured': 3390, 'improvements': 3391, 'implied': 3392, 'immigration': 3393, 'imgur': 3394, 'iirc': 3395, 'ignored': 3396, 'identical': 3397, 'ideally': 3398, 'horse': 3399, 'horribly': 3400, 'hop': 3401, 'helmet': 3402, 'hateful': 3403, 'harper': 3404, 'grocery': 3405, 'grey': 3406, 'greg': 3407, 'grabbing': 3408, 'governments': 3409, 'germans': 3410, 'gates': 3411, 'freaking': 3412, 'fourth': 3413, 'folk': 3414, 'flavors': 3415, 'fate': 3416, 'fancy': 3417, 'experts': 3418, 'excuses': 3419, 'establish': 3420, 'elected': 3421, 'eastern': 3422, 'ease': 3423, 'ds2': 3424, 'downside': 3425, 'diversity': 3426, 'diverse': 3427, 'disney': 3428, 'david': 3429, 'dated': 3430, 'dan': 3431, 'cycles': 3432, 'criteria': 3433, 'creator': 3434, 'cooldown': 3435, 'conversations': 3436, 'contrast': 3437, 'commitment': 3438, 'commercial': 3439, 'commander': 3440, 'coaches': 3441, 'clip': 3442, 'clever': 3443, 'chip': 3444, 'childhood': 3445, 'chief': 3446, 'cardname': 3447, 'bust': 3448, 'bulk': 3449, 'bud': 3450, 'brief': 3451, 'brave': 3452, 'bounds': 3453, 'blocked': 3454, 'bitter': 3455, 'bits': 3456, 'bid': 3457, 'bi': 3458, 'beginner': 3459, 'batch': 3460, 'bail': 3461, 'backed': 3462, 'automated': 3463, 'apologies': 3464, 'answering': 3465, 'angel': 3466, 'aka': 3467, 'adventure': 3468, 'actor': 3469, 'accomplish': 3470, 'aber': 3471, '33': 3472, 'zen': 3473, 'youre': 3474, 'york': 3475, 'wreck': 3476, 'workout': 3477, 'wondered': 3478, 'woke': 3479, 'witch': 3480, 'winners': 3481, 'whining': 3482, 'welfare': 3483, 'weaknesses': 3484, 'ward': 3485, 'voices': 3486, 'virtual': 3487, 'vice': 3488, 'vendor': 3489, 'utf8': 3490, 'upload': 3491, 'turbo': 3492, 'tune': 3493, 'trusted': 3494, 'traveling': 3495, 'traps': 3496, 'tournament': 3497, 'throat': 3498, 'temporary': 3499, 'talented': 3500, 'tables': 3501, 'subway': 3502, 'styles': 3503, 'stun': 3504, 'striker': 3505, 'sisters': 3506, 'shady': 3507, 'settle': 3508, 'semester': 3509, 'selfish': 3510, 'selection': 3511, 'seed': 3512, 'sections': 3513, 'scoring': 3514, 'scan': 3515, 'rocks': 3516, 'risky': 3517, 'representation': 3518, 'relations': 3519, 'regulations': 3520, 'recording': 3521, 'recommendation': 3522, 'realm': 3523, 'reaching': 3524, 'rated': 3525, 'rat': 3526, 'queue': 3527, 'qbs': 3528, 'privacy': 3529, 'prevents': 3530, 'plug': 3531, 'plat': 3532, 'permission': 3533, 'performing': 3534, 'peak': 3535, 'payment': 3536, 'patterns': 3537, 'patron': 3538, 'pas': 3539, 'overweight': 3540, 'oranges': 3541, 'occurs': 3542, 'obnoxious': 3543, 'nexus': 3544, 'nerf': 3545, 'ndp': 3546, 'murders': 3547, 'movements': 3548, 'modes': 3549, 'michael': 3550, 'medication': 3551, 'meaningful': 3552, 'matched': 3553, 'martin': 3554, 'mars': 3555, 'males': 3556, 'loyal': 3557, 'lowest': 3558, 'loaded': 3559, 'layout': 3560, 'latest': 3561, 'lasted': 3562, 'knives': 3563, 'kiss': 3564, 'kia': 3565, 'jury': 3566, 'jumped': 3567, 'jerk': 3568, 'jealous': 3569, 'iv': 3570, 'ireland': 3571, 'insight': 3572, 'insecure': 3573, 'injuries': 3574, 'industrial': 3575, 'improving': 3576, 'impressed': 3577, 'il': 3578, 'ideology': 3579, 'hung': 3580, 'holds': 3581, 'hip': 3582, 'hearthstone': 3583, 'heading': 3584, 'han': 3585, 'grant': 3586, 'gif': 3587, 'genius': 3588, 'gems': 3589, 'gains': 3590, 'fx': 3591, 'fuckin': 3592, 'frequent': 3593, 'freeze': 3594, 'frames': 3595, 'formal': 3596, 'figuring': 3597, 'felon': 3598, 'excel': 3599, 'entering': 3600, 'enforcement': 3601, 'endless': 3602, 'educated': 3603, 'easiest': 3604, 'dramatic': 3605, 'downvoting': 3606, 'domain': 3607, 'divine': 3608, 'didn': 3609, 'depend': 3610, 'dealer': 3611, 'cups': 3612, 'credits': 3613, 'couch': 3614, 'contracts': 3615, 'container': 3616, 'congratulations': 3617, 'component': 3618, 'complaints': 3619, 'compensation': 3620, 'commenting': 3621, 'clone': 3622, 'climate': 3623, 'clicking': 3624, 'chemical': 3625, 'chains': 3626, 'cdr': 3627, 'caring': 3628, 'carefully': 3629, 'buttons': 3630, 'burned': 3631, 'buddies': 3632, 'bounty': 3633, 'bones': 3634, 'bolt': 3635, 'blocksize': 3636, 'billions': 3637, 'beats': 3638, 'beans': 3639, 'battlefield': 3640, 'backing': 3641, 'avoiding': 3642, 'attempting': 3643, 'asia': 3644, 'arent': 3645, 'annie': 3646, 'additionally': 3647, 'accuse': 3648, 'academic': 3649, 'abusive': 3650, '3ds': 3651, '350': 3652, '26': 3653, '20th': 3654, '2010': 3655, '2008': 3656, 'yards': 3657, 'xd': 3658, 'writers': 3659, 'wealthy': 3660, 'washington': 3661, 'warriors': 3662, 'vocal': 3663, 'visual': 3664, 'villain': 3665, 'village': 3666, 'viewers': 3667, 'vastly': 3668, 'vanguard': 3669, 'vague': 3670, 'vacation': 3671, 'va': 3672, 'utter': 3673, 'unsure': 3674, 'ukraine': 3675, 'tu': 3676, 'triple': 3677, 'trap': 3678, 'tradition': 3679, 'toys': 3680, 'timeline': 3681, 'threatening': 3682, 'therapist': 3683, 'temperature': 3684, 'technique': 3685, 'tap': 3686, 'tail': 3687, 'sweat': 3688, 'sustain': 3689, 'surgery': 3690, 'succeed': 3691, 'stomach': 3692, 'stealing': 3693, 'sp': 3694, 'smith': 3695, 'sliding': 3696, 'singer': 3697, 'shorter': 3698, 'shell': 3699, 'shaped': 3700, 'sexist': 3701, 'scored': 3702, 'satisfied': 3703, 'sam': 3704, 'salary': 3705, 'runes': 3706, 'rooms': 3707, 'rolled': 3708, 'remind': 3709, 'releasing': 3710, 'refer': 3711, 'recon': 3712, 'realizing': 3713, 'rd': 3714, 'raped': 3715, 'rant': 3716, 'quarter': 3717, 'principle': 3718, 'ppl': 3719, 'powered': 3720, 'poke': 3721, 'playoffs': 3722, 'pl': 3723, 'pistol': 3724, 'paypal': 3725, 'par': 3726, 'ordering': 3727, 'opens': 3728, 'notion': 3729, 'nielsen': 3730, 'nerfed': 3731, 'nazi': 3732, 'mutual': 3733, 'mobility': 3734, 'mistaken': 3735, 'minded': 3736, 'meals': 3737, 'masters': 3738, 'managers': 3739, 'macro': 3740, 'lvl': 3741, 'lungs': 3742, 'loans': 3743, 'loads': 3744, 'linking': 3745, 'lighting': 3746, 'legendary': 3747, 'killings': 3748, 'je': 3749, 'ios': 3750, 'insulting': 3751, 'inspired': 3752, 'insert': 3753, 'insanely': 3754, 'inch': 3755, 'impressive': 3756, 'impression': 3757, 'implemented': 3758, 'hollywood': 3759, 'hint': 3760, 'hearts': 3761, 'hatred': 3762, 'habits': 3763, 'gm': 3764, 'ghost': 3765, 'genuine': 3766, 'generate': 3767, 'gamergate': 3768, 'frozen': 3769, 'frequency': 3770, 'fluid': 3771, 'fleet': 3772, 'flare': 3773, 'finger': 3774, 'financially': 3775, 'exceptions': 3776, 'eve': 3777, 'equipped': 3778, 'employment': 3779, 'eliminate': 3780, 'elder': 3781, 'eight': 3782, 'efforts': 3783, 'edited': 3784, 'dynamic': 3785, 'downvotes': 3786, 'distinction': 3787, 'directed': 3788, 'di': 3789, 'developers': 3790, 'dev': 3791, 'describing': 3792, 'dependent': 3793, 'denied': 3794, 'deeper': 3795, 'dawn': 3796, 'courses': 3797, 'convincing': 3798, 'convenient': 3799, 'contributing': 3800, 'contrary': 3801, 'consuming': 3802, 'compromise': 3803, 'cloud': 3804, 'climbing': 3805, 'chris': 3806, 'chores': 3807, 'buyer': 3808, 'bullets': 3809, 'brush': 3810, 'bronze': 3811, 'breast': 3812, 'bread': 3813, 'brazil': 3814, 'bothers': 3815, 'bone': 3816, 'blog': 3817, 'binary': 3818, 'betting': 3819, 'belief': 3820, 'begins': 3821, 'banks': 3822, 'attract': 3823, 'attempted': 3824, 'atk': 3825, 'athletes': 3826, 'assumptions': 3827, 'arrived': 3828, 'apologize': 3829, 'announced': 3830, 'alliance': 3831, 'aircraft': 3832, 'ages': 3833, 'africa': 3834, 'advocate': 3835, 'adequate': 3836, 'addressing': 3837, 'accidents': 3838, 'abusing': 3839, 'abstract': 3840, 'abandoned': 3841, '34': 3842, '2k': 3843, '2011': 3844, 'wrestling': 3845, 'weekends': 3846, 'variables': 3847, 'utterly': 3848, 'ugh': 3849, 'trolling': 3850, 'tpp': 3851, 'thankfully': 3852, 'techniques': 3853, 'tab': 3854, 'syria': 3855, 'suits': 3856, 'sticks': 3857, 'solved': 3858, 'soda': 3859, 'sniper': 3860, 'skype': 3861, 'sink': 3862, 'shirts': 3863, 'session': 3864, 'sentiment': 3865, 'seal': 3866, 'scope': 3867, 'scientists': 3868, 'scientist': 3869, 'roof': 3870, 'roads': 3871, 'risks': 3872, 'replies': 3873, 'releases': 3874, 'registered': 3875, 'recipe': 3876, 'racing': 3877, 'protein': 3878, 'prompt': 3879, 'processing': 3880, 'platforms': 3881, 'pipe': 3882, 'periods': 3883, 'patients': 3884, 'pathetic': 3885, 'passes': 3886, 'panel': 3887, 'paladin': 3888, 'ours': 3889, 'organized': 3890, 'occasional': 3891, 'noticeable': 3892, 'naked': 3893, 'motion': 3894, 'monthly': 3895, 'monsters': 3896, 'minion': 3897, 'mining': 3898, 'luxury': 3899, 'lovely': 3900, 'lip': 3901, 'lighter': 3902, 'leaning': 3903, 'lean': 3904, 'lb': 3905, 'landlord': 3906, 'landing': 3907, 'laid': 3908, 'judging': 3909, 'journey': 3910, 'joining': 3911, 'joe': 3912, 'ja': 3913, 'iraq': 3914, 'investing': 3915, 'interactions': 3916, 'instances': 3917, 'inevitably': 3918, 'indication': 3919, 'independent': 3920, 'hurting': 3921, 'holiday': 3922, 'hills': 3923, 'heck': 3924, 'gb': 3925, 'functions': 3926, 'franchise': 3927, 'formed': 3928, 'exp': 3929, 'entirety': 3930, 'entertaining': 3931, 'downtown': 3932, 'dominant': 3933, 'domestic': 3934, 'des': 3935, 'depressed': 3936, 'defender': 3937, 'cube': 3938, 'county': 3939, 'counseling': 3940, 'corruption': 3941, 'copies': 3942, 'cooperation': 3943, 'consensus': 3944, 'confusion': 3945, 'conclusions': 3946, 'completed': 3947, 'communities': 3948, 'comfort': 3949, 'codes': 3950, 'chelsea': 3951, 'carries': 3952, 'cannon': 3953, 'cam': 3954, 'bow': 3955, 'boobs': 3956, 'blanket': 3957, 'belong': 3958, 'baseball': 3959, 'automatic': 3960, 'atmosphere': 3961, 'accent': 3962, 'absence': 3963, 'zombie': 3964, 'worker': 3965, 'widely': 3966, 'wheels': 3967, 'violation': 3968, 'victory': 3969, 'upcoming': 3970, 'uni': 3971, 'ui': 3972, 'uh': 3973, 'token': 3974, 'timing': 3975, 'threatened': 3976, 'tall': 3977, 'surrounding': 3978, 'subtle': 3979, 'submitting': 3980, 'structures': 3981, 'stones': 3982, 'stolen': 3983, 'slots': 3984, 'sins': 3985, 'shelf': 3986, 'seeking': 3987, 'secure': 3988, 'searching': 3989, 'screenshot': 3990, 'runner': 3991, 'river': 3992, 'returning': 3993, 'resubmit': 3994, 'resort': 3995, 'regions': 3996, 'refused': 3997, 'ref': 3998, 'reduction': 3999, 'rb': 4000, 'ranged': 4001, 'qualified': 4002, 'properties': 4003, 'procedure': 4004, 'preferred': 4005, 'pilot': 4006, 'pays': 4007, 'partners': 4008, 'paragraph': 4009, 'overpowered': 4010, 'om': 4011, 'npc': 4012, 'nicotine': 4013, 'mystery': 4014, 'motherboard': 4015, 'mit': 4016, 'mill': 4017, 'metric': 4018, 'meg': 4019, 'maintaining': 4020, 'lmao': 4021, 'limits': 4022, 'lesson': 4023, 'laughed': 4024, 'languages': 4025, 'knee': 4026, 'kicking': 4027, 'keto': 4028, 'journalists': 4029, 'jeans': 4030, 'jay': 4031, 'intentions': 4032, 'inherently': 4033, 'houses': 4034, 'hiring': 4035, 'hating': 4036, 'harmful': 4037, 'hall': 4038, 'halfway': 4039, 'gut': 4040, 'guards': 4041, 'grass': 4042, 'grandma': 4043, 'glasses': 4044, 'george': 4045, 'generic': 4046, 'gaining': 4047, 'frustrated': 4048, 'forum': 4049, 'flawed': 4050, 'fixing': 4051, 'fitness': 4052, 'fi': 4053, 'feminist': 4054, 'fbi': 4055, 'exit': 4056, 'exhaust': 4057, 'ethical': 4058, 'engineers': 4059, 'ed': 4060, 'ears': 4061, 'dragons': 4062, 'dose': 4063, 'discussing': 4064, 'devs': 4065, 'desperate': 4066, 'demands': 4067, 'degrees': 4068, 'dates': 4069, 'cuts': 4070, 'curve': 4071, 'creates': 4072, 'council': 4073, 'corrupt': 4074, 'conservatives': 4075, 'confirm': 4076, 'comparable': 4077, 'cheers': 4078, 'carrier': 4079, 'buried': 4080, 'brutal': 4081, 'breathing': 4082, 'billion': 4083, 'bf': 4084, 'beach': 4085, 'bat': 4086, 'backwards': 4087, 'attraction': 4088, 'ate': 4089, 'arts': 4090, 'apparent': 4091, 'amd': 4092, 'airport': 4093, 'affects': 4094, 'advise': 4095, 'addict': 4096, '2012': 4097, 'zombies': 4098, 'yard': 4099, 'worthless': 4100, 'wings': 4101, 'whatsoever': 4102, 'waves': 4103, 'warlock': 4104, 'walker': 4105, 'visited': 4106, 'vi': 4107, 'unknown': 4108, 'ultra': 4109, 'tricky': 4110, 'trailer': 4111, 'tongue': 4112, 'tolerance': 4113, 'tits': 4114, 'territory': 4115, 'television': 4116, 'symbol': 4117, 'supporters': 4118, 'sucked': 4119, 'studio': 4120, 'strict': 4121, 'stranger': 4122, 'stood': 4123, 'stays': 4124, 'stadium': 4125, 'spin': 4126, 'specs': 4127, 'sounded': 4128, 'silent': 4129, 'shoe': 4130, 'shadows': 4131, 'sexsells': 4132, 'severely': 4133, 'seven': 4134, 'sessions': 4135, 'seattle': 4136, 'seats': 4137, 'sacrifice': 4138, 'routine': 4139, 'rope': 4140, 'reveal': 4141, 'restaurants': 4142, 'responses': 4143, 'resource': 4144, 'repair': 4145, 'rep': 4146, 'regret': 4147, 'refers': 4148, 'reducing': 4149, 'reasonably': 4150, 'racists': 4151, 'pros': 4152, 'progression': 4153, 'prepare': 4154, 'practical': 4155, 'pot': 4156, 'poster': 4157, 'poll': 4158, 'plants': 4159, 'planes': 4160, 'pirates': 4161, 'pickup': 4162, 'phrase': 4163, 'participate': 4164, 'occurred': 4165, 'nyc': 4166, 'nurse': 4167, 'nowadays': 4168, 'northern': 4169, 'nightmare': 4170, 'networks': 4171, 'needing': 4172, 'nato': 4173, 'morally': 4174, 'minimal': 4175, 'midrange': 4176, 'mexican': 4177, 'mechanism': 4178, 'manufacturing': 4179, 'mall': 4180, 'listened': 4181, 'leagues': 4182, 'lastly': 4183, 'lacking': 4184, 'label': 4185, 'justified': 4186, 'isaac': 4187, 'involve': 4188, 'invited': 4189, 'intelligence': 4190, 'insult': 4191, 'inches': 4192, 'incentive': 4193, 'hunting': 4194, 'hunters': 4195, 'homes': 4196, 'hobby': 4197, 'hired': 4198, 'har': 4199, 'haki': 4200, 'guilt': 4201, 'furthermore': 4202, 'friendship': 4203, 'fool': 4204, 'folder': 4205, 'firing': 4206, 'filling': 4207, 'faces': 4208, 'extension': 4209, 'entertainment': 4210, 'emergency': 4211, 'ego': 4212, 'editing': 4213, 'earned': 4214, 'drawn': 4215, 'document': 4216, 'distribution': 4217, 'discussions': 4218, 'digital': 4219, 'dass': 4220, 'cuz': 4221, 'continued': 4222, 'companion': 4223, 'clutch': 4224, 'christmas': 4225, 'charging': 4226, 'carrying': 4227, 'campus': 4228, 'brilliant': 4229, 'blaming': 4230, 'bills': 4231, 'beef': 4232, 'awareness': 4233, 'av': 4234, 'australia': 4235, 'arsenal': 4236, 'arrive': 4237, 'armed': 4238, 'answered': 4239, 'animation': 4240, 'admins': 4241, 'adjust': 4242, 'acid': 4243, 'accuracy': 4244, 'accepting': 4245, '`': 4246, '51': 4247, 'writer': 4248, 'wr': 4249, 'whoever': 4250, 'wealth': 4251, 'weakness': 4252, 'wasting': 4253, 'walls': 4254, 'void': 4255, 'vet': 4256, 'usual': 4257, 'unreasonable': 4258, 'unhealthy': 4259, 'twitter': 4260, 'turret': 4261, 'tuesday': 4262, 'topics': 4263, 'ti': 4264, 'therapy': 4265, 'theft': 4266, 'tbc': 4267, 'sufficient': 4268, 'subreddits': 4269, 'strip': 4270, 'streets': 4271, 'stops': 4272, 'steve': 4273, 'stat': 4274, 'spectrum': 4275, 'skilled': 4276, 'signing': 4277, 'shall': 4278, 'scroll': 4279, 'scenarios': 4280, 'saves': 4281, 'roster': 4282, 'rose': 4283, 'rift': 4284, 'responding': 4285, 'requests': 4286, 'repeated': 4287, 'regard': 4288, 'refugees': 4289, 'recover': 4290, 'realistic': 4291, 'ray': 4292, 'rating': 4293, 'purchased': 4294, 'propaganda': 4295, 'producing': 4296, 'presented': 4297, 'portal': 4298, 'philosophy': 4299, 'partially': 4300, 'outright': 4301, 'navy': 4302, 'nasty': 4303, 'motivated': 4304, 'mo': 4305, 'mexico': 4306, 'meanwhile': 4307, 'lifetime': 4308, 'lesser': 4309, 'july': 4310, 'jedi': 4311, 'isis': 4312, 'invested': 4313, 'interviews': 4314, 'intentionally': 4315, 'int': 4316, 'illness': 4317, 'hunt': 4318, 'hotel': 4319, 'horror': 4320, 'holes': 4321, 'hitler': 4322, 'hes': 4323, 'hdd': 4324, 'hd': 4325, 'hates': 4326, 'handling': 4327, 'greatly': 4328, 'goddamn': 4329, 'forums': 4330, 'follows': 4331, 'fighters': 4332, 'feminism': 4333, 'faq': 4334, 'failing': 4335, 'extended': 4336, 'explore': 4337, 'entitled': 4338, 'employer': 4339, 'egg': 4340, 'efficiency': 4341, 'ear': 4342, 'dump': 4343, 'dreams': 4344, 'disgusting': 4345, 'diamond': 4346, 'deeply': 4347, 'counts': 4348, 'controls': 4349, 'contain': 4350, 'competing': 4351, 'comp': 4352, 'communication': 4353, 'commentary': 4354, 'chill': 4355, 'charged': 4356, 'channels': 4357, 'ce': 4358, 'capital': 4359, 'buffs': 4360, 'bubble': 4361, 'boston': 4362, 'blah': 4363, 'beneficial': 4364, 'beauty': 4365, 'bang': 4366, 'bags': 4367, 'atleast': 4368, 'associated': 4369, 'appreciated': 4370, 'anytime': 4371, 'allies': 4372, 'affirmative': 4373, 'addiction': 4374, 'activities': 4375, '970': 4376, 'wheel': 4377, 'versus': 4378, 'vehicles': 4379, 've': 4380, 'union': 4381, 'transactions': 4382, 'torn': 4383, 'titan': 4384, 'teeth': 4385, 'tactics': 4386, 'suggesting': 4387, 'stopping': 4388, 'stacks': 4389, 'sooner': 4390, 'soccer': 4391, 'slaves': 4392, 'slave': 4393, 'sexism': 4394, 'seller': 4395, 'searched': 4396, 'screaming': 4397, 'saturday': 4398, 'ridiculously': 4399, 'reverse': 4400, 'reset': 4401, 'reminds': 4402, 'religions': 4403, 'recovery': 4404, 'python': 4405, 'produced': 4406, 'privilege': 4407, 'print': 4408, 'prince': 4409, 'pretending': 4410, 'pizza': 4411, 'perceived': 4412, 'peoples': 4413, 'patches': 4414, 'overly': 4415, 'openly': 4416, 'omg': 4417, 'ocean': 4418, 'objects': 4419, 'neat': 4420, 'nearby': 4421, 'mmo': 4422, 'miserable': 4423, 'messed': 4424, 'medicine': 4425, 'mature': 4426, 'marijuana': 4427, 'makeup': 4428, 'loving': 4429, 'liking': 4430, 'leveling': 4431, 'legacy': 4432, 'largest': 4433, 'kitchen': 4434, 'killer': 4435, 'kidding': 4436, 'jim': 4437, 'iphone': 4438, 'interpretation': 4439, 'intention': 4440, 'intel': 4441, 'inner': 4442, 'inferior': 4443, 'importance': 4444, 'implies': 4445, 'i7': 4446, 'hopes': 4447, 'historical': 4448, 'heaven': 4449, 'harsh': 4450, 'hardest': 4451, 'handful': 4452, 'grounds': 4453, 'gross': 4454, 'gravity': 4455, 'grain': 4456, 'gem': 4457, 'gap': 4458, 'gamer': 4459, 'frankly': 4460, 'formula': 4461, 'flame': 4462, 'fields': 4463, 'explicitly': 4464, 'em': 4465, 'downvote': 4466, 'director': 4467, 'demon': 4468, 'demanding': 4469, 'defending': 4470, 'dedicated': 4471, 'deciding': 4472, 'danger': 4473, 'crown': 4474, 'cousin': 4475, 'controller': 4476, 'conspiracy': 4477, 'confederate': 4478, 'column': 4479, 'clock': 4480, 'climb': 4481, 'cigarettes': 4482, 'christianity': 4483, 'cheat': 4484, 'chase': 4485, 'champ': 4486, 'butter': 4487, 'burden': 4488, 'buildings': 4489, 'bucks': 4490, 'brackets': 4491, 'bismark': 4492, 'bikes': 4493, 'ancient': 4494, 'al': 4495, 'agenda': 4496, 'actors': 4497, 'absurd': 4498, '8gb': 4499, '5k': 4500, '250': 4501, 'woods': 4502, 'whom': 4503, 'wallet': 4504, 'voluntary': 4505, 'vault': 4506, 'vanessa': 4507, 'username': 4508, 'updated': 4509, 'troll': 4510, 'trees': 4511, 'theres': 4512, 'terribly': 4513, 'te': 4514, 'switched': 4515, 'summon': 4516, 'successfully': 4517, 'studying': 4518, 'solely': 4519, 'signal': 4520, 'shared': 4521, 'sensitive': 4522, 'sec': 4523, 'sand': 4524, 'rugby': 4525, 'riot': 4526, 'rig': 4527, 'replacement': 4528, 'receiving': 4529, 'reactions': 4530, 'qualify': 4531, 'pve': 4532, 'punishment': 4533, 'ps': 4534, 'provides': 4535, 'poverty': 4536, 'pokemon': 4537, 'pocket': 4538, 'plant': 4539, 'pirate': 4540, 'pills': 4541, 'pic': 4542, 'penis': 4543, 'pen': 4544, 'painful': 4545, 'officer': 4546, 'offended': 4547, 'mentioning': 4548, 'measures': 4549, 'mc': 4550, 'manual': 4551, 'london': 4552, 'layer': 4553, 'kurt': 4554, 'junk': 4555, 'joined': 4556, 'jet': 4557, 'introduce': 4558, 'intro': 4559, 'internal': 4560, 'intense': 4561, 'instant': 4562, 'india': 4563, 'incident': 4564, 'importantly': 4565, 'immediate': 4566, 'i5': 4567, 'honesty': 4568, 'hockey': 4569, 'heroic': 4570, 'handled': 4571, 'habit': 4572, 'guaranteed': 4573, 'funds': 4574, 'frustration': 4575, 'fruit': 4576, 'footage': 4577, 'expression': 4578, 'evening': 4579, 'ethics': 4580, 'entered': 4581, 'engines': 4582, 'druid': 4583, 'dozen': 4584, 'division': 4585, 'discussed': 4586, 'devil': 4587, 'desktop': 4588, 'counters': 4589, 'continuing': 4590, 'confirmed': 4591, 'components': 4592, 'comic': 4593, 'coat': 4594, 'cherry': 4595, 'challenging': 4596, 'btc': 4597, 'breath': 4598, 'brands': 4599, 'blink': 4600, 'biased': 4601, 'bench': 4602, 'bear': 4603, 'bases': 4604, 'aspects': 4605, 'applications': 4606, 'ammo': 4607, 'admitted': 4608, 'addressed': 4609, '65': 4610, '2x': 4611, '120': 4612, 'yelling': 4613, 'walks': 4614, 'voters': 4615, 'var': 4616, 'upgrades': 4617, 'tracks': 4618, 'tbh': 4619, 'task': 4620, 'subjective': 4621, 'smooth': 4622, 'smile': 4623, 'skins': 4624, 'shootings': 4625, 'seat': 4626, 'safer': 4627, 'rice': 4628, 'returned': 4629, 'retail': 4630, 'restrictions': 4631, 'restaurant': 4632, 'reputation': 4633, 'replied': 4634, 'replacing': 4635, 'ranking': 4636, 'randomly': 4637, 'punished': 4638, 'phantom': 4639, 'perception': 4640, 'percent': 4641, 'passion': 4642, 'para': 4643, 'packs': 4644, 'operation': 4645, 'novel': 4646, 'mountain': 4647, 'moments': 4648, 'minions': 4649, 'metahumans': 4650, 'mario': 4651, 'luckily': 4652, 'lobby': 4653, 'literal': 4654, 'lift': 4655, 'island': 4656, 'indian': 4657, 'improvement': 4658, 'hook': 4659, 'homicide': 4660, 'hire': 4661, 'headphones': 4662, 'harassment': 4663, 'gf': 4664, 'gen': 4665, 'foundation': 4666, 'forms': 4667, 'flavor': 4668, 'feminists': 4669, 'fastest': 4670, 'fallout': 4671, 'faced': 4672, 'external': 4673, 'exposed': 4674, 'emotion': 4675, 'ember': 4676, 'dudes': 4677, 'doors': 4678, 'desk': 4679, 'defined': 4680, 'database': 4681, 'dare': 4682, 'dance': 4683, 'crisis': 4684, 'congress': 4685, 'collapse': 4686, 'clothing': 4687, 'closely': 4688, 'christians': 4689, 'chocolate': 4690, 'chick': 4691, 'capture': 4692, 'caps': 4693, 'canon': 4694, 'boxes': 4695, 'boot': 4696, 'boom': 4697, 'babies': 4698, 'axe': 4699, 'asks': 4700, 'alpha': 4701, 'advertising': 4702, 'yup': 4703, 'wasted': 4704, 'wages': 4705, 'usb': 4706, 'unnecessary': 4707, 'transition': 4708, 'timer': 4709, 'thick': 4710, 'tez': 4711, 'texas': 4712, 'tests': 4713, 'teammates': 4714, 'tags': 4715, 'steel': 4716, 'stating': 4717, 'speakers': 4718, 'sole': 4719, 'soldiers': 4720, 'shoulder': 4721, 'selected': 4722, 'scout': 4723, 'rough': 4724, 'rolls': 4725, 'reviews': 4726, 'reported': 4727, 'remains': 4728, 'records': 4729, 'purple': 4730, 'publicly': 4731, 'providing': 4732, 'prime': 4733, 'por': 4734, 'pattern': 4735, 'parenthood': 4736, 'panic': 4737, 'owning': 4738, 'operating': 4739, 'object': 4740, 'nicht': 4741, 'ne': 4742, 'nah': 4743, 'motivation': 4744, 'moon': 4745, 'mood': 4746, 'mechanic': 4747, 'materials': 4748, 'mate': 4749, 'locations': 4750, 'les': 4751, 'latter': 4752, 'islam': 4753, 'infinite': 4754, 'incorrect': 4755, 'implying': 4756, 'humanity': 4757, 'guitar': 4758, 'goods': 4759, 'fox': 4760, 'foods': 4761, 'firm': 4762, 'firearm': 4763, 'filter': 4764, 'favourite': 4765, 'existed': 4766, 'ensure': 4767, 'encounter': 4768, 'emotionally': 4769, 'dozens': 4770, 'dmg': 4771, 'discovered': 4772, 'determined': 4773, 'deny': 4774, 'den': 4775, 'dem': 4776, 'damned': 4777, 'creatures': 4778, 'continues': 4779, 'contains': 4780, 'coast': 4781, 'chosen': 4782, 'bridge': 4783, 'blast': 4784, 'believed': 4785, 'batteries': 4786, 'austin': 4787, 'api': 4788, 'ap': 4789, 'angle': 4790, 'aa': 4791, '95': 4792, '5th': 4793, 'yo': 4794, 'valve': 4795, 'upgraded': 4796, 'ultimate': 4797, 'trips': 4798, 'touching': 4799, 'threw': 4800, 'survival': 4801, 'suffering': 4802, 'steal': 4803, 'ssd': 4804, 'spike': 4805, 'spawn': 4806, 'soft': 4807, 'sky': 4808, 'sharing': 4809, 'ryan': 4810, 'root': 4811, 'revolution': 4812, 'resistance': 4813, 'requirement': 4814, 'reports': 4815, 'reporting': 4816, 'remaining': 4817, 'rational': 4818, 'ratio': 4819, 'racial': 4820, 'quotes': 4821, 'quiet': 4822, 'pride': 4823, 'premium': 4824, 'pointless': 4825, 'pitch': 4826, 'piss': 4827, 'pin': 4828, 'owns': 4829, 'mirror': 4830, 'mike': 4831, 'mac': 4832, 'lies': 4833, 'korea': 4834, 'jokes': 4835, 'jeg': 4836, 'israel': 4837, 'interaction': 4838, 'innocent': 4839, 'infrastructure': 4840, 'identify': 4841, 'homeless': 4842, 'hill': 4843, 'guidelines': 4844, 'glorious': 4845, 'funding': 4846, 'forgive': 4847, 'fashion': 4848, 'farming': 4849, 'faction': 4850, 'experiment': 4851, 'errors': 4852, 'equality': 4853, 'dungeon': 4854, 'delivery': 4855, 'decrease': 4856, 'cooler': 4857, 'consumer': 4858, 'connections': 4859, 'confusing': 4860, 'compliment': 4861, 'christ': 4862, 'chapter': 4863, 'candidates': 4864, 'believing': 4865, 'battles': 4866, 'bass': 4867, 'aggro': 4868, 'affected': 4869, 'abortion': 4870, '150': 4871, 'weekly': 4872, 'wedding': 4873, 'wave': 4874, 'ur': 4875, 'unaltered': 4876, 'tweetposter': 4877, 'tonight': 4878, 'tied': 4879, 'tie': 4880, 'threats': 4881, 'tends': 4882, 'targeted': 4883, 'starter': 4884, 'stack': 4885, 'sight': 4886, 'seek': 4887, 'russian': 4888, 'roughly': 4889, 'roles': 4890, 'regen': 4891, 'rain': 4892, 'qb': 4893, 'promise': 4894, 'preference': 4895, 'pray': 4896, 'pour': 4897, 'plastic': 4898, 'pics': 4899, 'phase': 4900, 'oz': 4901, 'ourselves': 4902, 'opportunities': 4903, 'occur': 4904, 'objective': 4905, 'named': 4906, 'meal': 4907, 'll': 4908, 'lbs': 4909, 'jenner': 4910, 'ish': 4911, 'ip': 4912, 'hurts': 4913, 'hr': 4914, 'housing': 4915, 'hiding': 4916, 'genre': 4917, 'foster': 4918, 'forest': 4919, 'falls': 4920, 'expert': 4921, 'enjoyable': 4922, 'element': 4923, 'dodge': 4924, 'divorce': 4925, 'dies': 4926, 'destiny': 4927, 'demo': 4928, 'deliver': 4929, 'decides': 4930, 'debt': 4931, 'crash': 4932, 'complaint': 4933, 'combined': 4934, 'combination': 4935, 'collect': 4936, 'capitalism': 4937, 'bush': 4938, 'bright': 4939, 'bosses': 4940, 'bombs': 4941, 'bias': 4942, 'believes': 4943, 'bans': 4944, 'awhile': 4945, 'attached': 4946, 'att': 4947, 'assumption': 4948, 'artists': 4949, 'arc': 4950, 'applies': 4951, 'agency': 4952, '20report': 4953, '0aplease': 4954, 'worthy': 4955, 'warning': 4956, 'twist': 4957, 'troops': 4958, 'titles': 4959, 'tempo': 4960, 'switching': 4961, 'sudden': 4962, 'struggling': 4963, 'strongly': 4964, 'solutions': 4965, 'sleeping': 4966, 'signed': 4967, 'sie': 4968, 'scratch': 4969, 'scenes': 4970, 'router': 4971, 'rounds': 4972, 'removal': 4973, 'regards': 4974, 'reduced': 4975, 'raising': 4976, 'punish': 4977, 'pump': 4978, 'protection': 4979, 'paul': 4980, 'pages': 4981, 'organization': 4982, 'offering': 4983, 'missions': 4984, 'mic': 4985, 'mentality': 4986, 'meh': 4987, 'lag': 4988, 'knock': 4989, 'interview': 4990, 'intelligent': 4991, 'huh': 4992, 'guarantee': 4993, 'gamers': 4994, 'focusing': 4995, 'films': 4996, 'feeding': 4997, 'engineering': 4998, 'employee': 4999, 'ebay': 5000, 'driven': 5001, 'drawing': 5002, 'disease': 5003, 'cream': 5004, 'consoles': 5005, 'citizen': 5006, 'cake': 5007, 'bs': 5008, 'bored': 5009, 'blown': 5010, 'belt': 5011, 'bars': 5012, 'badly': 5013, 'alt': 5014, 'acknowledge': 5015, '45': 5016, '400': 5017, '3d': 5018, '2000': 5019, 'wire': 5020, 'wet': 5021, 'weather': 5022, 'utility': 5023, 'understood': 5024, 'til': 5025, 'supported': 5026, 'suggested': 5027, 'studies': 5028, 'stands': 5029, 'stance': 5030, 'stable': 5031, 'socialist': 5032, 'slight': 5033, 'signs': 5034, 'shooter': 5035, 'screwed': 5036, 'san': 5037, 'recognize': 5038, 'reached': 5039, 'raids': 5040, 'perform': 5041, 'overwhelming': 5042, 'nights': 5043, 'neighborhood': 5044, 'mount': 5045, 'mmr': 5046, 'merely': 5047, 'melee': 5048, 'lists': 5049, 'knight': 5050, 'italy': 5051, 'ist': 5052, 'inventory': 5053, 'introduced': 5054, 'ikke': 5055, 'ignorance': 5056, 'hundred': 5057, 'hidden': 5058, 'granted': 5059, 'forcing': 5060, 'finds': 5061, 'feminine': 5062, 'fee': 5063, 'facing': 5064, 'everyday': 5065, 'est': 5066, 'england': 5067, 'engage': 5068, 'enforce': 5069, 'emotions': 5070, 'elements': 5071, 'doc': 5072, 'dig': 5073, 'cultural': 5074, 'criticism': 5075, 'craft': 5076, 'crack': 5077, 'counting': 5078, 'controlled': 5079, 'connected': 5080, 'communicate': 5081, 'coach': 5082, 'cleaning': 5083, 'butt': 5084, 'bro': 5085, 'branch': 5086, 'bottle': 5087, 'appearance': 5088, 'appeal': 5089, 'analysis': 5090, 'advance': 5091, 'admin': 5092, '600': 5093, '00': 5094, 'wipe': 5095, 'wash': 5096, 'upper': 5097, 'und': 5098, 'uncomfortable': 5099, 'ult': 5100, 'trolls': 5101, 'toward': 5102, 'sunday': 5103, 'storage': 5104, 'stayed': 5105, 'spots': 5106, 'spells': 5107, 'spam': 5108, 'sometime': 5109, 'smash': 5110, 'slower': 5111, 'sin': 5112, 'served': 5113, 'select': 5114, 'sample': 5115, 'retarded': 5116, 'recall': 5117, 'pregnant': 5118, 'permanent': 5119, 'occasionally': 5120, 'muscle': 5121, 'mr': 5122, 'minds': 5123, 'med': 5124, 'maximum': 5125, 'manner': 5126, 'maintenance': 5127, 'lunch': 5128, 'lights': 5129, 'liberals': 5130, 'legit': 5131, 'identity': 5132, 'gpu': 5133, 'generation': 5134, 'gate': 5135, 'french': 5136, 'flip': 5137, 'fingers': 5138, 'fiction': 5139, 'encourage': 5140, 'dungeons': 5141, 'dirt': 5142, 'creepy': 5143, 'corporate': 5144, 'cooking': 5145, 'clue': 5146, 'cents': 5147, 'catholic': 5148, 'category': 5149, 'captain': 5150, 'burning': 5151, 'brings': 5152, 'birthday': 5153, 'beta': 5154, 'banning': 5155, 'attracted': 5156, 'attacking': 5157, 'alien': 5158, 'activity': 5159, '2013': 5160, 'z': 5161, 'whilst': 5162, 'um': 5163, 'ugly': 5164, 'truck': 5165, 'spring': 5166, 'species': 5167, 'slot': 5168, 'shadow': 5169, 'severe': 5170, 'secondary': 5171, 'sea': 5172, 'rifle': 5173, 'repeat': 5174, 'purposes': 5175, 'ps4': 5176, 'progressive': 5177, 'priority': 5178, 'practically': 5179, 'physically': 5180, 'outcome': 5181, 'october': 5182, 'nuts': 5183, 'nervous': 5184, 'narrative': 5185, 'min': 5186, 'marketing': 5187, 'mandatory': 5188, 'loop': 5189, 'lo': 5190, 'invest': 5191, 'informed': 5192, 'individuals': 5193, 'increases': 5194, 'idiots': 5195, 'happiness': 5196, 'halo': 5197, 'ha': 5198, 'greatest': 5199, 'garden': 5200, 'fought': 5201, 'fed': 5202, 'et': 5203, 'dwellings': 5204, 'drinks': 5205, 'download': 5206, 'dm': 5207, 'disappointed': 5208, 'description': 5209, 'define': 5210, 'cutting': 5211, 'criminals': 5212, 'creep': 5213, 'cook': 5214, 'clan': 5215, 'beast': 5216, 'bare': 5217, 'assholes': 5218, 'asphalt': 5219, 'android': 5220, 'afterwards': 5221, 'addition': 5222, 'adc': 5223, '360': 5224, '2014': 5225, 'wtf': 5226, 'versions': 5227, 'toxic': 5228, 'tone': 5229, 'tea': 5230, 'struggle': 5231, 'stone': 5232, 'statistics': 5233, 'som': 5234, 'smell': 5235, 'sized': 5236, 'shooters': 5237, 'screw': 5238, 'prepared': 5239, 'parent': 5240, 'opponents': 5241, 'odds': 5242, 'obama': 5243, 'nuclear': 5244, 'newer': 5245, 'muslims': 5246, 'multi': 5247, 'loves': 5248, 'laughing': 5249, 'lately': 5250, 'j': 5251, 'investment': 5252, 'initially': 5253, 'incredible': 5254, 'honor': 5255, 'hmm': 5256, 'harry': 5257, 'guard': 5258, 'growth': 5259, 'grind': 5260, 'france': 5261, 'fps': 5262, 'figures': 5263, 'exciting': 5264, 'electric': 5265, 'efficient': 5266, 'effectively': 5267, 'deserves': 5268, 'delay': 5269, 'def': 5270, 'da': 5271, 'covers': 5272, 'consistently': 5273, 'consequences': 5274, 'committed': 5275, 'circle': 5276, 'chest': 5277, 'carbs': 5278, 'california': 5279, 'boys': 5280, 'bodies': 5281, 'bitcoin': 5282, 'benner': 5283, 'balls': 5284, 'attacked': 5285, 'arena': 5286, 'apps': 5287, 'anxiety': 5288, 'anger': 5289, 'acts': 5290, 'vehicle': 5291, 'variety': 5292, 'ups': 5293, 'traditional': 5294, 'teachers': 5295, 'suffer': 5296, 'solve': 5297, 'socialism': 5298, 'rocket': 5299, 'restrict': 5300, 'refuse': 5301, 'react': 5302, 'raw': 5303, 'proven': 5304, 'previously': 5305, 'og': 5306, 'offers': 5307, 'nowhere': 5308, 'nations': 5309, 'monitor': 5310, 'microsoft': 5311, 'letters': 5312, 'kicked': 5313, 'hanging': 5314, 'guessing': 5315, 'gtx': 5316, 'giveaway': 5317, 'gift': 5318, 'genuinely': 5319, 'frequently': 5320, 'expectations': 5321, 'enjoying': 5322, 'edition': 5323, 'doctors': 5324, 'desire': 5325, 'democratic': 5326, 'deaths': 5327, 'das': 5328, 'cs': 5329, 'creative': 5330, 'computers': 5331, 'compete': 5332, 'clubs': 5333, 'closest': 5334, 'canadian': 5335, 'calm': 5336, 'boots': 5337, 'bell': 5338, 'beating': 5339, 'backup': 5340, 'awkward': 5341, 'asian': 5342, 'artist': 5343, 'amounts': 5344, 'adults': 5345, '4th': 5346, '28': 5347, 'warm': 5348, 'voted': 5349, 'thousand': 5350, 'thin': 5351, 'surely': 5352, 'stretch': 5353, 'southern': 5354, 'skip': 5355, 'similarly': 5356, 'si': 5357, 'shipping': 5358, 'serve': 5359, 'september': 5360, 'sees': 5361, 'salt': 5362, 'raiding': 5363, 'physics': 5364, 'patient': 5365, 'pants': 5366, 'ownership': 5367, 'native': 5368, 'miners': 5369, 'methods': 5370, 'mage': 5371, 'machines': 5372, 'lawyer': 5373, 'juice': 5374, 'interact': 5375, 'installed': 5376, 'increasing': 5377, 'ideal': 5378, 'hence': 5379, 'gained': 5380, 'flow': 5381, 'envy': 5382, 'eggs': 5383, 'dust': 5384, 'dual': 5385, 'display': 5386, 'critical': 5387, 'crit': 5388, 'construction': 5389, 'consent': 5390, 'connect': 5391, 'con': 5392, 'coffee': 5393, 'closed': 5394, 'cheese': 5395, 'businesses': 5396, 'birth': 5397, 'authority': 5398, 'amiibo': 5399, 'wood': 5400, 'wonderful': 5401, 'trick': 5402, 'transfer': 5403, 'theme': 5404, 'talks': 5405, 'symptoms': 5406, 'sugar': 5407, 'storm': 5408, 'station': 5409, 'statements': 5410, 'silver': 5411, 'sending': 5412, 'sat': 5413, 'ruin': 5414, 'rogue': 5415, 'republicans': 5416, 'pace': 5417, 'originally': 5418, 'orders': 5419, 'nbsp': 5420, 'moves': 5421, 'monday': 5422, 'mini': 5423, 'maintain': 5424, 'lore': 5425, 'labor': 5426, 'kit': 5427, 'jews': 5428, 'isnt': 5429, 'international': 5430, 'includes': 5431, 'ignorant': 5432, 'healing': 5433, 'h': 5434, 'grand': 5435, 'grade': 5436, 'globaloffensivetrade': 5437, 'frustrating': 5438, 'fighter': 5439, 'families': 5440, 'established': 5441, 'entry': 5442, 'eh': 5443, 'drag': 5444, 'dirty': 5445, 'deleted': 5446, 'cpu': 5447, 'corner': 5448, 'conclusion': 5449, 'commit': 5450, 'cheating': 5451, 'cd': 5452, 'cancer': 5453, 'bullet': 5454, 'bothered': 5455, 'blocks': 5456, 'assumed': 5457, 'analogy': 5458, '27': 5459, '23': 5460, 'worlds': 5461, 'votes': 5462, 'volume': 5463, 'vision': 5464, 'vanilla': 5465, 'usage': 5466, 'tight': 5467, 'thrown': 5468, 'square': 5469, 'silence': 5470, 'schools': 5471, 'republican': 5472, 'reliable': 5473, 'recommended': 5474, 'quest': 5475, 'pregnancy': 5476, 'poorly': 5477, 'pointed': 5478, 'plate': 5479, 'phones': 5480, 'penalty': 5481, 'patent': 5482, 'package': 5483, 'output': 5484, 'neck': 5485, 'minority': 5486, 'mail': 5487, 'magical': 5488, 'los': 5489, 'leaders': 5490, 'lay': 5491, 'lanes': 5492, 'improved': 5493, 'implement': 5494, 'guild': 5495, 'expand': 5496, 'dropping': 5497, 'downvoted': 5498, 'dislike': 5499, 'dinner': 5500, 'crew': 5501, 'coverage': 5502, 'conflict': 5503, 'choosing': 5504, 'chicken': 5505, 'cc': 5506, 'cable': 5507, 'bugs': 5508, 'appears': 5509, 'aid': 5510, 'advanced': 5511, 'accidentally': 5512, '29': 5513, 'wake': 5514, 'updates': 5515, 'treated': 5516, 'trans': 5517, 'survive': 5518, 'submit': 5519, 'streaming': 5520, 'scary': 5521, 'russia': 5522, 'rp': 5523, 'rifles': 5524, 'rewards': 5525, 'relative': 5526, 'radio': 5527, 'quests': 5528, 'pretend': 5529, 'presence': 5530, 'pair': 5531, 'paint': 5532, 'netflix': 5533, 'ms': 5534, 'mentally': 5535, 'log': 5536, 'loan': 5537, 'license': 5538, 'jon': 5539, 'jack': 5540, 'garbage': 5541, 'forth': 5542, 'flight': 5543, 'fellow': 5544, 'extent': 5545, 'explaining': 5546, 'equally': 5547, 'earn': 5548, 'dunno': 5549, 'drama': 5550, 'dice': 5551, 'decade': 5552, 'conservative': 5553, 'claiming': 5554, 'champs': 5555, 'boat': 5556, 'approved': 5557, 'amendment': 5558, 'yep': 5559, 'yellow': 5560, 'wrath': 5561, 'treatment': 5562, 'sword': 5563, 'strike': 5564, 'semi': 5565, 'saved': 5566, 'rude': 5567, 'riding': 5568, 'requirements': 5569, 'regarding': 5570, 'referring': 5571, 'receive': 5572, 'provided': 5573, 'protected': 5574, 'port': 5575, 'placed': 5576, 'parking': 5577, 'notes': 5578, 'nintendo': 5579, 'mixed': 5580, 'measure': 5581, 'math': 5582, 'loud': 5583, 'legally': 5584, 'leg': 5585, 'laugh': 5586, 'ive': 5587, 'images': 5588, 'ii': 5589, 'hilarious': 5590, 'fuel': 5591, 'fired': 5592, 'fewer': 5593, 'fees': 5594, 'factory': 5595, 'explanation': 5596, 'exclusive': 5597, 'examples': 5598, 'empire': 5599, 'duty': 5600, 'drives': 5601, 'cry': 5602, 'crimes': 5603, 'confident': 5604, 'confidence': 5605, 'condition': 5606, 'client': 5607, 'central': 5608, 'cats': 5609, 'casting': 5610, 'carried': 5611, 'capacity': 5612, 'applied': 5613, 'alternative': 5614, 'achieve': 5615, 'xp': 5616, 'victims': 5617, 'trading': 5618, 'tips': 5619, 'technical': 5620, 'teaching': 5621, 'teach': 5622, 'tanks': 5623, 'talent': 5624, 'supports': 5625, 'sorts': 5626, 'rush': 5627, 'represent': 5628, 'replaced': 5629, 'reasoning': 5630, 'purely': 5631, 'pulling': 5632, 'pill': 5633, 'percentage': 5634, 'pcmr': 5635, 'nonsense': 5636, 'net': 5637, 'models': 5638, 'milk': 5639, 'meeting': 5640, 'loose': 5641, 'lifestyle': 5642, 'leaves': 5643, 'largely': 5644, 'kinds': 5645, 'justify': 5646, 'irrelevant': 5647, 'ich': 5648, 'friday': 5649, 'escape': 5650, 'engineer': 5651, 'differences': 5652, 'cute': 5653, 'criminal': 5654, 'clinton': 5655, 'candidate': 5656, 'buddy': 5657, 'bay': 5658, 'august': 5659, 'arguments': 5660, 'aim': 5661, 'agreement': 5662, '3rd': 5663, '35': 5664, '1st': 5665, 'walked': 5666, 'valuable': 5667, 'twitch': 5668, 'trigger': 5669, 'throwing': 5670, 'tested': 5671, 'taught': 5672, 'swap': 5673, 'superior': 5674, 'subs': 5675, 'string': 5676, 'standards': 5677, 'st': 5678, 'slavery': 5679, 'shirt': 5680, 'sadly': 5681, 'received': 5682, 'rage': 5683, 'pet': 5684, 'opened': 5685, 'nose': 5686, 'menu': 5687, 'ignoring': 5688, 'hardcore': 5689, 'grown': 5690, 'graphics': 5691, 'golden': 5692, 'factors': 5693, 'exchange': 5694, 'equivalent': 5695, 'elsewhere': 5696, 'department': 5697, 'defensive': 5698, 'cycle': 5699, 'crying': 5700, 'contribute': 5701, 'claims': 5702, 'checked': 5703, 'century': 5704, 'cell': 5705, 'breaks': 5706, 'bernie': 5707, 'bb': 5708, 'author': 5709, 'askreddit': 5710, 'answers': 5711, 'actively': 5712, 'acceptable': 5713, 'whereas': 5714, 'wage': 5715, 'tries': 5716, 'testing': 5717, 'suit': 5718, 'suggestions': 5719, 'spirit': 5720, 'sidebar': 5721, 'sake': 5722, 'rely': 5723, 'projects': 5724, 'president': 5725, 'portion': 5726, 'personality': 5727, 'passing': 5728, 'owned': 5729, 'mouse': 5730, 'meat': 5731, 'maps': 5732, 'length': 5733, 'legs': 5734, 'leader': 5735, 'jumping': 5736, 'hole': 5737, 'firearms': 5738, 'fell': 5739, 'express': 5740, 'difficulty': 5741, 'der': 5742, 'depth': 5743, 'constant': 5744, 'command': 5745, 'claimed': 5746, 'border': 5747, 'accepted': 5748, '0a': 5749, 'weed': 5750, 'trial': 5751, 'ticket': 5752, 'sun': 5753, 'sr': 5754, 'removing': 5755, 'queen': 5756, 'plain': 5757, 'pissed': 5758, 'offered': 5759, 'nfl': 5760, 'initial': 5761, 'hype': 5762, 'host': 5763, 'hardware': 5764, 'foreign': 5765, 'federal': 5766, 'failure': 5767, 'facebook': 5768, 'existing': 5769, 'exception': 5770, 'elite': 5771, 'dry': 5772, 'dress': 5773, 'didnt': 5774, 'develop': 5775, 'deals': 5776, 'charges': 5777, 'channel': 5778, 'chain': 5779, 'casual': 5780, 'blizzard': 5781, 'beliefs': 5782, 'audio': 5783, 'articles': 5784, 'alot': 5785, 'accounts': 5786, '22': 5787, 'wide': 5788, 'web': 5789, 'usa': 5790, 'unlikely': 5791, 'unlike': 5792, 'un': 5793, 'trash': 5794, 'till': 5795, 'surprise': 5796, 'sanders': 5797, 'responsibility': 5798, 'pt': 5799, 'pounds': 5800, 'politicians': 5801, 'offense': 5802, 'neutral': 5803, 'lying': 5804, 'listed': 5805, 'leads': 5806, 'lady': 5807, 'keyboard': 5808, 'jungle': 5809, 'japan': 5810, 'injury': 5811, 'fresh': 5812, 'format': 5813, 'fake': 5814, 'era': 5815, 'episodes': 5816, 'el': 5817, 'drinking': 5818, 'developed': 5819, 'described': 5820, 'describe': 5821, 'delete': 5822, 'circumstances': 5823, 'cares': 5824, 'calls': 5825, 'bus': 5826, 'brothers': 5827, 'bc': 5828, 'attractive': 5829, 'abuse': 5830, 'younger': 5831, 'workers': 5832, 'warrior': 5833, 'visit': 5834, 'violent': 5835, 'unable': 5836, 'trained': 5837, 'sites': 5838, 'reward': 5839, 'remain': 5840, 'prison': 5841, 'pool': 5842, 'plane': 5843, 'mistakes': 5844, 'library': 5845, 'leading': 5846, 'instantly': 5847, 'greater': 5848, 'folks': 5849, 'favor': 5850, 'fantasy': 5851, 'election': 5852, 'education': 5853, 'dlc': 5854, 'distance': 5855, 'disk': 5856, 'discuss': 5857, 'determine': 5858, 'defend': 5859, 'decades': 5860, 'covered': 5861, 'cop': 5862, 'convince': 5863, 'complaining': 5864, 'colors': 5865, 'classic': 5866, 'camp': 5867, 'burst': 5868, 'british': 5869, 'anime': 5870, 'alcohol': 5871, 'xbox': 5872, 'wins': 5873, 'winner': 5874, 'wind': 5875, 'tho': 5876, 'setup': 5877, 'seasons': 5878, 'sale': 5879, 'rolling': 5880, 'programs': 5881, 'offensive': 5882, 'naturally': 5883, 'nation': 5884, 'moral': 5885, 'james': 5886, 'gym': 5887, 'guide': 5888, 'edge': 5889, 'det': 5890, 'custom': 5891, 'builds': 5892, 'buff': 5893, 'btw': 5894, 'aspect': 5895, 'ah': 5896, '19': 5897, 'worried': 5898, 'voting': 5899, 'suspect': 5900, 'stars': 5901, 'snow': 5902, 'shape': 5903, 'region': 5904, 'proud': 5905, 'ordered': 5906, 'monster': 5907, 'matches': 5908, 'manage': 5909, 'liberal': 5910, 'keys': 5911, 'john': 5912, 'iron': 5913, 'hillary': 5914, 'global': 5915, 'financial': 5916, 'experiences': 5917, 'eu': 5918, 'detail': 5919, 'destroyed': 5920, 'concern': 5921, 'citizens': 5922, 'bomb': 5923, 'bitch': 5924, 'assault': 5925, 'animal': 5926, 'accident': 5927, 'wild': 5928, 'tower': 5929, 'tl': 5930, 'targets': 5931, 'status': 5932, 'stated': 5933, 'staff': 5934, 'sentence': 5935, 'scientific': 5936, 'schedule': 5937, 'saving': 5938, 'rise': 5939, 'resolution': 5940, 'profile': 5941, 'mobile': 5942, 'locked': 5943, 'letter': 5944, 'kills': 5945, 'keeps': 5946, 'japanese': 5947, 'interests': 5948, 'intended': 5949, 'hide': 5950, 'height': 5951, 'hat': 5952, 'guilty': 5953, 'german': 5954, 'employees': 5955, 'driver': 5956, 'concrete': 5957, 'comparing': 5958, 'clothes': 5959, 'cities': 5960, 'blind': 5961, 'blade': 5962, 'began': 5963, 'application': 5964, 'aoe': 5965, 'wing': 5966, 'suicide': 5967, 'souls': 5968, 'shame': 5969, 'script': 5970, 'relationships': 5971, 'produce': 5972, 'porn': 5973, 'photos': 5974, 'opposed': 5975, 'noise': 5976, 'minor': 5977, 'millions': 5978, 'medium': 5979, 'management': 5980, 'legitimate': 5981, 'heads': 5982, 'fits': 5983, 'fish': 5984, 'european': 5985, 'emotional': 5986, 'doesnt': 5987, 'convinced': 5988, 'collection': 5989, 'causing': 5990, 'bringing': 5991, 'begin': 5992, 'army': 5993, 'apartment': 5994, 'alright': 5995, 'six': 5996, 'scared': 5997, 'route': 5998, 'request': 5999, 'regularly': 6000, 'quote': 6001, 'puts': 6002, 'pushed': 6003, 'pulled': 6004, 'prior': 6005, 'policies': 6006, 'managed': 6007, 'lock': 6008, 'laptop': 6009, 'justice': 6010, 'jesus': 6011, 'ie': 6012, 'hated': 6013, 'harm': 6014, 'falling': 6015, 'explained': 6016, 'excuse': 6017, 'deserve': 6018, 'cup': 6019, 'consistent': 6020, 'busy': 6021, 'becoming': 6022, 'arguing': 6023, 'anybody': 6024, 'allowing': 6025, 'alive': 6026, 'ai': 6027, 'aggressive': 6028, 'unit': 6029, 'turning': 6030, 'tired': 6031, 'teacher': 6032, 'supporting': 6033, 'spell': 6034, 'speech': 6035, 'settings': 6036, 'servers': 6037, 'rid': 6038, 'potentially': 6039, 'plot': 6040, 'platform': 6041, 'peace': 6042, 'owners': 6043, 'method': 6044, 'letting': 6045, 'launch': 6046, 'install': 6047, 'heal': 6048, 'hardly': 6049, 'fly': 6050, 'feed': 6051, 'exercise': 6052, 'don': 6053, 'daughter': 6054, 'customers': 6055, 'conditions': 6056, 'causes': 6057, 'brown': 6058, 'born': 6059, 'basis': 6060, 'appear': 6061, 'adult': 6062, '300': 6063, 'western': 6064, 'tools': 6065, 'tiny': 6066, 'showed': 6067, 'respond': 6068, 'rent': 6069, 'primary': 6070, 'powers': 6071, 'os': 6072, 'married': 6073, 'links': 6074, 'knife': 6075, 'increased': 6076, 'idk': 6077, 'grew': 6078, 'glass': 6079, 'gas': 6080, 'frame': 6081, 'fights': 6082, 'familiar': 6083, 'expecting': 6084, 'diet': 6085, 'destroy': 6086, 'bible': 6087, 'banned': 6088, 'arms': 6089, '0015': 6090, 'yea': 6091, 'travel': 6092, 'se': 6093, 'mission': 6094, 'mess': 6095, 'listening': 6096, 'horrible': 6097, 'heavily': 6098, 'files': 6099, 'excellent': 6100, 'es': 6101, 'devices': 6102, 'dating': 6103, 'crowd': 6104, 'confused': 6105, 'co': 6106, 'checks': 6107, 'careful': 6108, 'calories': 6109, '75': 6110, 'ya': 6111, 'wondering': 6112, 'views': 6113, 'structure': 6114, 'stress': 6115, 'review': 6116, 'reduce': 6117, 'reaction': 6118, 'picks': 6119, 'photo': 6120, 'owner': 6121, 'logical': 6122, 'lazy': 6123, 'hunter': 6124, 'foot': 6125, 'everybody': 6126, 'economic': 6127, 'drunk': 6128, 'dick': 6129, 'decks': 6130, 'customer': 6131, 'cross': 6132, 'checking': 6133, 'bank': 6134, 'bag': 6135, 'appropriate': 6136, '21': 6137, 'yesterday': 6138, 'winter': 6139, 'useless': 6140, 'technology': 6141, 'score': 6142, 'safety': 6143, 'ring': 6144, 'quit': 6145, 'pm': 6146, 'path': 6147, 'mouth': 6148, 'linux': 6149, 'lets': 6150, 'included': 6151, 'herself': 6152, 'hello': 6153, 'forces': 6154, 'focused': 6155, 'filled': 6156, 'feedback': 6157, 'existence': 6158, 'equipment': 6159, 'comparison': 6160, 'christian': 6161, 'camera': 6162, 'burn': 6163, 'blow': 6164, 'wearing': 6165, 'vast': 6166, 'values': 6167, 'ultimately': 6168, 'tomorrow': 6169, 'steps': 6170, 'staying': 6171, 'spread': 6172, 'shoes': 6173, 'secret': 6174, 'racism': 6175, 'press': 6176, 'linked': 6177, 'germany': 6178, 'farm': 6179, 'drivers': 6180, 'cops': 6181, 'complain': 6182, 'cap': 6183, 'band': 6184, 'balanced': 6185, 'americans': 6186, 'absolute': 6187, 'abilities': 6188, '2fr': 6189, 'wont': 6190, 'typical': 6191, 'trump': 6192, 'suppose': 6193, 'stream': 6194, 'significantly': 6195, 'ships': 6196, 'rich': 6197, 'reference': 6198, 'raised': 6199, 'pure': 6200, 'present': 6201, 'possibility': 6202, 'plans': 6203, 'picking': 6204, 'odd': 6205, 'miles': 6206, 'memory': 6207, 'led': 6208, 'hitting': 6209, 'gameplay': 6210, 'facts': 6211, 'expected': 6212, 'du': 6213, 'drops': 6214, 'differently': 6215, 'demand': 6216, 'competition': 6217, 'chose': 6218, 'bug': 6219, 'beer': 6220, 'systems': 6221, 'supply': 6222, 'stronger': 6223, 'shut': 6224, 'shift': 6225, 'rape': 6226, 'ranked': 6227, 'raise': 6228, 'orange': 6229, 'opening': 6230, 'oil': 6231, 'national': 6232, 'matters': 6233, 'lie': 6234, 'k': 6235, 'influence': 6236, 'function': 6237, 'figured': 6238, 'enter': 6239, 'enjoyed': 6240, 'east': 6241, 'dream': 6242, 'dollar': 6243, 'chances': 6244, '2015': 6245, 'whose': 6246, 'viable': 6247, 'student': 6248, 'strategy': 6249, 'silly': 6250, 'shown': 6251, 'relatively': 6252, 'purchase': 6253, 'positions': 6254, 'pointing': 6255, 'planet': 6256, 'passive': 6257, 'judge': 6258, 'hundreds': 6259, 'holy': 6260, 'hits': 6261, 'hearing': 6262, 'fantastic': 6263, 'depression': 6264, 'daily': 6265, 'champion': 6266, 'arm': 6267, 'afford': 6268, '31': 6269, 'zone': 6270, 'west': 6271, 'weak': 6272, 'tons': 6273, 'talked': 6274, 'sources': 6275, 'services': 6276, 'parties': 6277, 'nope': 6278, 'idiot': 6279, 'humans': 6280, 'gods': 6281, 'giant': 6282, 'former': 6283, 'flair': 6284, 'factor': 6285, 'ex': 6286, 'draft': 6287, 'default': 6288, 'concept': 6289, 'civil': 6290, 'challenge': 6291, 'bother': 6292, 'ad': 6293, '99': 6294, 'welcome': 6295, 'suggestion': 6296, 'shield': 6297, 'professional': 6298, 'murder': 6299, 'input': 6300, 'heat': 6301, 'growing': 6302, 'followed': 6303, 'fill': 6304, 'failed': 6305, 'experienced': 6306, 'engine': 6307, 'debate': 6308, 'dealing': 6309, 'cheaper': 6310, 'career': 6311, 'capable': 6312, 'adds': 6313, 'additional': 6314, 'wrote': 6315, 'valid': 6316, 'united': 6317, 'tree': 6318, 'tip': 6319, 'stores': 6320, 'rock': 6321, 'replace': 6322, 'mark': 6323, 'excited': 6324, 'er': 6325, 'enemies': 6326, 'crap': 6327, 'closer': 6328, 'brand': 6329, 'violence': 6330, 'throughout': 6331, 'sport': 6332, 'ram': 6333, 'metal': 6334, 'meta': 6335, 'mechanics': 6336, 'likes': 6337, 'ill': 6338, 'hang': 6339, 'friendly': 6340, 'features': 6341, 'equal': 6342, 'dropped': 6343, 'creating': 6344, 'combo': 6345, 'cash': 6346, 'boy': 6347, 'ads': 6348, 'topic': 6349, 'taste': 6350, 'smoking': 6351, 'shots': 6352, 'sets': 6353, 'rare': 6354, 'priest': 6355, 'politics': 6356, 'patch': 6357, 'official': 6358, 'lord': 6359, 'highest': 6360, 'flag': 6361, 'expansion': 6362, 'dying': 6363, 'cast': 6364, 'canada': 6365, 'album': 6366, 'yours': 6367, 'upset': 6368, 'university': 6369, 'thousands': 6370, 'technically': 6371, 'taxes': 6372, 'row': 6373, 'passed': 6374, 'minimum': 6375, 'false': 6376, 'degree': 6377, 'console': 6378, 'chat': 6379, 'auto': 6380, 'acting': 6381, '24': 6382, '1000': 6383, 'victim': 6384, 'units': 6385, 'tough': 6386, 'sweet': 6387, 'standing': 6388, 'software': 6389, 'religion': 6390, 'property': 6391, 'mix': 6392, 'minute': 6393, 'instance': 6394, 'indeed': 6395, 'held': 6396, 'extreme': 6397, 'environment': 6398, 'correctly': 6399, 'breaking': 6400, 'benefits': 6401, 'treat': 6402, 'threat': 6403, 'threads': 6404, 'responsible': 6405, 'planning': 6406, 'pieces': 6407, 'perspective': 6408, 'names': 6409, 'jail': 6410, 'forgot': 6411, 'flying': 6412, 'feelings': 6413, 'dogs': 6414, 'contract': 6415, 'connection': 6416, 'complicated': 6417, 'champions': 6418, 'boyfriend': 6419, 'boost': 6420, 'benefit': 6421, 'attempt': 6422, '500': 6423, 'surface': 6424, 'stage': 6425, 'soul': 6426, 'setting': 6427, 'pictures': 6428, 'medical': 6429, 'lucky': 6430, 'location': 6431, 'limited': 6432, 'larger': 6433, 'kick': 6434, 'impact': 6435, 'grab': 6436, 'faith': 6437, 'decisions': 6438, 'competitive': 6439, 'com': 6440, 'boring': 6441, 'bonus': 6442, 'actions': 6443, 'winning': 6444, 'window': 6445, 'ten': 6446, 'roll': 6447, 'production': 6448, 'prices': 6449, 'pop': 6450, 'performance': 6451, 'opponent': 6452, 'opinions': 6453, 'karma': 6454, 'insane': 6455, 'improve': 6456, 'hospital': 6457, 'girlfriend': 6458, 'flat': 6459, 'film': 6460, 'father': 6461, 'email': 6462, 'direct': 6463, 'complex': 6464, 'bowl': 6465, 'blame': 6466, 'audience': 6467, 'app': 6468, 'songs': 6469, 'situations': 6470, 'resources': 6471, 'manager': 6472, 'ends': 6473, 'dota': 6474, 'dollars': 6475, 'details': 6476, 'curious': 6477, 'concerned': 6478, 'caused': 6479, '17': 6480, 'waste': 6481, 'sister': 6482, 'sides': 6483, 'pvp': 6484, 'protect': 6485, 'profit': 6486, 'particularly': 6487, 'material': 6488, 'mainly': 6489, 'gender': 6490, 'dps': 6491, 'broke': 6492, 'angry': 6493, 'allows': 6494, 'wiki': 6495, 'website': 6496, 'tool': 6497, 'thoughts': 6498, 'successful': 6499, 'somewhat': 6500, 'slowly': 6501, 'released': 6502, 'opportunity': 6503, 'helping': 6504, 'goals': 6505, 'exists': 6506, 'bill': 6507, 'bike': 6508, 'attitude': 6509, 'asshole': 6510, 'approach': 6511, 'affect': 6512, '2nd': 6513, 'wars': 6514, 'success': 6515, 'stuck': 6516, 'showing': 6517, 'policy': 6518, 'normally': 6519, 'neither': 6520, 'missed': 6521, 'master': 6522, 'loss': 6523, 'king': 6524, 'husband': 6525, 'gg': 6526, 'development': 6527, 'dangerous': 6528, 'copy': 6529, 'click': 6530, 'campaign': 6531, 'besides': 6532, 'behavior': 6533, 'among': 6534, 'according': 6535, 'trip': 6536, 'steam': 6537, 'sports': 6538, 'south': 6539, 'shoot': 6540, 'section': 6541, 'scale': 6542, 'progress': 6543, 'movies': 6544, 'morning': 6545, 'mistake': 6546, 'lived': 6547, 'holding': 6548, 'gay': 6549, 'everywhere': 6550, 'draw': 6551, 'awful': 6552, 'animals': 6553, 'agreed': 6554, '70': 6555, 'walking': 6556, 'train': 6557, 'son': 6558, 'sales': 6559, 'runs': 6560, 'ride': 6561, 'raid': 6562, 'paper': 6563, 'marriage': 6564, 'levels': 6565, 'insurance': 6566, 'ice': 6567, 'floor': 6568, 'flash': 6569, 'effects': 6570, 'budget': 6571, 'beginning': 6572, 'aside': 6573, 'amazon': 6574, 'afraid': 6575, 'adding': 6576, '90': 6577, '80': 6578, 'wise': 6579, 'typically': 6580, 'tier': 6581, 'table': 6582, 'shop': 6583, 'reply': 6584, 'rates': 6585, 'office': 6586, 'meaning': 6587, 'mad': 6588, 'limit': 6589, 'feet': 6590, 'earlier': 6591, 'direction': 6592, 'choices': 6593, '13': 6594, 'wanting': 6595, 'uk': 6596, 'sucks': 6597, 'spending': 6598, 'sick': 6599, 'sexual': 6600, 'selling': 6601, 'pushing': 6602, 'products': 6603, 'pack': 6604, 'five': 6605, 'ending': 6606, 'button': 6607, 'barely': 6608, 'strange': 6609, 'smart': 6610, 'member': 6611, 'magic': 6612, 'logic': 6613, 'le': 6614, 'id': 6615, 'hp': 6616, 'fixed': 6617, 'feature': 6618, 'fat': 6619, 'dr': 6620, 'cover': 6621, 'chinese': 6622, 'via': 6623, 'user': 6624, 'town': 6625, 'suck': 6626, 'split': 6627, 'record': 6628, 'picked': 6629, 'opposite': 6630, 'machine': 6631, 'incredibly': 6632, 'income': 6633, 'helpful': 6634, 'goal': 6635, 'forced': 6636, 'finished': 6637, 'apart': 6638, 'admit': 6639, 'zero': 6640, 'whenever': 6641, 'wan': 6642, 'update': 6643, 'tells': 6644, 'tag': 6645, 'solo': 6646, 'skin': 6647, 'pressure': 6648, 'period': 6649, 'negative': 6650, 'mana': 6651, 'heart': 6652, 'fail': 6653, 'essentially': 6654, 'empty': 6655, 'designed': 6656, 'credit': 6657, 'annoying': 6658, 'ran': 6659, 'planned': 6660, 'park': 6661, 'network': 6662, 'model': 6663, 'forever': 6664, 'compare': 6665, 'various': 6666, 'traffic': 6667, 'tax': 6668, 'suddenly': 6669, 'separate': 6670, 'effective': 6671, 'economy': 6672, 'combat': 6673, 'attacks': 6674, 'apple': 6675, 'tech': 6676, 'scenario': 6677, 'racist': 6678, 'natural': 6679, 'movement': 6680, 'miss': 6681, 'load': 6682, 'highly': 6683, 'heroes': 6684, 'eye': 6685, 'drugs': 6686, 'weekend': 6687, 'unique': 6688, 'truth': 6689, 'tank': 6690, 'ta': 6691, 'stock': 6692, 'prevent': 6693, 'impossible': 6694, 'died': 6695, 'counter': 6696, 'cat': 6697, '14': 6698, 'smoke': 6699, 'shooting': 6700, 'religious': 6701, 'necessary': 6702, 'dumb': 6703, 'drug': 6704, 'dragon': 6705, 'club': 6706, 'beautiful': 6707, '60': 6708, 'proof': 6709, 'onto': 6710, 'north': 6711, 'nature': 6712, 'defense': 6713, 'deep': 6714, 'center': 6715, 'cant': 6716, 'battle': 6717, 'anywhere': 6718, '200': 6719, '18': 6720, 'touch': 6721, 'purpose': 6722, 'properly': 6723, 'mode': 6724, 'individual': 6725, 'illegal': 6726, 'file': 6727, 'bed': 6728, 'requires': 6729, 'require': 6730, 'rank': 6731, 'perfectly': 6732, 'massive': 6733, 'industry': 6734, 'freedom': 6735, 'finish': 6736, 'female': 6737, 'device': 6738, 'court': 6739, 'brain': 6740, 'below': 6741, 'universe': 6742, 'therefore': 6743, 'summer': 6744, 'strength': 6745, 'security': 6746, 'image': 6747, 'helped': 6748, 'haha': 6749, 'error': 6750, 'caught': 6751, 'argue': 6752, 'advantage': 6753, 'won': 6754, 'upgrade': 6755, 'twice': 6756, 'track': 6757, 'recent': 6758, 'ready': 6759, 'positive': 6760, 'knowing': 6761, 'four': 6762, 'fault': 6763, 'bottom': 6764, 'seemed': 6765, 'reach': 6766, 'posted': 6767, 'plays': 6768, 'male': 6769, 'definition': 6770, 'computer': 6771, 'became': 6772, 'anyways': 6773, 'active': 6774, 'accurate': 6775, '11': 6776, 'written': 6777, 'thus': 6778, 'starts': 6779, 'somebody': 6780, 'smaller': 6781, 'shitty': 6782, 'rarely': 6783, 'partner': 6784, 'moved': 6785, 'language': 6786, 'gain': 6787, 'football': 6788, 'becomes': 6789, 'uses': 6790, 'students': 6791, 'statement': 6792, 'realized': 6793, 'fighting': 6794, 'boss': 6795, 'speaking': 6796, 'significant': 6797, 'sent': 6798, 'mass': 6799, 'leaving': 6800, 'learned': 6801, 'joke': 6802, 'doctor': 6803, 'comfortable': 6804, 'church': 6805, 'calling': 6806, 'turns': 6807, 'surprised': 6808, 'proper': 6809, 'map': 6810, 'fucked': 6811, 'fear': 6812, 'costs': 6813, 'changing': 6814, 'catch': 6815, 'wonder': 6816, 'voice': 6817, 'ton': 6818, 'thinks': 6819, 'street': 6820, 'relevant': 6821, 'powerful': 6822, 'population': 6823, 'jump': 6824, 'episode': 6825, 'core': 6826, 'youtube': 6827, 'study': 6828, 'sold': 6829, 'program': 6830, 'hi': 6831, 'green': 6832, 'finding': 6833, 'europe': 6834, 'areas': 6835, 'apply': 6836, 'wow': 6837, 'types': 6838, 'trouble': 6839, 'report': 6840, 'older': 6841, 'necessarily': 6842, 'modern': 6843, 'listen': 6844, 'join': 6845, 'design': 6846, 'china': 6847, 'balance': 6848, 'armor': 6849, 'users': 6850, 'members': 6851, 'land': 6852, 'info': 6853, 'ignore': 6854, 'hoping': 6855, 'gear': 6856, 'constantly': 6857, 'cold': 6858, 'brought': 6859, 'address': 6860, 'slightly': 6861, 'mods': 6862, 'healthy': 6863, 'gotten': 6864, 'cpa': 6865, 'understanding': 6866, 'switch': 6867, 'prove': 6868, 'military': 6869, 'met': 6870, 'l': 6871, 'heavy': 6872, 'harder': 6873, 'companies': 6874, 'battery': 6875, 'art': 6876, 'theory': 6877, 'sitting': 6878, 'ridiculous': 6879, 'product': 6880, 'kept': 6881, 'watched': 6882, 'ship': 6883, 'previous': 6884, 'practice': 6885, 'liked': 6886, 'hair': 6887, 'grow': 6888, 'groups': 6889, 'evil': 6890, 'depending': 6891, 'created': 6892, 'sleep': 6893, 'skills': 6894, 'sign': 6895, 'screen': 6896, 'results': 6897, 'reality': 6898, 'pre': 6899, 'mental': 6900, 'glad': 6901, 'context': 6902, 'cases': 6903, 'basic': 6904, 'aware': 6905, 'windows': 6906, 'submission': 6907, 'star': 6908, 'required': 6909, 'reasonable': 6910, 'nor': 6911, 'none': 6912, 'learning': 6913, 'honest': 6914, 'events': 6915, 'english': 6916, 'earth': 6917, 'conversation': 6918, 'beyond': 6919, 'accept': 6920, '16': 6921, 'worry': 6922, 'wear': 6923, 'third': 6924, 'sad': 6925, 'offer': 6926, 'handle': 6927, 'forget': 6928, 'color': 6929, 'classes': 6930, 'bullshit': 6931, 'waiting': 6932, 'w': 6933, 'somehow': 6934, 'piece': 6935, 'physical': 6936, 'pass': 6937, 'noticed': 6938, 'immediately': 6939, 'drink': 6940, 'apparently': 6941, 'suggest': 6942, 'stories': 6943, 'stats': 6944, 'share': 6945, 'search': 6946, 'mom': 6947, 'lt': 6948, 'lines': 6949, 'keeping': 6950, 'happening': 6951, 'particular': 6952, 'meet': 6953, 'jobs': 6954, 'ideas': 6955, 'considered': 6956, 'unfortunately': 6957, 'truly': 6958, 'regardless': 6959, 'posting': 6960, 'loved': 6961, 'losing': 6962, 'following': 6963, 'final': 6964, 'broken': 6965, 'block': 6966, 'appreciate': 6967, 'access': 6968, 'server': 6969, 'scene': 6970, 'date': 6971, 'culture': 6972, 'blood': 6973, 'speak': 6974, 'project': 6975, 'decision': 6976, 'dad': 6977, 'blue': 6978, 'trust': 6979, 'stand': 6980, 'return': 6981, 'key': 6982, 'event': 6983, 'stopped': 6984, 'solid': 6985, 'sit': 6986, 'seconds': 6987, 'role': 6988, 'police': 6989, 'max': 6990, 'faster': 6991, 'box': 6992, 'ban': 6993, 'background': 6994, 'wife': 6995, 'upon': 6996, 'thats': 6997, 'remove': 6998, 'release': 6999, 'prefer': 7000, 'notice': 7001, 'mod': 7002, 'imo': 7003, 'dog': 7004, 'bet': 7005, 'useful': 7006, 'stick': 7007, 'society': 7008, 'slow': 7009, 'response': 7010, 'regular': 7011, 'pull': 7012, 'possibly': 7013, 'popular': 7014, 'hurt': 7015, 'fully': 7016, 'fairly': 7017, 'eyes': 7018, 'effort': 7019, 'directly': 7020, 'despite': 7021, 'depends': 7022, 'clean': 7023, 'biggest': 7024, 'ahead': 7025, 'text': 7026, 'standard': 7027, 'rights': 7028, 'missing': 7029, 'million': 7030, 'eating': 7031, 'decide': 7032, 'built': 7033, 'pro': 7034, 'private': 7035, 'political': 7036, 'mother': 7037, 'field': 7038, 'en': 7039, 'avoid': 7040, 'assuming': 7041, 'step': 7042, 'push': 7043, 'f': 7044, 'continue': 7045, 'charge': 7046, '40': 7047, '000': 7048, 'writing': 7049, 'song': 7050, 'result': 7051, 'nearly': 7052, 'lead': 7053, 'ball': 7054, 'america': 7055, 'target': 7056, 'specifically': 7057, 'site': 7058, 'rule': 7059, 'knowledge': 7060, 'cars': 7061, 'related': 7062, 'potential': 7063, 'news': 7064, 'including': 7065, 'expensive': 7066, 'count': 7067, '25': 7068, 'turned': 7069, 'spent': 7070, 'somewhere': 7071, 'road': 7072, 'q': 7073, 'increase': 7074, 'exact': 7075, 'door': 7076, 'round': 7077, 'picture': 7078, 'lives': 7079, 'lane': 7080, 'states': 7081, 'driving': 7082, 'double': 7083, 'solution': 7084, 'obvious': 7085, 'killed': 7086, 'include': 7087, 'hot': 7088, 'deck': 7089, 'countries': 7090, 'weapons': 7091, 'tend': 7092, 'quick': 7093, 'page': 7094, 'p': 7095, 'killing': 7096, 'hero': 7097, 'girls': 7098, 'fix': 7099, 'bar': 7100, 'weapon': 7101, 'skill': 7102, 'science': 7103, 'overall': 7104, 'crime': 7105, 'brother': 7106, 'anti': 7107, 'willing': 7108, 'helps': 7109, 'disagree': 7110, 'beat': 7111, 'walk': 7112, 'create': 7113, 'board': 7114, 'article': 7115, 'added': 7116, 'throw': 7117, 'options': 7118, 'lack': 7119, 'item': 7120, 'interest': 7121, 'further': 7122, 'entirely': 7123, 'match': 7124, 'inside': 7125, 'g': 7126, 'forward': 7127, 'doubt': 7128, 'y': 7129, 'write': 7130, 'respect': 7131, 'research': 7132, 'plenty': 7133, 'mentioned': 7134, 'media': 7135, 'energy': 7136, 'baby': 7137, 'view': 7138, 'terms': 7139, 'risk': 7140, 'claim': 7141, 'choose': 7142, 'vote': 7143, 'training': 7144, 'parts': 7145, 'note': 7146, 'google': 7147, 'ended': 7148, 'considering': 7149, 'college': 7150, 'bigger': 7151, 'worst': 7152, 'total': 7153, 'terrible': 7154, 'straight': 7155, 'serious': 7156, 'que': 7157, 'places': 7158, 'gold': 7159, 'carry': 7160, 'race': 7161, 'paying': 7162, 'ground': 7163, 'gaming': 7164, 'eventually': 7165, 'damn': 7166, 'test': 7167, 'size': 7168, 'recently': 7169, 'rate': 7170, 'quickly': 7171, 'pain': 7172, 'm': 7173, 'la': 7174, 'complete': 7175, 'available': 7176, 'young': 7177, 'service': 7178, 'posts': 7179, 'legal': 7180, 'involved': 7181, 'fans': 7182, 'exist': 7183, 'compared': 7184, 'wall': 7185, 'tv': 7186, 'spot': 7187, 'nobody': 7188, 'mid': 7189, 'gives': 7190, 'buying': 7191, 'perhaps': 7192, 'items': 7193, 'hopefully': 7194, 'hands': 7195, 'funny': 7196, 'bunch': 7197, 'mention': 7198, 'laws': 7199, 'known': 7200, 'interested': 7201, 'force': 7202, 'fan': 7203, 'effect': 7204, 'trade': 7205, 'putting': 7206, 'explain': 7207, 'code': 7208, 'cheap': 7209, 'numbers': 7210, 'discussion': 7211, 'books': 7212, 'teams': 7213, 'special': 7214, 'random': 7215, 'market': 7216, 'figure': 7217, 'air': 7218, 'provide': 7219, 'fall': 7220, 'enemy': 7221, 'dark': 7222, 'c': 7223, 'finally': 7224, 'online': 7225, 'moving': 7226, 'himself': 7227, 'crazy': 7228, 'assume': 7229, 'american': 7230, 'ways': 7231, 'shot': 7232, 'local': 7233, 'dude': 7234, 'child': 7235, 'term': 7236, 'recommend': 7237, 'middle': 7238, 'hour': 7239, 'cards': 7240, 'act': 7241, 'across': 7242, 'realize': 7243, 'decided': 7244, 'telling': 7245, 'near': 7246, 'extremely': 7247, 'videos': 7248, 'taken': 7249, 'fit': 7250, 'favorite': 7251, 'shows': 7252, 'send': 7253, 'meant': 7254, 'league': 7255, 'internet': 7256, 'gone': 7257, 'choice': 7258, 'o': 7259, 'multiple': 7260, 'feels': 7261, 'changed': 7262, 'source': 7263, 'otherwise': 7264, 'expect': 7265, 'changes': 7266, 'supposed': 7267, 'subject': 7268, 'paid': 7269, 'late': 7270, 'decent': 7271, 'style': 7272, 'majority': 7273, 'fire': 7274, 'anymore': 7275, 'movie': 7276, 'extra': 7277, 'worse': 7278, 'red': 7279, 'focus': 7280, 'clearly': 7281, 'break': 7282, 'allowed': 7283, 'gave': 7284, 'children': 7285, 'attention': 7286, 'words': 7287, 'sell': 7288, 'knows': 7289, 'follow': 7290, 'im': 7291, 'difficult': 7292, '12': 7293, 'lose': 7294, 'fair': 7295, 'comments': 7296, 'hey': 7297, 'woman': 7298, 'safe': 7299, 'reasons': 7300, 'kinda': 7301, 'history': 7302, 'version': 7303, 'original': 7304, 'worked': 7305, 'space': 7306, 'process': 7307, 'form': 7308, 'okay': 7309, 'dead': 7310, 'building': 7311, 'age': 7312, 'moment': 7313, 'currently': 7314, 'seeing': 7315, 'poor': 7316, 'imagine': 7317, 'drop': 7318, 'allow': 7319, '9': 7320, 'common': 7321, 'b': 7322, 'living': 7323, 'fast': 7324, 'certainly': 7325, 'towards': 7326, 'social': 7327, 'several': 7328, 'simple': 7329, 'lots': 7330, 'major': 7331, 'spend': 7332, 'bought': 7333, 'average': 7334, 'alone': 7335, 'position': 7336, 'attack': 7337, 'ability': 7338, 'reading': 7339, 'girl': 7340, 'cut': 7341, 'weird': 7342, 'party': 7343, 'option': 7344, 'n': 7345, 'eat': 7346, 'series': 7347, 'range': 7348, 'mine': 7349, 'law': 7350, 'kid': 7351, 'health': 7352, 'data': 7353, 'lower': 7354, 'drive': 7355, 'book': 7356, 'ass': 7357, 'watching': 7358, 'starting': 7359, 'quality': 7360, 'death': 7361, 'correct': 7362, 'future': 7363, 'luck': 7364, 'looked': 7365, 'giving': 7366, 'wish': 7367, 'price': 7368, 'parents': 7369, 'itself': 7370, 'although': 7371, 'soon': 7372, 're': 7373, 'knew': 7374, 'store': 7375, 'plus': 7376, 'generally': 7377, 'asking': 7378, 'amazing': 7379, 'value': 7380, 'speed': 7381, 'save': 7382, 'feeling': 7383, 'x': 7384, 'totally': 7385, 'music': 7386, 'room': 7387, 'personal': 7388, 'perfect': 7389, 'specific': 7390, 'normal': 7391, 'human': 7392, 'hold': 7393, 'happens': 7394, 'weight': 7395, 'minutes': 7396, 'lost': 7397, 'clear': 7398, 'advice': 7399, 'vs': 7400, 'except': 7401, 'de': 7402, 'bring': 7403, 'short': 7404, 'points': 7405, 'hear': 7406, 'evidence': 7407, 'title': 7408, 'longer': 7409, 'die': 7410, 'characters': 7411, 'base': 7412, 'today': 7413, 'plan': 7414, 'easier': 7415, 'word': 7416, 'phone': 7417, 'become': 7418, 'asked': 7419, 'stay': 7420, 'within': 7421, 'relationship': 7422, 'ok': 7423, 'link': 7424, 'seriously': 7425, 'gon': 7426, 'absolutely': 7427, 'needed': 7428, 'large': 7429, 'cost': 7430, 'strong': 7431, 'easily': 7432, 'above': 7433, 'hell': 7434, 'felt': 7435, 'business': 7436, 'sound': 7437, 'self': 7438, 'pick': 7439, 'consider': 7440, 'argument': 7441, 'problems': 7442, 'heard': 7443, 'mostly': 7444, 'awesome': 7445, 'account': 7446, 'stupid': 7447, 'general': 7448, 'difference': 7449, 'night': 7450, 'sex': 7451, 'anyway': 7452, 'wants': 7453, 'company': 7454, 'month': 7455, 'list': 7456, 'public': 7457, 'enjoy': 7458, 'sub': 7459, 'removed': 7460, 'thread': 7461, 'light': 7462, 'information': 7463, 'front': 7464, '30': 7465, 'card': 7466, 'actual': 7467, '15': 7468, 'whether': 7469, 'reddit': 7470, 'learn': 7471, 'themselves': 7472, 'community': 7473, 'rules': 7474, 'content': 7475, 'war': 7476, 'v': 7477, 'given': 7478, 'weeks': 7479, 'pc': 7480, 'water': 7481, 'fight': 7482, 'main': 7483, 'class': 7484, 'wait': 7485, 'running': 7486, 'takes': 7487, 'dont': 7488, 'answer': 7489, 'rest': 7490, 'three': 7491, 'performed': 7492, 'outside': 7493, 'coming': 7494, 'higher': 7495, 'happened': 7496, 'government': 7497, 'cause': 7498, 'body': 7499, 'moderators': 7500, 'behind': 7501, 'area': 7502, 'later': 7503, 'together': 7504, 'sounds': 7505, 'per': 7506, 'tried': 7507, 'along': 7508, 'win': 7509, 'interesting': 7510, 'current': 7511, 'early': 7512, '7': 7513, 'guns': 7514, 'non': 7515, 'lol': 7516, 'cool': 7517, 'personally': 7518, 'obviously': 7519, 'entire': 7520, '50': 7521, 'literally': 7522, 'season': 7523, 'chance': 7524, 'turn': 7525, 'type': 7526, 'saw': 7527, 'amount': 7528, 'situation': 7529, 'op': 7530, 'country': 7531, 'face': 7532, 'certain': 7533, 'group': 7534, 'character': 7535, 'city': 7536, 'thank': 7537, 'happy': 7538, 'told': 7539, 'hours': 7540, 'add': 7541, 'e': 7542, 'needs': 7543, 'important': 7544, 'called': 7545, 'couple': 7546, 'close': 7547, '0': 7548, 't': 7549, 'ones': 7550, 'must': 7551, 'honestly': 7552, 'food': 7553, 'd': 7554, 'simply': 7555, 'happen': 7556, 'goes': 7557, 'thinking': 7558, 'kids': 7559, 'hate': 7560, '20': 7561, '8': 7562, 'head': 7563, 'compose': 7564, 'took': 7565, 'leave': 7566, 'came': 7567, 'oh': 7568, 'due': 7569, 'house': 7570, 'white': 7571, 'super': 7572, 'deal': 7573, 'check': 7574, 'sorry': 7575, 'past': 7576, 'open': 7577, 'kill': 7578, 'hand': 7579, 'half': 7580, 'call': 7581, 'bot': 7582, 'automatically': 7583, '100': 7584, 'state': 7585, 'move': 7586, 'huge': 7587, 'name': 7588, 'fine': 7589, 'line': 7590, 'worth': 7591, 'similar': 7592, 'during': 7593, 'played': 7594, 'comment': 7595, 'car': 7596, 'watch': 7597, 'black': 7598, 'opinion': 7599, 'basically': 7600, 'contact': 7601, 'player': 7602, 'issues': 7603, 'friend': 7604, 'months': 7605, 'looks': 7606, 'course': 7607, 'number': 7608, 'works': 7609, 'under': 7610, 'low': 7611, 'build': 7612, 'sometimes': 7613, 'exactly': 7614, 'whatever': 7615, 'hit': 7616, 'na': 7617, 'seem': 7618, 'example': 7619, 'based': 7620, 'says': 7621, 'easy': 7622, 'family': 7623, 'men': 7624, 'comes': 7625, 'order': 7626, 'school': 7627, 'taking': 7628, 'sort': 7629, 'working': 7630, 'single': 7631, 'hope': 7632, 'found': 7633, 'video': 7634, 'quite': 7635, 'true': 7636, 'possible': 7637, 'especially': 7638, 'sense': 7639, 'often': 7640, 'wanted': 7641, 'unless': 7642, 'subreddit': 7643, 'yourself': 7644, 'completely': 7645, 'myself': 7646, 'talk': 7647, 'edit': 7648, 'remember': 7649, 'home': 7650, 'week': 7651, 'usually': 7652, 'question': 7653, 'control': 7654, 'stop': 7655, 'full': 7656, 'ago': 7657, 'pay': 7658, 'matter': 7659, 'action': 7660, 'small': 7661, 'left': 7662, 'set': 7663, 'yet': 7664, 'second': 7665, 'system': 7666, 'god': 7667, 'care': 7668, 'mind': 7669, 'rather': 7670, 'live': 7671, 'damage': 7672, 'u': 7673, 'story': 7674, 'started': 7675, 'likely': 7676, 'others': 7677, 'fucking': 7678, 'issue': 7679, 'almost': 7680, 'seen': 7681, '6': 7682, 'experience': 7683, 'ask': 7684, 'side': 7685, 'power': 7686, 'talking': 7687, 'guys': 7688, 'buy': 7689, 'guess': 7690, 'agree': 7691, 'nice': 7692, 'days': 7693, 'concerns': 7694, 'support': 7695, 'players': 7696, 'job': 7697, 'fuck': 7698, 'fun': 7699, 'definitely': 7700, 'thanks': 7701, 'run': 7702, 'wo': 7703, 's': 7704, 'went': 7705, 'playing': 7706, 'change': 7707, 'means': 7708, 'show': 7709, 'message': 7710, 'next': 7711, 'top': 7712, 'gets': 7713, 'women': 7714, 'however': 7715, 'whole': 7716, 'instead': 7717, 'gun': 7718, 'case': 7719, 'believe': 7720, 'read': 7721, 'free': 7722, 'tell': 7723, 'between': 7724, 'level': 7725, 'understand': 7726, 'real': 7727, 'man': 7728, 'looking': 7729, 'yeah': 7730, 'place': 7731, 'old': 7732, 'idea': 7733, 'anyone': 7734, 'times': 7735, 'kind': 7736, 'friends': 7737, 'fact': 7738, 'away': 7739, 'done': 7740, 'seems': 7741, 'high': 7742, 'everything': 7743, 'thought': 7744, 'wrong': 7745, 'until': 7746, 'yes': 7747, 'else': 7748, 'such': 7749, 'questions': 7750, 'each': 7751, 'making': 7752, 'team': 7753, 'guy': 7754, 'once': 7755, 'already': 7756, 'using': 7757, 'big': 7758, 'against': 7759, '10': 7760, 'either': 7761, 'able': 7762, 'stuff': 7763, 'etc': 7764, 'start': 7765, 'world': 7766, 'reason': 7767, 'problem': 7768, 'games': 7769, 'makes': 7770, 'far': 7771, 'please': 7772, 'come': 7773, 'nothing': 7774, 'saying': 7775, 'end': 7776, 'least': 7777, 'part': 7778, 'less': 7779, 'trying': 7780, 'post': 7781, 'person': 7782, 'ever': 7783, 'bit': 7784, 'let': 7785, 'everyone': 7786, '4': 7787, 'hard': 7788, 'money': 7789, 'another': 7790, 'love': 7791, 'again': 7792, 'keep': 7793, 'help': 7794, 'mean': 7795, 'last': 7796, 'put': 7797, 'having': 7798, 'shit': 7799, 'without': 7800, 'both': 7801, 'year': 7802, 'may': 7803, 'life': 7804, 'used': 7805, 'doing': 7806, 'give': 7807, 'different': 7808, 'through': 7809, 'enough': 7810, 'own': 7811, 'great': 7812, 'find': 7813, 'long': 7814, 'day': 7815, 'maybe': 7816, 'getting': 7817, 'try': 7818, '5': 7819, 'made': 7820, 'bad': 7821, 'little': 7822, 'best': 7823, \"'\": 7824, 'might': 7825, 'amp': 7826, 'look': 7827, 'few': 7828, 'play': 7829, 'feel': 7830, 'around': 7831, 'anything': 7832, 'two': 7833, 'years': 7834, 'point': 7835, 'probably': 7836, 'always': 7837, 'us': 7838, 'our': 7839, 'r': 7840, 'since': 7841, 'many': 7842, 'every': 7843, '3': 7844, 'said': 7845, 'its': 7846, 'someone': 7847, 'while': 7848, 'these': 7849, 'down': 7850, 'before': 7851, 'new': 7852, 'pretty': 7853, 'sure': 7854, '1': 7855, 'ca': 7856, 'here': 7857, 'though': 7858, 'those': 7859, 'take': 7860, 'am': 7861, 'actually': 7862, 'never': 7863, 'things': 7864, 'off': 7865, 'lot': 7866, 'better': 7867, 'use': 7868, 'thing': 7869, 'same': 7870, 'got': 7871, 'after': 7872, 'where': 7873, '2': 7874, 'work': 7875, \"'d\": 7876, 'back': 7877, 'first': 7878, 'right': 7879, \"'ll\": 7880, 'why': 7881, 'say': 7882, 'need': 7883, 'over': 7884, 'most': 7885, 'very': 7886, 'something': 7887, 'too': 7888, 'into': 7889, 'going': 7890, 'still': 7891, 'go': 7892, 'him': 7893, 'well': 7894, 'want': 7895, 'see': 7896, 'game': 7897, 'should': 7898, 'now': 7899, 'way': 7900, 'her': 7901, 'being': 7902, 'she': 7903, 'which': 7904, 'been': 7905, 'were': 7906, \"'ve\": 7907, 'make': 7908, 'much': 7909, 'could': 7910, 'gt': 7911, 'also': 7912, 'good': 7913, 'did': 7914, 'than': 7915, 'know': 7916, 'his': 7917, 'even': 7918, 'other': 7919, 'only': 7920, 'does': 7921, 'who': 7922, 'any': 7923, 'had': 7924, 'then': 7925, 'really': 7926, 'time': 7927, 'by': 7928, 'how': 7929, 'has': 7930, 'their': 7931, \"'re\": 7932, 'some': 7933, 'no': 7934, 'think': 7935, 'them': 7936, 'because': 7937, '!': 7938, 'when': 7939, 'will': 7940, \"'m\": 7941, 'one': 7942, 'out': 7943, 'up': 7944, 'an': 7945, 'from': 7946, 'more': 7947, 'get': 7948, 'me': 7949, 'people': 7950, 'about': 7951, 'we': 7952, 'all': 7953, 'what': 7954, 'there': 7955, 'would': 7956, 'can': 7957, 'at': 7958, 'he': 7959, 'like': 7960, 'your': 7961, 'so': 7962, 'just': 7963, '(': 7964, '?': 7965, 'my': 7966, 'or': 7967, 'as': 7968, ')': 7969, 'this': 7970, 'was': 7971, 'if': 7972, 'they': 7973, 'do': 7974, 'not': 7975, 'are': 7976, 'be': 7977, 'on': 7978, 'with': 7979, 'but': 7980, 'have': 7981, \"'s\": 7982, \"n't\": 7983, 'for': 7984, 'in': 7985, 'is': 7986, 'that': 7987, '\\\\': 7988, 'you': 7989, 'it': 7990, 'of': 7991, 'SENTENCE_START': 7992, 'SENTENCE_END': 7993, 'and': 7994, 'a': 7995, 'i': 7996, 'to': 7997, ',': 7998, 'the': 7999}\n"
     ]
    }
   ],
   "source": [
    "vocabulary_size = 8000\n",
    "\n",
    "def buildVocab(sentences):\n",
    "    # Tokenize the sentences into words\n",
    "    tokenized_sentences = [nltk.word_tokenize(sent) for sent in sentences]\n",
    "\n",
    "    ####### If we want to order the words in alphabet #######\n",
    "    # Count the word frequencies\n",
    "    word_freq = nltk.FreqDist(itertools.chain(*tokenized_sentences))\n",
    "    print(\"Found %d unique words tokens.\" % len(word_freq.items()))\n",
    "\n",
    "    # Get the most common words and build index_to_word and word_to_index vectors\n",
    "    vocab = sorted(word_freq.items(), key=lambda x: (x[1], x[0]), reverse=True)[:vocabulary_size-2]\n",
    "    print(\"Using vocabulary size %d.\" % vocabulary_size)\n",
    "    print(\"The most frequent word in our vocabulary is '%s' and appeared %d times.\" % (vocab[0][0], vocab[0][1]))\n",
    "    print(\"The least frequent word in our vocabulary is '%s' and appeared %d times.\" % (vocab[-1][0], vocab[-1][1]))\n",
    " \n",
    "    sorted_vocab = sorted(vocab, key=operator.itemgetter(1))\n",
    "    index_to_word = [\"<MASK/>\", unknown_token] + [x[0] for x in sorted_vocab]\n",
    "    word_to_index = dict([(w, i) for i, w in enumerate(index_to_word)])\n",
    "    \n",
    "    \n",
    "    print(word_to_index)\n",
    "    return index_to_word, word_to_index\n",
    "    \n",
    "index_to_word, word_to_index = buildVocab(sents)"
   ]
  },
  {
   "cell_type": "code",
   "execution_count": 12,
   "metadata": {
    "scrolled": false
   },
   "outputs": [
    {
     "name": "stdout",
     "output_type": "stream",
     "text": [
      "[7992, 7987, 7921, 7983, 5863, 7989, 1, 7993] SENTENCE_START that does n't convince you \\? SENTENCE_END\n"
     ]
    },
    {
     "data": {
      "text/plain": [
       "21651"
      ]
     },
     "execution_count": 12,
     "metadata": {},
     "output_type": "execute_result"
    }
   ],
   "source": [
    "\n",
    "\n",
    "####### In case use all sentences of each element in the df.body ######\n",
    "# Replace all words not in our vocabulary with the unknown token\n",
    "tokenized_sentences = []\n",
    "for i, sent in enumerate(sents):\n",
    "    temp = [word_to_index[w] if w in word_to_index else word_to_index[unknown_token] for w in sent.split()]\n",
    "    tokenized_sentences.append(temp)\n",
    "\n",
    "# #convert text to integers\n",
    "# tokenized_sents = [[word_to_index[c] if c in word_to_index else word_to_index[unknown_token] \\\n",
    "#                                        for c in s] for s in sents.split()]\n",
    "print(tokenized_sentences[3], sents[3])\n",
    "X_train_word = tokenized_sentences\n",
    "len(X_train_word)"
   ]
  },
  {
   "cell_type": "code",
   "execution_count": 17,
   "metadata": {},
   "outputs": [
    {
     "name": "stdout",
     "output_type": "stream",
     "text": [
      "maxlen(sentence)= 1936\n",
      "0    [7992, 7996, 4556, 7995, 7852, 7255, 7970, 780...\n",
      "1    [7992, 7985, 7961, 6677, 7998, 7995, 7782, 791...\n",
      "2    [7992, 7973, 7974, 7983, 7948, 7269, 7984, 792...\n",
      "3    [7992, 7996, 5549, 7998, 7877, 7851, 7999, 565...\n",
      "4    [7992, 7934, 7998, 7980, 1, 7613, 7956, 6551, ...\n",
      "Name: body, dtype: object\n"
     ]
    }
   ],
   "source": [
    "# Convert training data's text to integer\n",
    "\n",
    "####### In case considering each row in df.body is a sentence ######\n",
    "\n",
    "lenword_of_row = X_train.str.split().str.len().max() \n",
    "\n",
    "print(\"maxlen(sentence)=\",lenword_of_row)\n",
    "\n",
    "def manipulateSentence(s, sequence_length, min_sent_characters=1):\n",
    "    if (\"http\" not in s and len(s) >= min_sent_characters):\n",
    "         s = clean_str(s)\n",
    "    \n",
    "    #Pad special words. Note: Adding <START/END> is not obligation here as 1 row is 1 sentence\n",
    "    num_padding = sequence_length - len(s.split())\n",
    "    if num_padding >0:\n",
    "        temp = str([unknown_token] * num_padding)\n",
    "        s = ' '.join([s, temp])\n",
    "\n",
    "    # Append SENTENCE_START and SENTENCE_END\n",
    "    s = \" \".join([sentence_start_token, s, sentence_end_token])\n",
    "    \n",
    "    #convert word to integer\n",
    "    s = [word_to_index[c] if c in word_to_index else word_to_index[unknown_token] \\\n",
    "                                for c in s.split()]\n",
    "    if (len(s)!=sequence_length+2): print(len(s), sequence_length)\n",
    "    return s\n",
    "\n",
    "ss = X_train.map(lambda s: manipulateSentence(s, lenword_of_row))\n",
    "print(ss.head())\n",
    "\n",
    "lenword_of_row+=2\n",
    "# ss = X_train.map(lambda x: [word_to_index[c] if c in word_to_index else word_to_index[unknown_token] \\\n",
    "#                                        for c in x.split()] )\n",
    "\n"
   ]
  },
  {
   "cell_type": "code",
   "execution_count": 18,
   "metadata": {},
   "outputs": [
    {
     "data": {
      "text/plain": [
       "(15000, 1938)"
      ]
     },
     "execution_count": 18,
     "metadata": {},
     "output_type": "execute_result"
    }
   ],
   "source": [
    "x_temp = ss.values #[[5,2],[1,2,3],[1]]\n",
    "length = len(sorted(x_temp,key=len, reverse=True)[0])\n",
    "X_train_word = np.array([xi+[None]*(length-len(xi)) for xi in x_temp])\n",
    "X_train_word.shape"
   ]
  },
  {
   "cell_type": "markdown",
   "metadata": {},
   "source": [
    "## Char-level Model"
   ]
  },
  {
   "cell_type": "code",
   "execution_count": 19,
   "metadata": {},
   "outputs": [],
   "source": [
    "hidden_size = 200 # nb of neurons in hidden layer\n",
    "seq_length = 25 # number of steps to unroll the RNN for, and this is also nb of chars putting in the input of RNN\n",
    "learning_rate = 1e-1\n",
    "\n",
    "vocab_size = len(chars) + 1\n",
    "\n",
    "#init parameters\n",
    "W_hh = np.random.randn(hidden_size, hidden_size) #(H,H)\n",
    "W_xh = np.random.randn(vocab_size, hidden_size) #(D,H)\n",
    "W_hy = np.random.randn(hidden_size, vocab_size) #(H,M), M=D\n",
    "b_h = np.zeros((1,hidden_size)) #(H,)\n",
    "b_y = np.zeros((1,vocab_size)) #(M,)\n"
   ]
  },
  {
   "cell_type": "markdown",
   "metadata": {},
   "source": [
    "## Layers"
   ]
  },
  {
   "cell_type": "code",
   "execution_count": 20,
   "metadata": {},
   "outputs": [],
   "source": [
    "#Reference from @Karpathy: https://gist.github.com/karpathy/d4dee566867f8291f086\n",
    "#\n",
    "#                         [b_h]                                                [b_y]\n",
    "#    w2v                    v                                (h_next)            v\n",
    "#  x --> x_s -> [W_xh] -> [sum] -> h_raw -> [nonlinearity] -> h_s -> [W_hy] -> [sum] -> y_s -> [exp(y[k])/sum(exp(y))] -> p_s\n",
    "#                           ^                                  |\n",
    "#                           '----h_prev------[W_hh]------------'\n",
    "#\n"
   ]
  },
  {
   "cell_type": "markdown",
   "metadata": {},
   "source": [
    "### RNN Forward"
   ]
  },
  {
   "cell_type": "code",
   "execution_count": 41,
   "metadata": {},
   "outputs": [],
   "source": [
    "def rnn_forward_single_step(x, h_prev, W_xh, W_hh, W_hy, b_h, b_y):\n",
    "    \"\"\"\n",
    "    Run the forward pass for a single timestep of a vanilla RNN that uses a tanh\n",
    "    activation function.\n",
    "\n",
    "    The input data has dimension D, the hidden state has dimension H, and we use\n",
    "    a minibatch size of N.\n",
    "\n",
    "    Inputs:\n",
    "    - x: Input data for this timestep, of shape (N, D).\n",
    "    - h_prev: Hidden state from previous timestep, of shape (N, H)\n",
    "    - W_xh: Weight matrix for input-to-hidden connections, of shape (D, H)\n",
    "    - W_hh: Weight matrix for hidden-to-hidden connections, of shape (H, H)\n",
    "    - W_hy: Weight matrix for hidden-to-output connections, of shape (H, M)\n",
    "    - b_h: Biases of shape (H,)\n",
    "    - b_y: Bias of shape (M, )\n",
    "\n",
    "    Returns a tuple of:\n",
    "    - h_next: Next hidden state, of shape (N, H)\n",
    "    - y_s: output of this timestep (N, M)\n",
    "    - cache: Tuple of values needed for the backward pass.\n",
    "    \"\"\"\n",
    "    \n",
    "    h_raw = np.dot(x, W_xh) + np.dot(h_prev, W_hh) + b_h  #(N,D)x(D,H) + (N,H)x(H,H) +(1,H) = (N,H)\n",
    "    h_next = np.tanh(h_raw) #(N, H)\n",
    "    y_s = np.dot(h_next, W_hy) + b_y #(N, H)x(H,M) +(1,M) =(N,M)\n",
    "#     p_s = np.exp(y_s) / np.sum(np.exp(y_s), axis=0)\n",
    "    \n",
    "    cache = (x, h_prev, h_next, W_xh, W_hh, W_hy, b_h, b_y)\n",
    "    return h_next, y_s, cache\n",
    "\n",
    "\n",
    "def rnn_forward(x, h0, W_xh, W_hh, W_hy, b_h, b_y):\n",
    "    \"\"\"\n",
    "    Run a vanilla RNN forward on an entire sequence of data. We assume an input\n",
    "    sequence composed of T vectors (each vector represents a word/char), each of dimension D. \n",
    "    The RNN uses a hidden\n",
    "    size of H, and we work over a minibatch containing N sequences. After running\n",
    "    the RNN forward, we return the hidden states for all timesteps.\n",
    "    Inputs:\n",
    "    - x: Input data for the entire timeseries, of shape (N, T, D).\n",
    "    - h0: Initial hidden state, of shape (N, H)\n",
    "    - W_xh: Weight matrix for input-to-hidden connections, of shape (D, H)\n",
    "    - W_hh: Weight matrix for hidden-to-hidden connections, of shape (H, H)\n",
    "    - W_hy: Weight matrix for hidden-to-output connections, of shape (H, M)\n",
    "    - b_h: Biases of shape (H,)\n",
    "    - b_y: Bias of shape (M, )\n",
    "    Returns a tuple of:\n",
    "    - h: Hidden states for the entire timeseries, of shape (N, T, H)\n",
    "    - y: Output of the entire timeseries, of shape (N, T, M)\n",
    "    - cache: Values needed in the backward pass\n",
    "    \"\"\"\n",
    "    N, T, D = x.shape\n",
    "    H, M = W_hy.shape\n",
    "    \n",
    "    h = np.empty((N, T, H))\n",
    "    cache = {}\n",
    "    y_s = np.empty((N, T, M))\n",
    "    \n",
    "    print(\"N=%d, T=%d, D=%d, H=%d, M=%d\" %(N, T,D,H,M))\n",
    "    for i in range(T):\n",
    "        if i==0: \n",
    "            h[:, i, :], y_s[:, i, :], cache[i] = rnn_forward_single_step(x[:,i,:], h0, W_xh, W_hh, W_hy, b_h, b_y)\n",
    "        else: \n",
    "            h[:, i, :], y_s[:, i, :], cache[i] = rnn_forward_single_step(x[:,i,:], h[:, i-1, :], W_xh, W_hh, W_hy, b_h, b_y)\n",
    "    \n",
    "    return h, y_s, cache\n",
    "\n",
    "\n"
   ]
  },
  {
   "cell_type": "markdown",
   "metadata": {},
   "source": [
    "### RNN Backward"
   ]
  },
  {
   "cell_type": "code",
   "execution_count": 42,
   "metadata": {},
   "outputs": [],
   "source": [
    "#Reference from @Karpathy: https://gist.github.com/karpathy/d4dee566867f8291f086\n",
    "#\n",
    "#                         [b_h] (1,H)                                         [b_y] (1,M)\n",
    "#    w2v                    v      (N,H)                     (N,H)   (H,M)       v\n",
    "#  x --> x_s -> [W_xh] -> [sum] -> h_raw -> [nonlinearity] -> h_s -> [W_hy] -> [sum] -> y_s -> [exp(y[k])/sum(exp(y))] -> p_s\n",
    "# (N,D)         (D,H)       ^                                  |                       (N,M)\n",
    "#                           '----h_prev------[W_hh]------------'\n",
    "#                                (N,H)       (H,H)\n",
    "\n",
    "def rnn_backward_single_step (dh_next, dy, cache):\n",
    "    \"\"\"\n",
    "    Backward pass for a single timestep of a vanilla RNN.\n",
    "    Inputs:\n",
    "    - dh_next: Gradient of loss with respect to next hidden state (N, H)\n",
    "    - dy: of shape (N,M)\n",
    "    - cache: Cache object from the forward pass\n",
    "    Returns a tuple of:\n",
    "    - dx: Gradients of input data, of shape (N, D)\n",
    "    - dh_prev: Gradients of previous hidden state, of shape (N, H)\n",
    "    - dWxh: Gradients of input-to-hidden weights, of shape (D, H)\n",
    "    - dWhh: Gradients of hidden-to-hidden weights, of shape (H, H)\n",
    "    - dWhy: Gradients of hidden-to-output weights, of shape (H, M)\n",
    "    - dbh: Gradients of bias vector, of shape (H,)\n",
    "    - dby: Gradients of bias vector, of shape (M,)\n",
    "    \n",
    "    \"\"\"\n",
    "    dx, dh_prev, dWxh, dWhh, dWhy, dbh, dby = None, None, None, None, None, None, None\n",
    "    x, h_prev, h_next, W_xh, W_hh, W_hy, b_h, b_y = cache\n",
    "    \n",
    "    \n",
    "    \n",
    "    dby = np.sum(dy, axis=0) #(1,M)\n",
    "    dWhy = np.dot(h_next.T, dy) #(H,N)x(N,M) = (H,M)\n",
    "    dh = np.dot(dy, Why.T) + dh_next # backprop into h, (N,M)x(M,H)=(N,H)\n",
    "    dh_raw = (1 - h_next ** 2) * dh # note: tanh(x)' = 1 - tanh^2(x), shape=(N,H)\n",
    "    dbh = np.sum(dh_raw, axis=0) #(1,H)\n",
    "    dWxh = np.dot(x.T, dh_raw) # (D,N)x(N,H) = (D,H)\n",
    "    dWhh = np.dot(h_prev.T, dh_raw) # (H,N)x(N,H)=(H,H)\n",
    "    dx = np.dot(dh_raw, W_xh.T) # (N,H)x(H,D) = (N,D)\n",
    "    dh_prev = np.dot(dh_raw, W_hh.T) # (N,H)x(H,H) = (N,H)\n",
    "    \n",
    "    ########\n",
    "#     dpre_actv = (1 - next_h ** 2) * dnext_h         # (N, H)\n",
    "#     dx = dpre_actv.dot(Wx.T)\n",
    "#     dprev_h = dpre_actv.dot(Wh.T) #(N,H)x(H,H)=(N,H)\n",
    "#     dWx = x.T.dot(dpre_actv)\n",
    "#     dWh = prev_h.T.dot(dpre_actv)\n",
    "#     db = np.sum(dpre_actv, 0)\n",
    "    \n",
    "    \n",
    "#     dWhy += np.dot(dy, hs[t].T)\n",
    "#     dby += dy\n",
    "#     dh = np.dot(Why.T, dy) + dhnext # backprop into h\n",
    "#     dhraw = (1 - hs[t] * hs[t]) * dh # backprop through tanh nonlinearity\n",
    "#     dbh += dhraw\n",
    "#     dWxh += np.dot(dhraw, xs[t].T)\n",
    "#     dWhh += np.dot(dhraw, hs[t-1].T)\n",
    "#     dhnext = np.dot(Whh.T, dhraw)\n",
    "    \n",
    "    return dx, dh_prev, dWxh, dWhh, dWhy, dbh, dby\n",
    "\n",
    "\n",
    "def rnn_backward(dh, dy, cache):\n",
    "    \"\"\"\n",
    "    Compute the backward pass for a vanilla RNN over an entire sequence of data.\n",
    "    Inputs:\n",
    "    - dh: Upstream gradients of all hidden states, of shape (N, T, H)\n",
    "    - dy: Upstream gradients of output, of shape (N, M)\n",
    "    - cache\n",
    "    Returns a tuple of:\n",
    "    - dx: Gradient of inputs, of shape (N, T, D)\n",
    "    - dh0: Gradient of initial hidden state, of shape (N, H)\n",
    "    - dWx: Gradient of input-to-hidden weights, of shape (D, H)\n",
    "    - dWh: Gradient of hidden-to-hidden weights, of shape (H, H)\n",
    "    - dbh: Gradient of biases, of shape (H,)\n",
    "    - dby: Gradient of biases, of shape (M,)\n",
    "    \"\"\"\n",
    "    N, T, H =dh.shape\n",
    "    N, M = dy.shape\n",
    "    \n",
    "    \n",
    "    dx = np.empty((N,T,D))\n",
    "    dWxh = np.zeros((D,H))\n",
    "    dWhh = np.zeros((H,H))\n",
    "    dWhy = np.zeros((H,M))\n",
    "    dbh = np.zeros((1,H))\n",
    "    dby = np.zeros((1,M))\n",
    "    dh_prev = 0\n",
    "    \n",
    "    for i in reversed(range(T)):\n",
    "        # Add the current timestep upstream gradient to previous calculated dh\n",
    "        dh_next = dh_prev + dh[:,i,:]\n",
    "        dx[:,i,:], dh_prev, dWxh_temp, dWhh_temp, dWhy_temp, dbh_temp, dby_temp = \\\n",
    "                rnn_backward_single_step(dh_next, dy[:,i,:], cache[i])\n",
    "        dWxh += dWxh_temp\n",
    "        dWhy += dWhy_temp\n",
    "        dWhh += dWhh_temp\n",
    "        dbh += dbh_temp\n",
    "        dby += dby_temp\n",
    "    \n",
    "    dh0 = dh_prev\n",
    "    return dx, dh0, dWxh, dWhh, dWhy, dbh, dby\n",
    "    "
   ]
  },
  {
   "cell_type": "markdown",
   "metadata": {},
   "source": [
    "### Affine forward/backward"
   ]
  },
  {
   "cell_type": "code",
   "execution_count": 43,
   "metadata": {},
   "outputs": [],
   "source": [
    "## Affine forward\n",
    "def affine_forward(x, W, b):\n",
    "    \"\"\"\n",
    "    Inputs:\n",
    "    x - Input data, of shape (N, D) #may be generally (N,d1,...d_k) \n",
    "    w - Weights, of shape (D, M)\n",
    "    b - Biases, of shape (M,)\n",
    "\n",
    "    Returns a tuple of:\n",
    "    - out: output, of shape (N, M)\n",
    "    - cache: (x, w, b)\n",
    "    \"\"\"\n",
    "    \n",
    "    out = np.dot(np.reshape(x,(N,-1)), W) + b #out = xW+b\n",
    "    cache = (x, W, b)\n",
    "    return out, cache\n",
    "\n",
    "## Affine backward\n",
    "def affine_backward(dout, cache):\n",
    "    \"\"\"\n",
    "    Inputs:\n",
    "    - dout: Upstream derivative, of shape (N, M)\n",
    "    - cache: Tuple of:\n",
    "      - x: Input data, of shape (N, D)\n",
    "      - w: Weights, of shape (D, M)\n",
    "\n",
    "    Returns a tuple of:\n",
    "    - dx: Gradient with respect to x, of shape (N, D)\n",
    "    - dw: Gradient with respect to w, of shape (D, M)\n",
    "    - db: Gradient with respect to b, of shape (M,)\n",
    "    \"\"\"    \n",
    "    x, W, b = cache\n",
    "    db = np.sum(dout, axis=0)\n",
    "    dx = dout.dot(W.T).reshape(x.shape)\n",
    "    dw = x.reshape(x.shape[0], -1).T.dot(dout)\n",
    "    "
   ]
  },
  {
   "cell_type": "markdown",
   "metadata": {},
   "source": [
    "### Softmax"
   ]
  },
  {
   "cell_type": "code",
   "execution_count": 93,
   "metadata": {},
   "outputs": [],
   "source": [
    "def temporal_softmax_loss (y_s, y, mask, verbose=False):\n",
    "    \"\"\"\n",
    "    A temporal version of softmax loss for use in RNNs. We assume that we are\n",
    "    making predictions over a vocabulary of size M for each timestep of a\n",
    "    timeseries of length T, over a minibatch of size N. The input y_s gives SCORES\n",
    "    for all vocabulary elements at all timesteps, and y gives the INDICES of the\n",
    "    ground-truth element at each timestep. We use a cross-entropy loss at each\n",
    "    timestep, summing the loss over all timesteps and averaging across the minibatch.\n",
    "    \n",
    "    As an additional complication, we may want to ignore the model output at some\n",
    "    timesteps, since sequences of different length may have been combined into a\n",
    "    minibatch and padded with NULL tokens. The optional mask argument tells us\n",
    "    which elements should contribute to the loss.\n",
    "    \n",
    "    Inputs:\n",
    "    - y_s: Input scores, of shape (N, T, M)\n",
    "    - y: Ground-truth indices, of shape (N, T) where each element is in the range\n",
    "         0 <= y[i, t] < M\n",
    "    - mask: Boolean array of shape (N, T) where mask[i, t] tells whether or not\n",
    "      the scores at y_s[i, t] should contribute to the loss.\n",
    "    Returns a tuple of:\n",
    "    - loss: Scalar giving loss\n",
    "    - dy_s: Gradient of loss with respect to scores y_s, of shape (N, T, M)\n",
    "    \"\"\"\n",
    "    \n",
    "    N, T, M = y_s.shape\n",
    "\n",
    "    ys_flat = y_s.reshape(N * T, M)\n",
    "    y_flat = y.reshape(N * T, 1)\n",
    "    mask_flat = mask.reshape(N * T, 1)\n",
    "\n",
    "    print(\"mask, mask_flat shapes = \", mask.shape, mask_flat.shape)\n",
    "    print(\"ys, ys_flat shapes = \", y_s.shape, ys_flat.shape)\n",
    "    print(\"y, y_flat shapes = \", y.shape, y_flat.shape)\n",
    "    \n",
    "    \n",
    "    probs = np.exp(ys_flat - np.max(ys_flat, axis=1, keepdims=True))\n",
    "    probs /= np.sum(probs, axis=1, keepdims=True)\n",
    "    print(\"-----calculating loss..... -------\", mask_flat.shape, y_flat.shape)\n",
    "    loss = -np.sum(mask_flat * np.log(probs[np.arange(N * T), y_flat])) / N\n",
    "    dys_flat = probs.copy()\n",
    "    dys_flat[np.arange(N * T), y_flat] -= 1\n",
    "    dys_flat /= N\n",
    "    print(\"-----calculating dx -------\", dys_flat.shape, mask_flat.shape)\n",
    "    dys_flat *= mask_flat[:, None]\n",
    "\n",
    "    if verbose: print('dys_flat: ', dys_flat.shape)\n",
    "\n",
    "    dy_s = dys_flat.reshape(N, T, M)\n",
    "\n",
    "    return loss, dy_s\n",
    "    "
   ]
  },
  {
   "cell_type": "markdown",
   "metadata": {},
   "source": [
    "### Word embedding"
   ]
  },
  {
   "cell_type": "code",
   "execution_count": 94,
   "metadata": {},
   "outputs": [],
   "source": [
    "def word_embedding_forward(x, W):\n",
    "    \"\"\"\n",
    "    Forward pass for word embeddings. We operate on minibatches of size N where\n",
    "    each sequence has length T. We assume a vocabulary of V words, assigning each\n",
    "    to a vector of dimension D.\n",
    "    Inputs:\n",
    "    - x: Integer array of shape (N, T) giving indices of words. Each element idx\n",
    "      of x muxt be in the range 0 <= idx < V.\n",
    "    - W: Weight matrix of shape (V, D) giving word vectors for all words.\n",
    "    Returns a tuple of:\n",
    "    - out: Array of shape (N, T, D) giving word vectors for all input words.\n",
    "    - cache: Values needed for the backward pass\n",
    "    \"\"\"\n",
    "    out = W[x, :] \n",
    "    cache = (x, W)\n",
    "    return out, cache\n",
    "\n",
    "\n",
    "def word_embedding_backward(dout, cache):\n",
    "    \"\"\"\n",
    "    Backward pass for word embeddings. We cannot back-propagate into the words\n",
    "    since they are integers, so we only return gradient for the word embedding\n",
    "    matrix.\n",
    "    Inputs:\n",
    "    - dout: Upstream gradients of shape (N, T, D)\n",
    "    - cache: Values from the forward pass\n",
    "    Returns:\n",
    "    - dW: Gradient of word embedding matrix, of shape (V, D).\n",
    "    \"\"\"\n",
    "    \n",
    "    # x: (N, T)\n",
    "    # W: (V, D)\n",
    "    x, W = cache\n",
    "    N, T, D = dout.shape\n",
    "\n",
    "    dW = np.zeros_like(W)\n",
    "    np.add.at(dW, x.reshape([-1]), dout.reshape([-1, D]))\n",
    "    \n",
    "    return dW\n",
    "\n"
   ]
  },
  {
   "cell_type": "markdown",
   "metadata": {},
   "source": [
    "## Classifier"
   ]
  },
  {
   "cell_type": "code",
   "execution_count": 95,
   "metadata": {},
   "outputs": [],
   "source": [
    "#Initialisation\n",
    "#Here, some vars are repeated to memorize\n",
    "\n",
    "hidden_size = 200 # H, nb of neurons in hidden layer\n",
    "seq_length = 25 # T, nb of steps to unroll the RNN for <=> nb of chars putting in the input of RNN\n",
    "data_size = len(df.body)\n",
    "\n",
    "\n",
    "type = \"char\"\n",
    "vocab_size = len(chars)+1 # D\n",
    "wordvec_size = vocab_size # V, if 'char' then D=V as we don't use wordvec\n",
    "\n",
    "if type==\"word\":\n",
    "    data_size = X_train_word.shape[0] #len(sents)\n",
    "    vocab_size = len(word_to_index)\n",
    "    wordvec_size = 128 # output embedding vector length\n",
    "\n",
    "#init word/char vector\n",
    "W_embed = np.random.randn(vocab_size, wordvec_size)\n",
    "W_embed /=100\n",
    "\n",
    "\n",
    "#init RNN parameters\n",
    "W_xh = np.random.randn(wordvec_size, hidden_size) #(V,H)\n",
    "W_xh /= wordvec_size\n",
    "W_hh = np.random.randn(hidden_size, hidden_size) #(H,H)\n",
    "W_hh /= hidden_size\n",
    "W_hy = np.random.randn(hidden_size, vocab_size) #(H,M)\n",
    "W_hy /= hidden_size\n",
    "b_h = np.zeros((1, hidden_size)) #(H,)\n",
    "b_y = np.zeros((1, vocab_size)) #(M,)\n",
    "\n",
    "h_prev = np.zeros((1, hidden_size))"
   ]
  },
  {
   "cell_type": "markdown",
   "metadata": {},
   "source": [
    "### Training loss"
   ]
  },
  {
   "cell_type": "markdown",
   "metadata": {
    "collapsed": true
   },
   "source": [
    "## Solver"
   ]
  },
  {
   "cell_type": "code",
   "execution_count": 96,
   "metadata": {},
   "outputs": [],
   "source": [
    "# parameters of training\n",
    "update_rule = 'sgd'\n",
    "optim_config={'learning_rate': 1e-2}\n",
    "lr_decay = 1.0\n",
    "data_size = df.body.shape[0]\n",
    "batch_size = 2 # N\n",
    "num_epochs = 10 # E\n",
    "print_every = 100\n",
    "verbose = True\n",
    "loss_history = []"
   ]
  },
  {
   "cell_type": "markdown",
   "metadata": {},
   "source": [
    "#### Update rules "
   ]
  },
  {
   "cell_type": "code",
   "execution_count": 97,
   "metadata": {},
   "outputs": [],
   "source": [
    "\n",
    "def sgd(w, dw, config=None):\n",
    "    \"\"\"\n",
    "    Vanilla SGD\n",
    "    config format:\n",
    "    - learning_rate: Scalar learning rate.\n",
    "    \"\"\"\n",
    "    if config is None: config = {}\n",
    "    config.setdefault('learning_rate', 1e-2)\n",
    "\n",
    "    w -= config['learning_rate'] * dw\n",
    "    return w, config\n",
    "\n",
    "\n",
    "def adam(x, dx, config=None):\n",
    "    \"\"\"\n",
    "    Uses the Adam update rule, which incorporates moving averages of both the\n",
    "    gradient and its square and a bias correction term.\n",
    "\n",
    "    config format:\n",
    "    - learning_rate: Scalar learning rate.\n",
    "    - beta1: Decay rate for moving average of first moment of gradient.\n",
    "    - beta2: Decay rate for moving average of second moment of gradient.\n",
    "    - epsilon: Small scalar used for smoothing to avoid dividing by zero.\n",
    "    - m: Moving average of gradient.\n",
    "    - v: Moving average of squared gradient.\n",
    "    - t: Iteration number.\n",
    "    \"\"\"\n",
    "    if config is None: config = {}\n",
    "    config.setdefault('learning_rate', 1e-3)\n",
    "    config.setdefault('beta1', 0.9)\n",
    "    config.setdefault('beta2', 0.999)\n",
    "    config.setdefault('epsilon', 1e-8)\n",
    "    config.setdefault('m', np.zeros_like(x))\n",
    "    config.setdefault('v', np.zeros_like(x))\n",
    "    config.setdefault('t', 0)\n",
    "\n",
    "    next_x = None\n",
    "    beta1, beta2, eps = config['beta1'], config['beta2'], config['epsilon']\n",
    "    t, m, v = config['t'], config['m'], config['v']\n",
    "    m = beta1 * m + (1 - beta1) * dx\n",
    "    v = beta2 * v + (1 - beta2) * (dx * dx)\n",
    "    t += 1\n",
    "    alpha = config['learning_rate'] * np.sqrt(1 - beta2 ** t) / (1 - beta1 ** t)\n",
    "    x -= alpha * (m / (np.sqrt(v) + eps))\n",
    "    config['t'] = t\n",
    "    config['m'] = m\n",
    "    config['v'] = v\n",
    "    next_x = x\n",
    "\n",
    "    return next_x, config"
   ]
  },
  {
   "cell_type": "code",
   "execution_count": 98,
   "metadata": {},
   "outputs": [],
   "source": [
    "\n",
    "def trainingLoss(text, img_fea=None, mode='train', type='char'):\n",
    "    \"\"\"\n",
    "    Compute training-time loss.\n",
    "    Inputs:\n",
    "    - img_fea: Image features (used for captioning), of shape (N, D)\n",
    "    - text: Ground-truth texts (e.g., captions); an integer array of shape (N, T) where\n",
    "        each element is in the range 0 <= y[i, t] < M\n",
    "    Returns:\n",
    "        If training=True, then run a test-time forward pass of the model and return:\n",
    "        - scores: Array of shape (N, M) giving classification scores, where\n",
    "          scores[i, c] is the classification score for y[i] and the word/char with index c.\n",
    "\n",
    "        Else, then run a training-time forward and backward pass and\n",
    "        return a tuple of:\n",
    "        - loss: Scalar value giving the loss\n",
    "        - grads: Dictionary of gradients \n",
    "    \"\"\"\n",
    "    \n",
    "    # Divide 'text' into two pieces \n",
    "#     text_in = text.map(lambda x: x[:-1])\n",
    "#     text_out = text.map(lambda x: x[1:])\n",
    "    text_in = text[:, :-1]\n",
    "    text_out = text[:, 1:]\n",
    "    print(text_in.shape, text_out.shape) # (2, 9518) = N, T\n",
    "    \n",
    "    if type=='word':  mask = (text_out != word_to_index[unknown_token])\n",
    "    else: mask = (text_out != char_to_index[unknown_char])\n",
    "    \n",
    "    print(mask, mask.shape) #(2, 9518) = N, T\n",
    "    ##### FORWARD STEPS ######\n",
    "    embedded_text, cache_word_embedding = None, None\n",
    "    \n",
    "    # Embed the input word captions.\n",
    "#     if type=='word':\n",
    "    embedded_text, cache_word_embedding = word_embedding_forward(text_in, W_embed)\n",
    "#     else: embedded_text = text_in\n",
    "    \n",
    "    print(embedded_text.shape) # (N, T, D) = (2, 9518, 47)\n",
    "\n",
    "    #RNN forward\n",
    "    h, y_s, cache_rnn = rnn_forward(embedded_text, h_prev, W_xh, W_hh, W_hy, b_h, b_y)\n",
    "    \n",
    "    if mode=='test':\n",
    "        return y_s\n",
    "    \n",
    "    loss, grads = 0.0, {}\n",
    "\n",
    "    #Softmax\n",
    "    loss, dy_s = temporal_softmax_loss(y_s, text_out, mask)\n",
    "    \n",
    "    ##### BACKWARD STEPS ######\n",
    "    \n",
    "    #Backprop dy_s to get gradients\n",
    "    dx, dh0, dWxh, dWhh, dWhy, dbh, dby = rnn_backward(dy_s, cache_rnn)\n",
    "    grads['Wxh'], grads['Whh'], grads['Why'], grads['bh'], grads['by'] = dbh, dWxh, dWhh, dbh, dby\n",
    "\n",
    "    # Backprop dx to get gradient for word embedding weights.\n",
    "#     if (type=='word'):\n",
    "    dW_embed = word_embedding_backward(dx, cache_word_embedding)\n",
    "    grads['W_embed'] = dW_embed\n",
    "    \n",
    "    return loss, grads\n",
    "    "
   ]
  },
  {
   "cell_type": "code",
   "execution_count": 99,
   "metadata": {
    "scrolled": false
   },
   "outputs": [
    {
     "name": "stdout",
     "output_type": "stream",
     "text": [
      "(2, 9518) (2, 9518)\n",
      "[[ True  True  True ..., False False False]\n",
      " [ True  True  True ..., False False False]] (2, 9518)\n",
      "(2, 9518, 47)\n",
      "N=2, T=9518, D=47, H=200, M=47\n",
      "mask, mask_flat shapes =  (2, 9518) (19036, 1)\n",
      "ys, ys_flat shapes =  (2, 9518, 47) (19036, 47)\n",
      "y, y_flat shapes =  (2, 9518) (19036, 1)\n",
      "-----calculating loss..... ------- (19036, 1) (19036, 1)\n"
     ]
    },
    {
     "ename": "ValueError",
     "evalue": "shapes (19036,1) and (19036,19036) not aligned: 1 (dim 1) != 19036 (dim 0)",
     "output_type": "error",
     "traceback": [
      "\u001b[0;31m---------------------------------------------------------------------------\u001b[0m",
      "\u001b[0;31mValueError\u001b[0m                                Traceback (most recent call last)",
      "\u001b[0;32m<ipython-input-99-85eb50bc1525>\u001b[0m in \u001b[0;36m<module>\u001b[0;34m()\u001b[0m\n\u001b[1;32m     87\u001b[0m \u001b[0;31m#         n += 1 # iteration counter\u001b[0m\u001b[0;34m\u001b[0m\u001b[0;34m\u001b[0m\u001b[0m\n\u001b[1;32m     88\u001b[0m \u001b[0;34m\u001b[0m\u001b[0m\n\u001b[0;32m---> 89\u001b[0;31m \u001b[0mtrain\u001b[0m\u001b[0;34m(\u001b[0m\u001b[0;34m)\u001b[0m\u001b[0;34m\u001b[0m\u001b[0m\n\u001b[0m",
      "\u001b[0;32m<ipython-input-99-85eb50bc1525>\u001b[0m in \u001b[0;36mtrain\u001b[0;34m()\u001b[0m\n\u001b[1;32m     30\u001b[0m     \u001b[0;32mfor\u001b[0m \u001b[0mt\u001b[0m \u001b[0;32min\u001b[0m \u001b[0mrange\u001b[0m\u001b[0;34m(\u001b[0m\u001b[0mnum_iterations\u001b[0m\u001b[0;34m)\u001b[0m\u001b[0;34m:\u001b[0m\u001b[0;34m\u001b[0m\u001b[0m\n\u001b[1;32m     31\u001b[0m             \u001b[0;31m#Execute one step of training\u001b[0m\u001b[0;34m\u001b[0m\u001b[0;34m\u001b[0m\u001b[0m\n\u001b[0;32m---> 32\u001b[0;31m             \u001b[0mexecuteStep\u001b[0m\u001b[0;34m(\u001b[0m\u001b[0;34m)\u001b[0m\u001b[0;34m\u001b[0m\u001b[0m\n\u001b[0m\u001b[1;32m     33\u001b[0m \u001b[0;34m\u001b[0m\u001b[0m\n\u001b[1;32m     34\u001b[0m             \u001b[0;31m# print loss for debug\u001b[0m\u001b[0;34m\u001b[0m\u001b[0;34m\u001b[0m\u001b[0m\n",
      "\u001b[0;32m<ipython-input-99-85eb50bc1525>\u001b[0m in \u001b[0;36mexecuteStep\u001b[0;34m()\u001b[0m\n\u001b[1;32m     18\u001b[0m \u001b[0;34m\u001b[0m\u001b[0m\n\u001b[1;32m     19\u001b[0m     \u001b[0;31m#compute loss for this batch\u001b[0m\u001b[0;34m\u001b[0m\u001b[0;34m\u001b[0m\u001b[0m\n\u001b[0;32m---> 20\u001b[0;31m     \u001b[0mloss\u001b[0m\u001b[0;34m,\u001b[0m \u001b[0mgrads\u001b[0m \u001b[0;34m=\u001b[0m \u001b[0mtrainingLoss\u001b[0m\u001b[0;34m(\u001b[0m\u001b[0mX_batch\u001b[0m\u001b[0;34m)\u001b[0m\u001b[0;34m\u001b[0m\u001b[0m\n\u001b[0m\u001b[1;32m     21\u001b[0m \u001b[0;34m\u001b[0m\u001b[0m\n\u001b[1;32m     22\u001b[0m \u001b[0;32mdef\u001b[0m \u001b[0mtrain\u001b[0m\u001b[0;34m(\u001b[0m\u001b[0;34m)\u001b[0m\u001b[0;34m:\u001b[0m\u001b[0;34m\u001b[0m\u001b[0m\n",
      "\u001b[0;32m<ipython-input-98-70139b16fa23>\u001b[0m in \u001b[0;36mtrainingLoss\u001b[0;34m(text, img_fea, mode, type)\u001b[0m\n\u001b[1;32m     48\u001b[0m \u001b[0;34m\u001b[0m\u001b[0m\n\u001b[1;32m     49\u001b[0m     \u001b[0;31m#Softmax\u001b[0m\u001b[0;34m\u001b[0m\u001b[0;34m\u001b[0m\u001b[0m\n\u001b[0;32m---> 50\u001b[0;31m     \u001b[0mloss\u001b[0m\u001b[0;34m,\u001b[0m \u001b[0mdy_s\u001b[0m \u001b[0;34m=\u001b[0m \u001b[0mtemporal_softmax_loss\u001b[0m\u001b[0;34m(\u001b[0m\u001b[0my_s\u001b[0m\u001b[0;34m,\u001b[0m \u001b[0mtext_out\u001b[0m\u001b[0;34m,\u001b[0m \u001b[0mmask\u001b[0m\u001b[0;34m)\u001b[0m\u001b[0;34m\u001b[0m\u001b[0m\n\u001b[0m\u001b[1;32m     51\u001b[0m \u001b[0;34m\u001b[0m\u001b[0m\n\u001b[1;32m     52\u001b[0m     \u001b[0;31m##### BACKWARD STEPS ######\u001b[0m\u001b[0;34m\u001b[0m\u001b[0;34m\u001b[0m\u001b[0m\n",
      "\u001b[0;32m<ipython-input-93-b977308dc9ea>\u001b[0m in \u001b[0;36mtemporal_softmax_loss\u001b[0;34m(y_s, y, mask, verbose)\u001b[0m\n\u001b[1;32m     38\u001b[0m     \u001b[0mprobs\u001b[0m \u001b[0;34m/=\u001b[0m \u001b[0mnp\u001b[0m\u001b[0;34m.\u001b[0m\u001b[0msum\u001b[0m\u001b[0;34m(\u001b[0m\u001b[0mprobs\u001b[0m\u001b[0;34m,\u001b[0m \u001b[0maxis\u001b[0m\u001b[0;34m=\u001b[0m\u001b[0;36m1\u001b[0m\u001b[0;34m,\u001b[0m \u001b[0mkeepdims\u001b[0m\u001b[0;34m=\u001b[0m\u001b[0;32mTrue\u001b[0m\u001b[0;34m)\u001b[0m\u001b[0;34m\u001b[0m\u001b[0m\n\u001b[1;32m     39\u001b[0m     \u001b[0mprint\u001b[0m\u001b[0;34m(\u001b[0m\u001b[0;34m\"-----calculating loss..... -------\"\u001b[0m\u001b[0;34m,\u001b[0m \u001b[0mmask_flat\u001b[0m\u001b[0;34m.\u001b[0m\u001b[0mshape\u001b[0m\u001b[0;34m,\u001b[0m \u001b[0my_flat\u001b[0m\u001b[0;34m.\u001b[0m\u001b[0mshape\u001b[0m\u001b[0;34m)\u001b[0m\u001b[0;34m\u001b[0m\u001b[0m\n\u001b[0;32m---> 40\u001b[0;31m     \u001b[0mloss\u001b[0m \u001b[0;34m=\u001b[0m \u001b[0;34m-\u001b[0m\u001b[0mnp\u001b[0m\u001b[0;34m.\u001b[0m\u001b[0msum\u001b[0m\u001b[0;34m(\u001b[0m\u001b[0mmask_flat\u001b[0m \u001b[0;34m*\u001b[0m \u001b[0mnp\u001b[0m\u001b[0;34m.\u001b[0m\u001b[0mlog\u001b[0m\u001b[0;34m(\u001b[0m\u001b[0mprobs\u001b[0m\u001b[0;34m[\u001b[0m\u001b[0mnp\u001b[0m\u001b[0;34m.\u001b[0m\u001b[0marange\u001b[0m\u001b[0;34m(\u001b[0m\u001b[0mN\u001b[0m \u001b[0;34m*\u001b[0m \u001b[0mT\u001b[0m\u001b[0;34m)\u001b[0m\u001b[0;34m,\u001b[0m \u001b[0my_flat\u001b[0m\u001b[0;34m]\u001b[0m\u001b[0;34m)\u001b[0m\u001b[0;34m)\u001b[0m \u001b[0;34m/\u001b[0m \u001b[0mN\u001b[0m\u001b[0;34m\u001b[0m\u001b[0m\n\u001b[0m\u001b[1;32m     41\u001b[0m     \u001b[0mdys_flat\u001b[0m \u001b[0;34m=\u001b[0m \u001b[0mprobs\u001b[0m\u001b[0;34m.\u001b[0m\u001b[0mcopy\u001b[0m\u001b[0;34m(\u001b[0m\u001b[0;34m)\u001b[0m\u001b[0;34m\u001b[0m\u001b[0m\n\u001b[1;32m     42\u001b[0m     \u001b[0mdys_flat\u001b[0m\u001b[0;34m[\u001b[0m\u001b[0mnp\u001b[0m\u001b[0;34m.\u001b[0m\u001b[0marange\u001b[0m\u001b[0;34m(\u001b[0m\u001b[0mN\u001b[0m \u001b[0;34m*\u001b[0m \u001b[0mT\u001b[0m\u001b[0;34m)\u001b[0m\u001b[0;34m,\u001b[0m \u001b[0my_flat\u001b[0m\u001b[0;34m]\u001b[0m \u001b[0;34m-=\u001b[0m \u001b[0;36m1\u001b[0m\u001b[0;34m\u001b[0m\u001b[0m\n",
      "\u001b[0;32m~/anaconda3/lib/python3.6/site-packages/numpy/matrixlib/defmatrix.py\u001b[0m in \u001b[0;36m__mul__\u001b[0;34m(self, other)\u001b[0m\n\u001b[1;32m    341\u001b[0m         \u001b[0;32mif\u001b[0m \u001b[0misinstance\u001b[0m\u001b[0;34m(\u001b[0m\u001b[0mother\u001b[0m\u001b[0;34m,\u001b[0m \u001b[0;34m(\u001b[0m\u001b[0mN\u001b[0m\u001b[0;34m.\u001b[0m\u001b[0mndarray\u001b[0m\u001b[0;34m,\u001b[0m \u001b[0mlist\u001b[0m\u001b[0;34m,\u001b[0m \u001b[0mtuple\u001b[0m\u001b[0;34m)\u001b[0m\u001b[0;34m)\u001b[0m \u001b[0;34m:\u001b[0m\u001b[0;34m\u001b[0m\u001b[0m\n\u001b[1;32m    342\u001b[0m             \u001b[0;31m# This promotes 1-D vectors to row vectors\u001b[0m\u001b[0;34m\u001b[0m\u001b[0;34m\u001b[0m\u001b[0m\n\u001b[0;32m--> 343\u001b[0;31m             \u001b[0;32mreturn\u001b[0m \u001b[0mN\u001b[0m\u001b[0;34m.\u001b[0m\u001b[0mdot\u001b[0m\u001b[0;34m(\u001b[0m\u001b[0mself\u001b[0m\u001b[0;34m,\u001b[0m \u001b[0masmatrix\u001b[0m\u001b[0;34m(\u001b[0m\u001b[0mother\u001b[0m\u001b[0;34m)\u001b[0m\u001b[0;34m)\u001b[0m\u001b[0;34m\u001b[0m\u001b[0m\n\u001b[0m\u001b[1;32m    344\u001b[0m         \u001b[0;32mif\u001b[0m \u001b[0misscalar\u001b[0m\u001b[0;34m(\u001b[0m\u001b[0mother\u001b[0m\u001b[0;34m)\u001b[0m \u001b[0;32mor\u001b[0m \u001b[0;32mnot\u001b[0m \u001b[0mhasattr\u001b[0m\u001b[0;34m(\u001b[0m\u001b[0mother\u001b[0m\u001b[0;34m,\u001b[0m \u001b[0;34m'__rmul__'\u001b[0m\u001b[0;34m)\u001b[0m \u001b[0;34m:\u001b[0m\u001b[0;34m\u001b[0m\u001b[0m\n\u001b[1;32m    345\u001b[0m             \u001b[0;32mreturn\u001b[0m \u001b[0mN\u001b[0m\u001b[0;34m.\u001b[0m\u001b[0mdot\u001b[0m\u001b[0;34m(\u001b[0m\u001b[0mself\u001b[0m\u001b[0;34m,\u001b[0m \u001b[0mother\u001b[0m\u001b[0;34m)\u001b[0m\u001b[0;34m\u001b[0m\u001b[0m\n",
      "\u001b[0;31mValueError\u001b[0m: shapes (19036,1) and (19036,19036) not aligned: 1 (dim 1) != 19036 (dim 0)"
     ]
    }
   ],
   "source": [
    "# def sample_minibatch(data, batch_size=2, datatype='train'):\n",
    "#     mask = np.random.choice(data., )\n",
    "\n",
    "def executeStep():\n",
    "    \"\"\"\n",
    "    Execute one iteration of training\n",
    "    \"\"\"\n",
    "    #sample data\n",
    "    N = X_train.shape[0]\n",
    "    batch_mask = np.random.choice(N, batch_size)\n",
    "    \n",
    "\n",
    "    #convert text into interger arrays\n",
    "    if (type=='char'): \n",
    "        X_batch = X_train_char[batch_mask]\n",
    "    else: X_batch = X_train_word[batch_mask]\n",
    "    \n",
    "    \n",
    "    #compute loss for this batch\n",
    "    loss, grads = trainingLoss(X_batch)\n",
    "\n",
    "def train():\n",
    "    \"\"\"\n",
    "    Train the model\n",
    "    \"\"\"\n",
    "    num_train = data_size \n",
    "    iterations_per_epoch = max (num_train//batch_size, 1)\n",
    "    num_iterations = num_epochs * iterations_per_epoch\n",
    "    \n",
    "    for t in range(num_iterations):\n",
    "            #Execute one step of training\n",
    "            executeStep()\n",
    "\n",
    "            # print loss for debug \n",
    "#             if verbose and t % print_every == 0:\n",
    "#                 print('(Iteration %d / %d) loss: %f' % (\n",
    "#                        t + 1, num_iterations, loss_history[-1]))\n",
    "\n",
    "            # Increment the epoch counter and decay the learning rate.\n",
    "            epoch_end = (t + 1) % iterations_per_epoch == 0\n",
    "            if epoch_end:\n",
    "                self.epoch += 1\n",
    "                for k in self.optim_configs:\n",
    "                    optim_configs[k]['learning_rate'] *= lr_decay\n",
    "\n",
    "            # Check train and val accuracy on the first iteration, the last\n",
    "            # iteration, and at the end of each epoch.\n",
    "            # TODO: Implement some logic to check Bleu on validation set periodically\n",
    "\n",
    "        # At the end of training swap the best params into the model\n",
    "        # self.model.params = self.best_params\n",
    "        \n",
    "        \n",
    "        \n",
    "        \n",
    "#     n, p = 0, 0\n",
    "#     mWxh, mWhh, mWhy = np.zeros_like(Wxh), np.zeros_like(Whh), np.zeros_like(Why)\n",
    "#     mbh, mby = np.zeros_like(bh), np.zeros_like(by) # memory variables for Adagrad\n",
    "#     smooth_loss = -np.log(1.0/vocab_size)*seq_length # loss at iteration 0\n",
    "#     while True:\n",
    "#         # prepare inputs (we're sweeping from left to right in steps seq_length long)\n",
    "#         if p+seq_length+1 >= len(data) or n == 0: \n",
    "#             hprev = np.zeros((hidden_size,1)) # reset RNN memory\n",
    "#             p = 0 # go from start of data\n",
    "#         inputs = [char_to_ix[ch] for ch in data[p:p+seq_length]]\n",
    "#         targets = [char_to_ix[ch] for ch in data[p+1:p+seq_length+1]]\n",
    "\n",
    "#           # sample from the model now and then\n",
    "#           if n % 100 == 0:\n",
    "#             sample_ix = sample(hprev, inputs[0], 200)\n",
    "#             txt = ''.join(ix_to_char[ix] for ix in sample_ix)\n",
    "#             print '----\\n %s \\n----' % (txt, )\n",
    "\n",
    "#           # forward seq_length characters through the net and fetch gradient\n",
    "#           loss, dWxh, dWhh, dWhy, dbh, dby, hprev = lossFun(inputs, targets, hprev)\n",
    "#           smooth_loss = smooth_loss * 0.999 + loss * 0.001\n",
    "#           if n % 100 == 0: print 'iter %d, loss: %f' % (n, smooth_loss) # print progress\n",
    "\n",
    "#           # perform parameter update with Adagrad\n",
    "#           for param, dparam, mem in zip([Wxh, Whh, Why, bh, by], \n",
    "#                                         [dWxh, dWhh, dWhy, dbh, dby], \n",
    "#                                         [mWxh, mWhh, mWhy, mbh, mby]):\n",
    "#             mem += dparam * dparam\n",
    "#             param += -learning_rate * dparam / np.sqrt(mem + 1e-8) # adagrad update\n",
    "\n",
    "#           p += seq_length # move data pointer\n",
    "#         n += 1 # iteration counter \n",
    "\n",
    "train()"
   ]
  },
  {
   "cell_type": "code",
   "execution_count": null,
   "metadata": {},
   "outputs": [],
   "source": []
  },
  {
   "cell_type": "code",
   "execution_count": null,
   "metadata": {},
   "outputs": [],
   "source": []
  },
  {
   "cell_type": "code",
   "execution_count": null,
   "metadata": {},
   "outputs": [],
   "source": []
  }
 ],
 "metadata": {
  "kernelspec": {
   "display_name": "Python 3",
   "language": "python",
   "name": "python3"
  },
  "language_info": {
   "codemirror_mode": {
    "name": "ipython",
    "version": 3
   },
   "file_extension": ".py",
   "mimetype": "text/x-python",
   "name": "python",
   "nbconvert_exporter": "python",
   "pygments_lexer": "ipython3",
   "version": "3.6.3"
  }
 },
 "nbformat": 4,
 "nbformat_minor": 2
}
