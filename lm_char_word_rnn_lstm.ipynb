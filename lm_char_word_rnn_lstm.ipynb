{
 "cells": [
  {
   "cell_type": "markdown",
   "metadata": {},
   "source": [
    "# Language model in character level "
   ]
  },
  {
   "cell_type": "markdown",
   "metadata": {},
   "source": [
    "## Preprocessing of data"
   ]
  },
  {
   "cell_type": "code",
   "execution_count": 1,
   "metadata": {
    "collapsed": true,
    "scrolled": false
   },
   "outputs": [],
   "source": [
    "import numpy as np\n",
    "import pandas as pd\n",
    "import nltk, itertools, re\n",
    "import itertools, operator\n",
    "from collections import Counter\n",
    "\n",
    "# data = open('data/reddit-comments-2015-08.csv', 'r').read()\n",
    "\n",
    "df = pd.read_csv('data/reddit-comments-2015-08.csv')\n",
    "\n",
    "# with open('data/reddit-comments-2015-08.csv', 'r') as f:\n",
    "#     reader = \n"
   ]
  },
  {
   "cell_type": "code",
   "execution_count": 2,
   "metadata": {
    "collapsed": true,
    "scrolled": true
   },
   "outputs": [],
   "source": [
    "\n",
    "def clean_str(string):\n",
    "    \"\"\"\n",
    "    Tokenization/string cleaning for all datasets except for SST.\n",
    "    Original taken from https://github.com/yoonkim/CNN_sentence/blob/master/process_data.py\n",
    "    \"\"\"\n",
    "    string = re.sub(r\"[^A-Za-z0-9(),!?\\'\\`]\", \" \", string)\n",
    "    string = re.sub(r\"\\'s\", \" \\'s\", string)\n",
    "    string = re.sub(r\"\\'ve\", \" \\'ve\", string)\n",
    "    string = re.sub(r\"n\\'t\", \" n\\'t\", string)\n",
    "    string = re.sub(r\"\\'re\", \" \\'re\", string)\n",
    "    string = re.sub(r\"\\'d\", \" \\'d\", string)\n",
    "    string = re.sub(r\"\\'ll\", \" \\'ll\", string)\n",
    "    string = re.sub(r\",\", \" , \", string)\n",
    "    string = re.sub(r\"!\", \" ! \", string)\n",
    "    string = re.sub(r\"\\(\", \" \\( \", string)\n",
    "    string = re.sub(r\"\\)\", \" \\) \", string)\n",
    "    string = re.sub(r\"\\?\", \" \\? \", string)\n",
    "    string = re.sub(r\"\\s{2,}\", \" \", string)\n",
    "    return string.strip().lower()\n",
    "\n"
   ]
  },
  {
   "cell_type": "code",
   "execution_count": 3,
   "metadata": {},
   "outputs": [
    {
     "data": {
      "text/plain": [
       "'I joined a new league this year and they have\\n'"
      ]
     },
     "execution_count": 3,
     "metadata": {},
     "output_type": "execute_result"
    }
   ],
   "source": [
    "#if read from a plain text file\n",
    "data = open('data/text.txt', 'r').read()\n",
    "data\n"
   ]
  },
  {
   "cell_type": "markdown",
   "metadata": {},
   "source": [
    "#### Char-level data processing"
   ]
  },
  {
   "cell_type": "code",
   "execution_count": 4,
   "metadata": {},
   "outputs": [
    {
     "name": "stdout",
     "output_type": "stream",
     "text": [
      "[' ', '!', \"'\", '(', ')', ',', '.', '0', '1', '2', '3', '4', '5', '6', '7', '8', '9', '?', '\\\\', '`', 'a', 'b', 'c', 'd', 'e', 'f', 'g', 'h', 'i', 'j', 'k', 'l', 'm', 'n', 'o', 'p', 'q', 'r', 's', 't', 'u', 'v', 'w', 'x', 'y', 'z']\n",
      "Data has 7500269 characters in which 46 are unique\n"
     ]
    }
   ],
   "source": [
    "char_data = [clean_str(s.strip()) for s in df.body]\n",
    "char_data = '.'.join(char_data)\n",
    "\n",
    "# #Consider char-level\n",
    "# char_list = \"abcdefghijklmnopqrstuvwxyz0123456789 ,;.!?:'\\\"/\\\\|_@#$%^&*~`+-=<>()[]{}\"\n",
    "\n",
    "chars = list(set(char_data))\n",
    "chars=sorted(chars)\n",
    "print(chars)\n",
    "print(\"Data has %d characters in which %d are unique\" %(len(char_data), len(chars)))\n"
   ]
  },
  {
   "cell_type": "code",
   "execution_count": 5,
   "metadata": {},
   "outputs": [
    {
     "name": "stdout",
     "output_type": "stream",
     "text": [
      "{'§': 0, ' ': 1, '!': 2, \"'\": 3, '(': 4, ')': 5, ',': 6, '.': 7, '0': 8, '1': 9, '2': 10, '3': 11, '4': 12, '5': 13, '6': 14, '7': 15, '8': 16, '9': 17, '?': 18, '\\\\': 19, '`': 20, 'a': 21, 'b': 22, 'c': 23, 'd': 24, 'e': 25, 'f': 26, 'g': 27, 'h': 28, 'i': 29, 'j': 30, 'k': 31, 'l': 32, 'm': 33, 'n': 34, 'o': 35, 'p': 36, 'q': 37, 'r': 38, 's': 39, 't': 40, 'u': 41, 'v': 42, 'w': 43, 'x': 44, 'y': 45, 'z': 46} \n",
      " ['§', ' ', '!', \"'\", '(', ')', ',', '.', '0', '1', '2', '3', '4', '5', '6', '7', '8', '9', '?', '\\\\', '`', 'a', 'b', 'c', 'd', 'e', 'f', 'g', 'h', 'i', 'j', 'k', 'l', 'm', 'n', 'o', 'p', 'q', 'r', 's', 't', 'u', 'v', 'w', 'x', 'y', 'z']\n"
     ]
    }
   ],
   "source": [
    "# create char-to-index, index-to-char lists\n",
    "unknown_char = '§'\n",
    "index_to_char = [unknown_char] +[x[0] for x in chars] \n",
    "char_to_index = {c:i for i, c in enumerate(index_to_char)} #{c:i for i, c in enumerate(chars)}\n",
    "print(char_to_index, \"\\n\", index_to_char)\n"
   ]
  },
  {
   "cell_type": "markdown",
   "metadata": {},
   "source": [
    "#### Word-level data processing"
   ]
  },
  {
   "cell_type": "code",
   "execution_count": 6,
   "metadata": {
    "collapsed": true
   },
   "outputs": [],
   "source": [
    "unknown_token = \"UNKNOWN_TOKEN\"\n",
    "sentence_start_token = \"SENTENCE_START\"\n",
    "sentence_end_token = \"SENTENCE_END\"\n",
    "\n",
    "#Consider word-level\n",
    "# word_data = [\"%s %s %s\" %(sentence_start_token, s, sentence_end_token) for s in df.body]\n",
    "# word_data[0]\n",
    "\n",
    "def getTokens(lines, min_sent_characters=1):\n",
    "    # Split full comments into sentences\n",
    "    sentences = itertools.chain(*[nltk.sent_tokenize(x) for x in lines])\n",
    "    sentences = [clean_str(s) for s in sentences if \"http\" not in s and len(s) >= min_sent_characters]\n",
    "    # Append SENTENCE_START and SENTENCE_END\n",
    "    sentences = [\"%s %s %s\" % (sentence_start_token, x, sentence_end_token) for x in sentences]\n",
    "    return sentences\n",
    "\n",
    "sents = getTokens(df.body)\n"
   ]
  },
  {
   "cell_type": "code",
   "execution_count": 7,
   "metadata": {},
   "outputs": [
    {
     "name": "stdout",
     "output_type": "stream",
     "text": [
      "Found 47970 unique words tokens.\n",
      "Using vocabulary size 8000.\n",
      "The most frequent word in our vocabulary is 'SENTENCE_START' and appeared 77704 times.\n",
      "The least frequent word in our vocabulary is 'metabolism' and appeared 9 times.\n",
      "{'<MASK/>': 0, 'UNKNOWN_TOKEN': 1, 'zelda': 2, 'zealand': 3, 'yourselves': 4, 'xanax': 5, 'wrecked': 6, 'worn': 7, 'worms': 8, 'wolfenstein': 9, 'witnessed': 10, 'witness': 11, 'wished': 12, 'wipes': 13, 'wilderness': 14, 'whoops': 15, 'whim': 16, 'weddings': 17, 'wax': 18, 'wasteful': 19, 'washed': 20, 'warped': 21, 'warn': 22, 'vw': 23, 'vpn': 24, 'vous': 25, 'vog': 26, 'vocals': 27, 'vlad': 28, 'vita': 29, 'visuals': 30, 'visually': 31, 'vim': 32, 'vil': 33, 'verses': 34, 'vengeance': 35, 'vapor': 36, 'vader': 37, 'vac': 38, 'uterus': 39, 'upfront': 40, 'unstoppable': 41, 'unreliable': 42, 'unpleasant': 43, 'unjust': 44, 'unity': 45, 'unclear': 46, 'uhc': 47, 'tywin': 48, 'trends': 49, 'transaction': 50, 'traits': 51, 'tragic': 52, 'tragedy': 53, 'tourist': 54, 'tourism': 55, 'tossed': 56, 'torrent': 57, 'toner': 58, 'tomb': 59, 'toilet': 60, 'todos': 61, 'titania': 62, 'titanfall': 63, 'thyroid': 64, 'thumbs': 65, 'throttle': 66, 'threshold': 67, 'thief': 68, 'theon': 69, 'thailand': 70, 'testament': 71, 'terrorists': 72, 'terminology': 73, 'tearing': 74, 'tas': 75, 'tapped': 76, 'tanky': 77, 'tactic': 78, 'swapped': 79, 'sustainable': 80, 'surviving': 81, 'supernatural': 82, 'supercharger': 83, 'sunlight': 84, 'sued': 85, 'suburbs': 86, 'subsidized': 87, 'subjects': 88, 'structured': 89, 'stretching': 90, 'streak': 91, 'strangely': 92, 'storing': 93, 'stereotypical': 94, 'stereotypes': 95, 'startx': 96, 'stamina': 97, 'stalking': 98, 'stale': 99, 'squats': 100, 'spotify': 101, 'sponsored': 102, 'splits': 103, 'spite': 104, 'speeches': 105, 'specifics': 106, 'sov': 107, 'solving': 108, 'socks': 109, 'socialists': 110, 'soaked': 111, 'smokes': 112, 'smallest': 113, 'smack': 114, 'slotted': 115, 'slightest': 116, 'skating': 117, 'sk': 118, 'simulator': 119, 'showcase': 120, 'shields': 121, 'shes': 122, 'sexuality': 123, 'senses': 124, 'sends': 125, 'senator': 126, 'semantics': 127, 'secretary': 128, 'searing': 129, 'scrunchieshy': 130, 'screams': 131, 'scouting': 132, 'scores': 133, 'schon': 134, 'scans': 135, 'sarah': 136, 'santa': 137, 'samurai': 138, 'salvation': 139, 'salts': 140, 'saga': 141, 'sacred': 142, 'sa': 143, 'ruins': 144, 'rug': 145, 'rooting': 146, 'roommates': 147, 'roller': 148, 'rode': 149, 'robust': 150, 'robin': 151, 'rob': 152, 'roast': 153, 'roam': 154, 'rising': 155, 'reworked': 156, 'retrospect': 157, 'retailers': 158, 'respectfully': 159, 'residential': 160, 'reserved': 161, 'rescue': 162, 'representative': 163, 'relies': 164, 'relied': 165, 'refugee': 166, 'reception': 167, 'reboot': 168, 'realise': 169, 'rbs': 170, 'rationally': 171, 'rangers': 172, 'rampant': 173, 'railgun': 174, 'raider': 175, 'radical': 176, 'rad': 177, 'rabbit': 178, 'quid': 179, 'qualifying': 180, 'pursuing': 181, 'pures': 182, 'punishable': 183, 'psychedelics': 184, 'providers': 185, 'protests': 186, 'prompts': 187, 'promoted': 188, 'professionals': 189, 'principal': 190, 'preserve': 191, 'presents': 192, 'presenting': 193, 'preseason': 194, 'pov': 195, 'posture': 196, 'positively': 197, 'pose': 198, 'portrayed': 199, 'portions': 200, 'popcorn': 201, 'poo': 202, 'plugged': 203, 'plea': 204, 'playthrough': 205, 'playlist': 206, 'planted': 207, 'pins': 208, 'pillows': 209, 'piano': 210, 'phenomenon': 211, 'phenomenal': 212, 'pets': 213, 'personalfinance': 214, 'penetration': 215, 'pedro': 216, 'pcmasterrace': 217, 'pavement': 218, 'patented': 219, 'particles': 220, 'particle': 221, 'parked': 222, 'palette': 223, 'pairs': 224, 'pads': 225, 'owe': 226, 'outsider': 227, 'outrage': 228, 'outdoor': 229, 'organize': 230, 'organ': 231, 'oops': 232, 'ontario': 233, 'olympic': 234, 'ole': 235, 'offerings': 236, 'offenders': 237, 'offence': 238, 'od': 239, 'oct': 240, 'obscure': 241, 'obey': 242, 'obese': 243, 'nyt': 244, 'novels': 245, 'noting': 246, 'noticing': 247, 'nostalgia': 248, 'norms': 249, 'nodes': 250, 'nevermind': 251, 'nether': 252, 'nest': 253, 'nerd': 254, 'necessity': 255, 'nebris': 256, 'nc': 257, 'nat': 258, 'naming': 259, 'nail': 260, 'museum': 261, 'murray': 262, 'mud': 263, 'mortar': 264, 'moreover': 265, 'morde': 266, 'monte': 267, 'monitoring': 268, 'mocking': 269, 'mma': 270, 'mm': 271, 'mls': 272, 'ml': 273, 'mk': 274, 'misses': 275, 'misogyny': 276, 'misinformation': 277, 'mir': 278, 'mint': 279, 'minister': 280, 'miner': 281, 'midnight': 282, 'midlane': 283, 'metahuman': 284, 'metabolism': 285, 'zwei': 286, 'xb1': 287, 'worldpowers': 288, 'wiring': 289, 'windshield': 290, 'willingness': 291, 'widespread': 292, 'whitebeard': 293, 'whiskey': 294, 'wenger': 295, 'weights': 296, 'weighs': 297, 'wednesday': 298, 'warcraft': 299, 'wager': 300, 'vm': 301, 'verde': 302, 'velocity': 303, 'varied': 304, 'vancouver': 305, 'vaguely': 306, 'url': 307, 'updating': 308, 'unwilling': 309, 'unrealistic': 310, 'unpopular': 311, 'unmodified': 312, 'uninformed': 313, 'uniform': 314, 'unfounded': 315, 'une': 316, 'tx': 317, 'twisted': 318, 'twenty': 319, 'truths': 320, 'trunk': 321, 'triggered': 322, 'transit': 323, 'trait': 324, 'trails': 325, 'traction': 326, 'tracked': 327, 'traces': 328, 'toxicity': 329, 'tossing': 330, 'tortured': 331, 'tony': 332, 'toll': 333, 'tokens': 334, 'tint': 335, 'tinder': 336, 'thursday': 337, 'thorough': 338, 'therapists': 339, 'theoretical': 340, 'theatre': 341, 'terrified': 342, 'template': 343, 'teleport': 344, 'tangible': 345, 'tales': 346, 'tactical': 347, 'tackle': 348, 'syrup': 349, 'sync': 350, 'sympathetic': 351, 'swing': 352, 'swimming': 353, 'sweden': 354, 'suspended': 355, 'sunk': 356, 'sum': 357, 'su': 358, 'strips': 359, 'stripped': 360, 'stretched': 361, 'strengths': 362, 'streamers': 363, 'strategies': 364, 'strategic': 365, 'sting': 366, 'stigma': 367, 'starcraft': 368, 'srs': 369, 'spiders': 370, 'sphere': 371, 'sour': 372, 'solomon': 373, 'sober': 374, 'soap': 375, 'smelled': 376, 'skirt': 377, 'skeptical': 378, 'skadi': 379, 'sion': 380, 'sind': 381, 'shutting': 382, 'shrimp': 383, 'shining': 384, 'shells': 385, 'shanks': 386, 'serves': 387, 'ser': 388, 'sensible': 389, 'sellers': 390, 'scum': 391, 'scrutiny': 392, 'scheduled': 393, 'scattered': 394, 'satire': 395, 'salad': 396, 'sacrifices': 397, 'rt': 398, 'rouge': 399, 'rodgers': 400, 'rng': 401, 'riven': 402, 'rifts': 403, 'rica': 404, 'rhythm': 405, 'restrooms': 406, 'responds': 407, 'respectable': 408, 'residents': 409, 'reporters': 410, 'reliably': 411, 'relating': 412, 'reign': 413, 'referred': 414, 'referenced': 415, 'redundant': 416, 'redemption': 417, 'recruits': 418, 'recruiting': 419, 'recreational': 420, 'reconsider': 421, 'rec': 422, 'rants': 423, 'ramsay': 424, 'rag': 425, 'raffle': 426, 'radically': 427, 'radiator': 428, 'quran': 429, 'questioning': 430, 'pussy': 431, 'psa': 432, 'proteins': 433, 'prospect': 434, 'props': 435, 'propose': 436, 'promptly': 437, 'prohibited': 438, 'professions': 439, 'proceeds': 440, 'procedures': 441, 'proc': 442, 'prize': 443, 'principles': 444, 'prevented': 445, 'presentation': 446, 'prejudice': 447, 'preferences': 448, 'pp': 449, 'populated': 450, 'pops': 451, 'pok': 452, 'poisoning': 453, 'pledge': 454, 'playerbase': 455, 'plausible': 456, 'pie': 457, 'personnel': 458, 'pedantic': 459, 'patents': 460, 'papers': 461, 'oven': 462, 'orientation': 463, 'oppressive': 464, 'oppression': 465, 'oliver': 466, 'ol': 467, 'offices': 468, 'oculus': 469, 'och': 470, 'obtain': 471, 'observation': 472, 'oblivious': 473, 'oak': 474, 'noone': 475, 'ness': 476, 'nerdy': 477, 'nen': 478, 'neglect': 479, 'negatives': 480, 'negate': 481, 'nba': 482, 'mythic': 483, 'myth': 484, 'muted': 485, 'murderers': 486, 'mph': 487, 'mortgage': 488, 'moron': 489, 'monetary': 490, 'mmos': 491, 'miracle': 492, 'migration': 493, 'methodology': 494, 'meter': 495, 'messing': 496, 'memes': 497, 'masterpiece': 498, 'masculine': 499, 'marshall': 500, 'markets': 501, 'marked': 502, 'mans': 503, 'malicious': 504, 'madison': 505, 'macros': 506, 'lung': 507, 'lottery': 508, 'longest': 509, 'logitech': 510, 'locking': 511, 'lions': 512, 'lid': 513, 'libraries': 514, 'lego': 515, 'ledge': 516, 'launched': 517, 'landscape': 518, 'lan': 519, 'lamb': 520, 'ksp': 521, 'knowledgeable': 522, 'km': 523, 'kik': 524, 'ken': 525, 'kelly': 526, 'keepers': 527, 'junior': 528, 'jumper': 529, 'judged': 530, 'jerks': 531, 'jaime': 532, 'itunes': 533, 'islands': 534, 'irresponsible': 535, 'involvement': 536, 'introducing': 537, 'intriguing': 538, 'intimate': 539, 'internally': 540, 'intellectually': 541, 'insulted': 542, 'institute': 543, 'insisted': 544, 'innocuous': 545, 'indicates': 546, 'independently': 547, 'inbox': 548, 'impress': 549, 'imperial': 550, 'immigrant': 551, 'idle': 552, 'idiotic': 553, 'hypnosis': 554, 'humble': 555, 'horrific': 556, 'homicides': 557, 'hog': 558, 'hmmm': 559, 'happily': 560, 'handles': 561, 'halls': 562, 'haircut': 563, 'hah': 564, 'hadde': 565, 'guests': 566, 'gs': 567, 'greece': 568, 'grave': 569, 'graph': 570, 'grandparents': 571, 'grace': 572, 'gop': 573, 'golf': 574, 'glitch': 575, 'gio': 576, 'gil': 577, 'ggez': 578, 'genetics': 579, 'generator': 580, 'generations': 581, 'geared': 582, 'gdp': 583, 'fucker': 584, 'fortunately': 585, 'forming': 586, 'forgiveness': 587, 'focuses': 588, 'fnaf': 589, 'flipped': 590, 'flagged': 591, 'fist': 592, 'fetish': 593, 'featured': 594, 'feast': 595, 'feasible': 596, 'favors': 597, 'faults': 598, 'fathers': 599, 'fascism': 600, 'fanbase': 601, 'faker': 602, 'failures': 603, 'extending': 604, 'expressions': 605, 'expressing': 606, 'explosion': 607, 'expired': 608, 'exercising': 609, 'execute': 610, 'evaluation': 611, 'euros': 612, 'ethereal': 613, 'engagement': 614, 'endurance': 615, 'endorsed': 616, 'endgame': 617, 'elephant': 618, 'elderly': 619, 'educate': 620, 'eager': 621, 'drown': 622, 'dramatically': 623, 'downloading': 624, 'doubles': 625, 'doses': 626, 'doom': 627, 'dominate': 628, 'dominance': 629, 'documentary': 630, 'dnc': 631, 'disprove': 632, 'displays': 633, 'dishonest': 634, 'disclosure': 635, 'disbelief': 636, 'disappointing': 637, 'disappeared': 638, 'disadvantage': 639, 'dinos': 640, 'dino': 641, 'dimension': 642, 'dime': 643, 'devoted': 644, 'desired': 645, 'dentist': 646, 'demons': 647, 'declined': 648, 'declared': 649, 'daddy': 650, 'custody': 651, 'creek': 652, 'credentials': 653, 'crashing': 654, 'crashes': 655, 'cracking': 656, 'cousins': 657, 'cough': 658, 'corp': 659, 'coolest': 660, 'controversy': 661, 'contribution': 662, 'contractor': 663, 'continuity': 664, 'consult': 665, 'consists': 666, 'consist': 667, 'consensual': 668, 'configure': 669, 'conference': 670, 'coman': 671, 'collector': 672, 'collections': 673, 'collecters': 674, 'collected': 675, 'coding': 676, 'coaching': 677, 'clopidogrel': 678, 'classified': 679, 'clarity': 680, 'ck': 681, 'civ': 682, 'citation': 683, 'cis': 684, 'chunks': 685, 'chloe': 686, 'childish': 687, 'chickens': 688, 'chemicals': 689, 'cheated': 690, 'ceo': 691, 'cease': 692, 'cas': 693, 'carpet': 694, 'carbon': 695, 'captains': 696, 'campaigning': 697, 'c4': 698, 'bursts': 699, 'buffing': 700, 'buddhist': 701, 'buddha': 702, 'buck': 703, 'bridges': 704, 'br': 705, 'booking': 706, 'bombing': 707, 'bombers': 708, 'boil': 709, 'blur': 710, 'blockchain': 711, 'blatant': 712, 'bethesda': 713, 'beloved': 714, 'belly': 715, 'beforehand': 716, 'basket': 717, 'backgrounds': 718, 'ba': 719, 'awakened': 720, 'austria': 721, 'australian': 722, 'auction': 723, 'atlanta': 724, 'aswell': 725, 'astral': 726, 'asset': 727, 'assembly': 728, 'assassin': 729, 'asians': 730, 'arnold': 731, 'arch': 732, 'arab': 733, 'appointments': 734, 'appeals': 735, 'apocalypse': 736, 'ao': 737, 'anxious': 738, 'annual': 739, 'anecdote': 740, 'anecdotal': 741, 'analyze': 742, 'ambitious': 743, 'alphabet': 744, 'allied': 745, 'allergic': 746, 'alan': 747, 'aggression': 748, 'afghanistan': 749, 'advocating': 750, 'adventures': 751, 'adrenaline': 752, 'adoption': 753, 'adopting': 754, 'addicts': 755, 'achievements': 756, 'accountable': 757, 'acceleration': 758, 'academics': 759, '980ti': 760, '960': 761, '62': 762, '5e': 763, '55': 764, '4690k': 765, '30s': 766, '1989': 767, '1440p': 768, '10th': 769, '09': 770, 'zip': 771, 'yelled': 772, 'yearly': 773, 'yasuo': 774, 'yadda': 775, 'worship': 776, 'worded': 777, 'wonders': 778, 'wiped': 779, 'whine': 780, 'webm': 781, 'walgreens': 782, 'veteran': 783, 'vertical': 784, 'vegetables': 785, 'vegas': 786, 'variant': 787, 'vain': 788, 'unicorn': 789, 'unemployment': 790, 'unemployed': 791, 'understands': 792, 'tutorials': 793, 'ttk': 794, 'tt': 795, 'ts': 796, 'trudeau': 797, 'trucks': 798, 'troubles': 799, 'treats': 800, 'treasure': 801, 'travelling': 802, 'trauma': 803, 'translation': 804, 'trace': 805, 'tr': 806, 'tourists': 807, 'tougher': 808, 'torrie': 809, 'tops': 810, 'tolerate': 811, 'tldr': 812, 'tipofmytongue': 813, 'tile': 814, 'threaten': 815, 'thirty': 816, 'thc': 817, 'texture': 818, 'terrorism': 819, 'teen': 820, 'taxi': 821, 'tablet': 822, 'synergy': 823, 'synergism': 824, 'syndrome': 825, 'symptom': 826, 'suspension': 827, 'surround': 828, 'supplies': 829, 'summers': 830, 'sue': 831, 'subscribers': 832, 'struggles': 833, 'strive': 834, 'stickers': 835, 'starving': 836, 'starty': 837, 'ssr': 838, 'squeeze': 839, 'spy': 840, 'spreadsheet': 841, 'spoiled': 842, 'speaks': 843, 'sorted': 844, 'socialization': 845, 'snap': 846, 'snakes': 847, 'slurs': 848, 'slept': 849, 'slam': 850, 'skipped': 851, 'simultaneously': 852, 'simplistic': 853, 'significance': 854, 'sigh': 855, 'sided': 856, 'sich': 857, 'shouldnt': 858, 'shocked': 859, 'shelter': 860, 'shadowbanned': 861, 'sexsells': 862, 'seo': 863, 'scrub': 864, 'sciences': 865, 'sbb': 866, 'satisfy': 867, 'sarcastic': 868, 'sanity': 869, 'sandwich': 870, 'saber': 871, 'rushing': 872, 'rumors': 873, 'rubber': 874, 'royal': 875, 'ross': 876, 'robert': 877, 'roaming': 878, 'rings': 879, 'riders': 880, 'rider': 881, 'richard': 882, 'rewrite': 883, 'retain': 884, 'resolved': 885, 'resident': 886, 'researching': 887, 'researchers': 888, 'reputable': 889, 'repo': 890, 'repeating': 891, 'renting': 892, 'rendered': 893, 'removes': 894, 'remix': 895, 'relaxing': 896, 'rekkles': 897, 'regional': 898, 'refusing': 899, 'reel': 900, 'redditor': 901, 'reactionary': 902, 'rats': 903, 'rapidly': 904, 'rapid': 905, 'ranger': 906, 'rambling': 907, 'rainbow': 908, 'rabadons': 909, 'quantity': 910, 'qualifies': 911, 'pyramid': 912, 'purposefully': 913, 'punk': 914, 'pumped': 915, 'psychiatrist': 916, 'psych': 917, 'proxy': 918, 'proved': 919, 'protoss': 920, 'protagonist': 921, 'prospects': 922, 'proposal': 923, 'pronouns': 924, 'promotion': 925, 'programmed': 926, 'producers': 927, 'producer': 928, 'primaries': 929, 'premade': 930, 'predictable': 931, 'precision': 932, 'precious': 933, 'portable': 934, 'populations': 935, 'pools': 936, 'pole': 937, 'pockets': 938, 'pleased': 939, 'playstyle': 940, 'playable': 941, 'plague': 942, 'pity': 943, 'pile': 944, 'perspectives': 945, 'personalities': 946, 'persistent': 947, 'persecution': 948, 'permits': 949, 'peril': 950, 'pendulum': 951, 'paving': 952, 'parliament': 953, 'paris': 954, 'pandora': 955, 'palestinians': 956, 'pale': 957, 'pad': 958, 'packet': 959, 'packages': 960, 'paced': 961, 'pa': 962, 'overpriced': 963, 'overlooked': 964, 'outfits': 965, 'origins': 966, 'organs': 967, 'org': 968, 'oppressed': 969, 'operates': 970, 'olive': 971, 'oldest': 972, 'olaf': 973, 'oder': 974, 'ob': 975, 'nutrition': 976, 'nursing': 977, 'nukes': 978, 'nsfw': 979, 'np': 980, 'noun': 981, 'notorious': 982, 'networking': 983, 'netherlands': 984, 'nerve': 985, 'nerds': 986, 'mute': 987, 'morty': 988, 'morals': 989, 'moot': 990, 'mono': 991, 'moms': 992, 'momentum': 993, 'modding': 994, 'mobo': 995, 'misery': 996, 'mis': 997, 'migrants': 998, 'mighty': 999, 'merits': 1000, 'melt': 1001, 'meantime': 1002, 'mastery': 1003, 'mas': 1004, 'maryland': 1005, 'marxist': 1006, 'margin': 1007, 'maker': 1008, 'maintained': 1009, 'magnetic': 1010, 'madden': 1011, 'lube': 1012, 'lone': 1013, 'logistics': 1014, 'locals': 1015, 'lobbying': 1016, 'liz': 1017, 'liverpool': 1018, 'lips': 1019, 'linkffn': 1020, 'limiting': 1021, 'lil': 1022, 'lightning': 1023, 'libido': 1024, 'lessons': 1025, 'len': 1026, 'lease': 1027, 'lawsuit': 1028, 'launches': 1029, 'laner': 1030, 'kratom': 1031, 'korean': 1032, 'knocking': 1033, 'knights': 1034, 'justin': 1035, 'jp': 1036, 'journalism': 1037, 'jewelry': 1038, 'jew': 1039, 'january': 1040, 'islamic': 1041, 'irrational': 1042, 'invasions': 1043, 'invade': 1044, 'interpret': 1045, 'integrated': 1046, 'integrate': 1047, 'inte': 1048, 'instruction': 1049, 'instagram': 1050, 'insist': 1051, 'insecurity': 1052, 'inputs': 1053, 'ineffective': 1054, 'individually': 1055, 'inconsistent': 1056, 'inappropriate': 1057, 'inability': 1058, 'ign': 1059, 'houston': 1060, 'horizon': 1061, 'holder': 1062, 'hm': 1063, 'hitter': 1064, 'highlight': 1065, 'hesitate': 1066, 'hermione': 1067, 'helpless': 1068, 'headaches': 1069, 'hay': 1070, 'havent': 1071, 'ham': 1072, 'hallway': 1073, 'hadith': 1074, 'guardians': 1075, 'gta': 1076, 'graphic': 1077, 'grapes': 1078, 'gradually': 1079, 'gp': 1080, 'globe': 1081, 'gigs': 1082, 'gently': 1083, 'genetic': 1084, 'generating': 1085, 'gamble': 1086, 'functioning': 1087, 'freezing': 1088, 'foundations': 1089, 'fork': 1090, 'fnatic': 1091, 'flop': 1092, 'flashlight': 1093, 'flashbacks': 1094, 'fiscal': 1095, 'fireworks': 1096, 'fictional': 1097, 'february': 1098, 'fatigue': 1099, 'farmer': 1100, 'facilities': 1101, 'exploring': 1102, 'explode': 1103, 'explanations': 1104, 'expense': 1105, 'expects': 1106, 'exotics': 1107, 'exotic': 1108, 'exercises': 1109, 'excluded': 1110, 'excess': 1111, 'evident': 1112, 'euro': 1113, 'eternity': 1114, 'essay': 1115, 'engaged': 1116, 'emailed': 1117, 'eats': 1118, 'eaten': 1119, 'dutch': 1120, 'dumpster': 1121, 'drum': 1122, 'doubled': 1123, 'dot': 1124, 'dosage': 1125, 'doo': 1126, 'doesn': 1127, 'documentation': 1128, 'doable': 1129, 'ditch': 1130, 'discovery': 1131, 'discourage': 1132, 'disappointment': 1133, 'disagreeing': 1134, 'directing': 1135, 'dimensional': 1136, 'destroys': 1137, 'density': 1138, 'delusional': 1139, 'delayed': 1140, 'defining': 1141, 'decreased': 1142, 'december': 1143, 'dealers': 1144, 'db': 1145, 'cw': 1146, 'cultures': 1147, 'creeps': 1148, 'crappy': 1149, 'crank': 1150, 'cr': 1151, 'courage': 1152, 'couples': 1153, 'costco': 1154, 'correlation': 1155, 'copper': 1156, 'cope': 1157, 'cooldowns': 1158, 'converting': 1159, 'conventional': 1160, 'contractors': 1161, 'consume': 1162, 'consulting': 1163, 'constitutional': 1164, 'cons': 1165, 'configuration': 1166, 'confederacy': 1167, 'comprehend': 1168, 'compact': 1169, 'committing': 1170, 'colorado': 1171, 'cluster': 1172, 'clears': 1173, 'clearing': 1174, 'cleaner': 1175, 'classical': 1176, 'chromecast': 1177, 'chrome': 1178, 'cerberus': 1179, 'centuries': 1180, 'cds': 1181, 'catholics': 1182, 'catfish': 1183, 'capability': 1184, 'canadians': 1185, 'camping': 1186, 'calculated': 1187, 'cab': 1188, 'burgle': 1189, 'bump': 1190, 'budgets': 1191, 'bruce': 1192, 'brooklyn': 1193, 'bracket': 1194, 'bots': 1195, 'bob': 1196, 'blend': 1197, 'blake': 1198, 'blacks': 1199, 'biological': 1200, 'bind': 1201, 'banter': 1202, 'baltimore': 1203, 'bake': 1204, 'backpack': 1205, 'b31': 1206, 'aunt': 1207, 'aug': 1208, 'au': 1209, 'attach': 1210, 'athlete': 1211, 'assigned': 1212, 'arya': 1213, 'armour': 1214, 'arizona': 1215, 'architecture': 1216, 'approaching': 1217, 'antis': 1218, 'amazed': 1219, 'allen': 1220, 'aimed': 1221, 'agrees': 1222, 'agreeing': 1223, 'aging': 1224, 'agg': 1225, 'affecting': 1226, 'affairs': 1227, 'aesthetic': 1228, 'administration': 1229, 'addresses': 1230, 'accusation': 1231, 'accordingly': 1232, '6k': 1233, '3s': 1234, '3000': 1235, '240': 1236, '2001': 1237, '1x': 1238, '1987': 1239, '18th': 1240, '110': 1241, '1080p': 1242, '05': 1243, \"'no\": 1244, \"y'all\": 1245, 'wwii': 1246, 'writes': 1247, 'wright': 1248, 'witcher': 1249, 'wireless': 1250, 'wie': 1251, 'whichever': 1252, 'wards': 1253, 'waist': 1254, 'von': 1255, 'violates': 1256, 'viewpoint': 1257, 'vg': 1258, 'verizon': 1259, 'vector': 1260, 'vayne': 1261, 'ussr': 1262, 'urban': 1263, 'underneath': 1264, 'underlying': 1265, 'umbrella': 1266, 'ubuntu': 1267, 'twisting': 1268, 'twelve': 1269, 'turrets': 1270, 'tuition': 1271, 'tsm': 1272, 'tribal': 1273, 'trek': 1274, 'treatments': 1275, 'transplant': 1276, 'transmission': 1277, 'tipping': 1278, 'tiger': 1279, 'tiers': 1280, 'thoroughly': 1281, 'texts': 1282, 'terrorist': 1283, 'tempted': 1284, 'temp': 1285, 'teenager': 1286, 'td': 1287, 'tails': 1288, 'tabs': 1289, 'swords': 1290, 'survivor': 1291, 'supervisor': 1292, 'subscription': 1293, 'strain': 1294, 'stephen': 1295, 'steering': 1296, 'steak': 1297, 'stafford': 1298, 'stab': 1299, 'speeds': 1300, 'specialist': 1301, 'spanish': 1302, 'soldier': 1303, 'snapped': 1304, 'smells': 1305, 'smartphone': 1306, 'slowing': 1307, 'situational': 1308, 'sits': 1309, 'sincerely': 1310, 'sim': 1311, 'sigelei': 1312, 'sharks': 1313, 'shade': 1314, 'sean': 1315, 'scripts': 1316, 'scares': 1317, 'scandal': 1318, 'savage': 1319, 'ruining': 1320, 'rpm': 1321, 'rpg': 1322, 'ron': 1323, 'romance': 1324, 'roland': 1325, 'roasted': 1326, 'rincewind': 1327, 'rework': 1328, 'resume': 1329, 'respective': 1330, 'resolve': 1331, 'reserve': 1332, 'repairs': 1333, 'remotely': 1334, 'relying': 1335, 'rehabilitation': 1336, 'registration': 1337, 'regarded': 1338, 'redditors': 1339, 'realised': 1340, 'rack': 1341, 'pyro': 1342, 'pursuit': 1343, 'psn': 1344, 'proving': 1345, 'promises': 1346, 'professionally': 1347, 'problematic': 1348, 'princess': 1349, 'prey': 1350, 'prep': 1351, 'possess': 1352, 'poop': 1353, 'pleasing': 1354, 'plates': 1355, 'pilots': 1356, 'pharmacodynamic': 1357, 'permitted': 1358, 'perks': 1359, 'performances': 1360, 'pep': 1361, 'partisan': 1362, 'paramount': 1363, 'paperwork': 1364, 'paladins': 1365, 'painted': 1366, 'overwhelmed': 1367, 'overrated': 1368, 'ordinary': 1369, 'offenses': 1370, 'oddly': 1371, 'observed': 1372, 'obligation': 1373, 'ny': 1374, 'november': 1375, 'nomination': 1376, 'noch': 1377, 'neighbor': 1378, 'negotiating': 1379, 'negotiate': 1380, 'navigate': 1381, 'naive': 1382, 'mythology': 1383, 'mvp': 1384, 'mules': 1385, 'mortal': 1386, 'mop': 1387, 'monogamous': 1388, 'mon': 1389, 'moisture': 1390, 'modules': 1391, 'mirrors': 1392, 'minus': 1393, 'menus': 1394, 'measurements': 1395, 'mayor': 1396, 'matchmaking': 1397, 'matching': 1398, 'massively': 1399, 'mapping': 1400, 'manipulated': 1401, 'makers': 1402, 'magazine': 1403, 'lynch': 1404, 'losses': 1405, 'ln': 1406, 'literature': 1407, 'linear': 1408, 'likelihood': 1409, 'lightly': 1410, 'lifted': 1411, 'lich': 1412, 'libertarian': 1413, 'legion': 1414, 'legend': 1415, 'lawful': 1416, 'laptops': 1417, 'labeling': 1418, 'kojima': 1419, 'knocked': 1420, 'jones': 1421, 'joints': 1422, 'joint': 1423, 'jackson': 1424, 'irony': 1425, 'iran': 1426, 'ira': 1427, 'investigation': 1428, 'ins': 1429, 'innovation': 1430, 'ing': 1431, 'infinitely': 1432, 'incidents': 1433, 'immune': 1434, 'immense': 1435, 'illegally': 1436, 'hots': 1437, 'hosts': 1438, 'hips': 1439, 'hilariously': 1440, 'highway': 1441, 'healthier': 1442, 'heals': 1443, 'hazard': 1444, 'hassle': 1445, 'harmless': 1446, 'handguns': 1447, 'hacked': 1448, 'guude': 1449, 'grrm': 1450, 'grinding': 1451, 'gps': 1452, 'gospel': 1453, 'gorgeous': 1454, 'gnu': 1455, 'gloves': 1456, 'gladly': 1457, 'git': 1458, 'geo': 1459, 'genres': 1460, 'gears': 1461, 'gauge': 1462, 'galaxy': 1463, 'fundamental': 1464, 'friendships': 1465, 'friction': 1466, 'franklin': 1467, 'forbid': 1468, 'flies': 1469, 'flames': 1470, 'fires': 1471, 'filters': 1472, 'fetus': 1473, 'fc': 1474, 'farms': 1475, 'farmers': 1476, 'fandom': 1477, 'faint': 1478, 'facility': 1479, 'extremes': 1480, 'expressed': 1481, 'experiments': 1482, 'expanded': 1483, 'executive': 1484, 'executed': 1485, 'exams': 1486, 'evga': 1487, 'equity': 1488, 'equation': 1489, 'entrance': 1490, 'elf': 1491, 'electrical': 1492, 'egypt': 1493, 'edgy': 1494, 'duo': 1495, 'drums': 1496, 'dressing': 1497, 'dresses': 1498, 'dragged': 1499, 'dough': 1500, 'dodododo': 1501, 'documented': 1502, 'distant': 1503, 'discounts': 1504, 'differ': 1505, 'diets': 1506, 'diamonds': 1507, 'diagnosis': 1508, 'detroit': 1509, 'designers': 1510, 'defenses': 1511, 'defence': 1512, 'dave': 1513, 'dash': 1514, 'danny': 1515, 'cv': 1516, 'curiosity': 1517, 'crush': 1518, 'cruise': 1519, 'crowns': 1520, 'critique': 1521, 'criticisms': 1522, 'cracked': 1523, 'coworkers': 1524, 'cosmetics': 1525, 'cosmetic': 1526, 'correctness': 1527, 'cookies': 1528, 'cookie': 1529, 'convey': 1530, 'controllers': 1531, 'contributed': 1532, 'continuous': 1533, 'consumption': 1534, 'consistency': 1535, 'connector': 1536, 'condoms': 1537, 'competitors': 1538, 'comfortably': 1539, 'closet': 1540, 'clause': 1541, 'civilization': 1542, 'cite': 1543, 'charts': 1544, 'challenger': 1545, 'chad': 1546, 'certainty': 1547, 'celebrate': 1548, 'casually': 1549, 'capabilities': 1550, 'cancelled': 1551, 'campaigns': 1552, 'cables': 1553, 'butthurt': 1554, 'burns': 1555, 'burger': 1556, 'bull': 1557, 'breaches': 1558, 'branches': 1559, 'bounce': 1560, 'bloodborne': 1561, 'blm': 1562, 'bland': 1563, 'bkb': 1564, 'bets': 1565, 'ben': 1566, 'beam': 1567, 'bbq': 1568, 'basque': 1569, 'bandwidth': 1570, 'bananas': 1571, 'balancing': 1572, 'baked': 1573, 'backs': 1574, 'assistance': 1575, 'askscience': 1576, 'appearing': 1577, 'ammunition': 1578, 'amazingly': 1579, 'alter': 1580, 'als': 1581, 'ally': 1582, 'alabama': 1583, 'aired': 1584, 'adopted': 1585, 'adblock': 1586, 'adamant': 1587, 'accommodate': 1588, 'abyss': 1589, 'absorb': 1590, 'abiding': 1591, 'aapl': 1592, '980': 1593, '90s': 1594, '78': 1595, '5s': 1596, '59': 1597, '140': 1598, '100k': 1599, '08': 1600, 'yell': 1601, 'www': 1602, 'wrist': 1603, 'wrapped': 1604, 'workplace': 1605, 'wooden': 1606, 'wolves': 1607, 'wildly': 1608, 'wikipedia': 1609, 'wii': 1610, 'width': 1611, 'whoa': 1612, 'wd': 1613, 'wb': 1614, 'wasnt': 1615, 'warned': 1616, 'warming': 1617, 'waking': 1618, 'verse': 1619, 'vendors': 1620, 'veggies': 1621, 'variations': 1622, 'vaping': 1623, 'valued': 1624, 'usd': 1625, 'urge': 1626, 'upvoted': 1627, 'upvote': 1628, 'unfamiliar': 1629, 'underrated': 1630, 'unaware': 1631, 'tyranny': 1632, 'twins': 1633, 'traditions': 1634, 'tor': 1635, 'toggle': 1636, 'toast': 1637, 'titans': 1638, 'tim': 1639, 'thru': 1640, 'theyre': 1641, 'tgt': 1642, 'tf2': 1643, 'teenagers': 1644, 'talents': 1645, 'tale': 1646, 'summoned': 1647, 'stupidly': 1648, 'stubborn': 1649, 'struck': 1650, 'stressful': 1651, 'str': 1652, 'stole': 1653, 'sticky': 1654, 'statistically': 1655, 'startup': 1656, 'standpoint': 1657, 'stalin': 1658, 'squishy': 1659, 'speculative': 1660, 'spark': 1661, 'soviet': 1662, 'someday': 1663, 'soil': 1664, 'societal': 1665, 'smite': 1666, 'slap': 1667, 'singing': 1668, 'sights': 1669, 'shove': 1670, 'shotguns': 1671, 'shipped': 1672, 'shifts': 1673, 'sheer': 1674, 'settlement': 1675, 'separated': 1676, 'sells': 1677, 'scrolls': 1678, 'screenshots': 1679, 'scooter': 1680, 'satan': 1681, 'sane': 1682, 'safari': 1683, 's4': 1684, 'russians': 1685, 'rushed': 1686, 'rookie': 1687, 'rivalry': 1688, 'ripped': 1689, 'restricted': 1690, 'restart': 1691, 'resist': 1692, 'res': 1693, 'representing': 1694, 'remembering': 1695, 'reliability': 1696, 'refuses': 1697, 'reds': 1698, 'rebuild': 1699, 'reborn': 1700, 'reads': 1701, 'rap': 1702, 'rail': 1703, 'r9': 1704, 'qualities': 1705, 'puzzle': 1706, 'protecting': 1707, 'promoting': 1708, 'promising': 1709, 'profession': 1710, 'productive': 1711, 'processors': 1712, 'prisoners': 1713, 'priests': 1714, 'preventing': 1715, 'practicing': 1716, 'polls': 1717, 'polish': 1718, 'poison': 1719, 'plural': 1720, 'peaceful': 1721, 'payments': 1722, 'pax': 1723, 'patrol': 1724, 'parallel': 1725, 'painting': 1726, 'overnight': 1727, 'oregon': 1728, 'optional': 1729, 'oppose': 1730, 'ongoing': 1731, 'omega': 1732, 'obsession': 1733, 'obsessed': 1734, 'nurses': 1735, 'norway': 1736, 'norm': 1737, 'noob': 1738, 'ni': 1739, 'needadvice': 1740, 'naval': 1741, 'nationalism': 1742, 'namely': 1743, 'nails': 1744, 'murderer': 1745, 'multiplayer': 1746, 'mountains': 1747, 'mothers': 1748, 'moba': 1749, 'mist': 1750, 'miami': 1751, 'mgs': 1752, 'marvel': 1753, 'marry': 1754, 'manipulation': 1755, 'mainstream': 1756, 'macbook': 1757, 'loading': 1758, 'listing': 1759, 'lion': 1760, 'lame': 1761, 'konami': 1762, 'kits': 1763, 'juggernaut': 1764, 'judges': 1765, 'jordan': 1766, 'jar': 1767, 'jam': 1768, 'invisible': 1769, 'intp': 1770, 'interacting': 1771, 'intact': 1772, 'instincts': 1773, 'initiative': 1774, 'inflation': 1775, 'infection': 1776, 'inconvenience': 1777, 'incest': 1778, 'incapable': 1779, 'immoral': 1780, 'immensely': 1781, 'iii': 1782, 'ifs': 1783, 'hosted': 1784, 'hose': 1785, 'horrendous': 1786, 'honey': 1787, 'honda': 1788, 'heels': 1789, 'hats': 1790, 'hash': 1791, 'guilds': 1792, 'grants': 1793, 'goku': 1794, 'gmail': 1795, 'gc': 1796, 'gambling': 1797, 'furry': 1798, 'francisco': 1799, 'framework': 1800, 'ford': 1801, 'foolish': 1802, 'foo': 1803, 'flexible': 1804, 'fleshed': 1805, 'flaw': 1806, 'flashback': 1807, 'fiora': 1808, 'finishing': 1809, 'finals': 1810, 'finale': 1811, 'fiber': 1812, 'fashioned': 1813, 'fallen': 1814, 'fade': 1815, 'f2p': 1816, 'extract': 1817, 'explains': 1818, 'expertise': 1819, 'evolved': 1820, 'eternal': 1821, 'estimated': 1822, 'esteem': 1823, 'equate': 1824, 'epoxy': 1825, 'ep': 1826, 'enormous': 1827, 'enforced': 1828, 'elves': 1829, 'elementary': 1830, 'elemental': 1831, 'ele': 1832, 'ei': 1833, 'earning': 1834, 'dumbass': 1835, 'dope': 1836, 'dodging': 1837, 'divorced': 1838, 'disingenuous': 1839, 'dishes': 1840, 'disagrees': 1841, 'disabled': 1842, 'detection': 1843, 'desperately': 1844, 'deserved': 1845, 'descriptions': 1846, 'deposit': 1847, 'denmark': 1848, 'defenders': 1849, 'deemed': 1850, 'declare': 1851, 'deadly': 1852, 'darker': 1853, 'darius': 1854, 'cursed': 1855, 'cult': 1856, 'criticize': 1857, 'credibility': 1858, 'cracks': 1859, 'cotton': 1860, 'contributions': 1861, 'consideration': 1862, 'concerning': 1863, 'comply': 1864, 'communicating': 1865, 'colours': 1866, 'collecting': 1867, 'clicked': 1868, 'clay': 1869, 'chips': 1870, 'chasing': 1871, 'challenges': 1872, 'chair': 1873, 'centered': 1874, 'cardio': 1875, 'cannabis': 1876, 'cameras': 1877, 'calorie': 1878, \"c'est\": 1879, 'bullying': 1880, 'bully': 1881, 'brandon': 1882, 'borders': 1883, 'boats': 1884, 'blues': 1885, 'bizarre': 1886, 'bin': 1887, 'bella': 1888, 'behave': 1889, 'beard': 1890, 'basement': 1891, 'banner': 1892, 'avoided': 1893, 'autism': 1894, 'authorized': 1895, 'atomic': 1896, 'athletic': 1897, 'atheists': 1898, 'assure': 1899, 'assumes': 1900, 'assist': 1901, 'archetype': 1902, 'april': 1903, 'approve': 1904, 'appropriately': 1905, 'appointment': 1906, 'apartments': 1907, 'altogether': 1908, 'alarm': 1909, 'affordable': 1910, '85': 1911, '83': 1912, '5000': 1913, '47': 1914, '3x': 1915, '2016': 1916, '14th': 1917, '003f': 1918, \"'i\": 1919, 'zimmerman': 1920, 'wears': 1921, 'warranty': 1922, 'visibility': 1923, 'vent': 1924, 'variance': 1925, 'valley': 1926, 'vacuum': 1927, 'utilize': 1928, 'uncommon': 1929, 'unacceptable': 1930, 'una': 1931, 'ulduar': 1932, 'tweet': 1933, 'trophy': 1934, 'tricks': 1935, 'tribes': 1936, 'transfers': 1937, 'transferred': 1938, 'trainer': 1939, 'tp': 1940, 'toy': 1941, 'tournaments': 1942, 'touches': 1943, 'torture': 1944, 'toronto': 1945, 'tom': 1946, 'throne': 1947, 'tesla': 1948, 'tendency': 1949, 'temple': 1950, 'tastes': 1951, 'syntax': 1952, 'swim': 1953, 'suspicious': 1954, 'sur': 1955, 'supportive': 1956, 'superiority': 1957, 'suited': 1958, 'subsequent': 1959, 'streams': 1960, 'storyline': 1961, 'sticking': 1962, 'stereotype': 1963, 'stepping': 1964, 'steady': 1965, 'spurs': 1966, 'spouse': 1967, 'splash': 1968, 'specify': 1969, 'span': 1970, 'sounding': 1971, 'sof': 1972, 'skipping': 1973, 'sjw': 1974, 'silk': 1975, 'signals': 1976, 'shy': 1977, 'shovel': 1978, 'shifting': 1979, 'shaman': 1980, 'shake': 1981, 'shaco': 1982, 'seriousness': 1983, 'senate': 1984, 'scrap': 1985, 'scaling': 1986, 'samples': 1987, 'salty': 1988, 'rub': 1989, 'respected': 1990, 'reps': 1991, 'replying': 1992, 'rental': 1993, 'relation': 1994, 'refund': 1995, 'references': 1996, 'rebel': 1997, 'realistically': 1998, 'readers': 1999, 'randomactsofblowjob': 2000, 'raging': 2001, 'radius': 2002, 'quo': 2003, 'quicker': 2004, 'pursue': 2005, 'punctuation': 2006, 'pts': 2007, 'proves': 2008, 'protest': 2009, 'profiles': 2010, 'probability': 2011, 'pressed': 2012, 'predict': 2013, 'posters': 2014, 'portland': 2015, 'poly': 2016, 'politically': 2017, 'picky': 2018, 'photoshop': 2019, 'philosophical': 2020, 'pg': 2021, 'pero': 2022, 'penance': 2023, 'pcs': 2024, 'paths': 2025, 'paragraphs': 2026, 'palestinian': 2027, 'ohio': 2028, 'offline': 2029, 'oem': 2030, 'occasions': 2031, 'obesity': 2032, 'notable': 2033, 'nonetheless': 2034, 'node': 2035, 'nine': 2036, 'nicer': 2037, 'nicely': 2038, 'nhl': 2039, 'neo': 2040, 'negatively': 2041, 'mx': 2042, 'musician': 2043, 'moses': 2044, 'minorities': 2045, 'mere': 2046, 'meme': 2047, 'membership': 2048, 'meets': 2049, 'mechanical': 2050, 'martial': 2051, 'ludens': 2052, 'louder': 2053, 'lonely': 2054, 'lined': 2055, 'lifts': 2056, 'leds': 2057, 'leather': 2058, 'leak': 2059, 'laying': 2060, 'layers': 2061, 'lawyers': 2062, 'las': 2063, 'lap': 2064, 'ladies': 2065, 'kate': 2066, 'josh': 2067, 'issued': 2068, 'ips': 2069, 'investigate': 2070, 'invention': 2071, 'invented': 2072, 'intentional': 2073, 'intensive': 2074, 'instructor': 2075, 'initiation': 2076, 'initiate': 2077, 'influenced': 2078, 'inevitable': 2079, 'import': 2080, 'impacts': 2081, 'immature': 2082, 'identifying': 2083, 'identified': 2084, 'hypocritical': 2085, 'hyper': 2086, 'hugs': 2087, 'hs': 2088, 'hospitals': 2089, 'horses': 2090, 'historically': 2091, 'heroin': 2092, 'haben': 2093, 'grenade': 2094, 'gig': 2095, 'gathering': 2096, 'garen': 2097, 'ft': 2098, 'fry': 2099, 'freshman': 2100, 'frank': 2101, 'fortune': 2102, 'flex': 2103, 'flamed': 2104, 'flags': 2105, 'fills': 2106, 'favour': 2107, 'farther': 2108, 'fallacy': 2109, 'fails': 2110, 'extensive': 2111, 'exhausted': 2112, 'execution': 2113, 'ett': 2114, 'ethnicity': 2115, 'equals': 2116, 'environments': 2117, 'enjoyment': 2118, 'employed': 2119, 'emails': 2120, 'eg': 2121, 'edits': 2122, 'edges': 2123, 'duties': 2124, 'ds1': 2125, 'ds': 2126, 'draws': 2127, 'drake': 2128, 'douche': 2129, 'documents': 2130, 'dna': 2131, 'disturbing': 2132, 'disregard': 2133, 'disorder': 2134, 'discipline': 2135, 'disc': 2136, 'disappear': 2137, 'digging': 2138, 'dial': 2139, 'developer': 2140, 'designs': 2141, 'desert': 2142, 'describes': 2143, 'departments': 2144, 'denial': 2145, 'demonstrated': 2146, 'demonstrate': 2147, 'deliberately': 2148, 'delegates': 2149, 'del': 2150, 'definitions': 2151, 'debating': 2152, 'ctrl': 2153, 'crystal': 2154, 'cruel': 2155, 'crucial': 2156, 'credible': 2157, 'creators': 2158, 'courts': 2159, 'costing': 2160, 'corporation': 2161, 'corn': 2162, 'cores': 2163, 'convenience': 2164, 'controlling': 2165, 'continually': 2166, 'contest': 2167, 'contacted': 2168, 'consumers': 2169, 'constructive': 2170, 'confirmation': 2171, 'complexity': 2172, 'competent': 2173, 'communist': 2174, 'communism': 2175, 'commission': 2176, 'combos': 2177, 'coke': 2178, 'coherent': 2179, 'cocktail': 2180, 'cj': 2181, 'circuit': 2182, 'chemistry': 2183, 'chart': 2184, 'charger': 2185, 'championship': 2186, 'chamber': 2187, 'cata': 2188, 'castle': 2189, 'casters': 2190, 'cargo': 2191, 'cared': 2192, 'carb': 2193, 'candy': 2194, 'britain': 2195, 'brisbane': 2196, 'brighton': 2197, 'brains': 2198, 'brady': 2199, 'borderlands': 2200, 'bloop': 2201, 'blonde': 2202, 'blocking': 2203, 'bleep': 2204, 'bite': 2205, 'bedroom': 2206, 'bands': 2207, 'badge': 2208, 'authorities': 2209, 'auch': 2210, 'aspirin': 2211, 'ashley': 2212, 'approaches': 2213, 'appeared': 2214, 'announcement': 2215, 'animations': 2216, 'angles': 2217, 'aluminum': 2218, 'alongside': 2219, 'allah': 2220, 'align': 2221, 'aged': 2222, 'advocates': 2223, 'adopt': 2224, 'adjusted': 2225, 'addicted': 2226, 'accused': 2227, 'accomplished': 2228, '58': 2229, '52': 2230, '38': 2231, '20s': 2232, '2009': 2233, '1600': 2234, \"'the\": 2235, 'x2': 2236, 'wouldnt': 2237, 'whip': 2238, 'volunteer': 2239, 'viewing': 2240, 'vape': 2241, 'unlimited': 2242, 'uncle': 2243, 'unarmed': 2244, 'uber': 2245, 'twin': 2246, 'tutorial': 2247, 'tribe': 2248, 'transparent': 2249, 'tour': 2250, 'tobacco': 2251, 'tissue': 2252, 'thunder': 2253, 'theoretically': 2254, 'terrain': 2255, 'tens': 2256, 'temporarily': 2257, 'teens': 2258, 'tears': 2259, 'tasks': 2260, 'sympathy': 2261, 'switches': 2262, 'swift': 2263, 'sweeping': 2264, 'sweep': 2265, 'swapping': 2266, 'summons': 2267, 'suffered': 2268, 'sucking': 2269, 'sturdy': 2270, 'stroke': 2271, 'statistical': 2272, 'stark': 2273, 'staring': 2274, 'squat': 2275, 'spreading': 2276, 'splitting': 2277, 'spends': 2278, 'sorta': 2279, 'smarter': 2280, 'slim': 2281, 'slice': 2282, 'skinny': 2283, 'skarner': 2284, 'sing': 2285, 'simpler': 2286, 'shorts': 2287, 'shiny': 2288, 'shallow': 2289, 'sf': 2290, 'serial': 2291, 'separation': 2292, 'separately': 2293, 'senior': 2294, 'semblance': 2295, 'seed': 2296, 'scotch': 2297, 'rows': 2298, 'romantic': 2299, 'rip': 2300, 'rhetoric': 2301, 'rendering': 2302, 'render': 2303, 'reminder': 2304, 'regulation': 2305, 'refresh': 2306, 'reflect': 2307, 'raises': 2308, 'raiders': 2309, 'radiation': 2310, 'purchases': 2311, 'pulls': 2312, 'psychological': 2313, 'protocol': 2314, 'promised': 2315, 'profitable': 2316, 'presumably': 2317, 'prestige': 2318, 'premise': 2319, 'preferably': 2320, 'prayer': 2321, 'ppr': 2322, 'pound': 2323, 'potter': 2324, 'pots': 2325, 'ports': 2326, 'pork': 2327, 'podcast': 2328, 'planets': 2329, 'placing': 2330, 'pixels': 2331, 'pink': 2332, 'peter': 2333, 'persons': 2334, 'perpetrators': 2335, 'perk': 2336, 'peel': 2337, 'passionate': 2338, 'partial': 2339, 'parody': 2340, 'pansy': 2341, 'overkill': 2342, 'outdated': 2343, 'ou': 2344, 'opposing': 2345, 'oc': 2346, 'objectives': 2347, 'noted': 2348, 'niche': 2349, 'nearest': 2350, 'nap': 2351, 'murdering': 2352, 'monopoly': 2353, 'monitors': 2354, 'module': 2355, 'mixture': 2356, 'mixing': 2357, 'minecraft': 2358, 'mild': 2359, 'memories': 2360, 'matchups': 2361, 'manufacturers': 2362, 'manners': 2363, 'managing': 2364, 'lp': 2365, 'lowering': 2366, 'loops': 2367, 'logs': 2368, 'lifting': 2369, 'liar': 2370, 'knees': 2371, 'kings': 2372, 'kernel': 2373, 'jaw': 2374, 'jailbreak': 2375, 'jacket': 2376, 'irish': 2377, 'introduction': 2378, 'interior': 2379, 'intellectual': 2380, 'integrity': 2381, 'institutions': 2382, 'imply': 2383, 'implementation': 2384, 'illusions': 2385, 'headed': 2386, 'hashtag': 2387, 'handy': 2388, 'gw2': 2389, 'guesses': 2390, 'guardian': 2391, 'grip': 2392, 'grid': 2393, 'grandfather': 2394, 'grams': 2395, 'grad': 2396, 'governor': 2397, 'gifts': 2398, 'fraction': 2399, 'followers': 2400, 'flaws': 2401, 'festival': 2402, 'fence': 2403, 'feats': 2404, 'feat': 2405, 'f1': 2406, 'exploit': 2407, 'expanding': 2408, 'exclusives': 2409, 'excessive': 2410, 'evo': 2411, 'everytime': 2412, 'evasion': 2413, 'environmental': 2414, 'emphasis': 2415, 'emperor': 2416, 'empathy': 2417, 'elo': 2418, 'eligible': 2419, 'ein': 2420, 'edg': 2421, 'echo': 2422, 'drill': 2423, 'drastically': 2424, 'doompety': 2425, 'disrespectful': 2426, 'dispute': 2427, 'disparity': 2428, 'disorders': 2429, 'dish': 2430, 'disclaimer': 2431, 'determining': 2432, 'destroying': 2433, 'desires': 2434, 'deficit': 2435, 'davis': 2436, 'darkness': 2437, 'damaged': 2438, 'curse': 2439, 'crashed': 2440, 'cooper': 2441, 'conversion': 2442, 'continuously': 2443, 'constraint': 2444, 'considerably': 2445, 'consequence': 2446, 'completion': 2447, 'compatibility': 2448, 'commonly': 2449, 'commented': 2450, 'commands': 2451, 'cod': 2452, 'coal': 2453, 'clouds': 2454, 'cloth': 2455, 'clicks': 2456, 'clarification': 2457, 'civilian': 2458, 'circular': 2459, 'circles': 2460, 'chrono': 2461, 'chicago': 2462, 'censorship': 2463, 'caution': 2464, 'cache': 2465, 'burnt': 2466, 'bungie': 2467, 'bundle': 2468, 'bucket': 2469, 'browsing': 2470, 'brick': 2471, 'breathe': 2472, 'breaker': 2473, 'borrow': 2474, 'bloody': 2475, 'bleeding': 2476, 'behaviour': 2477, 'behalf': 2478, 'bearing': 2479, 'bath': 2480, 'badass': 2481, 'availability': 2482, 'auf': 2483, 'attending': 2484, 'assassins': 2485, 'artificial': 2486, 'alaska': 2487, 'afk': 2488, 'advertise': 2489, 'activated': 2490, 'achieved': 2491, 'ab': 2492, '900': 2493, '80s': 2494, '7th': 2495, '750': 2496, '49': 2497, '48': 2498, '2006': 2499, '1k': 2500, 'zerg': 2501, 'yorick': 2502, 'yield': 2503, 'wore': 2504, 'wolf': 2505, 'wizard': 2506, 'withdrawal': 2507, 'whatnot': 2508, 'waters': 2509, 'washing': 2510, 'waited': 2511, 'viktor': 2512, 'viewed': 2513, 'versa': 2514, 'vegan': 2515, 'variation': 2516, 'usable': 2517, 'upgrading': 2518, 'unwanted': 2519, 'understandable': 2520, 'underground': 2521, 'tumblr': 2522, 'tube': 2523, 'trend': 2524, 'towns': 2525, 'touched': 2526, 'tire': 2527, 'themes': 2528, 'surprisingly': 2529, 'summary': 2530, 'studied': 2531, 'strongest': 2532, 'strangers': 2533, 'stored': 2534, 'stepped': 2535, 'stairs': 2536, 'stages': 2537, 'stacking': 2538, 'spoken': 2539, 'spelling': 2540, 'speaker': 2541, 'sore': 2542, 'socially': 2543, 'sneak': 2544, 'snake': 2545, 'skt': 2546, 'skeleton': 2547, 'sidewalk': 2548, 'shoulders': 2549, 'shortly': 2550, 'shits': 2551, 'shine': 2552, 'settled': 2553, 'sentences': 2554, 'segment': 2555, 'sd': 2556, 'screws': 2557, 'sc': 2558, 'satisfying': 2559, 'saint': 2560, 'rural': 2561, 'routes': 2562, 'roommate': 2563, 'rom': 2564, 'rocky': 2565, 'robots': 2566, 'robot': 2567, 'rick': 2568, 'rewarding': 2569, 'revenue': 2570, 'retirement': 2571, 'requested': 2572, 'represents': 2573, 'relax': 2574, 'reform': 2575, 'ra': 2576, 'quitting': 2577, 'queens': 2578, 'quantum': 2579, 'purchasing': 2580, 'provider': 2581, 'prone': 2582, 'programming': 2583, 'professor': 2584, 'prisons': 2585, 'prescription': 2586, 'powder': 2587, 'popularity': 2588, 'popped': 2589, 'pollution': 2590, 'politician': 2591, 'pod': 2592, 'pleasure': 2593, 'pleasant': 2594, 'pit': 2595, 'ping': 2596, 'penny': 2597, 'pe': 2598, 'patience': 2599, 'password': 2600, 'paranoid': 2601, 'paradox': 2602, 'overcome': 2603, 'opposition': 2604, 'officially': 2605, 'nut': 2606, 'npcs': 2607, 'noble': 2608, 'newly': 2609, 'nas': 2610, 'narrow': 2611, 'muscles': 2612, 'motive': 2613, 'moderation': 2614, 'mock': 2615, 'mins': 2616, 'mentions': 2617, 'meetings': 2618, 'mecha': 2619, 'maximize': 2620, 'mal': 2621, 'loser': 2622, 'loot': 2623, 'liability': 2624, 'legitimately': 2625, 'legends': 2626, 'leadership': 2627, 'java': 2628, 'invasion': 2629, 'interface': 2630, 'insults': 2631, 'installing': 2632, 'inform': 2633, 'infantry': 2634, 'indicator': 2635, 'indicate': 2636, 'increasingly': 2637, 'immortal': 2638, 'hobbies': 2639, 'heh': 2640, 'healthcare': 2641, 'harass': 2642, 'hammer': 2643, 'grenades': 2644, 'graduated': 2645, 'grabbed': 2646, 'goodness': 2647, 'goalie': 2648, 'gank': 2649, 'gang': 2650, 'fyi': 2651, 'fundamentally': 2652, 'functional': 2653, 'formaldehyde': 2654, 'floors': 2655, 'floating': 2656, 'fishing': 2657, 'filed': 2658, 'fascinating': 2659, 'famous': 2660, 'fairness': 2661, 'factions': 2662, 'fabric': 2663, 'exploration': 2664, 'experiencing': 2665, 'expectation': 2666, 'evolution': 2667, 'estate': 2668, 'engaging': 2669, 'encouraged': 2670, 'electronic': 2671, 'elaborate': 2672, 'economics': 2673, 'drowning': 2674, 'diving': 2675, 'divide': 2676, 'discover': 2677, 'directions': 2678, 'dimensions': 2679, 'diagnosed': 2680, 'destruction': 2681, 'denying': 2682, 'delivered': 2683, 'dear': 2684, 'dc': 2685, 'dat': 2686, 'curb': 2687, 'csgo': 2688, 'crushed': 2689, 'crossing': 2690, 'crossed': 2691, 'cringe': 2692, 'creature': 2693, 'craigslist': 2694, 'covering': 2695, 'countless': 2696, 'convicted': 2697, 'conscious': 2698, 'congrats': 2699, 'conduct': 2700, 'complained': 2701, 'compatible': 2702, 'como': 2703, 'commercials': 2704, 'coin': 2705, 'clg': 2706, 'cleared': 2707, 'clarify': 2708, 'civilians': 2709, 'circlejerk': 2710, 'chunk': 2711, 'cheapest': 2712, 'charles': 2713, 'ceiling': 2714, 'cave': 2715, 'carriers': 2716, 'cancel': 2717, 'browser': 2718, 'broad': 2719, 'breed': 2720, 'brake': 2721, 'boundaries': 2722, 'blowing': 2723, 'blew': 2724, 'blank': 2725, 'biology': 2726, 'bent': 2727, 'bei': 2728, 'behaviors': 2729, 'bayern': 2730, 'batman': 2731, 'bastard': 2732, 'bait': 2733, 'awoken': 2734, 'atm': 2735, 'asylum': 2736, 'ashamed': 2737, 'asap': 2738, 'arrow': 2739, 'argued': 2740, 'ar': 2741, 'applying': 2742, 'apples': 2743, 'ancients': 2744, 'amongst': 2745, 'alternatively': 2746, 'alternate': 2747, 'alert': 2748, 'aggressively': 2749, 'admittedly': 2750, 'adam': 2751, 'ace': 2752, 'accurately': 2753, 'ac': 2754, '72': 2755, '6th': 2756, '4x': 2757, '16gb': 2758, '1200': 2759, 'yt': 2760, 'wrap': 2761, 'worthwhile': 2762, 'worrying': 2763, 'worries': 2764, 'wisdom': 2765, 'wherever': 2766, 'weigh': 2767, 'websites': 2768, 'watches': 2769, 'warrant': 2770, 'verify': 2771, 'veigar': 2772, 'vaccines': 2773, 'upside': 2774, 'unusual': 2775, 'unrelated': 2776, 'unlocked': 2777, 'unlock': 2778, 'unions': 2779, 'unfortunate': 2780, 'twilight': 2781, 'turkey': 2782, 'trivial': 2783, 'treating': 2784, 'trades': 2785, 'towers': 2786, 'toe': 2787, 'throws': 2788, 'theirs': 2789, 'theater': 2790, 'terminal': 2791, 'teenage': 2792, 'tds': 2793, 'tagged': 2794, 'survived': 2795, 'strictly': 2796, 'stocks': 2797, 'stem': 2798, 'stations': 2799, 'stability': 2800, 'spit': 2801, 'spider': 2802, 'spamming': 2803, 'spammers': 2804, 'slide': 2805, 'sir': 2806, 'shoots': 2807, 'shares': 2808, 'sexy': 2809, 'serving': 2810, 'sector': 2811, 'scales': 2812, 'sauce': 2813, 'rune': 2814, 'ruling': 2815, 'ruled': 2816, 'rotation': 2817, 'roots': 2818, 'revealed': 2819, 'restore': 2820, 'responded': 2821, 'respectful': 2822, 'republic': 2823, 'replay': 2824, 'remained': 2825, 'relief': 2826, 'rejection': 2827, 'regulated': 2828, 'register': 2829, 'reflection': 2830, 'ref': 2831, 'recognized': 2832, 'pushes': 2833, 'prominent': 2834, 'processed': 2835, 'proceed': 2836, 'precise': 2837, 'pr': 2838, 'possibilities': 2839, 'persecuted': 2840, 'permit': 2841, 'pakistan': 2842, 'packed': 2843, 'overwatch': 2844, 'oriented': 2845, 'occasion': 2846, 'neighborhoods': 2847, 'nazis': 2848, 'mum': 2849, 'mounts': 2850, 'motorcycle': 2851, 'morality': 2852, 'minimize': 2853, 'mindset': 2854, 'miller': 2855, 'mediocre': 2856, 'matchup': 2857, 'mask': 2858, 'marathon': 2859, 'lv': 2860, 'luke': 2861, 'loyalty': 2862, 'loompa': 2863, 'lineup': 2864, 'lied': 2865, 'liberty': 2866, 'lens': 2867, 'lasts': 2868, 'lake': 2869, 'kickstarter': 2870, 'jungler': 2871, 'jumps': 2872, 'johnson': 2873, 'jazz': 2874, 'jason': 2875, 'irl': 2876, 'intensifies': 2877, 'institution': 2878, 'ingredients': 2879, 'indie': 2880, 'independence': 2881, 'inaccurate': 2882, 'imho': 2883, 'imagined': 2884, 'illusion': 2885, 'hypothetical': 2886, 'hyped': 2887, 'hood': 2888, 'helicopter': 2889, 'harper': 2890, 'handing': 2891, 'handed': 2892, 'hahaha': 2893, 'grows': 2894, 'greek': 2895, 'grammar': 2896, 'giveaways': 2897, 'gifs': 2898, 'gaps': 2899, 'fursec': 2900, 'fucks': 2901, 'freak': 2902, 'forgotten': 2903, 'forgetting': 2904, 'flexibility': 2905, 'fixes': 2906, 'fitting': 2907, 'firmly': 2908, 'finance': 2909, 'favorites': 2910, 'ez': 2911, 'expenses': 2912, 'europeans': 2913, 'estimate': 2914, 'essential': 2915, 'epic': 2916, 'entity': 2917, 'encounters': 2918, 'encountered': 2919, 'enable': 2920, 'embarrassed': 2921, 'efficiently': 2922, 'editor': 2923, 'ecc': 2924, 'dvd': 2925, 'duration': 2926, 'duck': 2927, 'drain': 2928, 'dragging': 2929, 'downloaded': 2930, 'donations': 2931, 'donation': 2932, 'district': 2933, 'distinguish': 2934, 'dialogue': 2935, 'defeat': 2936, 'debates': 2937, 'currency': 2938, 'cruz': 2939, 'cried': 2940, 'crate': 2941, 'copyright': 2942, 'consciousness': 2943, 'confession': 2944, 'concert': 2945, 'compelling': 2946, 'collective': 2947, 'coins': 2948, 'closing': 2949, 'cigarette': 2950, 'charm': 2951, 'charity': 2952, 'cautious': 2953, 'catching': 2954, 'captured': 2955, 'buffed': 2956, 'bros': 2957, 'broadcast': 2958, 'briefly': 2959, 'breakfast': 2960, 'brave': 2961, 'bond': 2962, 'beneath': 2963, 'belongs': 2964, 'bathroom': 2965, 'bash': 2966, 'barrier': 2967, 'backstory': 2968, 'authors': 2969, 'atheist': 2970, 'associate': 2971, 'assets': 2972, 'asleep': 2973, 'arrogant': 2974, 'arrest': 2975, 'appealing': 2976, 'aiming': 2977, 'agents': 2978, 'afaik': 2979, 'af': 2980, 'adhd': 2981, 'abused': 2982, '4k': 2983, '180': 2984, '1500': 2985, '10k': 2986, 'youth': 2987, 'yay': 2988, 'wwe': 2989, 'wound': 2990, 'workout': 2991, 'wod': 2992, 'whites': 2993, 'whats': 2994, 'weaker': 2995, 'warden': 2996, 'vulnerable': 2997, 'vr': 2998, 'visiting': 2999, 'visa': 3000, 'virtually': 3001, 'vibe': 3002, 'upvotes': 3003, 'unhappy': 3004, 'typing': 3005, 'ty': 3006, 'tunnel': 3007, 'trilogy': 3008, 'triggers': 3009, 'trapped': 3010, 'transportation': 3011, 'trains': 3012, 'traded': 3013, 'tracking': 3014, 'tires': 3015, 'ties': 3016, 'tha': 3017, 'tear': 3018, 'targeting': 3019, 'stressed': 3020, 'straw': 3021, 'starters': 3022, 'ss': 3023, 'sr': 3024, 'squad': 3025, 'sprint': 3026, 'spray': 3027, 'spoke': 3028, 'spicy': 3029, 'sp': 3030, 'sony': 3031, 'societies': 3032, 'smoked': 3033, 'shower': 3034, 'shotgun': 3035, 'shops': 3036, 'shock': 3037, 'shed': 3038, 'seemingly': 3039, 'scream': 3040, 'scam': 3041, 'savings': 3042, 'safely': 3043, 'revenge': 3044, 'resulting': 3045, 'restriction': 3046, 'remembered': 3047, 'relate': 3048, 'reject': 3049, 'reduces': 3050, 'reader': 3051, 'razor': 3052, 'rat': 3053, 'ranks': 3054, 'quoted': 3055, 'qui': 3056, 'pulse': 3057, 'pub': 3058, 'ps3': 3059, 'priced': 3060, 'pressing': 3061, 'polite': 3062, 'phoenix': 3063, 'petty': 3064, 'pause': 3065, 'panels': 3066, 'outfit': 3067, 'ought': 3068, 'optimal': 3069, 'oompa': 3070, 'olds': 3071, 'officers': 3072, 'objectively': 3073, 'numerous': 3074, 'null': 3075, 'muslim': 3076, 'musical': 3077, 'moderate': 3078, 'mobs': 3079, 'mob': 3080, 'misunderstanding': 3081, 'misleading': 3082, 'mi': 3083, 'messaging': 3084, 'meaningless': 3085, 'mclaren': 3086, 'maxed': 3087, 'manually': 3088, 'manga': 3089, 'ma': 3090, 'lyrics': 3091, 'logo': 3092, 'lfr': 3093, 'legislation': 3094, 'lee': 3095, 'ladder': 3096, 'kicks': 3097, 'justification': 3098, 'justicar': 3099, 'judgement': 3100, 'jewish': 3101, 'jersey': 3102, 'jag': 3103, 'iv': 3104, 'instructions': 3105, 'inclined': 3106, 'implied': 3107, 'immigrants': 3108, 'imaginary': 3109, 'iirc': 3110, 'ignores': 3111, 'icon': 3112, 'happier': 3113, 'grocery': 3114, 'greedy': 3115, 'graduate': 3116, 'grabbing': 3117, 'germans': 3118, 'generated': 3119, 'gather': 3120, 'gates': 3121, 'fury': 3122, 'fraud': 3123, 'fourth': 3124, 'extend': 3125, 'exclusively': 3126, 'ds2': 3127, 'drove': 3128, 'dressed': 3129, 'downside': 3130, 'diversity': 3131, 'diverse': 3132, 'disney': 3133, 'dismiss': 3134, 'discrimination': 3135, 'discount': 3136, 'disable': 3137, 'detailed': 3138, 'demographic': 3139, 'democrats': 3140, 'democracy': 3141, 'cycles': 3142, 'cure': 3143, 'crafting': 3144, 'cooldown': 3145, 'convert': 3146, 'constitution': 3147, 'cock': 3148, 'clients': 3149, 'chaos': 3150, 'challenged': 3151, 'centre': 3152, 'categories': 3153, 'bust': 3154, 'bra': 3155, 'bounds': 3156, 'bound': 3157, 'bonuses': 3158, 'bold': 3159, 'blows': 3160, 'birds': 3161, 'bi': 3162, 'beers': 3163, 'bears': 3164, 'barrel': 3165, 'bakers': 3166, 'baker': 3167, 'backed': 3168, 'automated': 3169, 'attend': 3170, 'arrested': 3171, 'array': 3172, 'arbitrary': 3173, 'applicable': 3174, 'annoyed': 3175, 'aliens': 3176, 'albeit': 3177, 'aka': 3178, 'agent': 3179, 'afternoon': 3180, 'adventure': 3181, 'adapt': 3182, 'actor': 3183, 'activate': 3184, 'acted': 3185, '8th': 3186, '800': 3187, '700': 3188, '2007': 3189, '009': 3190, \"''\": 3191, 'youre': 3192, 'woke': 3193, 'wishes': 3194, 'winners': 3195, 'ward': 3196, 'walmart': 3197, 'virtual': 3198, 'vary': 3199, 'variable': 3200, 'universal': 3201, 'unfair': 3202, 'ufc': 3203, 'trusted': 3204, 'traps': 3205, 'transport': 3206, 'translate': 3207, 'trail': 3208, 'toss': 3209, 'theories': 3210, 'tension': 3211, 'swear': 3212, 'suicides': 3213, 'subway': 3214, 'substantial': 3215, 'styles': 3216, 'stun': 3217, 'strings': 3218, 'striker': 3219, 'speculation': 3220, 'spare': 3221, 'skyrim': 3222, 'sisters': 3223, 'sheet': 3224, 'settle': 3225, 'semester': 3226, 'selfish': 3227, 'seeds': 3228, 'sections': 3229, 'secrets': 3230, 'secondly': 3231, 'sci': 3232, 'scheme': 3233, 'roman': 3234, 'restrict': 3235, 'repeatedly': 3236, 'remote': 3237, 'relations': 3238, 'rejected': 3239, 'regulations': 3240, 'recommendation': 3241, 'rebellion': 3242, 'rear': 3243, 'reaching': 3244, 'reaches': 3245, 'ratings': 3246, 'ranges': 3247, 'races': 3248, 'queue': 3249, 'punch': 3250, 'published': 3251, 'profits': 3252, 'privacy': 3253, 'prevents': 3254, 'potato': 3255, 'possession': 3256, 'playoffs': 3257, 'plat': 3258, 'placement': 3259, 'performing': 3260, 'peers': 3261, 'patron': 3262, 'pas': 3263, 'origin': 3264, 'oranges': 3265, 'operations': 3266, 'observe': 3267, 'obnoxious': 3268, 'nexus': 3269, 'nerf': 3270, 'ndp': 3271, 'mysterious': 3272, 'murders': 3273, 'murdered': 3274, 'modes': 3275, 'mistaken': 3276, 'mile': 3277, 'micro': 3278, 'messages': 3279, 'medication': 3280, 'meaningful': 3281, 'matt': 3282, 'matched': 3283, 'marks': 3284, 'manufacturer': 3285, 'lsd': 3286, 'loyal': 3287, 'loses': 3288, 'located': 3289, 'lawn': 3290, 'lasted': 3291, 'lands': 3292, 'lacks': 3293, 'labour': 3294, 'lab': 3295, 'june': 3296, 'jumped': 3297, 'joking': 3298, 'jealous': 3299, 'italian': 3300, 'iso': 3301, 'ireland': 3302, 'involves': 3303, 'invite': 3304, 'intake': 3305, 'insight': 3306, 'insecure': 3307, 'index': 3308, 'improvements': 3309, 'impressed': 3310, 'ideology': 3311, 'ideally': 3312, 'hung': 3313, 'humor': 3314, 'html': 3315, 'hop': 3316, 'helmet': 3317, 'hearthstone': 3318, 'heading': 3319, 'hateful': 3320, 'greg': 3321, 'gray': 3322, 'grant': 3323, 'gains': 3324, 'fusion': 3325, 'fuckin': 3326, 'frequent': 3327, 'freeze': 3328, 'freaking': 3329, 'folk': 3330, 'florida': 3331, 'females': 3332, 'felon': 3333, 'excel': 3334, 'establishment': 3335, 'endless': 3336, 'elected': 3337, 'ease': 3338, 'drafting': 3339, 'downvoting': 3340, 'divine': 3341, 'developing': 3342, 'decline': 3343, 'dealer': 3344, 'dated': 3345, 'criteria': 3346, 'creation': 3347, 'couch': 3348, 'contrast': 3349, 'congratulations': 3350, 'concepts': 3351, 'component': 3352, 'compensation': 3353, 'commitment': 3354, 'commenting': 3355, 'coaches': 3356, 'clone': 3357, 'clever': 3358, 'childhood': 3359, 'chains': 3360, 'cells': 3361, 'cdr': 3362, 'bud': 3363, 'bones': 3364, 'bone': 3365, 'blocksize': 3366, 'blocked': 3367, 'blatantly': 3368, 'bitter': 3369, 'bird': 3370, 'bios': 3371, 'beings': 3372, 'beginner': 3373, 'beats': 3374, 'beans': 3375, 'battlefield': 3376, 'batch': 3377, 'basics': 3378, 'bail': 3379, 'avoiding': 3380, 'aus': 3381, 'association': 3382, 'annie': 3383, 'angel': 3384, 'adapter': 3385, 'accuse': 3386, 'accomplish': 3387, 'accessible': 3388, 'academic': 3389, '64': 3390, '3ds': 3391, '34': 3392, '33': 3393, '20th': 3394, 'zen': 3395, 'wondered': 3396, 'witch': 3397, 'wifi': 3398, 'wider': 3399, 'wenn': 3400, 'welfare': 3401, 'wealthy': 3402, 'weaknesses': 3403, 'voltage': 3404, 'virginia': 3405, 'village': 3406, 'verified': 3407, 'van': 3408, 'vacation': 3409, 'unsure': 3410, 'turbo': 3411, 'tu': 3412, 'traveling': 3413, 'token': 3414, 'timeline': 3415, 'tickets': 3416, 'throat': 3417, 'therapist': 3418, 'tape': 3419, 'tap': 3420, 'talented': 3421, 'tables': 3422, 'sustain': 3423, 'surprising': 3424, 'supposedly': 3425, 'summoning': 3426, 'succeed': 3427, 'substance': 3428, 'stomach': 3429, 'static': 3430, 'spoiler': 3431, 'soup': 3432, 'solar': 3433, 'smith': 3434, 'shave': 3435, 'sharp': 3436, 'shady': 3437, 'sexually': 3438, 'sexist': 3439, 'sequence': 3440, 'selection': 3441, 'scoring': 3442, 'scare': 3443, 'scan': 3444, 'samsung': 3445, 'sam': 3446, 'salary': 3447, 'runes': 3448, 'ruined': 3449, 'rocks': 3450, 'risky': 3451, 'reviewed': 3452, 'resulted': 3453, 'recorded': 3454, 'recommendations': 3455, 'raped': 3456, 'proposed': 3457, 'processor': 3458, 'principle': 3459, 'precisely': 3460, 'practices': 3461, 'pl': 3462, 'permission': 3463, 'pearl': 3464, 'overweight': 3465, 'ordering': 3466, 'ops': 3467, 'opens': 3468, 'nvidia': 3469, 'nra': 3470, 'notion': 3471, 'nielsen': 3472, 'nerfed': 3473, 'mutual': 3474, 'msi': 3475, 'modified': 3476, 'mobility': 3477, 'michael': 3478, 'mega': 3479, 'masters': 3480, 'mars': 3481, 'march': 3482, 'managers': 3483, 'males': 3484, 'lvl': 3485, 'lungs': 3486, 'liquid': 3487, 'likewise': 3488, 'lethal': 3489, 'laser': 3490, 'landed': 3491, 'kiss': 3492, 'killings': 3493, 'joy': 3494, 'ios': 3495, 'intent': 3496, 'insulting': 3497, 'insanely': 3498, 'immigration': 3499, 'il': 3500, 'identical': 3501, 'horse': 3502, 'hormones': 3503, 'hollywood': 3504, 'hint': 3505, 'hearts': 3506, 'hatred': 3507, 'han': 3508, 'habits': 3509, 'grey': 3510, 'governments': 3511, 'ghost': 3512, 'genuine': 3513, 'genius': 3514, 'generate': 3515, 'gems': 3516, 'frames': 3517, 'formatting': 3518, 'formal': 3519, 'fleet': 3520, 'flavors': 3521, 'flare': 3522, 'finger': 3523, 'figuring': 3524, 'fancy': 3525, 'excuses': 3526, 'eve': 3527, 'establish': 3528, 'entering': 3529, 'enforcement': 3530, 'eliminate': 3531, 'elder': 3532, 'dynamic': 3533, 'dramatic': 3534, 'didn': 3535, 'di': 3536, 'developers': 3537, 'cups': 3538, 'corsair': 3539, 'conversations': 3540, 'convenient': 3541, 'commenter': 3542, 'cloud': 3543, 'clip': 3544, 'climate': 3545, 'chores': 3546, 'chemical': 3547, 'caring': 3548, 'camps': 3549, 'buys': 3550, 'buttons': 3551, 'bulk': 3552, 'buddies': 3553, 'bronze': 3554, 'brief': 3555, 'breast': 3556, 'bounty': 3557, 'bothers': 3558, 'bits': 3559, 'billions': 3560, 'beaten': 3561, 'banks': 3562, 'attempts': 3563, 'attempting': 3564, 'attempted': 3565, 'athletes': 3566, 'asus': 3567, 'asia': 3568, 'arrived': 3569, 'arent': 3570, 'apologies': 3571, 'alternatives': 3572, 'alliance': 3573, 'africa': 3574, 'advocate': 3575, 'accidents': 3576, 'abusive': 3577, '350': 3578, '32': 3579, 'zu': 3580, 'zones': 3581, 'york': 3582, 'writers': 3583, 'wine': 3584, 'whining': 3585, 'weekends': 3586, 'warriors': 3587, 'voices': 3588, 'violating': 3589, 'villain': 3590, 'viewers': 3591, 'vendor': 3592, 'vastly': 3593, 'variables': 3594, 'vague': 3595, 'vaccine': 3596, 'va': 3597, 'utter': 3598, 'upload': 3599, 'ukraine': 3600, 'triple': 3601, 'trap': 3602, 'tradition': 3603, 'toys': 3604, 'tournament': 3605, 'surgery': 3606, 'strikes': 3607, 'sticks': 3608, 'stealing': 3609, 'spec': 3610, 'soda': 3611, 'slip': 3612, 'sliding': 3613, 'skype': 3614, 'sizes': 3615, 'sink': 3616, 'singer': 3617, 'shaped': 3618, 'scored': 3619, 'scientist': 3620, 'satisfied': 3621, 'rooms': 3622, 'rolled': 3623, 'roads': 3624, 'representation': 3625, 'recon': 3626, 'recognition': 3627, 'realm': 3628, 'realizing': 3629, 'racing': 3630, 'ppl': 3631, 'powered': 3632, 'poke': 3633, 'pistol': 3634, 'peak': 3635, 'pathetic': 3636, 'paste': 3637, 'participation': 3638, 'par': 3639, 'ours': 3640, 'om': 3641, 'neighbors': 3642, 'naked': 3643, 'movements': 3644, 'monthly': 3645, 'michigan': 3646, 'meds': 3647, 'meals': 3648, 'macro': 3649, 'loans': 3650, 'loads': 3651, 'loaded': 3652, 'lip': 3653, 'lighting': 3654, 'lighter': 3655, 'lean': 3656, 'layout': 3657, 'landlord': 3658, 'jury': 3659, 'jerk': 3660, 'investing': 3661, 'instances': 3662, 'inspired': 3663, 'injured': 3664, 'inevitably': 3665, 'industrial': 3666, 'inch': 3667, 'improving': 3668, 'impression': 3669, 'hungry': 3670, 'horribly': 3671, 'hip': 3672, 'hating': 3673, 'frozen': 3674, 'frequency': 3675, 'franchise': 3676, 'fluid': 3677, 'financially': 3678, 'exposure': 3679, 'experts': 3680, 'exp': 3681, 'equipped': 3682, 'employment': 3683, 'easiest': 3684, 'dominant': 3685, 'domain': 3686, 'dive': 3687, 'distinct': 3688, 'depressed': 3689, 'defender': 3690, 'dealt': 3691, 'dawn': 3692, 'david': 3693, 'damaging': 3694, 'credits': 3695, 'creator': 3696, 'counseling': 3697, 'corruption': 3698, 'convincing': 3699, 'container': 3700, 'contacting': 3701, 'consuming': 3702, 'colour': 3703, 'codes': 3704, 'chelsea': 3705, 'carefully': 3706, 'cam': 3707, 'burned': 3708, 'bullets': 3709, 'bow': 3710, 'blanket': 3711, 'bid': 3712, 'betting': 3713, 'begins': 3714, 'baseball': 3715, 'backing': 3716, 'atk': 3717, 'assumptions': 3718, 'answering': 3719, 'aircraft': 3720, 'abusing': 3721, 'abstract': 3722, 'absence': 3723, 'abandoned': 3724, '2k': 3725, '29': 3726, 'xd': 3727, 'wrestling': 3728, 'victory': 3729, 'vice': 3730, 'utterly': 3731, 'uni': 3732, 'ugh': 3733, 'tweak': 3734, 'thumb': 3735, 'tall': 3736, 'sweat': 3737, 'suits': 3738, 'suggests': 3739, 'subtle': 3740, 'strip': 3741, 'stones': 3742, 'stolen': 3743, 'sniper': 3744, 'slots': 3745, 'shopping': 3746, 'shirts': 3747, 'session': 3748, 'sequel': 3749, 'seal': 3750, 'runner': 3751, 'roof': 3752, 'returns': 3753, 'releasing': 3754, 'registered': 3755, 'recording': 3756, 'rant': 3757, 'ranged': 3758, 'qualified': 3759, 'qbs': 3760, 'processes': 3761, 'pilot': 3762, 'pickup': 3763, 'periods': 3764, 'patterns': 3765, 'patients': 3766, 'organized': 3767, 'organizations': 3768, 'occasional': 3769, 'npc': 3770, 'noticeable': 3771, 'nicotine': 3772, 'nazi': 3773, 'motor': 3774, 'mill': 3775, 'meg': 3776, 'luxury': 3777, 'lowest': 3778, 'lovely': 3779, 'listened': 3780, 'laughed': 3781, 'knives': 3782, 'knee': 3783, 'kicking': 3784, 'kia': 3785, 'keto': 3786, 'judging': 3787, 'journey': 3788, 'journalists': 3789, 'joe': 3790, 'je': 3791, 'jay': 3792, 'ja': 3793, 'instrument': 3794, 'injuries': 3795, 'inherently': 3796, 'indication': 3797, 'impressive': 3798, 'implemented': 3799, 'hurting': 3800, 'household': 3801, 'hosting': 3802, 'holiday': 3803, 'heck': 3804, 'harmful': 3805, 'hall': 3806, 'halfway': 3807, 'guides': 3808, 'grandma': 3809, 'glory': 3810, 'glasses': 3811, 'george': 3812, 'gb': 3813, 'functions': 3814, 'fitness': 3815, 'fi': 3816, 'fate': 3817, 'exit': 3818, 'exceptions': 3819, 'entertaining': 3820, 'domestic': 3821, 'dev': 3822, 'describing': 3823, 'dependent': 3824, 'demands': 3825, 'degrees': 3826, 'dates': 3827, 'dan': 3828, 'courses': 3829, 'county': 3830, 'council': 3831, 'corrupt': 3832, 'corporations': 3833, 'copies': 3834, 'cooperation': 3835, 'contrary': 3836, 'contracts': 3837, 'conservatives': 3838, 'conclusions': 3839, 'compromise': 3840, 'comparable': 3841, 'commander': 3842, 'comics': 3843, 'comedy': 3844, 'climbing': 3845, 'chris': 3846, 'chip': 3847, 'cannon': 3848, 'buyer': 3849, 'buried': 3850, 'brush': 3851, 'bread': 3852, 'boobs': 3853, 'bolt': 3854, 'binary': 3855, 'bf': 3856, 'belong': 3857, 'bat': 3858, 'backwards': 3859, 'attraction': 3860, 'animation': 3861, 'airport': 3862, 'addict': 3863, 'accent': 3864, 'aber': 3865, '26': 3866, '2010': 3867, '2008': 3868, 'zombies': 3869, 'zombie': 3870, 'writingprompts': 3871, 'wreck': 3872, 'worker': 3873, 'wings': 3874, 'wheels': 3875, 'waves': 3876, 'warlock': 3877, 'vocal': 3878, 'violate': 3879, 'ui': 3880, 'uh': 3881, 'tongue': 3882, 'tolerance': 3883, 'tits': 3884, 'timing': 3885, 'threatening': 3886, 'tail': 3887, 'tab': 3888, 'suitable': 3889, 'studio': 3890, 'structures': 3891, 'stealth': 3892, 'spaces': 3893, 'sounded': 3894, 'solved': 3895, 'sins': 3896, 'shorter': 3897, 'shoe': 3898, 'shell': 3899, 'sharking': 3900, 'seven': 3901, 'sentiment': 3902, 'seeking': 3903, 'secure': 3904, 'seats': 3905, 'screenshot': 3906, 'scientists': 3907, 'scenarios': 3908, 'sacrifice': 3909, 'risks': 3910, 'restaurants': 3911, 'resort': 3912, 'repair': 3913, 'reminded': 3914, 'regions': 3915, 'refused': 3916, 'quarter': 3917, 'psu': 3918, 'protein': 3919, 'pros': 3920, 'progression': 3921, 'platforms': 3922, 'pirates': 3923, 'pipe': 3924, 'passes': 3925, 'overpowered': 3926, 'organic': 3927, 'occurs': 3928, 'nyc': 3929, 'nightmare': 3930, 'networks': 3931, 'mystery': 3932, 'monsters': 3933, 'minion': 3934, 'mining': 3935, 'minded': 3936, 'metric': 3937, 'mechanism': 3938, 'maintaining': 3939, 'lmao': 3940, 'lesson': 3941, 'legendary': 3942, 'landing': 3943, 'laid': 3944, 'jeans': 3945, 'isaac': 3946, 'interactions': 3947, 'intelligence': 3948, 'insult': 3949, 'inches': 3950, 'incentive': 3951, 'hunters': 3952, 'hiring': 3953, 'hills': 3954, 'har': 3955, 'haki': 3956, 'gut': 3957, 'gif': 3958, 'generic': 3959, 'gaining': 3960, 'fx': 3961, 'frustrated': 3962, 'formed': 3963, 'fool': 3964, 'fixing': 3965, 'faces': 3966, 'ethical': 3967, 'engineers': 3968, 'eight': 3969, 'educated': 3970, 'earned': 3971, 'downvotes': 3972, 'downtown': 3973, 'distribution': 3974, 'des': 3975, 'denied': 3976, 'confusion': 3977, 'completed': 3978, 'complaints': 3979, 'companion': 3980, 'commercial': 3981, 'comfort': 3982, 'chief': 3983, 'charging': 3984, 'champ': 3985, 'carries': 3986, 'brilliant': 3987, 'breathing': 3988, 'brazil': 3989, 'blaming': 3990, 'belief': 3991, 'beach': 3992, 'av': 3993, 'ate': 3994, 'arts': 3995, 'apparent': 3996, 'amd': 3997, 'ages': 3998, 'adequate': 3999, 'addressing': 4000, 'yard': 4001, 'wording': 4002, 'whatsoever': 4003, 'wealth': 4004, 'washington': 4005, 'walls': 4006, 'visited': 4007, 'vidilux': 4008, 'vi': 4009, 'usual': 4010, 'tune': 4011, 'trolling': 4012, 'threatened': 4013, 'therapy': 4014, 'theft': 4015, 'thankfully': 4016, 'television': 4017, 'techniques': 4018, 'technique': 4019, 'tbc': 4020, 'symbol': 4021, 'surrounding': 4022, 'supreme': 4023, 'stadium': 4024, 'silent': 4025, 'shelf': 4026, 'severely': 4027, 'sessions': 4028, 'seattle': 4029, 'searching': 4030, 'saves': 4031, 'roster': 4032, 'rose': 4033, 'river': 4034, 'rift': 4035, 'resource': 4036, 'repeated': 4037, 'rep': 4038, 'regret': 4039, 'refugees': 4040, 'properties': 4041, 'producing': 4042, 'processing': 4043, 'primarily': 4044, 'pot': 4045, 'portal': 4046, 'planes': 4047, 'philosophy': 4048, 'permanently': 4049, 'payment': 4050, 'operate': 4051, 'needing': 4052, 'morally': 4053, 'minimal': 4054, 'midrange': 4055, 'mexican': 4056, 'martin': 4057, 'manufacturing': 4058, 'lifetime': 4059, 'leaning': 4060, 'lastly': 4061, 'languages': 4062, 'joining': 4063, 'jim': 4064, 'jedi': 4065, 'iraq': 4066, 'involving': 4067, 'invited': 4068, 'invested': 4069, 'interviews': 4070, 'insert': 4071, 'ignored': 4072, 'hunting': 4073, 'horror': 4074, 'hitler': 4075, 'hired': 4076, 'hardest': 4077, 'guilt': 4078, 'guards': 4079, 'grass': 4080, 'friendship': 4081, 'folder': 4082, 'filling': 4083, 'fighters': 4084, 'fbi': 4085, 'faq': 4086, 'extension': 4087, 'extended': 4088, 'exhaust': 4089, 'ego': 4090, 'efforts': 4091, 'eastern': 4092, 'dragons': 4093, 'disgusting': 4094, 'diamond': 4095, 'devs': 4096, 'desperate': 4097, 'depend': 4098, 'deeply': 4099, 'deeper': 4100, 'dass': 4101, 'cuz': 4102, 'cuts': 4103, 'cube': 4104, 'confirm': 4105, 'comp': 4106, 'communication': 4107, 'carrying': 4108, 'carrier': 4109, 'buffs': 4110, 'brutal': 4111, 'billion': 4112, 'beef': 4113, 'beauty': 4114, 'bang': 4115, 'australia': 4116, 'atleast': 4117, 'arrive': 4118, 'anytime': 4119, 'announced': 4120, 'admins': 4121, 'adjust': 4122, 'addiction': 4123, 'acid': 4124, 'accepting': 4125, '970': 4126, '51': 4127, '2011': 4128, 'wasting': 4129, 'walker': 4130, 'void': 4131, 'visual': 4132, 'vet': 4133, 'vanguard': 4134, 'unreasonable': 4135, 'unhealthy': 4136, 'ultra': 4137, 'twitter': 4138, 'turret': 4139, 'tuesday': 4140, 'transactions': 4141, 'trailer': 4142, 'titan': 4143, 'territory': 4144, 'tactics': 4145, 'syria': 4146, 'surrounded': 4147, 'sucked': 4148, 'strict': 4149, 'stops': 4150, 'stood': 4151, 'steve': 4152, 'stacks': 4153, 'spin': 4154, 'soccer': 4155, 'signing': 4156, 'shadows': 4157, 'searched': 4158, 'scroll': 4159, 'screaming': 4160, 'routine': 4161, 'rope': 4162, 'ridiculously': 4163, 'reverse': 4164, 'returning': 4165, 'responding': 4166, 'religions': 4167, 'releases': 4168, 'regard': 4169, 'reduction': 4170, 'reducing': 4171, 'recover': 4172, 'rated': 4173, 'racists': 4174, 'propaganda': 4175, 'promote': 4176, 'procedure': 4177, 'print': 4178, 'prince': 4179, 'presented': 4180, 'prepare': 4181, 'practical': 4182, 'poster': 4183, 'poll': 4184, 'plug': 4185, 'perceived': 4186, 'pays': 4187, 'paypal': 4188, 'patches': 4189, 'partners': 4190, 'partially': 4191, 'paragraph': 4192, 'panel': 4193, 'ocean': 4194, 'nurse': 4195, 'nowadays': 4196, 'northern': 4197, 'navy': 4198, 'nato': 4199, 'motion': 4200, 'mmo': 4201, 'messed': 4202, 'medicine': 4203, 'mature': 4204, 'makeup': 4205, 'liking': 4206, 'leveling': 4207, 'lesser': 4208, 'leagues': 4209, 'lb': 4210, 'latest': 4211, 'kitchen': 4212, 'justified': 4213, 'intentionally': 4214, 'inferior': 4215, 'houses': 4216, 'holds': 4217, 'heaven': 4218, 'hd': 4219, 'hates': 4220, 'grounds': 4221, 'grasp': 4222, 'goddamn': 4223, 'gm': 4224, 'gem': 4225, 'garage': 4226, 'furthermore': 4227, 'fund': 4228, 'formula': 4229, 'flawed': 4230, 'feminist': 4231, 'failing': 4232, 'ethics': 4233, 'entitled': 4234, 'entertainment': 4235, 'employer': 4236, 'em': 4237, 'ears': 4238, 'ear': 4239, 'drawn': 4240, 'demon': 4241, 'demanding': 4242, 'cousin': 4243, 'conspiracy': 4244, 'confederate': 4245, 'clutch': 4246, 'climb': 4247, 'cigarettes': 4248, 'ce': 4249, 'campus': 4250, 'bubble': 4251, 'blog': 4252, 'bikes': 4253, 'bags': 4254, 'awareness': 4255, 'attract': 4256, 'armed': 4257, 'apologize': 4258, 'allies': 4259, 'affects': 4260, 'advise': 4261, 'additionally': 4262, 'absurd': 4263, 'worthless': 4264, 'weakness': 4265, 'visible': 4266, 'versus': 4267, 've': 4268, 'vault': 4269, 'vanessa': 4270, 'upcoming': 4271, 'tricky': 4272, 'tpp': 4273, 'torn': 4274, 'topics': 4275, 'ti': 4276, 'teeth': 4277, 'studying': 4278, 'stranger': 4279, 'stopping': 4280, 'spectrum': 4281, 'sooner': 4282, 'smile': 4283, 'slave': 4284, 'shall': 4285, 'sexism': 4286, 'sec': 4287, 'saturday': 4288, 'replacement': 4289, 'refers': 4290, 'recipe': 4291, 'pve': 4292, 'pretending': 4293, 'pirate': 4294, 'pills': 4295, 'peoples': 4296, 'penis': 4297, 'participating': 4298, 'outright': 4299, 'openly': 4300, 'nearby': 4301, 'nasty': 4302, 'motherboard': 4303, 'mo': 4304, 'mentioning': 4305, 'marijuana': 4306, 'london': 4307, 'legacy': 4308, 'largest': 4309, 'lacking': 4310, 'label': 4311, 'killer': 4312, 'kidding': 4313, 'junk': 4314, 'jet': 4315, 'introduce': 4316, 'interpretation': 4317, 'intention': 4318, 'inner': 4319, 'implies': 4320, 'illness': 4321, 'hunt': 4322, 'hopes': 4323, 'honesty': 4324, 'holes': 4325, 'hobby': 4326, 'harsh': 4327, 'handling': 4328, 'halo': 4329, 'gravity': 4330, 'gen': 4331, 'gap': 4332, 'gamergate': 4333, 'gamer': 4334, 'fruit': 4335, 'frankly': 4336, 'follows': 4337, 'flame': 4338, 'firing': 4339, 'feminism': 4340, 'explore': 4341, 'evening': 4342, 'engines': 4343, 'editing': 4344, 'ed': 4345, 'dump': 4346, 'druid': 4347, 'division': 4348, 'distinction': 4349, 'devil': 4350, 'defending': 4351, 'deciding': 4352, 'curve': 4353, 'crown': 4354, 'counts': 4355, 'continued': 4356, 'consensus': 4357, 'competing': 4358, 'commentary': 4359, 'coat': 4360, 'chill': 4361, 'cheat': 4362, 'chase': 4363, 'breath': 4364, 'blink': 4365, 'bismark': 4366, 'bills': 4367, 'beneficial': 4368, 'bases': 4369, 'atmosphere': 4370, 'approval': 4371, 'albums': 4372, 'al': 4373, 'affirmative': 4374, 'admitted': 4375, 'activities': 4376, 'abide': 4377, '5k': 4378, 'yelling': 4379, 'writer': 4380, 'woods': 4381, 'whoever': 4382, 'wallet': 4383, 'walks': 4384, 'voluntary': 4385, 'var': 4386, 'union': 4387, 'theres': 4388, 'temperature': 4389, 'te': 4390, 'supporters': 4391, 'suggesting': 4392, 'subjective': 4393, 'streets': 4394, 'stays': 4395, 'spoilers': 4396, 'specs': 4397, 'shootings': 4398, 'shared': 4399, 'rugby': 4400, 'riot': 4401, 'rice': 4402, 'recovery': 4403, 'ray': 4404, 'qualify': 4405, 'purchased': 4406, 'punishment': 4407, 'ps': 4408, 'pricing': 4409, 'poverty': 4410, 'pocket': 4411, 'plant': 4412, 'phantom': 4413, 'perception': 4414, 'pen': 4415, 'passion': 4416, 'paladin': 4417, 'painful': 4418, 'omg': 4419, 'offended': 4420, 'mountain': 4421, 'mit': 4422, 'miserable': 4423, 'mexico': 4424, 'mc': 4425, 'luckily': 4426, 'kurt': 4427, 'july': 4428, 'joined': 4429, 'iphone': 4430, 'instant': 4431, 'independent': 4432, 'importantly': 4433, 'importance': 4434, 'immediate': 4435, 'hotel': 4436, 'hook': 4437, 'hes': 4438, 'heroic': 4439, 'harassment': 4440, 'handled': 4441, 'gross': 4442, 'gf': 4443, 'forums': 4444, 'faced': 4445, 'explicitly': 4446, 'ember': 4447, 'dreams': 4448, 'dozen': 4449, 'downvote': 4450, 'document': 4451, 'dmg': 4452, 'discussing': 4453, 'discussed': 4454, 'digital': 4455, 'dare': 4456, 'crisis': 4457, 'creates': 4458, 'controls': 4459, 'controller': 4460, 'comic': 4461, 'column': 4462, 'christmas': 4463, 'christians': 4464, 'christianity': 4465, 'chick': 4466, 'cherry': 4467, 'cheers': 4468, 'charged': 4469, 'channels': 4470, 'capital': 4471, 'butter': 4472, 'burden': 4473, 'bench': 4474, 'asks': 4475, 'arsenal': 4476, 'appreciated': 4477, 'api': 4478, 'answered': 4479, 'addressed': 4480, 'actors': 4481, '2x': 4482, '250': 4483, 'widely': 4484, 'wasted': 4485, 'vehicles': 4486, 'tweaks': 4487, 'troll': 4488, 'transition': 4489, 'totesmessenger': 4490, 'terribly': 4491, 'tbh': 4492, 'submitted': 4493, 'stat': 4494, 'smooth': 4495, 'skins': 4496, 'skilled': 4497, 'signal': 4498, 'shoulder': 4499, 'selected': 4500, 'scout': 4501, 'sand': 4502, 'safer': 4503, 'returned': 4504, 'repost': 4505, 'replacing': 4506, 'records': 4507, 'rb': 4508, 'randomly': 4509, 'racial': 4510, 'punished': 4511, 'prime': 4512, 'plants': 4513, 'piss': 4514, 'phrase': 4515, 'pattern': 4516, 'panic': 4517, 'opportunities': 4518, 'operating': 4519, 'objects': 4520, 'novel': 4521, 'neat': 4522, 'ne': 4523, 'motivated': 4524, 'moments': 4525, 'mechanic': 4526, 'meanwhile': 4527, 'mario': 4528, 'mall': 4529, 'loving': 4530, 'locations': 4531, 'lobby': 4532, 'linking': 4533, 'limits': 4534, 'les': 4535, 'layer': 4536, 'islam': 4537, 'intro': 4538, 'int': 4539, 'infinite': 4540, 'homicide': 4541, 'homes': 4542, 'hockey': 4543, 'greatly': 4544, 'grain': 4545, 'frustration': 4546, 'foundation': 4547, 'footage': 4548, 'fallout': 4549, 'exposed': 4550, 'entered': 4551, 'emotionally': 4552, 'emotion': 4553, 'emergency': 4554, 'dudes': 4555, 'dose': 4556, 'danger': 4557, 'continuing': 4558, 'confirmed': 4559, 'collapse': 4560, 'clothing': 4561, 'clock': 4562, 'chocolate': 4563, 'capture': 4564, 'canon': 4565, 'bucks': 4566, 'brackets': 4567, 'boom': 4568, 'blast': 4569, 'believing': 4570, 'believed': 4571, 'bear': 4572, 'babies': 4573, 'ap': 4574, 'ancient': 4575, 'ammo': 4576, 'agenda': 4577, 'aa': 4578, '65': 4579, 'wr': 4580, 'wages': 4581, 'violation': 4582, 'username': 4583, 'ultimate': 4584, 'trees': 4585, 'tolerated': 4586, 'tez': 4587, 'texas': 4588, 'teammates': 4589, 'survival': 4590, 'successfully': 4591, 'steal': 4592, 'spawn': 4593, 'solely': 4594, 'seller': 4595, 'ryan': 4596, 'reveal': 4597, 'resistance': 4598, 'requiring': 4599, 'reporting': 4600, 'replied': 4601, 'reminds': 4602, 'remains': 4603, 'reasonably': 4604, 'reactions': 4605, 'produced': 4606, 'privilege': 4607, 'pokemon': 4608, 'parenthood': 4609, 'para': 4610, 'owns': 4611, 'operation': 4612, 'officer': 4613, 'motivation': 4614, 'mate': 4615, 'latter': 4616, 'jeg': 4617, 'isis': 4618, 'intense': 4619, 'insulin': 4620, 'innocent': 4621, 'indian': 4622, 'incident': 4623, 'implying': 4624, 'i7': 4625, 'i5': 4626, 'humanity': 4627, 'historical': 4628, 'habit': 4629, 'guitar': 4630, 'guaranteed': 4631, 'funds': 4632, 'forum': 4633, 'forms': 4634, 'firm': 4635, 'feminists': 4636, 'fastest': 4637, 'farming': 4638, 'faction': 4639, 'explicit': 4640, 'equality': 4641, 'egg': 4642, 'dungeon': 4643, 'dozens': 4644, 'desktop': 4645, 'desk': 4646, 'deny': 4647, 'damned': 4648, 'continues': 4649, 'components': 4650, 'compliment': 4651, 'christ': 4652, 'challenging': 4653, 'caps': 4654, 'candidates': 4655, 'btc': 4656, 'brands': 4657, 'biased': 4658, 'battles': 4659, 'axe': 4660, 'austin': 4661, 'aspects': 4662, 'affected': 4663, 'abortion': 4664, '8gb': 4665, 'yup': 4666, 'whom': 4667, 'wedding': 4668, 'ur': 4669, 'upgrades': 4670, 'upgraded': 4671, 'unaltered': 4672, 'tweetposter': 4673, 'trips': 4674, 'touching': 4675, 'thick': 4676, 'task': 4677, 'targeted': 4678, 'switched': 4679, 'summon': 4680, 'sufficient': 4681, 'suffering': 4682, 'stating': 4683, 'speakers': 4684, 'soldiers': 4685, 'soft': 4686, 'sensitive': 4687, 'root': 4688, 'rolls': 4689, 'revolution': 4690, 'restaurant': 4691, 'responses': 4692, 'reset': 4693, 'requirement': 4694, 'reputation': 4695, 'regen': 4696, 'realistic': 4697, 'ranking': 4698, 'python': 4699, 'purple': 4700, 'pride': 4701, 'preference': 4702, 'pour': 4703, 'por': 4704, 'pointless': 4705, 'pitch': 4706, 'pin': 4707, 'paul': 4708, 'packs': 4709, 'oz': 4710, 'owning': 4711, 'overly': 4712, 'named': 4713, 'moon': 4714, 'mood': 4715, 'minions': 4716, 'metahumans': 4717, 'measures': 4718, 'meal': 4719, 'literal': 4720, 'lift': 4721, 'jokes': 4722, 'jenner': 4723, 'internal': 4724, 'infrastructure': 4725, 'improvement': 4726, 'huh': 4727, 'hire': 4728, 'hill': 4729, 'hdd': 4730, 'handful': 4731, 'goods': 4732, 'foster': 4733, 'forgive': 4734, 'forest': 4735, 'foods': 4736, 'flavor': 4737, 'fields': 4738, 'expression': 4739, 'existed': 4740, 'element': 4741, 'edited': 4742, 'doubts': 4743, 'director': 4744, 'destiny': 4745, 'delivery': 4746, 'database': 4747, 'dance': 4748, 'creatures': 4749, 'contributing': 4750, 'confusing': 4751, 'buildings': 4752, 'bombs': 4753, 'blah': 4754, 'bass': 4755, 'awhile': 4756, 'attached': 4757, 'applications': 4758, '20report': 4759, '0aplease': 4760, '0a': 4761, 'yo': 4762, 'yards': 4763, 'worthy': 4764, 'wheel': 4765, 'wave': 4766, 'voters': 4767, 'twist': 4768, 'timer': 4769, 'tests': 4770, 'switching': 4771, 'submissions': 4772, 'steel': 4773, 'sleeping': 4774, 'slaves': 4775, 'sky': 4776, 'sight': 4777, 'sharing': 4778, 'rounds': 4779, 'rough': 4780, 'quotes': 4781, 'punish': 4782, 'publicly': 4783, 'provides': 4784, 'promise': 4785, 'premium': 4786, 'preferred': 4787, 'pray': 4788, 'participate': 4789, 'ourselves': 4790, 'occur': 4791, 'objective': 4792, 'materials': 4793, 'll': 4794, 'lies': 4795, 'lbs': 4796, 'lag': 4797, 'italy': 4798, 'ish': 4799, 'intelligent': 4800, 'intel': 4801, 'hurts': 4802, 'hr': 4803, 'homeless': 4804, 'headphones': 4805, 'gamers': 4806, 'focusing': 4807, 'feeding': 4808, 'favourite': 4809, 'enjoyable': 4810, 'engineering': 4811, 'encounter': 4812, 'efficiency': 4813, 'doors': 4814, 'dodge': 4815, 'divorce': 4816, 'dirt': 4817, 'dies': 4818, 'dem': 4819, 'counters': 4820, 'connections': 4821, 'complaint': 4822, 'communicate': 4823, 'collect': 4824, 'coach': 4825, 'clicking': 4826, 'chosen': 4827, 'chapter': 4828, 'bridge': 4829, 'boxes': 4830, 'believes': 4831, 'bars': 4832, 'bans': 4833, 'artists': 4834, 'arc': 4835, 'angle': 4836, 'advertising': 4837, 'accuracy': 4838, '95': 4839, '5th': 4840, '400': 4841, '3d': 4842, 'wet': 4843, 'weekly': 4844, 'understood': 4845, 'troops': 4846, 'threw': 4847, 'threats': 4848, 'tends': 4849, 'tempo': 4850, 'sudden': 4851, 'stance': 4852, 'stack': 4853, 'spike': 4854, 'socialist': 4855, 'sie': 4856, 'shooter': 4857, 'russian': 4858, 'router': 4859, 'roughly': 4860, 'roles': 4861, 'rig': 4862, 'resubmit': 4863, 'rational': 4864, 'rating': 4865, 'quiet': 4866, 'pics': 4867, 'organization': 4868, 'occurred': 4869, 'object': 4870, 'nights': 4871, 'nah': 4872, 'mmr': 4873, 'missions': 4874, 'mirror': 4875, 'min': 4876, 'mike': 4877, 'mentality': 4878, 'melee': 4879, 'meh': 4880, 'mac': 4881, 'korea': 4882, 'island': 4883, 'involve': 4884, 'introduced': 4885, 'ikke': 4886, 'identify': 4887, 'hundred': 4888, 'hiding': 4889, 'glorious': 4890, 'fox': 4891, 'forcing': 4892, 'flip': 4893, 'finds': 4894, 'feminine': 4895, 'fashion': 4896, 'expert': 4897, 'experiment': 4898, 'employee': 4899, 'discussions': 4900, 'den': 4901, 'deliver': 4902, 'decrease': 4903, 'decides': 4904, 'consumer': 4905, 'combined': 4906, 'bro': 4907, 'bottle': 4908, 'bosses': 4909, 'bias': 4910, 'automatic': 4911, 'applies': 4912, 'alt': 4913, 'alpha': 4914, 'admin': 4915, 'acknowledge': 4916, 'wash': 4917, 'utility': 4918, 'ult': 4919, 'toward': 4920, 'tonight': 4921, 'til': 4922, 'sunday': 4923, 'suggested': 4924, 'struggling': 4925, 'ssd': 4926, 'solutions': 4927, 'smash': 4928, 'signs': 4929, 'served': 4930, 'screwed': 4931, 'scratch': 4932, 'san': 4933, 'retail': 4934, 'remind': 4935, 'remaining': 4936, 'regards': 4937, 'recognize': 4938, 'raising': 4939, 'nicht': 4940, 'med': 4941, 'lunch': 4942, 'lists': 4943, 'listentothis': 4944, 'liberals': 4945, 'legit': 4946, 'knock': 4947, 'knight': 4948, 'ip': 4949, 'inventory': 4950, 'interview': 4951, 'guarantee': 4952, 'generation': 4953, 'funding': 4954, 'films': 4955, 'falls': 4956, 'facing': 4957, 'everyday': 4958, 'est': 4959, 'enforce': 4960, 'ebay': 4961, 'dungeons': 4962, 'disease': 4963, 'discovered': 4964, 'dedicated': 4965, 'debt': 4966, 'creepy': 4967, 'crack': 4968, 'cooler': 4969, 'consoles': 4970, 'coast': 4971, 'clue': 4972, 'cleaning': 4973, 'cake': 4974, 'bright': 4975, 'boston': 4976, 'bored': 4977, 'blown': 4978, 'belt': 4979, 'beast': 4980, 'batteries': 4981, 'att': 4982, 'assumption': 4983, 'alien': 4984, 'aggro': 4985, 'advance': 4986, '600': 4987, '2013': 4988, '150': 4989, 'whilst': 4990, 'valve': 4991, 'unknown': 4992, 'truck': 4993, 'tied': 4994, 'tie': 4995, 'starter': 4996, 'stable': 4997, 'spots': 4998, 'slight': 4999, 'signed': 5000, 'rifle': 5001, 'restrictions': 5002, 'reports': 5003, 'rain': 5004, 'physically': 5005, 'phase': 5006, 'perform': 5007, 'percent': 5008, 'overwhelming': 5009, 'mr': 5010, 'minds': 5011, 'mic': 5012, 'manual': 5013, 'india': 5014, 'ignorance': 5015, 'housing': 5016, 'gate': 5017, 'filter': 5018, 'fee': 5019, 'external': 5020, 'england': 5021, 'dwellings': 5022, 'drawing': 5023, 'dm': 5024, 'dig': 5025, 'determined': 5026, 'demo': 5027, 'def': 5028, 'creep': 5029, 'crash': 5030, 'counting': 5031, 'corporate': 5032, 'cooking': 5033, 'controlled': 5034, 'connected': 5035, 'congress': 5036, 'clan': 5037, 'cents': 5038, 'catholic': 5039, 'capitalism': 5040, 'butt': 5041, 'bush': 5042, 'bs': 5043, 'branch': 5044, 'boot': 5045, 'birthday': 5046, 'banning': 5047, 'badly': 5048, 'attracted': 5049, 'asphalt': 5050, 'adc': 5051, '360': 5052, '27': 5053, '2014': 5054, '2012': 5055, '120': 5056, 'z': 5057, 'verification': 5058, 'uncomfortable': 5059, 'um': 5060, 'tone': 5061, 'supported': 5062, 'suggestion': 5063, 'struggle': 5064, 'stayed': 5065, 'spells': 5066, 'sometime': 5067, 'som': 5068, 'sole': 5069, 'sized': 5070, 'sin': 5071, 'shooters': 5072, 'severe': 5073, 'secondary': 5074, 'seat': 5075, 'scenes': 5076, 'retarded': 5077, 'requests': 5078, 'reported': 5079, 'reduced': 5080, 'receiving': 5081, 'recall': 5082, 'reached': 5083, 'ratio': 5084, 'raids': 5085, 'qb': 5086, 'progressive': 5087, 'priority': 5088, 'pregnant': 5089, 'practically': 5090, 'plastic': 5091, 'pizza': 5092, 'pages': 5093, 'occasionally': 5094, 'nuts': 5095, 'nuclear': 5096, 'muscle': 5097, 'mount': 5098, 'maximum': 5099, 'manner': 5100, 'maintenance': 5101, 'laughing': 5102, 'ist': 5103, 'invest': 5104, 'intentions': 5105, 'idiots': 5106, 'honor': 5107, 'grind': 5108, 'granted': 5109, 'genre': 5110, 'garden': 5111, 'fought': 5112, 'fiction': 5113, 'fed': 5114, 'et': 5115, 'errors': 5116, 'engage': 5117, 'emotions': 5118, 'drinks': 5119, 'doc': 5120, 'deserves': 5121, 'democratic': 5122, 'criticism': 5123, 'criminals': 5124, 'cream': 5125, 'craft': 5126, 'combination': 5127, 'cell': 5128, 'category': 5129, 'captain': 5130, 'california': 5131, 'burning': 5132, 'benner': 5133, 'balls': 5134, 'attacking': 5135, 'associated': 5136, 'analysis': 5137, '45': 5138, '2000': 5139, '00': 5140, 'wtf': 5141, 'wire': 5142, 'weather': 5143, 'ugly': 5144, 'storage': 5145, 'spring': 5146, 'species': 5147, 'solve': 5148, 'shadow': 5149, 'scope': 5150, 'sample': 5151, 'react': 5152, 'raw': 5153, 'protection': 5154, 'prompt': 5155, 'nervous': 5156, 'neighborhood': 5157, 'narrative': 5158, 'muslims': 5159, 'mandatory': 5160, 'loves': 5161, 'lights': 5162, 'israel': 5163, 'initially': 5164, 'informed': 5165, 'imgur': 5166, 'genuinely': 5167, 'france': 5168, 'figures': 5169, 'expectations': 5170, 'encourage': 5171, 'electric': 5172, 'driven': 5173, 'disappointed': 5174, 'directed': 5175, 'defined': 5176, 'cutting': 5177, 'cs': 5178, 'consistently': 5179, 'committed': 5180, 'clubs': 5181, 'carbs': 5182, 'calm': 5183, 'bitcoin': 5184, 'bare': 5185, 'attacked': 5186, 'assholes': 5187, 'arena': 5188, 'anxiety': 5189, 'android': 5190, 'afterwards': 5191, 'wipe': 5192, 'und': 5193, 'suffer': 5194, 'studies': 5195, 'strongly': 5196, 'stone': 5197, 'statistics': 5198, 'stands': 5199, 'slot': 5200, 'si': 5201, 'repeat': 5202, 'raiding': 5203, 'purposes': 5204, 'physics': 5205, 'opponents': 5206, 'og': 5207, 'odds': 5208, 'nowhere': 5209, 'newer': 5210, 'miners': 5211, 'mage': 5212, 'lawyer': 5213, 'identity': 5214, 'hmm': 5215, 'hidden': 5216, 'happiness': 5217, 'guidelines': 5218, 'growth': 5219, 'french': 5220, 'fingers': 5221, 'exciting': 5222, 'eggs': 5223, 'effectively': 5224, 'edition': 5225, 'dust': 5226, 'doctors': 5227, 'delay': 5228, 'cook': 5229, 'consequences': 5230, 'closest': 5231, 'circle': 5232, 'chest': 5233, 'brings': 5234, 'birth': 5235, 'beating': 5236, 'awkward': 5237, 'asian': 5238, 'apps': 5239, 'appeal': 5240, 'updated': 5241, 'tracks': 5242, 'toxic': 5243, 'teachers': 5244, 'talks': 5245, 'stretch': 5246, 'square': 5247, 'southern': 5248, 'smell': 5249, 'slower': 5250, 'sea': 5251, 'screw': 5252, 'rogue': 5253, 'rocket': 5254, 'proven': 5255, 'pants': 5256, 'orders': 5257, 'multi': 5258, 'merely': 5259, 'marketing': 5260, 'lore': 5261, 'loop': 5262, 'j': 5263, 'isnt': 5264, 'interact': 5265, 'intend': 5266, 'incredible': 5267, 'hanging': 5268, 'ha': 5269, 'greatest': 5270, 'frequently': 5271, 'fighter': 5272, 'envy': 5273, 'elements': 5274, 'eh': 5275, 'dual': 5276, 'display': 5277, 'dirty': 5278, 'define': 5279, 'crit': 5280, 'corner': 5281, 'computers': 5282, 'compete': 5283, 'communities': 5284, 'citizen': 5285, 'cheese': 5286, 'cheating': 5287, 'bodies': 5288, 'bell': 5289, 'backup': 5290, 'agency': 5291, 'adults': 5292, '4th': 5293, 'warm': 5294, 'vision': 5295, 'versions': 5296, 'transfer': 5297, 'tight': 5298, 'thrown': 5299, 'thousand': 5300, 'thin': 5301, 'symptoms': 5302, 'september': 5303, 'sees': 5304, 'sat': 5305, 'salt': 5306, 'ruin': 5307, 'reviews': 5308, 'refuse': 5309, 'pump': 5310, 'providing': 5311, 'previously': 5312, 'prepared': 5313, 'pregnancy': 5314, 'penalty': 5315, 'patient': 5316, 'outcome': 5317, 'october': 5318, 'neck': 5319, 'moves': 5320, 'minority': 5321, 'mini': 5322, 'methods': 5323, 'lay': 5324, 'lanes': 5325, 'kicked': 5326, 'juice': 5327, 'jews': 5328, 'ideal': 5329, 'harry': 5330, 'guild': 5331, 'guessing': 5332, 'globaloffensivetrade': 5333, 'gift': 5334, 'friday': 5335, 'fps': 5336, 'flow': 5337, 'efficient': 5338, 'das': 5339, 'covers': 5340, 'coverage': 5341, 'contains': 5342, 'construction': 5343, 'connect': 5344, 'con': 5345, 'choosing': 5346, 'cc': 5347, 'canadian': 5348, 'cable': 5349, 'businesses': 5350, 'boys': 5351, 'bothered': 5352, 'boots': 5353, 'appearance': 5354, 'analogy': 5355, 'amiibo': 5356, 'addition': 5357, 'votes': 5358, 'voted': 5359, 'variety': 5360, 'ups': 5361, 'surely': 5362, 'sugar': 5363, 'submitting': 5364, 'similarly': 5365, 'sending': 5366, 'schools': 5367, 'rifles': 5368, 'quest': 5369, 'pretend': 5370, 'poorly': 5371, 'package': 5372, 'pace': 5373, 'netflix': 5374, 'native': 5375, 'nations': 5376, 'ms': 5377, 'monday': 5378, 'moderator': 5379, 'mentally': 5380, 'magical': 5381, 'lo': 5382, 'kit': 5383, 'increasing': 5384, 'incorrect': 5385, 'implement': 5386, 'grand': 5387, 'grade': 5388, 'fellow': 5389, 'families': 5390, 'extent': 5391, 'established': 5392, 'dunno': 5393, 'desire': 5394, 'deleted': 5395, 'da': 5396, 'crew': 5397, 'creative': 5398, 'conservative': 5399, 'consent': 5400, 'client': 5401, 'champs': 5402, 'bullet': 5403, 'artist': 5404, 'anger': 5405, 'amounts': 5406, 'advanced': 5407, '35': 5408, '28': 5409, 'wood': 5410, 'wonderful': 5411, 'wake': 5412, 'vehicle': 5413, 'upper': 5414, 'traditional': 5415, 'survive': 5416, 'submitter': 5417, 'streaming': 5418, 'storm': 5419, 'socialism': 5420, 'skip': 5421, 'silver': 5422, 'shipping': 5423, 'seek': 5424, 'scary': 5425, 'rp': 5426, 'rewards': 5427, 'republicans': 5428, 'republican': 5429, 'ps4': 5430, 'pic': 5431, 'phones': 5432, 'parent': 5433, 'originally': 5434, 'obama': 5435, 'meeting': 5436, 'machines': 5437, 'loan': 5438, 'lately': 5439, 'jon': 5440, 'installed': 5441, 'improved': 5442, 'ie': 5443, 'hence': 5444, 'gpu': 5445, 'gained': 5446, 'frustrating': 5447, 'forth': 5448, 'fees': 5449, 'exclusive': 5450, 'enjoying': 5451, 'dropping': 5452, 'drives': 5453, 'drag': 5454, 'download': 5455, 'dislike': 5456, 'dinner': 5457, 'description': 5458, 'cultural': 5459, 'coffee': 5460, 'closed': 5461, 'cd': 5462, 'capacity': 5463, 'cancer': 5464, 'blocks': 5465, 'assumed': 5466, 'aid': 5467, 'accidentally': 5468, '23': 5469, 'yep': 5470, 'yellow': 5471, 'wrath': 5472, 'vanilla': 5473, 'usage': 5474, 'trick': 5475, 'trans': 5476, 'strike': 5477, 'statements': 5478, 'silence': 5479, 'serve': 5480, 'protected': 5481, 'placed': 5482, 'patent': 5483, 'output': 5484, 'offers': 5485, 'nose': 5486, 'microsoft': 5487, 'loud': 5488, 'letters': 5489, 'legally': 5490, 'leaders': 5491, 'labor': 5492, 'jack': 5493, 'investment': 5494, 'international': 5495, 'includes': 5496, 'ignorant': 5497, 'healing': 5498, 'flight': 5499, 'factory': 5500, 'equally': 5501, 'engineer': 5502, 'dice': 5503, 'decade': 5504, 'conflict': 5505, 'confident': 5506, 'confidence': 5507, 'commit': 5508, 'cats': 5509, 'casting': 5510, 'authority': 5511, 'achieve': 5512, 'xp': 5513, 'worlds': 5514, 'volume': 5515, 'victims': 5516, 'valuable': 5517, 'unnecessary': 5518, 'treatment': 5519, 'treated': 5520, 'theme': 5521, 'temporary': 5522, 'tea': 5523, 'subreddits': 5524, 'string': 5525, 'station': 5526, 'sorts': 5527, 'semi': 5528, 'select': 5529, 'saved': 5530, 'rude': 5531, 'represent': 5532, 'referring': 5533, 'radio': 5534, 'quests': 5535, 'port': 5536, 'pointed': 5537, 'plate': 5538, 'pissed': 5539, 'pcmr': 5540, 'parking': 5541, 'opened': 5542, 'nintendo': 5543, 'models': 5544, 'milk': 5545, 'measure': 5546, 'los': 5547, 'leg': 5548, 'leaves': 5549, 'laugh': 5550, 'justify': 5551, 'ive': 5552, 'irrelevant': 5553, 'individuals': 5554, 'ii': 5555, 'hilarious': 5556, 'hardcore': 5557, 'gtx': 5558, 'garbage': 5559, 'fuel': 5560, 'fired': 5561, 'empire': 5562, 'duty': 5563, 'drama': 5564, 'downvoted': 5565, 'deaths': 5566, 'crying': 5567, 'condition': 5568, 'conclusion': 5569, 'carried': 5570, 'boat': 5571, 'beta': 5572, 'applied': 5573, 'aim': 5574, '1st': 5575, 'throwing': 5576, 'teaching': 5577, 'talent': 5578, 'sword': 5579, 'st': 5580, 'shirt': 5581, 'sadly': 5582, 'russia': 5583, 'removal': 5584, 'reliable': 5585, 'relative': 5586, 'recommended': 5587, 'rage': 5588, 'presence': 5589, 'notes': 5590, 'nonsense': 5591, 'nbsp': 5592, 'maintain': 5593, 'log': 5594, 'lifestyle': 5595, 'license': 5596, 'jumping': 5597, 'grown': 5598, 'fewer': 5599, 'explaining': 5600, 'expand': 5601, 'escape': 5602, 'entry': 5603, 'cute': 5604, 'cry': 5605, 'command': 5606, 'closely': 5607, 'claiming': 5608, 'bugs': 5609, 'buddy': 5610, 'amendment': 5611, 'alternative': 5612, 'weed': 5613, 'twitch': 5614, 'trolls': 5615, 'tries': 5616, 'ticket': 5617, 'taught': 5618, 'tanks': 5619, 'standards': 5620, 'rush': 5621, 'purely': 5622, 'pulling': 5623, 'paint': 5624, 'loose': 5625, 'legs': 5626, 'largely': 5627, 'kinds': 5628, 'interaction': 5629, 'express': 5630, 'explanation': 5631, 'exchange': 5632, 'equivalent': 5633, 'entirety': 5634, 'elite': 5635, 'dry': 5636, 'difficulty': 5637, 'department': 5638, 'crimes': 5639, 'claimed': 5640, 'checked': 5641, 'casual': 5642, 'blizzard': 5643, 'august': 5644, 'askreddit': 5645, 'alot': 5646, 'activity': 5647, '`': 5648, 'whereas': 5649, 'walked': 5650, 'updates': 5651, 'surprise': 5652, 'sun': 5653, 'spirit': 5654, 'sake': 5655, 'replaced': 5656, 'reasoning': 5657, 'provided': 5658, 'president': 5659, 'personality': 5660, 'offered': 5661, 'math': 5662, 'lady': 5663, 'jungle': 5664, 'ich': 5665, 'hole': 5666, 'giveaway': 5667, 'foreign': 5668, 'firearm': 5669, 'fell': 5670, 'fake': 5671, 'existing': 5672, 'exception': 5673, 'episodes': 5674, 'dress': 5675, 'didnt': 5676, 'brothers': 5677, 'bc': 5678, 'bay': 5679, 'attractive': 5680, 'accepted': 5681, '3rd': 5682, 'wind': 5683, 'warrior': 5684, 'warning': 5685, 'teach': 5686, 'superior': 5687, 'suit': 5688, 'subs': 5689, 'riding': 5690, 'reward': 5691, 'removing': 5692, 'refer': 5693, 'receive': 5694, 'pounds': 5695, 'pet': 5696, 'percentage': 5697, 'ownership': 5698, 'mouse': 5699, 'leader': 5700, 'increases': 5701, 'h': 5702, 'greater': 5703, 'golden': 5704, 'era': 5705, 'differences': 5706, 'cycle': 5707, 'critical': 5708, 'cop': 5709, 'convince': 5710, 'charges': 5711, 'chain': 5712, 'bus': 5713, 'author': 5714, 'actively': 5715, 'younger': 5716, 'winner': 5717, 'unlikely': 5718, 'trigger': 5719, 'till': 5720, 'tested': 5721, 'supports': 5722, 'rolling': 5723, 'requirements': 5724, 'regarding': 5725, 'queen': 5726, 'projects': 5727, 'pool': 5728, 'pill': 5729, 'offense': 5730, 'nfl': 5731, 'neutral': 5732, 'medium': 5733, 'meat': 5734, 'maps': 5735, 'leads': 5736, 'japan': 5737, 'injury': 5738, 'ignoring': 5739, 'hype': 5740, 'favor': 5741, 'fantasy': 5742, 'factors': 5743, 'employees': 5744, 'drinking': 5745, 'dlc': 5746, 'develop': 5747, 'depth': 5748, 'criminal': 5749, 'constant': 5750, 'classic': 5751, 'claims': 5752, 'chicken': 5753, 'central': 5754, 'cares': 5755, 'candidate': 5756, 'camp': 5757, 'builds': 5758, 'buff': 5759, 'beliefs': 5760, '19': 5761, 'wage': 5762, 'usa': 5763, 'tho': 5764, 'technical': 5765, 'responsibility': 5766, 'replies': 5767, 'prison': 5768, 'portion': 5769, 'politicians': 5770, 'passing': 5771, 'pair': 5772, 'owned': 5773, 'moral': 5774, 'instantly': 5775, 'guard': 5776, 'graphics': 5777, 'fresh': 5778, 'elsewhere': 5779, 'earn': 5780, 'distance': 5781, 'developed': 5782, 'det': 5783, 'describe': 5784, 'der': 5785, 'deals': 5786, 'cpu': 5787, 'circumstances': 5788, 'calls': 5789, 'bitch': 5790, 'bernie': 5791, 'anime': 5792, 'alcohol': 5793, 'acts': 5794, 'acceptable': 5795, '22': 5796, 'wild': 5797, 'visit': 5798, 'usb': 5799, 'unlike': 5800, 'unable': 5801, 'un': 5802, 'trial': 5803, 'trained': 5804, 'targets': 5805, 'tags': 5806, 'stars': 5807, 'snow': 5808, 'setup': 5809, 'remain': 5810, 'rely': 5811, 'programs': 5812, 'plain': 5813, 'mistakes': 5814, 'menu': 5815, 'matches': 5816, 'library': 5817, 'keyboard': 5818, 'initial': 5819, 'hat': 5820, 'gym': 5821, 'guilty': 5822, 'facebook': 5823, 'examples': 5824, 'described': 5825, 'defend': 5826, 'decades': 5827, 'complaining': 5828, 'century': 5829, 'burst': 5830, 'british': 5831, 'articles': 5832, 'abuse': 5833, 'xbox': 5834, 'worried': 5835, 'wide': 5836, 'web': 5837, 'swap': 5838, 'staff': 5839, 'slavery': 5840, 'sites': 5841, 'rise': 5842, 'received': 5843, 'pt': 5844, 'plane': 5845, 'nation': 5846, 'monster': 5847, 'mixed': 5848, 'height': 5849, 'hardware': 5850, 'fish': 5851, 'financial': 5852, 'ensure': 5853, 'disk': 5854, 'defensive': 5855, 'contribute': 5856, 'contain': 5857, 'comparing': 5858, 'clinton': 5859, 'border': 5860, 'blind': 5861, 'bb': 5862, 'audio': 5863, 'assault': 5864, 'army': 5865, 'arguments': 5866, 'aoe': 5867, 'ah': 5868, 'agreement': 5869, 'violent': 5870, 'tower': 5871, 'titles': 5872, 'souls': 5873, 'seasons': 5874, 'scared': 5875, 'resolution': 5876, 'region': 5877, 'pushed': 5878, 'porn': 5879, 'ordered': 5880, 'net': 5881, 'monitor': 5882, 'manage': 5883, 'lying': 5884, 'locked': 5885, 'length': 5886, 'legitimate': 5887, 'jesus': 5888, 'james': 5889, 'hated': 5890, 'global': 5891, 'federal': 5892, 'experiences': 5893, 'edge': 5894, 'concrete': 5895, 'concern': 5896, 'clothes': 5897, 'channel': 5898, 'began': 5899, 'animal': 5900, 'allowing': 5901, 'accounts': 5902, 'trash': 5903, 'shape': 5904, 'millions': 5905, 'lock': 5906, 'liberal': 5907, 'letter': 5908, 'keys': 5909, 'keeps': 5910, 'john': 5911, 'japanese': 5912, 'iron': 5913, 'host': 5914, 'folks': 5915, 'excuse': 5916, 'emotional': 5917, 'election': 5918, 'doesnt': 5919, 'custom': 5920, 'covered': 5921, 'convinced': 5922, 'cities': 5923, 'causing': 5924, 'btw': 5925, 'bringing': 5926, 'bomb': 5927, 'becoming': 5928, 'application': 5929, 'alright': 5930, 'alive': 5931, 'ai': 5932, 'adult': 5933, 'workers': 5934, 'tips': 5935, 'teacher': 5936, 'status': 5937, 'stated': 5938, 'spell': 5939, 'shame': 5940, 'script': 5941, 'rent': 5942, 'puts': 5943, 'proud': 5944, 'photos': 5945, 'noise': 5946, 'naturally': 5947, 'interests': 5948, 'intended': 5949, 'images': 5950, 'hardly': 5951, 'format': 5952, 'european': 5953, 'eu': 5954, 'education': 5955, 'driver': 5956, 'discuss': 5957, 'destroyed': 5958, 'daughter': 5959, 'colors': 5960, 'collection': 5961, 'busy': 5962, 'brown': 5963, 'aspect': 5964, 'apartment': 5965, 'aggressive': 5966, 'accident': 5967, '0015': 5968, 'wins': 5969, 'turning': 5970, 'trading': 5971, 'suspect': 5972, 'servers': 5973, 'scientific': 5974, 'saving': 5975, 'pulled': 5976, 'potentially': 5977, 'platform': 5978, 'offensive': 5979, 'minor': 5980, 'mail': 5981, 'letting': 5982, 'laptop': 5983, 'kills': 5984, 'justice': 5985, 'hillary': 5986, 'german': 5987, 'frame': 5988, 'fly': 5989, 'expecting': 5990, 'delete': 5991, 'customers': 5992, 'consistent': 5993, 'breaks': 5994, 'bible': 5995, 'anybody': 5996, 'wing': 5997, 'western': 5998, 'unit': 5999, 'sanders': 6000, 'route': 6001, 'rid': 6002, 'regularly': 6003, 'plot': 6004, 'picks': 6005, 'mission': 6006, 'heads': 6007, 'harm': 6008, 'guide': 6009, 'fights': 6010, 'drunk': 6011, 'dick': 6012, 'detail': 6013, 'destroy': 6014, 'crowd': 6015, 'careful': 6016, 'begin': 6017, 'banned': 6018, 'answers': 6019, 'supporting': 6020, 'six': 6021, 'schedule': 6022, 'peace': 6023, 'owners': 6024, 'os': 6025, 'opposed': 6026, 'managed': 6027, 'leading': 6028, 'lazy': 6029, 'idk': 6030, 'hide': 6031, 'forces': 6032, 'falling': 6033, 'exercise': 6034, 'el': 6035, 'devices': 6036, 'deserve': 6037, 'decks': 6038, 'dating': 6039, 'calories': 6040, 'born': 6041, 'blow': 6042, 'basis': 6043, 'arguing': 6044, 'ya': 6045, 'voting': 6046, 'tired': 6047, 'respond': 6048, 'married': 6049, 'management': 6050, 'listening': 6051, 'launch': 6052, 'knife': 6053, 'increased': 6054, 'heal': 6055, 'grew': 6056, 'glass': 6057, 'explained': 6058, 'existence': 6059, 'co': 6060, 'checks': 6061, 'blade': 6062, 'abilities': 6063, 'yea': 6064, 'wont': 6065, 'wondering': 6066, 'useless': 6067, 'travel': 6068, 'tl': 6069, 'tiny': 6070, 'steps': 6071, 'staying': 6072, 'sale': 6073, 'relationships': 6074, 'reaction': 6075, 'quit': 6076, 'q': 6077, 'produce': 6078, 'powers': 6079, 'path': 6080, 'offering': 6081, 'mouth': 6082, 'mess': 6083, 'listed': 6084, 'linux': 6085, 'fits': 6086, 'filled': 6087, 'es': 6088, 'economic': 6089, 'drivers': 6090, 'determine': 6091, 'customer': 6092, 'cup': 6093, 'cross': 6094, 'cops': 6095, 'comparison': 6096, 'christian': 6097, 'causes': 6098, 'camera': 6099, '2015': 6100, 'yesterday': 6101, 'winter': 6102, 'wearing': 6103, 'trump': 6104, 'tools': 6105, 'suppose': 6106, 'structure': 6107, 'settings': 6108, 'sentence': 6109, 'safety': 6110, 'ring': 6111, 'racism': 6112, 'quote': 6113, 'prior': 6114, 'policies': 6115, 'picking': 6116, 'orange': 6117, 'miles': 6118, 'horrible': 6119, 'heavily': 6120, 'heat': 6121, 'focused': 6122, 'farm': 6123, 'east': 6124, 'don': 6125, 'demand': 6126, 'confused': 6127, 'competition': 6128, 'checking': 6129, 'cap': 6130, 'bug': 6131, 'bank': 6132, 'arms': 6133, '75': 6134, '300': 6135, 'shut': 6136, 'se': 6137, 'primary': 6138, 'photo': 6139, 'opening': 6140, 'mobile': 6141, 'method': 6142, 'lie': 6143, 'herself': 6144, 'germany': 6145, 'foot': 6146, 'files': 6147, 'familiar': 6148, 'excellent': 6149, 'differently': 6150, 'default': 6151, 'complain': 6152, 'balanced': 6153, 'arm': 6154, 'absolute': 6155, 'views': 6156, 'viable': 6157, 'values': 6158, 'ultimately': 6159, 'typical': 6160, 'testing': 6161, 'stress': 6162, 'stream': 6163, 'spread': 6164, 'showed': 6165, 'ships': 6166, 'shift': 6167, 'secret': 6168, 'reference': 6169, 'pure': 6170, 'profile': 6171, 'planet': 6172, 'logical': 6173, 'lets': 6174, 'idiot': 6175, 'gameplay': 6176, 'feed': 6177, 'expected': 6178, 'enjoyed': 6179, 'du': 6180, 'depression': 6181, 'citizens': 6182, 'chose': 6183, 'bother': 6184, 'bag': 6185, 'appears': 6186, 'ad': 6187, 'supply': 6188, 'spam': 6189, 'possibility': 6190, 'positions': 6191, 'murder': 6192, 'k': 6193, 'hunter': 6194, 'holy': 6195, 'hello': 6196, 'firearms': 6197, 'everybody': 6198, 'diet': 6199, 'champion': 6200, '31': 6201, '21': 6202, 'zone': 6203, 'student': 6204, 'strategy': 6205, 'silly': 6206, 'significantly': 6207, 'sidebar': 6208, 'shoes': 6209, 'review': 6210, 'ranked': 6211, 'raised': 6212, 'raise': 6213, 'present': 6214, 'plans': 6215, 'passive': 6216, 'hundreds': 6217, 'hearing': 6218, 'followed': 6219, 'figured': 6220, 'facts': 6221, 'equipment': 6222, 'enter': 6223, 'daily': 6224, 'conditions': 6225, 'chances': 6226, 'burn': 6227, 'beer': 6228, 'approved': 6229, 'vast': 6230, 'tons': 6231, 'tomorrow': 6232, 'stores': 6233, 'pointing': 6234, 'odd': 6235, 'matters': 6236, 'led': 6237, 'input': 6238, 'influence': 6239, 'hitting': 6240, 'gods': 6241, 'giant': 6242, 'experienced': 6243, 'ex': 6244, 'er': 6245, 'enemies': 6246, 'boy': 6247, 'americans': 6248, 'tip': 6249, 'throughout': 6250, 'talked': 6251, 'systems': 6252, 'sport': 6253, 'services': 6254, 'relatively': 6255, 'patch': 6256, 'owner': 6257, 'nope': 6258, 'humans': 6259, 'hits': 6260, 'growing': 6261, 'gas': 6262, 'function': 6263, 'dream': 6264, 'capable': 6265, 'appropriate': 6266, 'afford': 6267, 'wrote': 6268, 'weak': 6269, 'technology': 6270, 'technically': 6271, 'rich': 6272, 'reduce': 6273, 'press': 6274, 'parties': 6275, 'memory': 6276, 'lord': 6277, 'likes': 6278, 'ill': 6279, 'id': 6280, 'hang': 6281, 'flag': 6282, 'fill': 6283, 'failed': 6284, 'engine': 6285, 'drops': 6286, 'crap': 6287, 'cast': 6288, 'additional': 6289, '99': 6290, 'suggestions': 6291, 'stronger': 6292, 'purchase': 6293, 'oil': 6294, 'minute': 6295, 'mechanics': 6296, 'judge': 6297, 'install': 6298, 'former': 6299, 'fantastic': 6300, 'excited': 6301, 'dollar': 6302, 'debate': 6303, 'correctly': 6304, 'concept': 6305, 'champions': 6306, 'challenge': 6307, 'band': 6308, 'ads': 6309, '24': 6310, 'west': 6311, 'valid': 6312, 'upset': 6313, 'taxes': 6314, 'taste': 6315, 'shown': 6316, 'shots': 6317, 'sets': 6318, 'request': 6319, 'replace': 6320, 'religion': 6321, 'national': 6322, 'mark': 6323, 'included': 6324, 'factor': 6325, 'cash': 6326, 'canada': 6327, 'brand': 6328, 'boyfriend': 6329, 'benefits': 6330, 'acting': 6331, 'yours': 6332, 'whose': 6333, 'tree': 6334, 'tough': 6335, 'thousands': 6336, 'shield': 6337, 'row': 6338, 'mix': 6339, 'jail': 6340, 'friendly': 6341, 'flying': 6342, 'failure': 6343, 'equal': 6344, 'dying': 6345, 'draft': 6346, 'creating': 6347, 'closer': 6348, 'cheaper': 6349, 'chat': 6350, 'career': 6351, '1000': 6352, 'welcome': 6353, 'units': 6354, 'surface': 6355, 'submit': 6356, 'sources': 6357, 'smoking': 6358, 'rock': 6359, 'professional': 6360, 'priest': 6361, 'official': 6362, 'lucky': 6363, 'held': 6364, 'feelings': 6365, 'faith': 6366, 'dropped': 6367, 'dota': 6368, 'dogs': 6369, 'contract': 6370, 'combo': 6371, 'civil': 6372, 'bowl': 6373, 'university': 6374, 'treat': 6375, 'responsible': 6376, 'meta': 6377, 'limited': 6378, 'kick': 6379, 'instance': 6380, 'highest': 6381, 'grab': 6382, 'girlfriend': 6383, 'expansion': 6384, 'degree': 6385, 'decisions': 6386, 'boring': 6387, 'adds': 6388, 'sweet': 6389, 'standing': 6390, 'speech': 6391, 'setting': 6392, 'pm': 6393, 'opinions': 6394, 'linked': 6395, 'insane': 6396, 'hospital': 6397, 'features': 6398, 'father': 6399, 'dps': 6400, 'curious': 6401, 'breaking': 6402, 'auto': 6403, 'audience': 6404, 'appear': 6405, '500': 6406, 'winning': 6407, 'suicide': 6408, 'sister': 6409, 'rare': 6410, 'rape': 6411, 'pvp': 6412, 'pop': 6413, 'planning': 6414, 'perspective': 6415, 'passed': 6416, 'opponent': 6417, 'gender': 6418, 'flat': 6419, 'false': 6420, 'dollars': 6421, 'concerned': 6422, 'complicated': 6423, 'competitive': 6424, 'boost': 6425, 'attitude': 6426, 'angry': 6427, 'victim': 6428, 'threat': 6429, 'stage': 6430, 'politics': 6431, 'pieces': 6432, 'medical': 6433, 'indeed': 6434, 'bike': 6435, 'asshole': 6436, 'actions': 6437, 'waste': 6438, 'united': 6439, 'somewhat': 6440, 'sides': 6441, 'names': 6442, 'missed': 6443, 'metal': 6444, 'manager': 6445, 'mainly': 6446, 'impact': 6447, 'forgot': 6448, 'complex': 6449, 'caused': 6450, 'broke': 6451, 'blame': 6452, 'trip': 6453, 'thoughts': 6454, 'ten': 6455, 'success': 6456, 'slowly': 6457, 'property': 6458, 'profit': 6459, 'opportunity': 6460, 'movies': 6461, 'master': 6462, 'husband': 6463, 'connection': 6464, 'benefit': 6465, 'behavior': 6466, 'app': 6467, '17': 6468, 'violence': 6469, 'tool': 6470, 'soul': 6471, 'songs': 6472, 'software': 6473, 'shoot': 6474, 'score': 6475, 'sales': 6476, 'roll': 6477, 'le': 6478, 'ice': 6479, 'extreme': 6480, 'email': 6481, 'dealing': 6482, 'dangerous': 6483, '2nd': 6484, 'tier': 6485, 'pushing': 6486, 'prices': 6487, 'paper': 6488, 'minimum': 6489, 'larger': 6490, 'helping': 6491, 'gg': 6492, 'gay': 6493, 'ends': 6494, 'com': 6495, 'choices': 6496, 'awful': 6497, 'aside': 6498, 'approach': 6499, '90': 6500, 'wise': 6501, 'wars': 6502, 'walking': 6503, 'successful': 6504, 'sports': 6505, 'situations': 6506, 'sick': 6507, 'ride': 6508, 'resources': 6509, 'raid': 6510, 'production': 6511, 'king': 6512, 'holding': 6513, 'goals': 6514, 'environment': 6515, 'draw': 6516, 'console': 6517, 'besides': 6518, 'agreed': 6519, 'affect': 6520, '70': 6521, 'train': 6522, 'sucks': 6523, 'stuck': 6524, 'steam': 6525, 'son': 6526, 'progress': 6527, 'normally': 6528, 'material': 6529, 'lived': 6530, 'direction': 6531, 'details': 6532, 'bonus': 6533, 'barely': 6534, 'afraid': 6535, 'uk': 6536, 'strange': 6537, 'south': 6538, 'solo': 6539, 'smart': 6540, 'shop': 6541, 'permanent': 6542, 'performance': 6543, 'morning': 6544, 'mad': 6545, 'feet': 6546, 'exists': 6547, 'everywhere': 6548, 'ending': 6549, 'chinese': 6550, 'animals': 6551, 'allows': 6552, 'wanting': 6553, 'table': 6554, 'scale': 6555, 'runs': 6556, 'office': 6557, 'logic': 6558, 'location': 6559, 'improve': 6560, 'flash': 6561, 'campaign': 6562, 'beginning': 6563, '80': 6564, 'window': 6565, 'wan': 6566, 'suck': 6567, 'split': 6568, 'showing': 6569, 'sexual': 6570, 'pressure': 6571, 'policy': 6572, 'pack': 6573, 'opposite': 6574, 'mistake': 6575, 'member': 6576, 'levels': 6577, 'income': 6578, 'hp': 6579, 'forever': 6580, 'fixed': 6581, 'film': 6582, 'apart': 6583, 'annoying': 6584, 'admit': 6585, 'scenario': 6586, 'released': 6587, 'record': 6588, 'protect': 6589, 'park': 6590, 'neither': 6591, 'marriage': 6592, 'limit': 6593, 'floor': 6594, 'fat': 6595, 'empty': 6596, 'economy': 6597, 'development': 6598, 'album': 6599, 'traffic': 6600, 'tax': 6601, 'suddenly': 6602, 'skin': 6603, 'planned': 6604, 'model': 6605, 'meaning': 6606, 'magic': 6607, 'insurance': 6608, 'heroes': 6609, 'goal': 6610, 'fail': 6611, 'cover': 6612, 'copy': 6613, 'bill': 6614, 'attacks': 6615, 'whenever': 6616, 'ta': 6617, 'spending': 6618, 'smoke': 6619, 'picked': 6620, 'loss': 6621, 'incredibly': 6622, 'heart': 6623, 'five': 6624, 'earlier': 6625, 'via': 6626, 'tells': 6627, 'tech': 6628, 'tank': 6629, 'ram': 6630, 'period': 6631, 'network': 6632, 'load': 6633, 'helpful': 6634, 'finished': 6635, 'eye': 6636, 'essentially': 6637, 'dumb': 6638, 'drugs': 6639, 'compare': 6640, 'budget': 6641, 'among': 6642, 'according': 6643, '13': 6644, 'weekend': 6645, 'typically': 6646, 'separate': 6647, 'negative': 6648, 'mana': 6649, 'links': 6650, 'forced': 6651, 'dragon': 6652, 'defense': 6653, 'cat': 6654, 'unique': 6655, 'highly': 6656, 'deep': 6657, 'cant': 6658, 'battle': 6659, '18': 6660, '14': 6661, 'website': 6662, 'stock': 6663, 'religious': 6664, 'products': 6665, 'impossible': 6666, 'designed': 6667, 'credit': 6668, 'center': 6669, 'bed': 6670, 'beautiful': 6671, 'adding': 6672, 'zero': 6673, 'various': 6674, 'truth': 6675, 'touch': 6676, 'rates': 6677, 'particularly': 6678, 'onto': 6679, 'natural': 6680, 'mode': 6681, 'miss': 6682, 'massive': 6683, 'haha': 6684, 'finish': 6685, 'died': 6686, 'club': 6687, 'button': 6688, 'amazon': 6689, 'universe': 6690, 'summer': 6691, 'ready': 6692, 'ran': 6693, 'racist': 6694, 'prevent': 6695, 'drug': 6696, 'counter': 6697, 'topic': 6698, 'strength': 6699, 'selling': 6700, 'purpose': 6701, 'properly': 6702, 'perfectly': 6703, 'partner': 6704, 'karma': 6705, 'individual': 6706, 'illegal': 6707, 'helped': 6708, 'caught': 6709, 'v': 6710, 'town': 6711, 'rank': 6712, 'movement': 6713, 'football': 6714, 'feature': 6715, 'effective': 6716, 'dr': 6717, 'anyways': 6718, '200': 6719, 'therefore': 6720, 'shooting': 6721, 'rarely': 6722, 'north': 6723, 'male': 6724, 'industry': 6725, 'female': 6726, 'combat': 6727, 'attempt': 6728, 'argue': 6729, 'apply': 6730, 'apple': 6731, 'accurate': 6732, 'upgrade': 6733, 'somebody': 6734, 'proof': 6735, 'plays': 6736, 'nature': 6737, 'moved': 6738, 'fault': 6739, 'church': 6740, 'brain': 6741, 'boss': 6742, 'becomes': 6743, 'advantage': 6744, '60': 6745, '11': 6746, 'requires': 6747, 'require': 6748, 'realized': 6749, 'pictures': 6750, 'learned': 6751, 'freedom': 6752, 'definition': 6753, 'became': 6754, 'won': 6755, 'turns': 6756, 'threads': 6757, 'security': 6758, 'reach': 6759, 'language': 6760, 'gain': 6761, 'fucked': 6762, 'fear': 6763, 'effects': 6764, 'catch': 6765, 'calling': 6766, 'wonder': 6767, 'twice': 6768, 'thinks': 6769, 'students': 6770, 'starts': 6771, 'sold': 6772, 'machine': 6773, 'jump': 6774, 'file': 6775, 'constantly': 6776, 'click': 6777, 'anywhere': 6778, 'wow': 6779, 'thus': 6780, 'leaving': 6781, 'joke': 6782, 'europe': 6783, 'error': 6784, 'doctor': 6785, 'wiki': 6786, 'types': 6787, 'ton': 6788, 'speaking': 6789, 'seemed': 6790, 'mass': 6791, 'join': 6792, 'green': 6793, 'cpa': 6794, 'court': 6795, 'core': 6796, 'comfortable': 6797, 'changing': 6798, 'update': 6799, 'street': 6800, 'smaller': 6801, 'fighting': 6802, 'episode': 6803, 'bottom': 6804, 'track': 6805, 'surprised': 6806, 'statement': 6807, 'proper': 6808, 'population': 6809, 'older': 6810, 'met': 6811, 'l': 6812, 'gotten': 6813, 'four': 6814, 'direct': 6815, 'device': 6816, 'costs': 6817, 'trouble': 6818, 'switch': 6819, 'sent': 6820, 'section': 6821, 'program': 6822, 'powerful': 6823, 'necessary': 6824, 'map': 6825, 'land': 6826, 'china': 6827, 'armor': 6828, 'shitty': 6829, 'hair': 6830, 'evil': 6831, 'brought': 6832, 'sitting': 6833, 'recent': 6834, 'military': 6835, 'hoping': 6836, 'cold': 6837, 'below': 6838, 'areas': 6839, 'voice': 6840, 'skills': 6841, 'sign': 6842, 'ridiculous': 6843, 'listen': 6844, 'glad': 6845, 'uses': 6846, 'theory': 6847, 'slightly': 6848, 'search': 6849, 'previous': 6850, 'necessarily': 6851, 'healthy': 6852, 'harder': 6853, 'grow': 6854, 'finding': 6855, 'computer': 6856, '16': 6857, 'written': 6858, 'watched': 6859, 'user': 6860, 'ship': 6861, 'reality': 6862, 'modern': 6863, 'liked': 6864, 'knowing': 6865, 'gear': 6866, 'forget': 6867, 'feedback': 6868, 'balance': 6869, 'active': 6870, 'wear': 6871, 'stats': 6872, 'product': 6873, 'pre': 6874, 'piece': 6875, 'mom': 6876, 'kept': 6877, 'ignore': 6878, 'drink': 6879, 'conversation': 6880, 'classes': 6881, 'bullshit': 6882, 'worry': 6883, 'sleep': 6884, 'sad': 6885, 'prove': 6886, 'positive': 6887, 'nor': 6888, 'mental': 6889, 'honest': 6890, 'heavy': 6891, 'basic': 6892, 'address': 6893, 'somehow': 6894, 'practice': 6895, 'hi': 6896, 'design': 6897, 'depending': 6898, 'companies': 6899, 'noticed': 6900, 'learning': 6901, 'english': 6902, 'beyond': 6903, 'accept': 6904, 'subject': 6905, 'study': 6906, 'reasonable': 6907, 'pass': 6908, 'none': 6909, 'losing': 6910, 'lines': 6911, 'ideas': 6912, 'groups': 6913, 'en': 6914, 'earth': 6915, 'date': 6916, 'dad': 6917, 'created': 6918, 'waiting': 6919, 'third': 6920, 'regardless': 6921, 'lt': 6922, 'loved': 6923, 'handle': 6924, 'flair': 6925, 'appreciate': 6926, 'stopped': 6927, 'scene': 6928, 'keeping': 6929, 'color': 6930, 'block': 6931, 'youtube': 6932, 'truly': 6933, 'star': 6934, 'screen': 6935, 'results': 6936, 'jobs': 6937, 'hurt': 6938, 'eyes': 6939, 'events': 6940, 'cases': 6941, 'broken': 6942, 'blue': 6943, 'art': 6944, 'w': 6945, 'stories': 6946, 'project': 6947, 'physical': 6948, 'members': 6949, 'image': 6950, 'event': 6951, 'decision': 6952, 'culture': 6953, 'trust': 6954, 'speak': 6955, 'seconds': 6956, 'role': 6957, 'pull': 6958, 'max': 6959, 'happening': 6960, 'final': 6961, 'blood': 6962, 'battery': 6963, 'wife': 6964, 'upon': 6965, 'thats': 6966, 'stick': 6967, 'stand': 6968, 'significant': 6969, 'offer': 6970, 'posted': 6971, 'mother': 6972, 'imo': 6973, 'dog': 6974, 'clean': 6975, 'background': 6976, 'apparently': 6977, 'ahead': 6978, 'useful': 6979, 'suggest': 6980, 'solid': 6981, 'server': 6982, 'response': 6983, 'push': 6984, 'biggest': 6985, 'bet': 6986, 'aware': 6987, 'prefer': 6988, 'popular': 6989, 'police': 6990, 'notice': 6991, 'regular': 6992, 'missing': 6993, 'effort': 6994, 'charge': 6995, 'society': 6996, 'slow': 6997, 'possibly': 6998, 'meet': 6999, 'knowledge': 7000, 'immediately': 7001, 'eating': 7002, 'directly': 7003, 'despite': 7004, 'context': 7005, 'ball': 7006, '40': 7007, 'writing': 7008, 'release': 7009, 'nearly': 7010, 'field': 7011, 'count': 7012, 'built': 7013, 'target': 7014, 'step': 7015, 'sit': 7016, 'return': 7017, 'million': 7018, 'hot': 7019, 'driving': 7020, 'depends': 7021, 'decide': 7022, 'considered': 7023, 'america': 7024, 'round': 7025, 'report': 7026, 'lane': 7027, 'fully': 7028, 'faster': 7029, 'fairly': 7030, 'expensive': 7031, 'cars': 7032, 'access': 7033, 'windows': 7034, 'spent': 7035, 'specifically': 7036, 'pro': 7037, 'turned': 7038, 'standard': 7039, 'song': 7040, 'somewhere': 7041, 'road': 7042, 'options': 7043, 'lead': 7044, 'increase': 7045, 'assuming': 7046, 'relevant': 7047, 'potential': 7048, 'lives': 7049, 'key': 7050, 'beat': 7051, 'avoid': 7052, '000': 7053, 'solution': 7054, 'private': 7055, 'hero': 7056, 'fix': 7057, 'f': 7058, 'double': 7059, 'door': 7060, 'brother': 7061, '25': 7062, 'willing': 7063, 'weapons': 7064, 'tend': 7065, 'info': 7066, 'continue': 7067, 'bar': 7068, 'walk': 7069, 'tag': 7070, 'obvious': 7071, 'mod': 7072, 'killing': 7073, 'interest': 7074, 'girls': 7075, 'countries': 7076, 'box': 7077, 'baby': 7078, 'anti': 7079, 'throw': 7080, 'required': 7081, 'p': 7082, 'killed': 7083, 'deck': 7084, 'mods': 7085, 'lack': 7086, 'reply': 7087, 'remove': 7088, 'plenty': 7089, 'including': 7090, 'exact': 7091, 'considering': 7092, 'straight': 7093, 'quick': 7094, 'news': 7095, 'write': 7096, 'skill': 7097, 'helps': 7098, 'forward': 7099, 'disagree': 7100, 'board': 7101, 'weapon': 7102, 'political': 7103, 'particular': 7104, 'pain': 7105, 'following': 7106, 'energy': 7107, 'choose': 7108, 'y': 7109, 'terrible': 7110, 'states': 7111, 'spot': 7112, 'page': 7113, 'gold': 7114, 'g': 7115, 'exist': 7116, 'entirely': 7117, 'vote': 7118, 'test': 7119, 'share': 7120, 'paying': 7121, 'mentioned': 7122, 'match': 7123, 'inside': 7124, 'eventually': 7125, 'ended': 7126, 'tv': 7127, 'total': 7128, 'serious': 7129, 'rights': 7130, 'respect': 7131, 'overall': 7132, 'media': 7133, 'doubt': 7134, 'college': 7135, 'terms': 7136, 'places': 7137, 'picture': 7138, 'involved': 7139, 'ground': 7140, 'damn': 7141, 'create': 7142, 'complete': 7143, 'claim': 7144, 'bigger': 7145, 'science': 7146, 'race': 7147, 'fans': 7148, 'crime': 7149, 'young': 7150, 'que': 7151, 'enemy': 7152, 'unfortunately': 7153, 'training': 7154, 'related': 7155, 'rate': 7156, 'la': 7157, 'gaming': 7158, 'funny': 7159, 'compared': 7160, 'wall': 7161, 'perhaps': 7162, 'nobody': 7163, 'mid': 7164, 'm': 7165, 'further': 7166, 'books': 7167, 'worst': 7168, 'hopefully': 7169, 'article': 7170, 'view': 7171, 'understanding': 7172, 'quickly': 7173, 'putting': 7174, 'market': 7175, 'laws': 7176, 'child': 7177, 'buying': 7178, 'mention': 7179, 'hands': 7180, 'fan': 7181, 'users': 7182, 'teams': 7183, 'size': 7184, 'risk': 7185, 'random': 7186, 'parts': 7187, 'moving': 7188, 'legal': 7189, 'figure': 7190, 'dude': 7191, 'item': 7192, 'carry': 7193, 'numbers': 7194, 'middle': 7195, 'himself': 7196, 'google': 7197, 'gone': 7198, 'gives': 7199, 'text': 7200, 'telling': 7201, 'recently': 7202, 'force': 7203, 'explain': 7204, 'dark': 7205, 'bunch': 7206, 'assume': 7207, 'special': 7208, 'service': 7209, 'effect': 7210, 'shot': 7211, 'research': 7212, 'online': 7213, 'known': 7214, 'finally': 7215, 'cheap': 7216, 'added': 7217, 'provide': 7218, 'o': 7219, 'league': 7220, 'available': 7221, 'term': 7222, 'local': 7223, 'crazy': 7224, 'act': 7225, 'realize': 7226, 'supposed': 7227, 'interested': 7228, 'feels': 7229, 'decided': 7230, 'air': 7231, 'near': 7232, 'ban': 7233, 'taken': 7234, 'recommend': 7235, 'hour': 7236, 'fall': 7237, 'changed': 7238, 'c': 7239, 'american': 7240, 'across': 7241, 'shows': 7242, 'extremely': 7243, 'note': 7244, 'meant': 7245, 'worse': 7246, 'posting': 7247, 'movie': 7248, 'anymore': 7249, 'fire': 7250, 'cards': 7251, 'site': 7252, 'internet': 7253, 'changes': 7254, 'safe': 7255, 'otherwise': 7256, 'multiple': 7257, 'late': 7258, 'include': 7259, 'favorite': 7260, 'expect': 7261, 'rule': 7262, 'majority': 7263, 'gave': 7264, 'choice': 7265, 'break': 7266, 'ways': 7267, 'items': 7268, 'fit': 7269, 'difficult': 7270, 'worked': 7271, 'source': 7272, 'red': 7273, 'code': 7274, 'clearly': 7275, 'children': 7276, 'style': 7277, 'knows': 7278, 'decent': 7279, 'fair': 7280, 'im': 7281, 'follow': 7282, 'dead': 7283, 'attention': 7284, 'videos': 7285, 'paid': 7286, 'lose': 7287, 'focus': 7288, 'poor': 7289, 'trade': 7290, 'kinda': 7291, 'discussion': 7292, 'send': 7293, 'reasons': 7294, 'extra': 7295, '12': 7296, 'space': 7297, 'age': 7298, 'sell': 7299, 'moment': 7300, 'drop': 7301, 'posts': 7302, 'fast': 7303, 'b': 7304, 'social': 7305, 'okay': 7306, 'woman': 7307, 'towards': 7308, 'result': 7309, 'hey': 7310, 'form': 7311, 'certainly': 7312, 'building': 7313, 'seeing': 7314, 'history': 7315, 'eat': 7316, 'ability': 7317, 'words': 7318, 'weird': 7319, 'range': 7320, 'n': 7321, 'kid': 7322, 'attack': 7323, 'process': 7324, 'living': 7325, 'party': 7326, 'major': 7327, 'allow': 7328, 'version': 7329, 'death': 7330, 'ass': 7331, 'currently': 7332, 'book': 7333, 'alone': 7334, 'spend': 7335, 'simple': 7336, 'mine': 7337, 'watching': 7338, 'parents': 7339, 'lots': 7340, 'girl': 7341, 'drive': 7342, 'speed': 7343, 'position': 7344, 'looked': 7345, 'health': 7346, 'future': 7347, 'bought': 7348, 'x': 7349, 'original': 7350, 'knew': 7351, 'imagine': 7352, 'giving': 7353, 'feeling': 7354, '9': 7355, 'option': 7356, 'common': 7357, 'allowed': 7358, 'starting': 7359, 'soon': 7360, 'cut': 7361, 'although': 7362, 'submission': 7363, 'reading': 7364, 'totally': 7365, 'several': 7366, 'law': 7367, 'correct': 7368, 'series': 7369, 'plus': 7370, 'perfect': 7371, 'lower': 7372, 'happens': 7373, 'data': 7374, 'vs': 7375, 'room': 7376, 'bring': 7377, 'save': 7378, 'lost': 7379, 'human': 7380, 'average': 7381, 'value': 7382, 'normal': 7383, 'base': 7384, 'hold': 7385, 'hear': 7386, 'wish': 7387, 'relationship': 7388, 'store': 7389, 'evidence': 7390, 'comments': 7391, 'weight': 7392, 'stay': 7393, 're': 7394, 'quality': 7395, 'amazing': 7396, 'felt': 7397, 'easier': 7398, 'cost': 7399, 'generally': 7400, 'die': 7401, 'today': 7402, 'gon': 7403, 'seriously': 7404, 'itself': 7405, 'points': 7406, 'plan': 7407, 'pick': 7408, 'short': 7409, 'ok': 7410, 'minutes': 7411, 'except': 7412, 'de': 7413, 'word': 7414, 'heard': 7415, 'clear': 7416, 'stupid': 7417, 'consider': 7418, 'absolutely': 7419, 'strong': 7420, 'night': 7421, 'hell': 7422, 'needed': 7423, 'longer': 7424, 'awesome': 7425, 'characters': 7426, 'become': 7427, 'phone': 7428, 'luck': 7429, 'specific': 7430, 'business': 7431, 'sex': 7432, 'large': 7433, 'problems': 7434, 'anyway': 7435, 'argument': 7436, 'easily': 7437, 'asked': 7438, 'mostly': 7439, 'list': 7440, 'difference': 7441, 'company': 7442, 'wants': 7443, 'self': 7444, 'whether': 7445, 'month': 7446, 'above': 7447, 'price': 7448, 'sound': 7449, 'sub': 7450, 'war': 7451, 'public': 7452, 'general': 7453, 'front': 7454, 'enjoy': 7455, 'advice': 7456, 'themselves': 7457, 'light': 7458, 'asking': 7459, 'actual': 7460, 'weeks': 7461, 'takes': 7462, '15': 7463, 'dont': 7464, 'account': 7465, 'class': 7466, '30': 7467, 'wait': 7468, 'pc': 7469, 'rest': 7470, 'happened': 7471, 'personal': 7472, 'card': 7473, 'within': 7474, 'main': 7475, 'government': 7476, 'learn': 7477, 'given': 7478, 'coming': 7479, 'music': 7480, 'fight': 7481, 'running': 7482, 'together': 7483, 'later': 7484, 'water': 7485, 'win': 7486, 'lol': 7487, 'content': 7488, 'obviously': 7489, 'early': 7490, 'three': 7491, 'cool': 7492, 'cause': 7493, 'outside': 7494, 'behind': 7495, 'higher': 7496, 'community': 7497, 'along': 7498, 'tried': 7499, 'sounds': 7500, 'guns': 7501, 'current': 7502, '7': 7503, 't': 7504, 'literally': 7505, 'information': 7506, 'saw': 7507, 'interesting': 7508, 'personally': 7509, 'season': 7510, 'per': 7511, 'face': 7512, 'area': 7513, 'answer': 7514, '50': 7515, 'type': 7516, 'told': 7517, 'amount': 7518, 'link': 7519, 'chance': 7520, 'certain': 7521, 'turn': 7522, 'happy': 7523, 'entire': 7524, '0': 7525, 'title': 7526, 'op': 7527, 'e': 7528, 'country': 7529, 'character': 7530, 'situation': 7531, 'food': 7532, 'city': 7533, 'honestly': 7534, 'd': 7535, 'called': 7536, 'body': 7537, 'non': 7538, 'reddit': 7539, 'thread': 7540, 'needs': 7541, 'kids': 7542, 'happen': 7543, 'thinking': 7544, 'head': 7545, 'close': 7546, 'hours': 7547, 'leave': 7548, 'important': 7549, 'call': 7550, '20': 7551, 'ones': 7552, 'simply': 7553, 'oh': 7554, 'hate': 7555, 'group': 7556, 'came': 7557, 'couple': 7558, 'took': 7559, 'deal': 7560, 'add': 7561, 'kill': 7562, 'super': 7563, 'move': 7564, 'hand': 7565, 'huge': 7566, '8': 7567, 'due': 7568, 'white': 7569, 'half': 7570, 'fine': 7571, 'similar': 7572, 'rules': 7573, 'past': 7574, 'opinion': 7575, 'line': 7576, 'during': 7577, 'played': 7578, 'open': 7579, 'house': 7580, 'goes': 7581, 'car': 7582, 'worth': 7583, 'watch': 7584, 'name': 7585, 'thank': 7586, '100': 7587, 'basically': 7588, 'sorry': 7589, 'player': 7590, 'friend': 7591, 'na': 7592, 'black': 7593, 'course': 7594, 'sort': 7595, 'whatever': 7596, 'months': 7597, 'sometimes': 7598, 'state': 7599, 'issues': 7600, 'number': 7601, 'looks': 7602, 'works': 7603, 'performed': 7604, 'seem': 7605, 'hit': 7606, 'men': 7607, 'family': 7608, 'exactly': 7609, 'under': 7610, 'comes': 7611, 'build': 7612, 'low': 7613, 'school': 7614, 'says': 7615, 'based': 7616, 'easy': 7617, 'working': 7618, 'must': 7619, 'hope': 7620, 'order': 7621, 'check': 7622, 'quite': 7623, 'talk': 7624, 'example': 7625, 'wanted': 7626, 'single': 7627, 'sense': 7628, 'myself': 7629, 'taking': 7630, 'yourself': 7631, 'found': 7632, 'unless': 7633, 'often': 7634, 'especially': 7635, 'home': 7636, 'true': 7637, 'week': 7638, 'completely': 7639, 'remember': 7640, 'control': 7641, 'stop': 7642, 'possible': 7643, 'ago': 7644, 'god': 7645, 'fucking': 7646, 'left': 7647, 'usually': 7648, 'care': 7649, 'pay': 7650, 'video': 7651, 'second': 7652, 'damage': 7653, 'small': 7654, 'matter': 7655, 'edit': 7656, 'removed': 7657, 'mind': 7658, 'concerns': 7659, 'full': 7660, 'live': 7661, 'ask': 7662, 'started': 7663, 'yet': 7664, 'talking': 7665, 'seen': 7666, 'set': 7667, 'experience': 7668, 'likely': 7669, 'fuck': 7670, 'agree': 7671, 'moderators': 7672, 'players': 7673, 'guess': 7674, 'system': 7675, 'nice': 7676, 'almost': 7677, 'power': 7678, 'guys': 7679, 'side': 7680, 'story': 7681, 'issue': 7682, 'rather': 7683, 'others': 7684, 'job': 7685, 'wo': 7686, 'compose': 7687, 'buy': 7688, '6': 7689, 'automatically': 7690, 'fun': 7691, 'definitely': 7692, 'thanks': 7693, 'days': 7694, 'went': 7695, 'run': 7696, 'playing': 7697, 'support': 7698, 'comment': 7699, 'bot': 7700, 'u': 7701, 'amp': 7702, 'gets': 7703, 'next': 7704, 'change': 7705, 'show': 7706, 's': 7707, 'women': 7708, 'means': 7709, 'whole': 7710, 'gun': 7711, 'top': 7712, 'believe': 7713, 'instead': 7714, 'however': 7715, 'case': 7716, 'contact': 7717, 'tell': 7718, 'action': 7719, 'man': 7720, 'real': 7721, 'friends': 7722, 'understand': 7723, 'looking': 7724, 'yeah': 7725, 'question': 7726, 'between': 7727, 'times': 7728, 'free': 7729, 'idea': 7730, 'level': 7731, 'everything': 7732, 'anyone': 7733, 'place': 7734, 'done': 7735, 'kind': 7736, 'away': 7737, 'fact': 7738, 'wrong': 7739, 'thought': 7740, 'read': 7741, 'seems': 7742, 'team': 7743, 'subreddit': 7744, 'old': 7745, 'yes': 7746, 'else': 7747, 'until': 7748, 'high': 7749, 'guy': 7750, 'each': 7751, 'such': 7752, 'big': 7753, 'once': 7754, 'making': 7755, 'already': 7756, 'questions': 7757, 'stuff': 7758, 'against': 7759, 'either': 7760, 'able': 7761, 'start': 7762, 'etc': 7763, 'using': 7764, 'world': 7765, '10': 7766, 'reason': 7767, 'problem': 7768, 'games': 7769, 'far': 7770, 'makes': 7771, 'come': 7772, 'saying': 7773, 'nothing': 7774, 'message': 7775, 'person': 7776, 'end': 7777, 'least': 7778, 'trying': 7779, 'less': 7780, 'part': 7781, 'ever': 7782, 'everyone': 7783, 'let': 7784, 'hard': 7785, 'bit': 7786, 'love': 7787, 'mean': 7788, 'another': 7789, 'money': 7790, '4': 7791, 'keep': 7792, 'shit': 7793, 'put': 7794, 'last': 7795, 'again': 7796, 'year': 7797, 'help': 7798, 'life': 7799, 'having': 7800, 'both': 7801, 'give': 7802, 'without': 7803, 'doing': 7804, 'used': 7805, 'through': 7806, 'enough': 7807, 'different': 7808, 'great': 7809, 'maybe': 7810, 'may': 7811, 'long': 7812, 'day': 7813, 'getting': 7814, 'own': 7815, 'find': 7816, 'bad': 7817, 'little': 7818, 'try': 7819, 'post': 7820, '5': 7821, 'best': 7822, 'might': 7823, 'made': 7824, 'play': 7825, 'few': 7826, 'look': 7827, 'around': 7828, 'anything': 7829, 'years': 7830, 'feel': 7831, 'two': 7832, 'probably': 7833, 'always': 7834, 'point': 7835, 'us': 7836, 'please': 7837, 'every': 7838, 'said': 7839, 'since': 7840, \"'\": 7841, 'many': 7842, 'our': 7843, '3': 7844, 'down': 7845, 'its': 7846, 'someone': 7847, 'while': 7848, 'these': 7849, 'pretty': 7850, 'new': 7851, 'r': 7852, '1': 7853, 'ca': 7854, 'though': 7855, 'before': 7856, 'those': 7857, 'never': 7858, 'take': 7859, 'sure': 7860, 'things': 7861, 'actually': 7862, 'off': 7863, 'lot': 7864, 'thing': 7865, 'same': 7866, 'better': 7867, 'here': 7868, 'got': 7869, 'after': 7870, 'am': 7871, 'work': 7872, 'where': 7873, \"'d\": 7874, 'back': 7875, '2': 7876, 'why': 7877, 'right': 7878, 'use': 7879, \"'ll\": 7880, 'first': 7881, 'say': 7882, 'over': 7883, 'need': 7884, 'too': 7885, 'something': 7886, 'most': 7887, 'going': 7888, 'into': 7889, 'very': 7890, 'him': 7891, 'still': 7892, 'go': 7893, 'want': 7894, 'game': 7895, 'well': 7896, 'see': 7897, 'now': 7898, 'her': 7899, 'being': 7900, 'way': 7901, 'should': 7902, 'she': 7903, 'were': 7904, 'which': 7905, \"'ve\": 7906, 'much': 7907, 'been': 7908, 'make': 7909, 'could': 7910, 'gt': 7911, 'good': 7912, 'also': 7913, 'did': 7914, 'know': 7915, 'his': 7916, 'even': 7917, 'than': 7918, 'other': 7919, 'only': 7920, 'who': 7921, 'does': 7922, 'had': 7923, 'then': 7924, 'any': 7925, 'time': 7926, 'really': 7927, 'how': 7928, 'their': 7929, 'by': 7930, 'has': 7931, \"'re\": 7932, 'think': 7933, 'some': 7934, 'no': 7935, 'them': 7936, '!': 7937, 'because': 7938, 'when': 7939, \"'m\": 7940, 'will': 7941, 'one': 7942, 'out': 7943, 'up': 7944, 'me': 7945, 'get': 7946, 'an': 7947, 'more': 7948, 'from': 7949, 'people': 7950, 'about': 7951, 'we': 7952, 'what': 7953, 'all': 7954, 'there': 7955, 'would': 7956, 'can': 7957, 'at': 7958, 'he': 7959, 'like': 7960, 'so': 7961, 'just': 7962, 'your': 7963, '?': 7964, 'my': 7965, '(': 7966, 'or': 7967, ')': 7968, 'as': 7969, 'they': 7970, 'was': 7971, 'if': 7972, 'do': 7973, 'this': 7974, 'not': 7975, 'are': 7976, 'be': 7977, 'with': 7978, 'on': 7979, 'but': 7980, 'have': 7981, \"'s\": 7982, \"n't\": 7983, 'for': 7984, 'in': 7985, 'is': 7986, 'that': 7987, '\\\\': 7988, 'you': 7989, 'it': 7990, 'of': 7991, 'and': 7992, 'a': 7993, 'i': 7994, 'to': 7995, ',': 7996, 'the': 7997, 'SENTENCE_START': 7998, 'SENTENCE_END': 7999}\n"
     ]
    }
   ],
   "source": [
    "vocabulary_size = 8000\n",
    "\n",
    "def buildVocab(sentences):\n",
    "    # Tokenize the sentences into words\n",
    "    tokenized_sentences = [nltk.word_tokenize(sent) for sent in sentences]\n",
    "\n",
    "#     # Build vocabulary\n",
    "#     word_counts = Counter(itertools.chain(*tokenized_sentences))\n",
    "#     print(\"Found %d unique words tokens.\" % len(word_counts.items()))\n",
    "#     print(\"Using vocabulary size %d.\" % vocabulary_size)\n",
    "#     print(word_counts)\n",
    " \n",
    "#     # Mapping from index to word\n",
    "#     index_to_word =  [\"<MASK/>\", unknown_token] + [x[0] for x in word_counts.most_common(vocabulary_size)]\n",
    "#     # Mapping from word to index\n",
    "#     word_to_index = {x: i for i, x in enumerate(index_to_word)}\n",
    "    \n",
    "    \n",
    "    ####### If we want to order the words in alphabet #######\n",
    "    # Count the word frequencies\n",
    "    word_freq = nltk.FreqDist(itertools.chain(*tokenized_sentences))\n",
    "    print(\"Found %d unique words tokens.\" % len(word_freq.items()))\n",
    "\n",
    "    # Get the most common words and build index_to_word and word_to_index vectors\n",
    "    vocab = sorted(word_freq.items(), key=lambda x: (x[1], x[0]), reverse=True)[:vocabulary_size-2]\n",
    "    print(\"Using vocabulary size %d.\" % vocabulary_size)\n",
    "    print(\"The most frequent word in our vocabulary is '%s' and appeared %d times.\" % (vocab[0][0], vocab[0][1]))\n",
    "    print(\"The least frequent word in our vocabulary is '%s' and appeared %d times.\" % (vocab[-1][0], vocab[-1][1]))\n",
    " \n",
    "    sorted_vocab = sorted(vocab, key=operator.itemgetter(1))\n",
    "    index_to_word = [\"<MASK/>\", unknown_token] + [x[0] for x in sorted_vocab]\n",
    "    word_to_index = dict([(w, i) for i, w in enumerate(index_to_word)])\n",
    "    \n",
    "    \n",
    "    print(word_to_index)\n",
    "    return index_to_word, word_to_index\n",
    "    \n",
    "index_to_word, word_to_index = buildVocab(sents)"
   ]
  },
  {
   "cell_type": "markdown",
   "metadata": {},
   "source": [
    "## Char-level Model"
   ]
  },
  {
   "cell_type": "code",
   "execution_count": 8,
   "metadata": {
    "collapsed": true
   },
   "outputs": [],
   "source": [
    "hidden_size = 200 # nb of neurons in hidden layer\n",
    "seq_length = 25 # number of steps to unroll the RNN for, and this is also nb of chars putting in the input of RNN\n",
    "learning_rate = 1e-1\n",
    "\n",
    "data_size = len(char_data)\n",
    "vocab_size = len(chars) \n",
    "\n",
    "#init parameters\n",
    "W_hh = np.random.randn(hidden_size, hidden_size) #(H,H)\n",
    "W_xh = np.random.randn(vocab_size, hidden_size) #(D,H)\n",
    "W_hy = np.random.randn(hidden_size, vocab_size) #(H,M), M=D\n",
    "b_h = np.zeros((1,hidden_size)) #(H,)\n",
    "b_y = np.zeros((1,vocab_size)) #(M,)\n"
   ]
  },
  {
   "cell_type": "markdown",
   "metadata": {},
   "source": [
    "## Layers"
   ]
  },
  {
   "cell_type": "code",
   "execution_count": 9,
   "metadata": {
    "collapsed": true
   },
   "outputs": [],
   "source": [
    "#Reference from @Karpathy: https://gist.github.com/karpathy/d4dee566867f8291f086\n",
    "#\n",
    "#                         [b_h]                                                [b_y]\n",
    "#    w2v                    v                                (h_next)            v\n",
    "#  x --> x_s -> [W_xh] -> [sum] -> h_raw -> [nonlinearity] -> h_s -> [W_hy] -> [sum] -> y_s -> [exp(y[k])/sum(exp(y))] -> p_s\n",
    "#                           ^                                  |\n",
    "#                           '----h_prev------[W_hh]------------'\n",
    "#\n"
   ]
  },
  {
   "cell_type": "markdown",
   "metadata": {},
   "source": [
    "### RNN Forward"
   ]
  },
  {
   "cell_type": "code",
   "execution_count": 10,
   "metadata": {
    "collapsed": true
   },
   "outputs": [],
   "source": [
    "def rnn_forward_single_step(x, h_prev, W_xh, W_hh, W_hy, b_h, b_y):\n",
    "    \"\"\"\n",
    "    Run the forward pass for a single timestep of a vanilla RNN that uses a tanh\n",
    "    activation function.\n",
    "\n",
    "    The input data has dimension D, the hidden state has dimension H, and we use\n",
    "    a minibatch size of N.\n",
    "\n",
    "    Inputs:\n",
    "    - x: Input data for this timestep, of shape (N, D).\n",
    "    - h_prev: Hidden state from previous timestep, of shape (N, H)\n",
    "    - W_xh: Weight matrix for input-to-hidden connections, of shape (D, H)\n",
    "    - W_hh: Weight matrix for hidden-to-hidden connections, of shape (H, H)\n",
    "    - W_hy: Weight matrix for hidden-to-output connections, of shape (H, M)\n",
    "    - b_h: Biases of shape (H,)\n",
    "    - b_y: Bias of shape (M, )\n",
    "\n",
    "    Returns a tuple of:\n",
    "    - h_next: Next hidden state, of shape (N, H)\n",
    "    - y_s: output of this timestep (N, M)\n",
    "    - cache: Tuple of values needed for the backward pass.\n",
    "    \"\"\"\n",
    "    \n",
    "    h_raw = np.dot(x, W_xh) + np.dot(h_prev, W_hh) + b_h  #(N,D)x(D,H) + (N,H)x(H,H) +(1,H) = (N,H)\n",
    "    h_next = np.tanh(h_raw) #(N, H)\n",
    "    y_s = np.dot(h_next, W_hy) + b_y #(N, H)x(H,M) +(1,M) =(N,M)\n",
    "#     p_s = np.exp(y_s) / np.sum(np.exp(y_s), axis=0)\n",
    "    \n",
    "    cache = (x, h_prev, h_next, W_xh, W_hh, W_hy, b_h, b_y)\n",
    "    return h_next, y_s, cache\n",
    "\n",
    "\n",
    "def rnn_forward(x, h0, W_xh, W_hh, W_hy, b_h, b_y):\n",
    "    \"\"\"\n",
    "    Run a vanilla RNN forward on an entire sequence of data. We assume an input\n",
    "    sequence composed of T vectors (each vector represents a word/char), each of dimension D. \n",
    "    The RNN uses a hidden\n",
    "    size of H, and we work over a minibatch containing N sequences. After running\n",
    "    the RNN forward, we return the hidden states for all timesteps.\n",
    "    Inputs:\n",
    "    - x: Input data for the entire timeseries, of shape (N, T, D).\n",
    "    - h0: Initial hidden state, of shape (N, H)\n",
    "    - W_xh: Weight matrix for input-to-hidden connections, of shape (D, H)\n",
    "    - W_hh: Weight matrix for hidden-to-hidden connections, of shape (H, H)\n",
    "    - W_hy: Weight matrix for hidden-to-output connections, of shape (H, M)\n",
    "    - b_h: Biases of shape (H,)\n",
    "    - b_y: Bias of shape (M, )\n",
    "    Returns a tuple of:\n",
    "    - h: Hidden states for the entire timeseries, of shape (N, T, H)\n",
    "    - y: Output of the entire timeseries, of shape (N, T, M)\n",
    "    - cache: Values needed in the backward pass\n",
    "    \"\"\"\n",
    "    N, T, D = x.shape\n",
    "    H, M = W_hy.shape\n",
    "    \n",
    "    h = np.empty((N, T, H))\n",
    "    cache = {}\n",
    "    y_s = np.empty((N, T, M))\n",
    "    \n",
    "    for i in range(T):\n",
    "        if i==0: \n",
    "            h[:, i, :], y_s[:, i, :], cache[i] = rnn_forward_single_step(x, h0, W_xh, W_hh, W_hy, b_h, b_y)\n",
    "        else: \n",
    "            h[:, i, :], y_s[:, i, :], cache[i] = rnn_forward_single_step(x, h[:, i-1, :], W_xh, W_hh, W_hy, b_h, b_y)\n",
    "    \n",
    "    return h, y_s, cache\n",
    "\n",
    "\n"
   ]
  },
  {
   "cell_type": "markdown",
   "metadata": {},
   "source": [
    "### RNN Backward"
   ]
  },
  {
   "cell_type": "code",
   "execution_count": 11,
   "metadata": {
    "collapsed": true
   },
   "outputs": [],
   "source": [
    "#Reference from @Karpathy: https://gist.github.com/karpathy/d4dee566867f8291f086\n",
    "#\n",
    "#                         [b_h] (1,H)                                         [b_y] (1,M)\n",
    "#    w2v                    v      (N,H)                     (N,H)   (H,M)       v\n",
    "#  x --> x_s -> [W_xh] -> [sum] -> h_raw -> [nonlinearity] -> h_s -> [W_hy] -> [sum] -> y_s -> [exp(y[k])/sum(exp(y))] -> p_s\n",
    "# (N,D)         (D,H)       ^                                  |                       (N,M)\n",
    "#                           '----h_prev------[W_hh]------------'\n",
    "#                                (N,H)       (H,H)\n",
    "\n",
    "def rnn_backward_single_step (dh_next, dy, cache):\n",
    "    \"\"\"\n",
    "    Backward pass for a single timestep of a vanilla RNN.\n",
    "    Inputs:\n",
    "    - dh_next: Gradient of loss with respect to next hidden state (N, H)\n",
    "    - dy: of shape (N,M)\n",
    "    - cache: Cache object from the forward pass\n",
    "    Returns a tuple of:\n",
    "    - dx: Gradients of input data, of shape (N, D)\n",
    "    - dh_prev: Gradients of previous hidden state, of shape (N, H)\n",
    "    - dWxh: Gradients of input-to-hidden weights, of shape (D, H)\n",
    "    - dWhh: Gradients of hidden-to-hidden weights, of shape (H, H)\n",
    "    - dWhy: Gradients of hidden-to-output weights, of shape (H, M)\n",
    "    - dbh: Gradients of bias vector, of shape (H,)\n",
    "    - dby: Gradients of bias vector, of shape (M,)\n",
    "    \n",
    "    \"\"\"\n",
    "    dx, dh_prev, dWxh, dWhh, dWhy, dbh, dby = None, None, None, None, None, None, None\n",
    "    x, h_prev, h_next, W_xh, W_hh, W_hy, b_h, b_y = cache\n",
    "    \n",
    "    \n",
    "    \n",
    "    dby = np.sum(dy, axis=0) #(1,M)\n",
    "    dWhy = np.dot(h_next.T, dy) #(H,N)x(N,M) = (H,M)\n",
    "    dh = np.dot(dy, Why.T) + dh_next # backprop into h, (N,M)x(M,H)=(N,H)\n",
    "    dh_raw = (1 - h_next ** 2) * dh # note: tanh(x)' = 1 - tanh^2(x), shape=(N,H)\n",
    "    dbh = np.sum(dh_raw, axis=0) #(1,H)\n",
    "    dWxh = np.dot(x.T, dh_raw) # (D,N)x(N,H) = (D,H)\n",
    "    dWhh = np.dot(h_prev.T, dh_raw) # (H,N)x(N,H)=(H,H)\n",
    "    dx = np.dot(dh_raw, W_xh.T) # (N,H)x(H,D) = (N,D)\n",
    "    dh_prev = np.dot(dh_raw, W_hh.T) # (N,H)x(H,H) = (N,H)\n",
    "    \n",
    "    ########\n",
    "#     dpre_actv = (1 - next_h ** 2) * dnext_h         # (N, H)\n",
    "#     dx = dpre_actv.dot(Wx.T)\n",
    "#     dprev_h = dpre_actv.dot(Wh.T) #(N,H)x(H,H)=(N,H)\n",
    "#     dWx = x.T.dot(dpre_actv)\n",
    "#     dWh = prev_h.T.dot(dpre_actv)\n",
    "#     db = np.sum(dpre_actv, 0)\n",
    "    \n",
    "    \n",
    "#     dWhy += np.dot(dy, hs[t].T)\n",
    "#     dby += dy\n",
    "#     dh = np.dot(Why.T, dy) + dhnext # backprop into h\n",
    "#     dhraw = (1 - hs[t] * hs[t]) * dh # backprop through tanh nonlinearity\n",
    "#     dbh += dhraw\n",
    "#     dWxh += np.dot(dhraw, xs[t].T)\n",
    "#     dWhh += np.dot(dhraw, hs[t-1].T)\n",
    "#     dhnext = np.dot(Whh.T, dhraw)\n",
    "    \n",
    "    return dx, dh_prev, dWxh, dWhh, dWhy, dbh, dby\n",
    "\n",
    "\n",
    "def rnn_backward(dh, dy, cache):\n",
    "    \"\"\"\n",
    "    Compute the backward pass for a vanilla RNN over an entire sequence of data.\n",
    "    Inputs:\n",
    "    - dh: Upstream gradients of all hidden states, of shape (N, T, H)\n",
    "    - dy: Upstream gradients of output, of shape (N, M)\n",
    "    - cache\n",
    "    Returns a tuple of:\n",
    "    - dx: Gradient of inputs, of shape (N, T, D)\n",
    "    - dh0: Gradient of initial hidden state, of shape (N, H)\n",
    "    - dWx: Gradient of input-to-hidden weights, of shape (D, H)\n",
    "    - dWh: Gradient of hidden-to-hidden weights, of shape (H, H)\n",
    "    - dbh: Gradient of biases, of shape (H,)\n",
    "    - dby: Gradient of biases, of shape (M,)\n",
    "    \"\"\"\n",
    "    N, T, H =dh.shape\n",
    "    N, M = dy.shape\n",
    "    \n",
    "    \n",
    "    dx = np.empty((N,T,D))\n",
    "    dWxh = np.zeros((D,H))\n",
    "    dWhh = np.zeros((H,H))\n",
    "    dWhy = np.zeros((H,M))\n",
    "    dbh = np.zeros((1,H))\n",
    "    dby = np.zeros((1,M))\n",
    "    dh_prev = 0\n",
    "    \n",
    "    for i in reversed(range(T)):\n",
    "        # Add the current timestep upstream gradient to previous calculated dh\n",
    "        dh_next = dh_prev + dh[:,i,:]\n",
    "        dx[:,i,:], dh_prev, dWxh_temp, dWhh_temp, dWhy_temp, dbh_temp, dby_temp = \\\n",
    "                rnn_backward_single_step(dh_next, dy[:,i,:], cache[i])\n",
    "        dWxh += dWxh_temp\n",
    "        dWhy += dWhy_temp\n",
    "        dWhh += dWhh_temp\n",
    "        dbh += dbh_temp\n",
    "        dby += dby_temp\n",
    "    \n",
    "    dh0 = dh_prev\n",
    "    return dx, dh0, dWxh, dWhh, dWhy, dbh, dby\n",
    "    "
   ]
  },
  {
   "cell_type": "markdown",
   "metadata": {},
   "source": [
    "### Affine forward/backward"
   ]
  },
  {
   "cell_type": "code",
   "execution_count": 14,
   "metadata": {
    "collapsed": true
   },
   "outputs": [],
   "source": [
    "## Affine forward\n",
    "def affine_forward(x, W, b):\n",
    "    \"\"\"\n",
    "    Inputs:\n",
    "    x - Input data, of shape (N, D) #may be generally (N,d1,...d_k) \n",
    "    w - Weights, of shape (D, M)\n",
    "    b - Biases, of shape (M,)\n",
    "\n",
    "    Returns a tuple of:\n",
    "    - out: output, of shape (N, M)\n",
    "    - cache: (x, w, b)\n",
    "    \"\"\"\n",
    "    \n",
    "    out = np.dot(np.reshape(x,(N,-1)), W) + b #out = xW+b\n",
    "    cache = (x, W, b)\n",
    "    return out, cache\n",
    "\n",
    "## Affine backward\n",
    "def affine_backward(dout, cache):\n",
    "    \"\"\"\n",
    "    Inputs:\n",
    "    - dout: Upstream derivative, of shape (N, M)\n",
    "    - cache: Tuple of:\n",
    "      - x: Input data, of shape (N, D)\n",
    "      - w: Weights, of shape (D, M)\n",
    "\n",
    "    Returns a tuple of:\n",
    "    - dx: Gradient with respect to x, of shape (N, D)\n",
    "    - dw: Gradient with respect to w, of shape (D, M)\n",
    "    - db: Gradient with respect to b, of shape (M,)\n",
    "    \"\"\"    \n",
    "    x, W, b = cache\n",
    "    db = np.sum(dout, axis=0)\n",
    "    dx = dout.dot(W.T).reshape(x.shape)\n",
    "    dw = x.reshape(x.shape[0], -1).T.dot(dout)\n",
    "    "
   ]
  },
  {
   "cell_type": "markdown",
   "metadata": {},
   "source": [
    "### Softmax"
   ]
  },
  {
   "cell_type": "code",
   "execution_count": 15,
   "metadata": {
    "collapsed": true
   },
   "outputs": [],
   "source": [
    "def temporal_softmax_loss (y_s, y, mask, verbose=False):\n",
    "    \"\"\"\n",
    "    A temporal version of softmax loss for use in RNNs. We assume that we are\n",
    "    making predictions over a vocabulary of size M for each timestep of a\n",
    "    timeseries of length T, over a minibatch of size N. The input y_s gives SCORES\n",
    "    for all vocabulary elements at all timesteps, and y gives the INDICES of the\n",
    "    ground-truth element at each timestep. We use a cross-entropy loss at each\n",
    "    timestep, summing the loss over all timesteps and averaging across the minibatch.\n",
    "    \n",
    "    As an additional complication, we may want to ignore the model output at some\n",
    "    timesteps, since sequences of different length may have been combined into a\n",
    "    minibatch and padded with NULL tokens. The optional mask argument tells us\n",
    "    which elements should contribute to the loss.\n",
    "    \n",
    "    Inputs:\n",
    "    - y_s: Input scores, of shape (N, T, M)\n",
    "    - y: Ground-truth indices, of shape (N, T) where each element is in the range\n",
    "         0 <= y[i, t] < M\n",
    "    - mask: Boolean array of shape (N, T) where mask[i, t] tells whether or not\n",
    "      the scores at y_s[i, t] should contribute to the loss.\n",
    "    Returns a tuple of:\n",
    "    - loss: Scalar giving loss\n",
    "    - dy_s: Gradient of loss with respect to scores y_s, of shape (N, T, M)\n",
    "    \"\"\"\n",
    "    \n",
    "    N, T, M = y_s.shape\n",
    "\n",
    "    ys_flat = y_s.reshape(N * T, M)\n",
    "    y_flat = y.reshape(N * T)\n",
    "    mask_flat = mask.reshape(N * T)\n",
    "\n",
    "    probs = np.exp(ys_flat - np.max(ys_flat, axis=1, keepdims=True))\n",
    "    probs /= np.sum(probs, axis=1, keepdims=True)\n",
    "    loss = -np.sum(mask_flat * np.log(probs[np.arange(N * T), y_flat])) / N\n",
    "    dys_flat = probs.copy()\n",
    "    dys_flat[np.arange(N * T), y_flat] -= 1\n",
    "    dys_flat /= N\n",
    "    dys_flat *= mask_flat[:, None]\n",
    "\n",
    "    if verbose: print('dys_flat: ', dys_flat.shape)\n",
    "\n",
    "    dy_s = dys_flat.reshape(N, T, M)\n",
    "\n",
    "    return loss, dy_s\n",
    "    "
   ]
  },
  {
   "cell_type": "markdown",
   "metadata": {},
   "source": [
    "### Word embedding"
   ]
  },
  {
   "cell_type": "code",
   "execution_count": 16,
   "metadata": {},
   "outputs": [
    {
     "ename": "SyntaxError",
     "evalue": "'return' outside function (<ipython-input-16-f0fd11ed0557>, line 39)",
     "output_type": "error",
     "traceback": [
      "\u001b[0;36m  File \u001b[0;32m\"<ipython-input-16-f0fd11ed0557>\"\u001b[0;36m, line \u001b[0;32m39\u001b[0m\n\u001b[0;31m    return dW\u001b[0m\n\u001b[0m             ^\u001b[0m\n\u001b[0;31mSyntaxError\u001b[0m\u001b[0;31m:\u001b[0m 'return' outside function\n"
     ]
    }
   ],
   "source": [
    "def word_embedding_forward(x, W):\n",
    "    \"\"\"\n",
    "    Forward pass for word embeddings. We operate on minibatches of size N where\n",
    "    each sequence has length T. We assume a vocabulary of V words, assigning each\n",
    "    to a vector of dimension D.\n",
    "    Inputs:\n",
    "    - x: Integer array of shape (N, T) giving indices of words. Each element idx\n",
    "      of x muxt be in the range 0 <= idx < V.\n",
    "    - W: Weight matrix of shape (V, D) giving word vectors for all words.\n",
    "    Returns a tuple of:\n",
    "    - out: Array of shape (N, T, D) giving word vectors for all input words.\n",
    "    - cache: Values needed for the backward pass\n",
    "    \"\"\"\n",
    "    out = W[x, :] \n",
    "    cache = (x, W)\n",
    "    return out, cache\n",
    "\n",
    "\n",
    "def word_embedding_backward(dout, cache):\n",
    "    \"\"\"\n",
    "    Backward pass for word embeddings. We cannot back-propagate into the words\n",
    "    since they are integers, so we only return gradient for the word embedding\n",
    "    matrix.\n",
    "    Inputs:\n",
    "    - dout: Upstream gradients of shape (N, T, D)\n",
    "    - cache: Values from the forward pass\n",
    "    Returns:\n",
    "    - dW: Gradient of word embedding matrix, of shape (V, D).\n",
    "    \"\"\"\n",
    "    \n",
    "    # x: (N, T)\n",
    "    # W: (V, D)\n",
    "    x, W = cache\n",
    "    N, T, D = dout.shape\n",
    "\n",
    "    dW = np.zeros_like(W)\n",
    "    np.add.at(dW, x.reshape([-1]), dout.reshape([-1, D]))\n",
    "    \n",
    "    return dW"
   ]
  },
  {
   "cell_type": "markdown",
   "metadata": {},
   "source": [
    "## Classifier"
   ]
  },
  {
   "cell_type": "code",
   "execution_count": null,
   "metadata": {
    "collapsed": true
   },
   "outputs": [],
   "source": [
    "#Initialisation\n",
    "#Here, some vars are repeated to memorize\n",
    "\n",
    "hidden_size = 200 # H, nb of neurons in hidden layer\n",
    "seq_length = 25 # number of steps to unroll the RNN for <=> nb of chars putting in the input of RNN\n",
    "learning_rate = 1e-1\n",
    "\n",
    "type = \"char\"\n",
    "data_size = len(char_data)\n",
    "vocab_size = len(chars) # D\n",
    "wordvec_size = vocab_size # V, if 'char' then D=V as we don't use wordvec\n",
    "\n",
    "if type==\"word\":\n",
    "    data_size = len(sents)\n",
    "    vocab_size = len(word_to_index)\n",
    "    wordvec_size = 128 \n",
    "\n",
    "#init word vector\n",
    "W_embed = np.random.randn(vocab_size, wordvec_size)\n",
    "W_embed /=100\n",
    "    \n",
    "#init RNN parameters\n",
    "W_xh = np.random.randn(wordvec_size, hidden_size) #(V,H)\n",
    "W_xh /= wordvec_size\n",
    "W_hh = np.random.randn(hidden_size, hidden_size) #(H,H)\n",
    "W_hh /= hidden_size\n",
    "W_hy = np.random.randn(hidden_size, vocab_size) #(H,M)\n",
    "W_hy /= hidden_size\n",
    "b_h = np.zeros((1, hidden_size)) #(H,)\n",
    "b_y = np.zeros((1, vocab_size)) #(M,)\n",
    "\n",
    "h_prev = np.zeros((1, hidden_size))"
   ]
  },
  {
   "cell_type": "markdown",
   "metadata": {},
   "source": [
    "### Loss"
   ]
  },
  {
   "cell_type": "code",
   "execution_count": 18,
   "metadata": {},
   "outputs": [],
   "source": [
    "\n",
    "\n",
    "    \n",
    "def loss(text, img_fea=None, mode='train', type='char'):\n",
    "    \"\"\"\n",
    "    Compute training-time loss.\n",
    "    Inputs:\n",
    "    - img_fea: Image features (used for captioning), of shape (N, D)\n",
    "    - text: Ground-truth texts (e.g., captions); an integer array of shape (N, T) where\n",
    "        each element is in the range 0 <= y[i, t] < M\n",
    "    Returns:\n",
    "        If training=True, then run a test-time forward pass of the model and return:\n",
    "        - scores: Array of shape (N, M) giving classification scores, where\n",
    "          scores[i, c] is the classification score for y[i] and the word/char with index c.\n",
    "\n",
    "        Else, then run a training-time forward and backward pass and\n",
    "        return a tuple of:\n",
    "        - loss: Scalar value giving the loss\n",
    "        - grads: Dictionary of gradients \n",
    "    \"\"\"\n",
    "    \n",
    "    # Divide 'text' into two pieces \n",
    "    text_in = text[:, :-1]\n",
    "    text_out = text[:, 1:]\n",
    "    \n",
    "    if type=='word':  mask = (text_out != unknown_token)\n",
    "    else: mask = (text_out != unknown_char)\n",
    "    \n",
    "    \n",
    "    ##### FORWARD STEPS ######\n",
    "    embedded_text, cache_word_embedding = None, None\n",
    "    \n",
    "    # Embed the input word captions.\n",
    "    if type=='word':\n",
    "        embedded_text, cache_word_embedding = word_embedding_forward(text_in, W_embed)\n",
    "    else: embedded_text = text_in\n",
    "        \n",
    "    #RNN forward\n",
    "    h, y_s, cache_rnn = rnn_forward(embedded_text, h_prev, W_xh, W_hh, W_hy, b_h, b_y)\n",
    "    \n",
    "    if mode=='test':\n",
    "        return y_s\n",
    "    \n",
    "    loss, grads = 0.0, {}\n",
    "\n",
    "    #Softmax\n",
    "    loss, dy_s = temporal_softmax_loss(y_s, text_out, mask)\n",
    "    \n",
    "    ##### BACKWARD STEPS ######\n",
    "    \n",
    "    #Backprop dy_s to get gradients\n",
    "    dx, dh0, dWxh, dWhh, dWhy, dbh, dby = rnn_backward(dy_s, cache_rnn)\n",
    "    grads['Wxh'], grads['Whh'], grads['Why'], grads['bh'], grads['by'] = dbh, dWxh, dWhh, dbh, dby\n",
    "\n",
    "    # Backprop dx to get gradient for word embedding weights.\n",
    "    if (type=='word'):\n",
    "        dW_embed = word_embedding_backward(dx, cache_word_embedding)\n",
    "        grads['W_embed'] = dW_embed\n",
    "    \n",
    "    return loss, grads\n",
    "    "
   ]
  },
  {
   "cell_type": "markdown",
   "metadata": {
    "scrolled": false
   },
   "source": [
    "## Build model (classifier)"
   ]
  },
  {
   "cell_type": "code",
   "execution_count": 12,
   "metadata": {},
   "outputs": [
    {
     "ename": "SyntaxError",
     "evalue": "invalid syntax (<ipython-input-12-72de117e8a38>, line 1)",
     "output_type": "error",
     "traceback": [
      "\u001b[0;36m  File \u001b[0;32m\"<ipython-input-12-72de117e8a38>\"\u001b[0;36m, line \u001b[0;32m1\u001b[0m\n\u001b[0;31m    class LanguageModel\u001b[0m\n\u001b[0m                       ^\u001b[0m\n\u001b[0;31mSyntaxError\u001b[0m\u001b[0;31m:\u001b[0m invalid syntax\n"
     ]
    }
   ],
   "source": [
    "class LanguageModel"
   ]
  },
  {
   "cell_type": "code",
   "execution_count": null,
   "metadata": {
    "collapsed": true
   },
   "outputs": [],
   "source": []
  }
 ],
 "metadata": {
  "kernelspec": {
   "display_name": "Python 3",
   "language": "python",
   "name": "python3"
  },
  "language_info": {
   "codemirror_mode": {
    "name": "ipython",
    "version": 3
   },
   "file_extension": ".py",
   "mimetype": "text/x-python",
   "name": "python",
   "nbconvert_exporter": "python",
   "pygments_lexer": "ipython3",
   "version": "3.6.2"
  }
 },
 "nbformat": 4,
 "nbformat_minor": 2
}
